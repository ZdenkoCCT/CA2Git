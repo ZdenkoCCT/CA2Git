{
 "cells": [
  {
   "cell_type": "code",
   "execution_count": 1,
   "id": "8ba64c6f",
   "metadata": {},
   "outputs": [],
   "source": [
    "import warnings\n",
    "warnings.filterwarnings('ignore')"
   ]
  },
  {
   "cell_type": "markdown",
   "id": "21ed8322",
   "metadata": {},
   "source": [
    "## Producer sentiment analysis"
   ]
  },
  {
   "cell_type": "code",
   "execution_count": 2,
   "id": "d9f3351e",
   "metadata": {},
   "outputs": [],
   "source": [
    "import snscrape.modules.twitter as sntwitter\n",
    "import pandas as pd\n",
    "\n",
    "query = 'beef production' \n",
    "tweets = []\n",
    "limit = 5000\n",
    "\n",
    "\n",
    "for tweet in sntwitter.TwitterSearchScraper(query).get_items():\n",
    "    if len(tweets) == limit:\n",
    "        break\n",
    "    else:\n",
    "        tweets.append(tweet)\n",
    "        \n",
    "df_tweets = pd.DataFrame(tweets)\n",
    "\n"
   ]
  },
  {
   "cell_type": "code",
   "execution_count": 3,
   "id": "c53aa4ad",
   "metadata": {},
   "outputs": [],
   "source": [
    "#Cleaning Data-adding column location\n",
    "df_tweets['user_location'] =  df_tweets['user'].apply(lambda x: x['location'])"
   ]
  },
  {
   "cell_type": "code",
   "execution_count": 4,
   "id": "a5b276b5",
   "metadata": {},
   "outputs": [],
   "source": [
    "#df_tweets.to_csv('farming cost increase.csv.csv')\n",
    "#df_tweets =pd.read_csv(r'farming cost increase.csv')"
   ]
  },
  {
   "cell_type": "code",
   "execution_count": 5,
   "id": "9b926d89",
   "metadata": {},
   "outputs": [
    {
     "data": {
      "text/html": [
       "<div>\n",
       "<style scoped>\n",
       "    .dataframe tbody tr th:only-of-type {\n",
       "        vertical-align: middle;\n",
       "    }\n",
       "\n",
       "    .dataframe tbody tr th {\n",
       "        vertical-align: top;\n",
       "    }\n",
       "\n",
       "    .dataframe thead th {\n",
       "        text-align: right;\n",
       "    }\n",
       "</style>\n",
       "<table border=\"1\" class=\"dataframe\">\n",
       "  <thead>\n",
       "    <tr style=\"text-align: right;\">\n",
       "      <th></th>\n",
       "      <th>url</th>\n",
       "      <th>date</th>\n",
       "      <th>content</th>\n",
       "      <th>renderedContent</th>\n",
       "      <th>id</th>\n",
       "      <th>user</th>\n",
       "      <th>replyCount</th>\n",
       "      <th>retweetCount</th>\n",
       "      <th>likeCount</th>\n",
       "      <th>quoteCount</th>\n",
       "      <th>...</th>\n",
       "      <th>retweetedTweet</th>\n",
       "      <th>quotedTweet</th>\n",
       "      <th>inReplyToTweetId</th>\n",
       "      <th>inReplyToUser</th>\n",
       "      <th>mentionedUsers</th>\n",
       "      <th>coordinates</th>\n",
       "      <th>place</th>\n",
       "      <th>hashtags</th>\n",
       "      <th>cashtags</th>\n",
       "      <th>user_location</th>\n",
       "    </tr>\n",
       "  </thead>\n",
       "  <tbody>\n",
       "    <tr>\n",
       "      <th>0</th>\n",
       "      <td>https://twitter.com/gaurav_kochar/status/15273...</td>\n",
       "      <td>2022-05-19 18:35:30+00:00</td>\n",
       "      <td>A new study estimates that there will be less ...</td>\n",
       "      <td>A new study estimates that there will be less ...</td>\n",
       "      <td>1527357296187101187</td>\n",
       "      <td>{'username': 'gaurav_kochar', 'id': 149426509,...</td>\n",
       "      <td>0</td>\n",
       "      <td>0</td>\n",
       "      <td>1</td>\n",
       "      <td>0</td>\n",
       "      <td>...</td>\n",
       "      <td>None</td>\n",
       "      <td>None</td>\n",
       "      <td>NaN</td>\n",
       "      <td>None</td>\n",
       "      <td>None</td>\n",
       "      <td>None</td>\n",
       "      <td>None</td>\n",
       "      <td>None</td>\n",
       "      <td>None</td>\n",
       "      <td>India</td>\n",
       "    </tr>\n",
       "    <tr>\n",
       "      <th>1</th>\n",
       "      <td>https://twitter.com/GrainPirateDan/status/1527...</td>\n",
       "      <td>2022-05-19 18:11:56+00:00</td>\n",
       "      <td>Brings back memories of writing a uni presenta...</td>\n",
       "      <td>Brings back memories of writing a uni presenta...</td>\n",
       "      <td>1527351365353492482</td>\n",
       "      <td>{'username': 'GrainPirateDan', 'id': 816336548...</td>\n",
       "      <td>0</td>\n",
       "      <td>1</td>\n",
       "      <td>2</td>\n",
       "      <td>0</td>\n",
       "      <td>...</td>\n",
       "      <td>None</td>\n",
       "      <td>{'url': 'https://twitter.com/IL0VEthe80s/statu...</td>\n",
       "      <td>NaN</td>\n",
       "      <td>None</td>\n",
       "      <td>None</td>\n",
       "      <td>None</td>\n",
       "      <td>None</td>\n",
       "      <td>None</td>\n",
       "      <td>None</td>\n",
       "      <td></td>\n",
       "    </tr>\n",
       "    <tr>\n",
       "      <th>2</th>\n",
       "      <td>https://twitter.com/ewg/status/152733502883262...</td>\n",
       "      <td>2022-05-19 17:07:02+00:00</td>\n",
       "      <td>A new study estimates that there will be less ...</td>\n",
       "      <td>A new study estimates that there will be less ...</td>\n",
       "      <td>1527335028832620544</td>\n",
       "      <td>{'username': 'ewg', 'id': 14629262, 'displayna...</td>\n",
       "      <td>0</td>\n",
       "      <td>9</td>\n",
       "      <td>7</td>\n",
       "      <td>0</td>\n",
       "      <td>...</td>\n",
       "      <td>None</td>\n",
       "      <td>None</td>\n",
       "      <td>NaN</td>\n",
       "      <td>None</td>\n",
       "      <td>None</td>\n",
       "      <td>None</td>\n",
       "      <td>None</td>\n",
       "      <td>None</td>\n",
       "      <td>None</td>\n",
       "      <td>Washington, D.C.</td>\n",
       "    </tr>\n",
       "    <tr>\n",
       "      <th>3</th>\n",
       "      <td>https://twitter.com/FarmPolicy/status/15273173...</td>\n",
       "      <td>2022-05-19 15:56:54+00:00</td>\n",
       "      <td>\"#Beef Production May Fall Next Year,\" https:/...</td>\n",
       "      <td>\"#Beef Production May Fall Next Year,\" bit.ly/...</td>\n",
       "      <td>1527317379230732289</td>\n",
       "      <td>{'username': 'FarmPolicy', 'id': 38833974, 'di...</td>\n",
       "      <td>1</td>\n",
       "      <td>2</td>\n",
       "      <td>3</td>\n",
       "      <td>0</td>\n",
       "      <td>...</td>\n",
       "      <td>None</td>\n",
       "      <td>None</td>\n",
       "      <td>NaN</td>\n",
       "      <td>None</td>\n",
       "      <td>None</td>\n",
       "      <td>None</td>\n",
       "      <td>None</td>\n",
       "      <td>[Beef]</td>\n",
       "      <td>None</td>\n",
       "      <td>Champaign, IL</td>\n",
       "    </tr>\n",
       "    <tr>\n",
       "      <th>4</th>\n",
       "      <td>https://twitter.com/EdwardTruly_me/status/1527...</td>\n",
       "      <td>2022-05-19 15:52:57+00:00</td>\n",
       "      <td>FOR THE LOVE OF FARMING .\\n\\nGod bless Austral...</td>\n",
       "      <td>FOR THE LOVE OF FARMING .\\n\\nGod bless Austral...</td>\n",
       "      <td>1527316387214991360</td>\n",
       "      <td>{'username': 'EdwardTruly_me', 'id': 120734847...</td>\n",
       "      <td>0</td>\n",
       "      <td>0</td>\n",
       "      <td>0</td>\n",
       "      <td>0</td>\n",
       "      <td>...</td>\n",
       "      <td>None</td>\n",
       "      <td>None</td>\n",
       "      <td>NaN</td>\n",
       "      <td>None</td>\n",
       "      <td>None</td>\n",
       "      <td>None</td>\n",
       "      <td>None</td>\n",
       "      <td>None</td>\n",
       "      <td>None</td>\n",
       "      <td>Mombasa, Kenya</td>\n",
       "    </tr>\n",
       "  </tbody>\n",
       "</table>\n",
       "<p>5 rows × 28 columns</p>\n",
       "</div>"
      ],
      "text/plain": [
       "                                                 url  \\\n",
       "0  https://twitter.com/gaurav_kochar/status/15273...   \n",
       "1  https://twitter.com/GrainPirateDan/status/1527...   \n",
       "2  https://twitter.com/ewg/status/152733502883262...   \n",
       "3  https://twitter.com/FarmPolicy/status/15273173...   \n",
       "4  https://twitter.com/EdwardTruly_me/status/1527...   \n",
       "\n",
       "                       date  \\\n",
       "0 2022-05-19 18:35:30+00:00   \n",
       "1 2022-05-19 18:11:56+00:00   \n",
       "2 2022-05-19 17:07:02+00:00   \n",
       "3 2022-05-19 15:56:54+00:00   \n",
       "4 2022-05-19 15:52:57+00:00   \n",
       "\n",
       "                                             content  \\\n",
       "0  A new study estimates that there will be less ...   \n",
       "1  Brings back memories of writing a uni presenta...   \n",
       "2  A new study estimates that there will be less ...   \n",
       "3  \"#Beef Production May Fall Next Year,\" https:/...   \n",
       "4  FOR THE LOVE OF FARMING .\\n\\nGod bless Austral...   \n",
       "\n",
       "                                     renderedContent                   id  \\\n",
       "0  A new study estimates that there will be less ...  1527357296187101187   \n",
       "1  Brings back memories of writing a uni presenta...  1527351365353492482   \n",
       "2  A new study estimates that there will be less ...  1527335028832620544   \n",
       "3  \"#Beef Production May Fall Next Year,\" bit.ly/...  1527317379230732289   \n",
       "4  FOR THE LOVE OF FARMING .\\n\\nGod bless Austral...  1527316387214991360   \n",
       "\n",
       "                                                user  replyCount  \\\n",
       "0  {'username': 'gaurav_kochar', 'id': 149426509,...           0   \n",
       "1  {'username': 'GrainPirateDan', 'id': 816336548...           0   \n",
       "2  {'username': 'ewg', 'id': 14629262, 'displayna...           0   \n",
       "3  {'username': 'FarmPolicy', 'id': 38833974, 'di...           1   \n",
       "4  {'username': 'EdwardTruly_me', 'id': 120734847...           0   \n",
       "\n",
       "   retweetCount  likeCount  quoteCount  ...  retweetedTweet  \\\n",
       "0             0          1           0  ...            None   \n",
       "1             1          2           0  ...            None   \n",
       "2             9          7           0  ...            None   \n",
       "3             2          3           0  ...            None   \n",
       "4             0          0           0  ...            None   \n",
       "\n",
       "                                         quotedTweet inReplyToTweetId  \\\n",
       "0                                               None              NaN   \n",
       "1  {'url': 'https://twitter.com/IL0VEthe80s/statu...              NaN   \n",
       "2                                               None              NaN   \n",
       "3                                               None              NaN   \n",
       "4                                               None              NaN   \n",
       "\n",
       "  inReplyToUser mentionedUsers coordinates place hashtags cashtags  \\\n",
       "0          None           None        None  None     None     None   \n",
       "1          None           None        None  None     None     None   \n",
       "2          None           None        None  None     None     None   \n",
       "3          None           None        None  None   [Beef]     None   \n",
       "4          None           None        None  None     None     None   \n",
       "\n",
       "      user_location  \n",
       "0             India  \n",
       "1                    \n",
       "2  Washington, D.C.  \n",
       "3     Champaign, IL  \n",
       "4    Mombasa, Kenya  \n",
       "\n",
       "[5 rows x 28 columns]"
      ]
     },
     "execution_count": 5,
     "metadata": {},
     "output_type": "execute_result"
    }
   ],
   "source": [
    "df_tweets.head()"
   ]
  },
  {
   "cell_type": "code",
   "execution_count": 6,
   "id": "e9256a26",
   "metadata": {},
   "outputs": [
    {
     "name": "stdout",
     "output_type": "stream",
     "text": [
      "<class 'pandas.core.frame.DataFrame'>\n",
      "RangeIndex: 5000 entries, 0 to 4999\n",
      "Data columns (total 2 columns):\n",
      " #   Column         Non-Null Count  Dtype \n",
      "---  ------         --------------  ----- \n",
      " 0   content        5000 non-null   object\n",
      " 1   user_location  5000 non-null   object\n",
      "dtypes: object(2)\n",
      "memory usage: 78.2+ KB\n"
     ]
    }
   ],
   "source": [
    "#Cleaning Data-flter and keep only columns that we will use in the dataset\n",
    "df_tweets= df_tweets.filter(['content','user_location'], axis=1)\n",
    "df_tweets.info()"
   ]
  },
  {
   "cell_type": "code",
   "execution_count": 7,
   "id": "628b2f9e",
   "metadata": {},
   "outputs": [
    {
     "data": {
      "text/plain": [
       "0       a new study estimates that there will be less ...\n",
       "1       brings back memories of writing a uni presenta...\n",
       "2       a new study estimates that there will be less ...\n",
       "3       \"#beef production may fall next year,\" https:/...\n",
       "4       for the love of farming .\\n\\ngod bless austral...\n",
       "                              ...                        \n",
       "4995    will more intense beef production in the #amaz...\n",
       "4996    @officiallyice it’s a modern day classic 🤣 lik...\n",
       "4997    beef production is now estimated to be the big...\n",
       "4998    watch: in preparation for reopening csc produc...\n",
       "4999    processed bread - extra winter tonnes availabl...\n",
       "Name: content, Length: 5000, dtype: object"
      ]
     },
     "execution_count": 7,
     "metadata": {},
     "output_type": "execute_result"
    }
   ],
   "source": [
    "#Cleaning Data-change words in the 'content' column to lower case\n",
    "df_tweets['content'] = df_tweets['content'].apply(lambda x:x.lower())\n",
    "df_tweets['content']"
   ]
  },
  {
   "cell_type": "code",
   "execution_count": 8,
   "id": "3ec26089",
   "metadata": {},
   "outputs": [
    {
     "name": "stderr",
     "output_type": "stream",
     "text": [
      "[nltk_data] Downloading package stopwords to\n",
      "[nltk_data]     C:\\Users\\Z\\AppData\\Roaming\\nltk_data...\n",
      "[nltk_data]   Package stopwords is already up-to-date!\n"
     ]
    }
   ],
   "source": [
    "#import natural processing toolkit\n",
    "import nltk\n",
    "nltk.download('stopwords')\n",
    "from nltk.corpus import stopwords\n",
    "stop = stopwords.words('english')"
   ]
  },
  {
   "cell_type": "code",
   "execution_count": 9,
   "id": "d38165dc",
   "metadata": {},
   "outputs": [
    {
     "data": {
      "text/plain": [
       "0    new study estimates less water 80% crops 2050 ...\n",
       "1    brings back memories writing uni presentation ...\n",
       "2    new study estimates less water 80% crops 2050 ...\n",
       "3    \"#beef production may fall next year,\" https:/...\n",
       "4    love farming . god bless australia , good vibe...\n",
       "Name: content, dtype: object"
      ]
     },
     "execution_count": 9,
     "metadata": {},
     "output_type": "execute_result"
    }
   ],
   "source": [
    "#Cleaning Data-remove english stopwords\n",
    "df_tweets['content'] = df_tweets['content'].apply(lambda x: \" \".join(x for x in x.split() if x not in stop))\n",
    "df_tweets['content'].head()"
   ]
  },
  {
   "cell_type": "code",
   "execution_count": 10,
   "id": "3a6d5ece",
   "metadata": {},
   "outputs": [
    {
     "data": {
      "text/plain": [
       "0    new study estimates less water 80 crops 2050 c...\n",
       "1    brings back memories writing uni presentation ...\n",
       "2    new study estimates less water 80 crops 2050 c...\n",
       "3    beef production may fall next year httpstcohqn...\n",
       "4    love farming  god bless australia  good vibes ...\n",
       "Name: content, dtype: object"
      ]
     },
     "execution_count": 10,
     "metadata": {},
     "output_type": "execute_result"
    }
   ],
   "source": [
    "#Cleaning Data-remove special characters\n",
    "df_tweets['content'] = df_tweets['content'].str.replace('[^\\w\\s]','')\n",
    "df_tweets['content'].head()"
   ]
  },
  {
   "cell_type": "code",
   "execution_count": 11,
   "id": "eaba9186",
   "metadata": {},
   "outputs": [
    {
     "data": {
      "text/plain": [
       "[('beef', 5523),\n",
       " ('production', 5307),\n",
       " ('cattle', 745),\n",
       " ('amp', 696),\n",
       " ('meat', 666),\n",
       " ('us', 477),\n",
       " ('food', 466),\n",
       " ('dairy', 418),\n",
       " ('climate', 352),\n",
       " ('emissions', 333),\n",
       " ('like', 307),\n",
       " ('would', 299),\n",
       " ('land', 298),\n",
       " ('pork', 276),\n",
       " ('also', 276),\n",
       " ('change', 273),\n",
       " ('people', 266),\n",
       " ('prices', 259),\n",
       " ('one', 259),\n",
       " ('good', 233),\n",
       " ('milk', 229),\n",
       " ('deforestation', 227),\n",
       " ('year', 224),\n",
       " ('new', 214),\n",
       " ('industry', 213),\n",
       " ('feed', 212),\n",
       " ('livestock', 211),\n",
       " ('cows', 211),\n",
       " ('need', 206),\n",
       " ('much', 206),\n",
       " ('farmers', 203),\n",
       " ('chicken', 203),\n",
       " ('animal', 202),\n",
       " ('sustainable', 200),\n",
       " ('use', 199),\n",
       " ('global', 195),\n",
       " ('reduce', 192),\n",
       " ('farming', 185),\n",
       " ('world', 177),\n",
       " ('protein', 176),\n",
       " ('carbon', 171),\n",
       " ('know', 170),\n",
       " ('high', 169),\n",
       " ('could', 168),\n",
       " ('1', 164),\n",
       " ('increase', 164),\n",
       " ('make', 163),\n",
       " ('oil', 163),\n",
       " ('get', 160),\n",
       " ('farm', 159)]"
      ]
     },
     "execution_count": 11,
     "metadata": {},
     "output_type": "execute_result"
    }
   ],
   "source": [
    "#Cleaning Data-check for most frequent words in the 'content column'\n",
    "from collections import Counter\n",
    "df_wordCounter= Counter(\" \".join(df_tweets['content']).split()).most_common(50)\n",
    "df_wordCounter"
   ]
  },
  {
   "cell_type": "code",
   "execution_count": 12,
   "id": "415817f9",
   "metadata": {},
   "outputs": [
    {
     "name": "stderr",
     "output_type": "stream",
     "text": [
      "[nltk_data] Downloading package wordnet to\n",
      "[nltk_data]     C:\\Users\\Z\\AppData\\Roaming\\nltk_data...\n",
      "[nltk_data]   Package wordnet is already up-to-date!\n"
     ]
    },
    {
     "data": {
      "text/plain": [
       "0    new study estimate le water 80 crop 2050 clima...\n",
       "1    brings back memory writing uni presentation be...\n",
       "2    new study estimate le water 80 crop 2050 clima...\n",
       "3    beef production may fall next year httpstcohqn...\n",
       "4    love farming god bless australia good vibe sta...\n",
       "Name: content, dtype: object"
      ]
     },
     "execution_count": 12,
     "metadata": {},
     "output_type": "execute_result"
    }
   ],
   "source": [
    "\n",
    "nltk.download('wordnet')\n",
    "from textblob import Word\n",
    "df_tweets['content'] = df_tweets['content'].apply(lambda x: \" \".join([Word(word).lemmatize() for word in x.split()]))\n",
    "df_tweets['content'].head()\n"
   ]
  },
  {
   "cell_type": "code",
   "execution_count": 13,
   "id": "746c52d0",
   "metadata": {},
   "outputs": [
    {
     "data": {
      "text/plain": [
       "[('beef', 5539),\n",
       " ('production', 5318),\n",
       " ('cattle', 747),\n",
       " ('meat', 697),\n",
       " ('amp', 696),\n",
       " ('food', 526),\n",
       " ('u', 504),\n",
       " ('dairy', 419),\n",
       " ('price', 392),\n",
       " ('climate', 360),\n",
       " ('year', 354),\n",
       " ('cow', 351),\n",
       " ('emission', 344),\n",
       " ('land', 316),\n",
       " ('like', 312),\n",
       " ('animal', 311),\n",
       " ('would', 299),\n",
       " ('change', 295),\n",
       " ('one', 278),\n",
       " ('pork', 276),\n",
       " ('also', 276),\n",
       " ('people', 274),\n",
       " ('need', 269),\n",
       " ('it', 267),\n",
       " ('industry', 262),\n",
       " ('cost', 260),\n",
       " ('farm', 249),\n",
       " ('good', 246),\n",
       " ('farmer', 245),\n",
       " ('world', 241),\n",
       " ('milk', 231),\n",
       " ('chicken', 229),\n",
       " ('deforestation', 227),\n",
       " ('feed', 226),\n",
       " ('new', 214),\n",
       " ('livestock', 213),\n",
       " ('much', 206),\n",
       " ('make', 205),\n",
       " ('protein', 205),\n",
       " ('increase', 203),\n",
       " ('time', 202),\n",
       " ('sustainable', 200),\n",
       " ('use', 199),\n",
       " ('global', 195),\n",
       " ('reduce', 192),\n",
       " ('supply', 191),\n",
       " ('system', 190),\n",
       " ('know', 188),\n",
       " ('farming', 186),\n",
       " ('market', 184)]"
      ]
     },
     "execution_count": 13,
     "metadata": {},
     "output_type": "execute_result"
    }
   ],
   "source": [
    "#Cleaning Data-check for most frequent words in the 'content column' after applying lemmatiser\n",
    "from collections import Counter\n",
    "df_wordCounter= Counter(\" \".join(df_tweets['content']).split()).most_common(50)\n",
    "df_wordCounter"
   ]
  },
  {
   "cell_type": "code",
   "execution_count": 14,
   "id": "d75c8338",
   "metadata": {
    "scrolled": false
   },
   "outputs": [
    {
     "data": {
      "text/plain": [
       "0       (0.17532467532467533, 0.44155844155844154)\n",
       "1        (0.10000000000000002, 0.3666666666666667)\n",
       "2       (0.17532467532467533, 0.44155844155844154)\n",
       "3                                       (0.0, 0.0)\n",
       "4        (0.26666666666666666, 0.3333333333333333)\n",
       "                           ...                    \n",
       "4995                                  (0.35, 0.75)\n",
       "4996     (0.36488095238095236, 0.4398809523809524)\n",
       "4997                                    (0.0, 0.0)\n",
       "4998      (0.3333333333333333, 0.3333333333333333)\n",
       "4999    (0.13333333333333333, 0.19999999999999998)\n",
       "Name: content, Length: 5000, dtype: object"
      ]
     },
     "execution_count": 14,
     "metadata": {},
     "output_type": "execute_result"
    }
   ],
   "source": [
    "#\n",
    "from textblob import TextBlob\n",
    "df_tweets['content'].apply(lambda x: TextBlob(x).sentiment)"
   ]
  },
  {
   "cell_type": "code",
   "execution_count": 15,
   "id": "55d9d9dd",
   "metadata": {},
   "outputs": [
    {
     "data": {
      "text/html": [
       "<div>\n",
       "<style scoped>\n",
       "    .dataframe tbody tr th:only-of-type {\n",
       "        vertical-align: middle;\n",
       "    }\n",
       "\n",
       "    .dataframe tbody tr th {\n",
       "        vertical-align: top;\n",
       "    }\n",
       "\n",
       "    .dataframe thead th {\n",
       "        text-align: right;\n",
       "    }\n",
       "</style>\n",
       "<table border=\"1\" class=\"dataframe\">\n",
       "  <thead>\n",
       "    <tr style=\"text-align: right;\">\n",
       "      <th></th>\n",
       "      <th>content</th>\n",
       "      <th>user_location</th>\n",
       "      <th>sentiment</th>\n",
       "    </tr>\n",
       "  </thead>\n",
       "  <tbody>\n",
       "    <tr>\n",
       "      <th>0</th>\n",
       "      <td>new study estimate le water 80 crop 2050 clima...</td>\n",
       "      <td>India</td>\n",
       "      <td>0.175325</td>\n",
       "    </tr>\n",
       "    <tr>\n",
       "      <th>1</th>\n",
       "      <td>brings back memory writing uni presentation be...</td>\n",
       "      <td></td>\n",
       "      <td>0.100000</td>\n",
       "    </tr>\n",
       "    <tr>\n",
       "      <th>2</th>\n",
       "      <td>new study estimate le water 80 crop 2050 clima...</td>\n",
       "      <td>Washington, D.C.</td>\n",
       "      <td>0.175325</td>\n",
       "    </tr>\n",
       "    <tr>\n",
       "      <th>3</th>\n",
       "      <td>beef production may fall next year httpstcohqn...</td>\n",
       "      <td>Champaign, IL</td>\n",
       "      <td>0.000000</td>\n",
       "    </tr>\n",
       "    <tr>\n",
       "      <th>4</th>\n",
       "      <td>love farming god bless australia good vibe sta...</td>\n",
       "      <td>Mombasa, Kenya</td>\n",
       "      <td>0.266667</td>\n",
       "    </tr>\n",
       "    <tr>\n",
       "      <th>...</th>\n",
       "      <td>...</td>\n",
       "      <td>...</td>\n",
       "      <td>...</td>\n",
       "    </tr>\n",
       "    <tr>\n",
       "      <th>4995</th>\n",
       "      <td>intense beef production amazon lead land spari...</td>\n",
       "      <td>Berlin</td>\n",
       "      <td>0.350000</td>\n",
       "    </tr>\n",
       "    <tr>\n",
       "      <th>4996</th>\n",
       "      <td>officiallyice it modern day classic like rappe...</td>\n",
       "      <td>DMV</td>\n",
       "      <td>0.364881</td>\n",
       "    </tr>\n",
       "    <tr>\n",
       "      <th>4997</th>\n",
       "      <td>beef production estimated biggest driver defor...</td>\n",
       "      <td>Liverpool, England</td>\n",
       "      <td>0.000000</td>\n",
       "    </tr>\n",
       "    <tr>\n",
       "      <th>4998</th>\n",
       "      <td>watch preparation reopening csc production fac...</td>\n",
       "      <td>Harare, Zimbabwe</td>\n",
       "      <td>0.333333</td>\n",
       "    </tr>\n",
       "    <tr>\n",
       "      <th>4999</th>\n",
       "      <td>processed bread extra winter tonne available e...</td>\n",
       "      <td>Oxcombe</td>\n",
       "      <td>0.133333</td>\n",
       "    </tr>\n",
       "  </tbody>\n",
       "</table>\n",
       "<p>5000 rows × 3 columns</p>\n",
       "</div>"
      ],
      "text/plain": [
       "                                                content       user_location  \\\n",
       "0     new study estimate le water 80 crop 2050 clima...               India   \n",
       "1     brings back memory writing uni presentation be...                       \n",
       "2     new study estimate le water 80 crop 2050 clima...    Washington, D.C.   \n",
       "3     beef production may fall next year httpstcohqn...       Champaign, IL   \n",
       "4     love farming god bless australia good vibe sta...      Mombasa, Kenya   \n",
       "...                                                 ...                 ...   \n",
       "4995  intense beef production amazon lead land spari...              Berlin   \n",
       "4996  officiallyice it modern day classic like rappe...                 DMV   \n",
       "4997  beef production estimated biggest driver defor...  Liverpool, England   \n",
       "4998  watch preparation reopening csc production fac...    Harare, Zimbabwe   \n",
       "4999  processed bread extra winter tonne available e...            Oxcombe    \n",
       "\n",
       "      sentiment  \n",
       "0      0.175325  \n",
       "1      0.100000  \n",
       "2      0.175325  \n",
       "3      0.000000  \n",
       "4      0.266667  \n",
       "...         ...  \n",
       "4995   0.350000  \n",
       "4996   0.364881  \n",
       "4997   0.000000  \n",
       "4998   0.333333  \n",
       "4999   0.133333  \n",
       "\n",
       "[5000 rows x 3 columns]"
      ]
     },
     "execution_count": 15,
     "metadata": {},
     "output_type": "execute_result"
    }
   ],
   "source": [
    "#\n",
    "df_tweets['sentiment']= df_tweets['content'].apply(lambda x: TextBlob(x).sentiment[0])\n",
    "df_tweets"
   ]
  },
  {
   "cell_type": "code",
   "execution_count": 16,
   "id": "33072c5c",
   "metadata": {},
   "outputs": [
    {
     "name": "stdout",
     "output_type": "stream",
     "text": [
      "<class 'pandas.core.frame.DataFrame'>\n",
      "RangeIndex: 5000 entries, 0 to 4999\n",
      "Data columns (total 3 columns):\n",
      " #   Column         Non-Null Count  Dtype  \n",
      "---  ------         --------------  -----  \n",
      " 0   content        5000 non-null   object \n",
      " 1   user_location  5000 non-null   object \n",
      " 2   sentiment      5000 non-null   float64\n",
      "dtypes: float64(1), object(2)\n",
      "memory usage: 117.3+ KB\n"
     ]
    }
   ],
   "source": [
    "#\n",
    "df_tweets.info()"
   ]
  },
  {
   "cell_type": "code",
   "execution_count": 17,
   "id": "1a025393",
   "metadata": {},
   "outputs": [],
   "source": [
    "#\n",
    "df_tweets['sentiment'] = df_tweets['sentiment'].apply(lambda x:-1 if x <0 else (1 if x>0 else 0))"
   ]
  },
  {
   "cell_type": "code",
   "execution_count": 18,
   "id": "75d90074",
   "metadata": {},
   "outputs": [
    {
     "data": {
      "text/html": [
       "<div>\n",
       "<style scoped>\n",
       "    .dataframe tbody tr th:only-of-type {\n",
       "        vertical-align: middle;\n",
       "    }\n",
       "\n",
       "    .dataframe tbody tr th {\n",
       "        vertical-align: top;\n",
       "    }\n",
       "\n",
       "    .dataframe thead th {\n",
       "        text-align: right;\n",
       "    }\n",
       "</style>\n",
       "<table border=\"1\" class=\"dataframe\">\n",
       "  <thead>\n",
       "    <tr style=\"text-align: right;\">\n",
       "      <th></th>\n",
       "      <th>content</th>\n",
       "      <th>user_location</th>\n",
       "      <th>sentiment</th>\n",
       "    </tr>\n",
       "  </thead>\n",
       "  <tbody>\n",
       "    <tr>\n",
       "      <th>0</th>\n",
       "      <td>new study estimate le water 80 crop 2050 clima...</td>\n",
       "      <td>India</td>\n",
       "      <td>1</td>\n",
       "    </tr>\n",
       "    <tr>\n",
       "      <th>1</th>\n",
       "      <td>brings back memory writing uni presentation be...</td>\n",
       "      <td></td>\n",
       "      <td>1</td>\n",
       "    </tr>\n",
       "    <tr>\n",
       "      <th>2</th>\n",
       "      <td>new study estimate le water 80 crop 2050 clima...</td>\n",
       "      <td>Washington, D.C.</td>\n",
       "      <td>1</td>\n",
       "    </tr>\n",
       "    <tr>\n",
       "      <th>3</th>\n",
       "      <td>beef production may fall next year httpstcohqn...</td>\n",
       "      <td>Champaign, IL</td>\n",
       "      <td>0</td>\n",
       "    </tr>\n",
       "    <tr>\n",
       "      <th>4</th>\n",
       "      <td>love farming god bless australia good vibe sta...</td>\n",
       "      <td>Mombasa, Kenya</td>\n",
       "      <td>1</td>\n",
       "    </tr>\n",
       "  </tbody>\n",
       "</table>\n",
       "</div>"
      ],
      "text/plain": [
       "                                             content     user_location  \\\n",
       "0  new study estimate le water 80 crop 2050 clima...             India   \n",
       "1  brings back memory writing uni presentation be...                     \n",
       "2  new study estimate le water 80 crop 2050 clima...  Washington, D.C.   \n",
       "3  beef production may fall next year httpstcohqn...     Champaign, IL   \n",
       "4  love farming god bless australia good vibe sta...    Mombasa, Kenya   \n",
       "\n",
       "   sentiment  \n",
       "0          1  \n",
       "1          1  \n",
       "2          1  \n",
       "3          0  \n",
       "4          1  "
      ]
     },
     "execution_count": 18,
     "metadata": {},
     "output_type": "execute_result"
    }
   ],
   "source": [
    "df_tweets.head()"
   ]
  },
  {
   "cell_type": "code",
   "execution_count": 19,
   "id": "a3193da8",
   "metadata": {},
   "outputs": [
    {
     "data": {
      "text/plain": [
       " 1    2396\n",
       " 0    1330\n",
       "-1    1274\n",
       "Name: sentiment, dtype: int64"
      ]
     },
     "execution_count": 19,
     "metadata": {},
     "output_type": "execute_result"
    }
   ],
   "source": [
    "#Positive neutral negative sentiment count\n",
    "df_tweets.sentiment.value_counts()"
   ]
  },
  {
   "cell_type": "code",
   "execution_count": 20,
   "id": "63c14a73",
   "metadata": {},
   "outputs": [
    {
     "data": {
      "image/png": "[encoded data removed]",
      "text/plain": [
       "<Figure size 432x288 with 1 Axes>"
      ]
     },
     "metadata": {
      "needs_background": "light"
     },
     "output_type": "display_data"
    }
   ],
   "source": [
    "from matplotlib import pyplot as plt\n",
    "Sentiment_count=df_tweets.groupby('sentiment').count()\n",
    "plt.bar(Sentiment_count.index.values, Sentiment_count['content'])\n",
    "plt.xlabel('Review Sentiments')\n",
    "plt.ylabel('Number of Review')\n",
    "plt.show()"
   ]
  },
  {
   "cell_type": "code",
   "execution_count": 21,
   "id": "5c326e71",
   "metadata": {},
   "outputs": [
    {
     "data": {
      "text/plain": [
       "<5000x1000 sparse matrix of type '<class 'numpy.float64'>'\n",
       "\twith 56395 stored elements in Compressed Sparse Row format>"
      ]
     },
     "execution_count": 21,
     "metadata": {},
     "output_type": "execute_result"
    }
   ],
   "source": [
    "from sklearn.feature_extraction.text import TfidfVectorizer\n",
    "tfid_tweets = TfidfVectorizer(max_features=1000, lowercase=True, analyzer='word',stop_words= 'english',ngram_range=(1,1))\n",
    "df_tweets_normalised = tfid_tweets.fit_transform(df_tweets['content'])\n",
    "df_tweets_normalised"
   ]
  },
  {
   "cell_type": "code",
   "execution_count": 22,
   "id": "00b7fb6f",
   "metadata": {},
   "outputs": [],
   "source": [
    "#split train test\n",
    "from sklearn.model_selection import train_test_split\n",
    "X_train, X_test, y_train, y_test = train_test_split(df_tweets_normalised, df_tweets['sentiment'], test_size=0.25, random_state=1)"
   ]
  },
  {
   "cell_type": "code",
   "execution_count": 23,
   "id": "ba9054ad",
   "metadata": {},
   "outputs": [
    {
     "name": "stdout",
     "output_type": "stream",
     "text": [
      "MultinomialNB Accuracy: 0.6016\n"
     ]
    }
   ],
   "source": [
    "from sklearn.naive_bayes import MultinomialNB\n",
    "#Import scikit-learn metrics module for accuracy calculation\n",
    "from sklearn import metrics\n",
    "# Model Generation Using Multinomial Naive Bayes\n",
    "mnb = MultinomialNB().fit(X_train, y_train)\n",
    "predicted= mnb.predict(X_test)\n",
    "print(\"MultinomialNB Accuracy:\",metrics.accuracy_score(y_test, predicted))"
   ]
  },
  {
   "cell_type": "code",
   "execution_count": 24,
   "id": "a8ada768",
   "metadata": {},
   "outputs": [
    {
     "name": "stdout",
     "output_type": "stream",
     "text": [
      "[[152  45 153]\n",
      " [  3 193 133]\n",
      " [ 39  59 473]]\n",
      "0.6544\n",
      "65.44\n"
     ]
    }
   ],
   "source": [
    "#random forest\n",
    "from sklearn.ensemble import RandomForestClassifier\n",
    "model = RandomForestClassifier(n_estimators=200)\n",
    "model.fit(X_train,y_train)\n",
    "predictions = model.predict(X_test)\n",
    "#Confusion Matrix \n",
    "from sklearn.metrics import confusion_matrix,f1_score\n",
    "print(confusion_matrix(y_test,predictions))\n",
    "\n",
    "#f1-score\n",
    "print(f1_score(y_test,predictions,average='micro'))\n",
    "\n",
    "#Accuracy_score\n",
    "from sklearn.metrics import accuracy_score\n",
    "print(accuracy_score(y_test,predictions)*100)\n"
   ]
  },
  {
   "cell_type": "markdown",
   "id": "4ee9b504",
   "metadata": {},
   "source": [
    "## Consumer sentiment analysis"
   ]
  },
  {
   "cell_type": "code",
   "execution_count": 49,
   "id": "4d92e91b",
   "metadata": {},
   "outputs": [],
   "source": [
    "#get comsumer related tweets\n",
    "query = 'steak price' \n",
    "tweets = []\n",
    "limit = 5000\n",
    "\n",
    "\n",
    "for tweet in sntwitter.TwitterSearchScraper(query).get_items():\n",
    "    if len(tweets) == limit:\n",
    "        break\n",
    "    else:\n",
    "        tweets.append(tweet)\n",
    "        \n",
    "df_tweets = pd.DataFrame(tweets)"
   ]
  },
  {
   "cell_type": "code",
   "execution_count": 50,
   "id": "00538ad1",
   "metadata": {},
   "outputs": [],
   "source": [
    "#Cleaning Data-adding column location\n",
    "df_tweets['user_location'] =  df_tweets['user'].apply(lambda x: x['location'])"
   ]
  },
  {
   "cell_type": "code",
   "execution_count": 51,
   "id": "b4914bde",
   "metadata": {},
   "outputs": [],
   "source": [
    "#df_tweets.to_csv('organic food cost.csv')\n",
    "#df_tweets =pd.read_csv(r'organic food cost.csv')"
   ]
  },
  {
   "cell_type": "code",
   "execution_count": 52,
   "id": "c33690ff",
   "metadata": {},
   "outputs": [
    {
     "data": {
      "text/html": [
       "<div>\n",
       "<style scoped>\n",
       "    .dataframe tbody tr th:only-of-type {\n",
       "        vertical-align: middle;\n",
       "    }\n",
       "\n",
       "    .dataframe tbody tr th {\n",
       "        vertical-align: top;\n",
       "    }\n",
       "\n",
       "    .dataframe thead th {\n",
       "        text-align: right;\n",
       "    }\n",
       "</style>\n",
       "<table border=\"1\" class=\"dataframe\">\n",
       "  <thead>\n",
       "    <tr style=\"text-align: right;\">\n",
       "      <th></th>\n",
       "      <th>url</th>\n",
       "      <th>date</th>\n",
       "      <th>content</th>\n",
       "      <th>renderedContent</th>\n",
       "      <th>id</th>\n",
       "      <th>user</th>\n",
       "      <th>replyCount</th>\n",
       "      <th>retweetCount</th>\n",
       "      <th>likeCount</th>\n",
       "      <th>quoteCount</th>\n",
       "      <th>...</th>\n",
       "      <th>retweetedTweet</th>\n",
       "      <th>quotedTweet</th>\n",
       "      <th>inReplyToTweetId</th>\n",
       "      <th>inReplyToUser</th>\n",
       "      <th>mentionedUsers</th>\n",
       "      <th>coordinates</th>\n",
       "      <th>place</th>\n",
       "      <th>hashtags</th>\n",
       "      <th>cashtags</th>\n",
       "      <th>user_location</th>\n",
       "    </tr>\n",
       "  </thead>\n",
       "  <tbody>\n",
       "    <tr>\n",
       "      <th>0</th>\n",
       "      <td>https://twitter.com/Mgofifi_/status/1527349265...</td>\n",
       "      <td>2022-05-19 18:03:36+00:00</td>\n",
       "      <td>I’ve got an idea. 💡 \\n\\nSee, people eat the pr...</td>\n",
       "      <td>I’ve got an idea. 💡 \\n\\nSee, people eat the pr...</td>\n",
       "      <td>1527349265126739968</td>\n",
       "      <td>{'username': 'Mgofifi_', 'id': 93718058, 'disp...</td>\n",
       "      <td>0</td>\n",
       "      <td>0</td>\n",
       "      <td>0</td>\n",
       "      <td>0</td>\n",
       "      <td>...</td>\n",
       "      <td>None</td>\n",
       "      <td>{'url': 'https://twitter.com/Oom_Welly/status/...</td>\n",
       "      <td>NaN</td>\n",
       "      <td>None</td>\n",
       "      <td>None</td>\n",
       "      <td>None</td>\n",
       "      <td>None</td>\n",
       "      <td>None</td>\n",
       "      <td>None</td>\n",
       "      <td>Ndaba Azipheli: A Ghetto.</td>\n",
       "    </tr>\n",
       "    <tr>\n",
       "      <th>1</th>\n",
       "      <td>https://twitter.com/Shennanprrr/status/1527348...</td>\n",
       "      <td>2022-05-19 17:59:44+00:00</td>\n",
       "      <td>@sorenachoum I guess it was the bo beef steak ...</td>\n",
       "      <td>@sorenachoum I guess it was the bo beef steak ...</td>\n",
       "      <td>1527348292413100032</td>\n",
       "      <td>{'username': 'Shennanprrr', 'id': 151867435476...</td>\n",
       "      <td>1</td>\n",
       "      <td>0</td>\n",
       "      <td>1</td>\n",
       "      <td>0</td>\n",
       "      <td>...</td>\n",
       "      <td>None</td>\n",
       "      <td>None</td>\n",
       "      <td>1.527347e+18</td>\n",
       "      <td>{'username': 'sorenachoum', 'id': 2790086591, ...</td>\n",
       "      <td>[{'username': 'sorenachoum', 'id': 2790086591,...</td>\n",
       "      <td>None</td>\n",
       "      <td>None</td>\n",
       "      <td>None</td>\n",
       "      <td>None</td>\n",
       "      <td>Boston, MA</td>\n",
       "    </tr>\n",
       "    <tr>\n",
       "      <th>2</th>\n",
       "      <td>https://twitter.com/ilikesports06/status/15273...</td>\n",
       "      <td>2022-05-19 17:27:33+00:00</td>\n",
       "      <td>@KyleIvins Ok fine. \\n\\n-It was a display case...</td>\n",
       "      <td>@KyleIvins Ok fine. \\n\\n-It was a display case...</td>\n",
       "      <td>1527340194445217792</td>\n",
       "      <td>{'username': 'ilikesports06', 'id': 1513994412...</td>\n",
       "      <td>1</td>\n",
       "      <td>0</td>\n",
       "      <td>1</td>\n",
       "      <td>0</td>\n",
       "      <td>...</td>\n",
       "      <td>None</td>\n",
       "      <td>None</td>\n",
       "      <td>1.527317e+18</td>\n",
       "      <td>{'username': 'KyleIvins', 'id': 388573184, 'di...</td>\n",
       "      <td>[{'username': 'KyleIvins', 'id': 388573184, 'd...</td>\n",
       "      <td>None</td>\n",
       "      <td>None</td>\n",
       "      <td>None</td>\n",
       "      <td>None</td>\n",
       "      <td>West Jordan, UT</td>\n",
       "    </tr>\n",
       "    <tr>\n",
       "      <th>3</th>\n",
       "      <td>https://twitter.com/BigRedGal1/status/15273339...</td>\n",
       "      <td>2022-05-19 17:02:47+00:00</td>\n",
       "      <td>Just so you know…..Price gouging real time!!\\n...</td>\n",
       "      <td>Just so you know…..Price gouging real time!!\\n...</td>\n",
       "      <td>1527333960983797778</td>\n",
       "      <td>{'username': 'BigRedGal1', 'id': 1158393684435...</td>\n",
       "      <td>0</td>\n",
       "      <td>0</td>\n",
       "      <td>0</td>\n",
       "      <td>0</td>\n",
       "      <td>...</td>\n",
       "      <td>None</td>\n",
       "      <td>None</td>\n",
       "      <td>NaN</td>\n",
       "      <td>None</td>\n",
       "      <td>None</td>\n",
       "      <td>None</td>\n",
       "      <td>None</td>\n",
       "      <td>None</td>\n",
       "      <td>None</td>\n",
       "      <td></td>\n",
       "    </tr>\n",
       "    <tr>\n",
       "      <th>4</th>\n",
       "      <td>https://twitter.com/rightbizUK/status/15273181...</td>\n",
       "      <td>2022-05-19 16:00:07+00:00</td>\n",
       "      <td>Busy Halal Steak and Grill restaurant for sale...</td>\n",
       "      <td>Busy Halal Steak and Grill restaurant for sale...</td>\n",
       "      <td>1527318188639236097</td>\n",
       "      <td>{'username': 'rightbizUK', 'id': 4265861507, '...</td>\n",
       "      <td>0</td>\n",
       "      <td>0</td>\n",
       "      <td>0</td>\n",
       "      <td>0</td>\n",
       "      <td>...</td>\n",
       "      <td>None</td>\n",
       "      <td>None</td>\n",
       "      <td>NaN</td>\n",
       "      <td>None</td>\n",
       "      <td>None</td>\n",
       "      <td>None</td>\n",
       "      <td>None</td>\n",
       "      <td>[restaurants, london, ilford, businessforsale]</td>\n",
       "      <td>None</td>\n",
       "      <td></td>\n",
       "    </tr>\n",
       "  </tbody>\n",
       "</table>\n",
       "<p>5 rows × 28 columns</p>\n",
       "</div>"
      ],
      "text/plain": [
       "                                                 url  \\\n",
       "0  https://twitter.com/Mgofifi_/status/1527349265...   \n",
       "1  https://twitter.com/Shennanprrr/status/1527348...   \n",
       "2  https://twitter.com/ilikesports06/status/15273...   \n",
       "3  https://twitter.com/BigRedGal1/status/15273339...   \n",
       "4  https://twitter.com/rightbizUK/status/15273181...   \n",
       "\n",
       "                       date  \\\n",
       "0 2022-05-19 18:03:36+00:00   \n",
       "1 2022-05-19 17:59:44+00:00   \n",
       "2 2022-05-19 17:27:33+00:00   \n",
       "3 2022-05-19 17:02:47+00:00   \n",
       "4 2022-05-19 16:00:07+00:00   \n",
       "\n",
       "                                             content  \\\n",
       "0  I’ve got an idea. 💡 \\n\\nSee, people eat the pr...   \n",
       "1  @sorenachoum I guess it was the bo beef steak ...   \n",
       "2  @KyleIvins Ok fine. \\n\\n-It was a display case...   \n",
       "3  Just so you know…..Price gouging real time!!\\n...   \n",
       "4  Busy Halal Steak and Grill restaurant for sale...   \n",
       "\n",
       "                                     renderedContent                   id  \\\n",
       "0  I’ve got an idea. 💡 \\n\\nSee, people eat the pr...  1527349265126739968   \n",
       "1  @sorenachoum I guess it was the bo beef steak ...  1527348292413100032   \n",
       "2  @KyleIvins Ok fine. \\n\\n-It was a display case...  1527340194445217792   \n",
       "3  Just so you know…..Price gouging real time!!\\n...  1527333960983797778   \n",
       "4  Busy Halal Steak and Grill restaurant for sale...  1527318188639236097   \n",
       "\n",
       "                                                user  replyCount  \\\n",
       "0  {'username': 'Mgofifi_', 'id': 93718058, 'disp...           0   \n",
       "1  {'username': 'Shennanprrr', 'id': 151867435476...           1   \n",
       "2  {'username': 'ilikesports06', 'id': 1513994412...           1   \n",
       "3  {'username': 'BigRedGal1', 'id': 1158393684435...           0   \n",
       "4  {'username': 'rightbizUK', 'id': 4265861507, '...           0   \n",
       "\n",
       "   retweetCount  likeCount  quoteCount  ...  retweetedTweet  \\\n",
       "0             0          0           0  ...            None   \n",
       "1             0          1           0  ...            None   \n",
       "2             0          1           0  ...            None   \n",
       "3             0          0           0  ...            None   \n",
       "4             0          0           0  ...            None   \n",
       "\n",
       "                                         quotedTweet inReplyToTweetId  \\\n",
       "0  {'url': 'https://twitter.com/Oom_Welly/status/...              NaN   \n",
       "1                                               None     1.527347e+18   \n",
       "2                                               None     1.527317e+18   \n",
       "3                                               None              NaN   \n",
       "4                                               None              NaN   \n",
       "\n",
       "                                       inReplyToUser  \\\n",
       "0                                               None   \n",
       "1  {'username': 'sorenachoum', 'id': 2790086591, ...   \n",
       "2  {'username': 'KyleIvins', 'id': 388573184, 'di...   \n",
       "3                                               None   \n",
       "4                                               None   \n",
       "\n",
       "                                      mentionedUsers coordinates place  \\\n",
       "0                                               None        None  None   \n",
       "1  [{'username': 'sorenachoum', 'id': 2790086591,...        None  None   \n",
       "2  [{'username': 'KyleIvins', 'id': 388573184, 'd...        None  None   \n",
       "3                                               None        None  None   \n",
       "4                                               None        None  None   \n",
       "\n",
       "                                         hashtags cashtags  \\\n",
       "0                                            None     None   \n",
       "1                                            None     None   \n",
       "2                                            None     None   \n",
       "3                                            None     None   \n",
       "4  [restaurants, london, ilford, businessforsale]     None   \n",
       "\n",
       "               user_location  \n",
       "0  Ndaba Azipheli: A Ghetto.  \n",
       "1                 Boston, MA  \n",
       "2            West Jordan, UT  \n",
       "3                             \n",
       "4                             \n",
       "\n",
       "[5 rows x 28 columns]"
      ]
     },
     "execution_count": 52,
     "metadata": {},
     "output_type": "execute_result"
    }
   ],
   "source": [
    "df_tweets.head()"
   ]
  },
  {
   "cell_type": "code",
   "execution_count": 53,
   "id": "277d7dd7",
   "metadata": {},
   "outputs": [
    {
     "name": "stdout",
     "output_type": "stream",
     "text": [
      "<class 'pandas.core.frame.DataFrame'>\n",
      "RangeIndex: 5000 entries, 0 to 4999\n",
      "Data columns (total 2 columns):\n",
      " #   Column         Non-Null Count  Dtype \n",
      "---  ------         --------------  ----- \n",
      " 0   content        5000 non-null   object\n",
      " 1   user_location  5000 non-null   object\n",
      "dtypes: object(2)\n",
      "memory usage: 78.2+ KB\n"
     ]
    }
   ],
   "source": [
    "#Cleaning Data-flter and keep only columns that we will use in the dataset\n",
    "df_tweets= df_tweets.filter(['content','user_location'], axis=1)\n",
    "df_tweets.info()"
   ]
  },
  {
   "cell_type": "code",
   "execution_count": 54,
   "id": "13f04001",
   "metadata": {},
   "outputs": [
    {
     "data": {
      "text/plain": [
       "0       i’ve got an idea. 💡 \\n\\nsee, people eat the pr...\n",
       "1       @sorenachoum i guess it was the bo beef steak ...\n",
       "2       @kyleivins ok fine. \\n\\n-it was a display case...\n",
       "3       just so you know…..price gouging real time!!\\n...\n",
       "4       busy halal steak and grill restaurant for sale...\n",
       "                              ...                        \n",
       "4995    imagine paying this much money for wine, steak...\n",
       "4996    having seen the receipt, a number of the items...\n",
       "4997    daily mail: salt bae's £1,300-a-steak knightsb...\n",
       "4998    this is new: cows wandering about on the coyot...\n",
       "4999    @domwh1te so if steak goes up a lot and consum...\n",
       "Name: content, Length: 5000, dtype: object"
      ]
     },
     "execution_count": 54,
     "metadata": {},
     "output_type": "execute_result"
    }
   ],
   "source": [
    "#Cleaning Data-change words in the 'content' column to lower case\n",
    "df_tweets['content'] = df_tweets['content'].apply(lambda x:x.lower())\n",
    "df_tweets['content']"
   ]
  },
  {
   "cell_type": "code",
   "execution_count": 55,
   "id": "c617638f",
   "metadata": {},
   "outputs": [
    {
     "name": "stderr",
     "output_type": "stream",
     "text": [
      "[nltk_data] Downloading package stopwords to\n",
      "[nltk_data]     C:\\Users\\Z\\AppData\\Roaming\\nltk_data...\n",
      "[nltk_data]   Package stopwords is already up-to-date!\n"
     ]
    }
   ],
   "source": [
    "#import natural processing toolkit\n",
    "import nltk\n",
    "nltk.download('stopwords')\n",
    "from nltk.corpus import stopwords\n",
    "stop = stopwords.words('english')"
   ]
  },
  {
   "cell_type": "code",
   "execution_count": 56,
   "id": "b006cf1a",
   "metadata": {},
   "outputs": [
    {
     "data": {
      "text/plain": [
       "0    i’ve got idea. 💡 see, people eat price steak, ...\n",
       "1    @sorenachoum guess bo beef steak bo tai chanh ...\n",
       "2    @kyleivins ok fine. -it display case 72 golf b...\n",
       "3    know…..price gouging real time!! paid $6.69 ga...\n",
       "4    busy halal steak grill restaurant sale ilford,...\n",
       "Name: content, dtype: object"
      ]
     },
     "execution_count": 56,
     "metadata": {},
     "output_type": "execute_result"
    }
   ],
   "source": [
    "#Cleaning Data-remove english stopwords\n",
    "df_tweets['content'] = df_tweets['content'].apply(lambda x: \" \".join(x for x in x.split() if x not in stop))\n",
    "df_tweets['content'].head()"
   ]
  },
  {
   "cell_type": "code",
   "execution_count": 57,
   "id": "3002e6cb",
   "metadata": {},
   "outputs": [
    {
     "data": {
      "text/plain": [
       "0    ive got idea  see people eat price steak so ba...\n",
       "1    sorenachoum guess bo beef steak bo tai chanh i...\n",
       "2    kyleivins ok fine it display case 72 golf ball...\n",
       "3    knowprice gouging real time paid 669 gallon ch...\n",
       "4    busy halal steak grill restaurant sale ilford ...\n",
       "Name: content, dtype: object"
      ]
     },
     "execution_count": 57,
     "metadata": {},
     "output_type": "execute_result"
    }
   ],
   "source": [
    "#Cleaning Data-remove special characters\n",
    "df_tweets['content'] = df_tweets['content'].str.replace('[^\\w\\s]','')\n",
    "df_tweets['content'].head()"
   ]
  },
  {
   "cell_type": "code",
   "execution_count": 58,
   "id": "8d6b0f12",
   "metadata": {},
   "outputs": [
    {
     "data": {
      "text/plain": [
       "[('steak', 5343),\n",
       " ('price', 5176),\n",
       " ('like', 640),\n",
       " ('good', 573),\n",
       " ('get', 551),\n",
       " ('amp', 445),\n",
       " ('meat', 404),\n",
       " ('beef', 399),\n",
       " ('buy', 383),\n",
       " ('food', 338),\n",
       " ('chicken', 338),\n",
       " ('one', 336),\n",
       " ('im', 332),\n",
       " ('its', 327),\n",
       " ('dinner', 299),\n",
       " ('would', 299),\n",
       " ('eat', 292),\n",
       " ('prices', 292),\n",
       " ('pay', 281),\n",
       " ('thats', 278),\n",
       " ('half', 272),\n",
       " ('go', 271),\n",
       " ('it', 266),\n",
       " ('could', 258),\n",
       " ('better', 251),\n",
       " ('people', 250),\n",
       " ('restaurant', 240),\n",
       " ('much', 232),\n",
       " ('steaks', 223),\n",
       " ('got', 218),\n",
       " ('cost', 212),\n",
       " ('even', 211),\n",
       " ('going', 210),\n",
       " ('2', 210),\n",
       " ('want', 201),\n",
       " ('day', 199),\n",
       " ('worth', 197),\n",
       " ('make', 192),\n",
       " ('think', 190),\n",
       " ('know', 190),\n",
       " ('also', 189),\n",
       " ('12', 182),\n",
       " ('time', 181),\n",
       " ('high', 180),\n",
       " ('well', 180),\n",
       " ('great', 180),\n",
       " ('dont', 179),\n",
       " ('expensive', 177),\n",
       " ('per', 175),\n",
       " ('1', 167)]"
      ]
     },
     "execution_count": 58,
     "metadata": {},
     "output_type": "execute_result"
    }
   ],
   "source": [
    "#Cleaning Data-check for most frequent words in the 'content column'\n",
    "from collections import Counter\n",
    "df_wordCounter= Counter(\" \".join(df_tweets['content']).split()).most_common(50)\n",
    "df_wordCounter"
   ]
  },
  {
   "cell_type": "code",
   "execution_count": 59,
   "id": "dc7af923",
   "metadata": {},
   "outputs": [
    {
     "name": "stderr",
     "output_type": "stream",
     "text": [
      "[nltk_data] Downloading package wordnet to\n",
      "[nltk_data]     C:\\Users\\Z\\AppData\\Roaming\\nltk_data...\n",
      "[nltk_data]   Package wordnet is already up-to-date!\n"
     ]
    },
    {
     "data": {
      "text/plain": [
       "0    ive got idea see people eat price steak so baz...\n",
       "1    sorenachoum guess bo beef steak bo tai chanh i...\n",
       "2    kyleivins ok fine it display case 72 golf ball...\n",
       "3    knowprice gouging real time paid 669 gallon ch...\n",
       "4    busy halal steak grill restaurant sale ilford ...\n",
       "Name: content, dtype: object"
      ]
     },
     "execution_count": 59,
     "metadata": {},
     "output_type": "execute_result"
    }
   ],
   "source": [
    "\n",
    "nltk.download('wordnet')\n",
    "from textblob import Word\n",
    "df_tweets['content'] = df_tweets['content'].apply(lambda x: \" \".join([Word(word).lemmatize() for word in x.split()]))\n",
    "df_tweets['content'].head()\n"
   ]
  },
  {
   "cell_type": "code",
   "execution_count": 60,
   "id": "11986a6c",
   "metadata": {},
   "outputs": [
    {
     "data": {
      "text/plain": [
       "[('steak', 5566),\n",
       " ('price', 5468),\n",
       " ('like', 646),\n",
       " ('it', 593),\n",
       " ('good', 590),\n",
       " ('get', 589),\n",
       " ('amp', 445),\n",
       " ('meat', 422),\n",
       " ('beef', 400),\n",
       " ('buy', 388),\n",
       " ('one', 362),\n",
       " ('food', 353),\n",
       " ('chicken', 350),\n",
       " ('im', 332),\n",
       " ('restaurant', 328),\n",
       " ('dinner', 320),\n",
       " ('go', 319),\n",
       " ('would', 299),\n",
       " ('cost', 298),\n",
       " ('eat', 292),\n",
       " ('pay', 292),\n",
       " ('day', 284),\n",
       " ('thats', 278),\n",
       " ('half', 273),\n",
       " ('could', 258),\n",
       " ('people', 255),\n",
       " ('better', 251),\n",
       " ('make', 249),\n",
       " ('year', 246),\n",
       " ('time', 238),\n",
       " ('much', 232),\n",
       " ('cut', 227),\n",
       " ('want', 225),\n",
       " ('got', 218),\n",
       " ('even', 211),\n",
       " ('going', 210),\n",
       " ('2', 210),\n",
       " ('think', 201),\n",
       " ('know', 201),\n",
       " ('worth', 197),\n",
       " ('u', 190),\n",
       " ('also', 189),\n",
       " ('high', 182),\n",
       " ('12', 182),\n",
       " ('well', 181),\n",
       " ('great', 180),\n",
       " ('dont', 179),\n",
       " ('expensive', 177),\n",
       " ('per', 175),\n",
       " ('meal', 175)]"
      ]
     },
     "execution_count": 60,
     "metadata": {},
     "output_type": "execute_result"
    }
   ],
   "source": [
    "#Cleaning Data-check for most frequent words in the 'content column' after applying lemmatiser\n",
    "from collections import Counter\n",
    "df_wordCounter= Counter(\" \".join(df_tweets['content']).split()).most_common(50)\n",
    "df_wordCounter"
   ]
  },
  {
   "cell_type": "code",
   "execution_count": 61,
   "id": "a13ee0e7",
   "metadata": {},
   "outputs": [
    {
     "data": {
      "text/plain": [
       "0                                        (0.0, 0.0)\n",
       "1                                        (0.0, 0.0)\n",
       "2         (0.4041666666666667, 0.42500000000000004)\n",
       "3                                        (0.1, 0.2)\n",
       "4                                        (0.1, 0.3)\n",
       "                           ...                     \n",
       "4995                                   (0.35, 0.35)\n",
       "4996      (0.24166666666666664, 0.6333333333333333)\n",
       "4997    (-0.12499999999999996, 0.24166666666666664)\n",
       "4998     (-0.03232323232323233, 0.2404040404040404)\n",
       "4999       (0.4166666666666667, 0.6166666666666667)\n",
       "Name: content, Length: 5000, dtype: object"
      ]
     },
     "execution_count": 61,
     "metadata": {},
     "output_type": "execute_result"
    }
   ],
   "source": [
    "#\n",
    "from textblob import TextBlob\n",
    "df_tweets['content'].apply(lambda x: TextBlob(x).sentiment)"
   ]
  },
  {
   "cell_type": "code",
   "execution_count": 62,
   "id": "81d3bddc",
   "metadata": {},
   "outputs": [
    {
     "data": {
      "text/html": [
       "<div>\n",
       "<style scoped>\n",
       "    .dataframe tbody tr th:only-of-type {\n",
       "        vertical-align: middle;\n",
       "    }\n",
       "\n",
       "    .dataframe tbody tr th {\n",
       "        vertical-align: top;\n",
       "    }\n",
       "\n",
       "    .dataframe thead th {\n",
       "        text-align: right;\n",
       "    }\n",
       "</style>\n",
       "<table border=\"1\" class=\"dataframe\">\n",
       "  <thead>\n",
       "    <tr style=\"text-align: right;\">\n",
       "      <th></th>\n",
       "      <th>content</th>\n",
       "      <th>user_location</th>\n",
       "      <th>sentiment</th>\n",
       "    </tr>\n",
       "  </thead>\n",
       "  <tbody>\n",
       "    <tr>\n",
       "      <th>0</th>\n",
       "      <td>ive got idea see people eat price steak so baz...</td>\n",
       "      <td>Ndaba Azipheli: A Ghetto.</td>\n",
       "      <td>0.000000</td>\n",
       "    </tr>\n",
       "    <tr>\n",
       "      <th>1</th>\n",
       "      <td>sorenachoum guess bo beef steak bo tai chanh i...</td>\n",
       "      <td>Boston, MA</td>\n",
       "      <td>0.000000</td>\n",
       "    </tr>\n",
       "    <tr>\n",
       "      <th>2</th>\n",
       "      <td>kyleivins ok fine it display case 72 golf ball...</td>\n",
       "      <td>West Jordan, UT</td>\n",
       "      <td>0.404167</td>\n",
       "    </tr>\n",
       "    <tr>\n",
       "      <th>3</th>\n",
       "      <td>knowprice gouging real time paid 669 gallon ch...</td>\n",
       "      <td></td>\n",
       "      <td>0.100000</td>\n",
       "    </tr>\n",
       "    <tr>\n",
       "      <th>4</th>\n",
       "      <td>busy halal steak grill restaurant sale ilford ...</td>\n",
       "      <td></td>\n",
       "      <td>0.100000</td>\n",
       "    </tr>\n",
       "    <tr>\n",
       "      <th>...</th>\n",
       "      <td>...</td>\n",
       "      <td>...</td>\n",
       "      <td>...</td>\n",
       "    </tr>\n",
       "    <tr>\n",
       "      <th>4995</th>\n",
       "      <td>imagine paying much money wine steak vegetable...</td>\n",
       "      <td>with my cat 🐈</td>\n",
       "      <td>0.350000</td>\n",
       "    </tr>\n",
       "    <tr>\n",
       "      <th>4996</th>\n",
       "      <td>seen receipt number item kind price id expect ...</td>\n",
       "      <td>Leeds</td>\n",
       "      <td>0.241667</td>\n",
       "    </tr>\n",
       "    <tr>\n",
       "      <th>4997</th>\n",
       "      <td>daily mail salt baes 1300asteak knightsbridge ...</td>\n",
       "      <td>Mancunium, Perfidious Albion</td>\n",
       "      <td>-0.125000</td>\n",
       "    </tr>\n",
       "    <tr>\n",
       "      <th>4998</th>\n",
       "      <td>new cow wandering coyote creek trail 2 mile no...</td>\n",
       "      <td>San Jose, California</td>\n",
       "      <td>-0.032323</td>\n",
       "    </tr>\n",
       "    <tr>\n",
       "      <th>4999</th>\n",
       "      <td>domwh1te steak go lot consumer switch eating h...</td>\n",
       "      <td>UK</td>\n",
       "      <td>0.416667</td>\n",
       "    </tr>\n",
       "  </tbody>\n",
       "</table>\n",
       "<p>5000 rows × 3 columns</p>\n",
       "</div>"
      ],
      "text/plain": [
       "                                                content  \\\n",
       "0     ive got idea see people eat price steak so baz...   \n",
       "1     sorenachoum guess bo beef steak bo tai chanh i...   \n",
       "2     kyleivins ok fine it display case 72 golf ball...   \n",
       "3     knowprice gouging real time paid 669 gallon ch...   \n",
       "4     busy halal steak grill restaurant sale ilford ...   \n",
       "...                                                 ...   \n",
       "4995  imagine paying much money wine steak vegetable...   \n",
       "4996  seen receipt number item kind price id expect ...   \n",
       "4997  daily mail salt baes 1300asteak knightsbridge ...   \n",
       "4998  new cow wandering coyote creek trail 2 mile no...   \n",
       "4999  domwh1te steak go lot consumer switch eating h...   \n",
       "\n",
       "                     user_location  sentiment  \n",
       "0        Ndaba Azipheli: A Ghetto.   0.000000  \n",
       "1                       Boston, MA   0.000000  \n",
       "2                  West Jordan, UT   0.404167  \n",
       "3                                    0.100000  \n",
       "4                                    0.100000  \n",
       "...                            ...        ...  \n",
       "4995                 with my cat 🐈   0.350000  \n",
       "4996                         Leeds   0.241667  \n",
       "4997  Mancunium, Perfidious Albion  -0.125000  \n",
       "4998          San Jose, California  -0.032323  \n",
       "4999                            UK   0.416667  \n",
       "\n",
       "[5000 rows x 3 columns]"
      ]
     },
     "execution_count": 62,
     "metadata": {},
     "output_type": "execute_result"
    }
   ],
   "source": [
    "#\n",
    "df_tweets['sentiment']= df_tweets['content'].apply(lambda x: TextBlob(x).sentiment[0])\n",
    "df_tweets"
   ]
  },
  {
   "cell_type": "code",
   "execution_count": 63,
   "id": "24c8af9b",
   "metadata": {},
   "outputs": [
    {
     "name": "stdout",
     "output_type": "stream",
     "text": [
      "<class 'pandas.core.frame.DataFrame'>\n",
      "RangeIndex: 5000 entries, 0 to 4999\n",
      "Data columns (total 3 columns):\n",
      " #   Column         Non-Null Count  Dtype  \n",
      "---  ------         --------------  -----  \n",
      " 0   content        5000 non-null   object \n",
      " 1   user_location  5000 non-null   object \n",
      " 2   sentiment      5000 non-null   float64\n",
      "dtypes: float64(1), object(2)\n",
      "memory usage: 117.3+ KB\n"
     ]
    }
   ],
   "source": [
    "#\n",
    "df_tweets.info()"
   ]
  },
  {
   "cell_type": "code",
   "execution_count": 64,
   "id": "8552d13d",
   "metadata": {},
   "outputs": [],
   "source": [
    "#\n",
    "df_tweets['sentiment'] = df_tweets['sentiment'].apply(lambda x:-1 if x <0 else (1 if x>0 else 0))"
   ]
  },
  {
   "cell_type": "code",
   "execution_count": 65,
   "id": "21038eb6",
   "metadata": {},
   "outputs": [
    {
     "data": {
      "text/html": [
       "<div>\n",
       "<style scoped>\n",
       "    .dataframe tbody tr th:only-of-type {\n",
       "        vertical-align: middle;\n",
       "    }\n",
       "\n",
       "    .dataframe tbody tr th {\n",
       "        vertical-align: top;\n",
       "    }\n",
       "\n",
       "    .dataframe thead th {\n",
       "        text-align: right;\n",
       "    }\n",
       "</style>\n",
       "<table border=\"1\" class=\"dataframe\">\n",
       "  <thead>\n",
       "    <tr style=\"text-align: right;\">\n",
       "      <th></th>\n",
       "      <th>content</th>\n",
       "      <th>user_location</th>\n",
       "      <th>sentiment</th>\n",
       "    </tr>\n",
       "  </thead>\n",
       "  <tbody>\n",
       "    <tr>\n",
       "      <th>0</th>\n",
       "      <td>ive got idea see people eat price steak so baz...</td>\n",
       "      <td>Ndaba Azipheli: A Ghetto.</td>\n",
       "      <td>0</td>\n",
       "    </tr>\n",
       "    <tr>\n",
       "      <th>1</th>\n",
       "      <td>sorenachoum guess bo beef steak bo tai chanh i...</td>\n",
       "      <td>Boston, MA</td>\n",
       "      <td>0</td>\n",
       "    </tr>\n",
       "    <tr>\n",
       "      <th>2</th>\n",
       "      <td>kyleivins ok fine it display case 72 golf ball...</td>\n",
       "      <td>West Jordan, UT</td>\n",
       "      <td>1</td>\n",
       "    </tr>\n",
       "    <tr>\n",
       "      <th>3</th>\n",
       "      <td>knowprice gouging real time paid 669 gallon ch...</td>\n",
       "      <td></td>\n",
       "      <td>1</td>\n",
       "    </tr>\n",
       "    <tr>\n",
       "      <th>4</th>\n",
       "      <td>busy halal steak grill restaurant sale ilford ...</td>\n",
       "      <td></td>\n",
       "      <td>1</td>\n",
       "    </tr>\n",
       "  </tbody>\n",
       "</table>\n",
       "</div>"
      ],
      "text/plain": [
       "                                             content  \\\n",
       "0  ive got idea see people eat price steak so baz...   \n",
       "1  sorenachoum guess bo beef steak bo tai chanh i...   \n",
       "2  kyleivins ok fine it display case 72 golf ball...   \n",
       "3  knowprice gouging real time paid 669 gallon ch...   \n",
       "4  busy halal steak grill restaurant sale ilford ...   \n",
       "\n",
       "               user_location  sentiment  \n",
       "0  Ndaba Azipheli: A Ghetto.          0  \n",
       "1                 Boston, MA          0  \n",
       "2            West Jordan, UT          1  \n",
       "3                                     1  \n",
       "4                                     1  "
      ]
     },
     "execution_count": 65,
     "metadata": {},
     "output_type": "execute_result"
    }
   ],
   "source": [
    "df_tweets.head()"
   ]
  },
  {
   "cell_type": "code",
   "execution_count": 66,
   "id": "9008135f",
   "metadata": {},
   "outputs": [
    {
     "data": {
      "text/plain": [
       " 1    2668\n",
       "-1    1270\n",
       " 0    1062\n",
       "Name: sentiment, dtype: int64"
      ]
     },
     "execution_count": 66,
     "metadata": {},
     "output_type": "execute_result"
    }
   ],
   "source": [
    "#Positive neutral negative sentiment count\n",
    "df_tweets.sentiment.value_counts()"
   ]
  },
  {
   "cell_type": "code",
   "execution_count": 67,
   "id": "fda4aa60",
   "metadata": {},
   "outputs": [
    {
     "data": {
      "image/png": "[encoded data removed]",
      "text/plain": [
       "<Figure size 432x288 with 1 Axes>"
      ]
     },
     "metadata": {
      "needs_background": "light"
     },
     "output_type": "display_data"
    }
   ],
   "source": [
    "from matplotlib import pyplot as plt\n",
    "Sentiment_count=df_tweets.groupby('sentiment').count()\n",
    "plt.bar(Sentiment_count.index.values, Sentiment_count['content'])\n",
    "plt.xlabel('Review Sentiments')\n",
    "plt.ylabel('Number of Review')\n",
    "plt.show()"
   ]
  },
  {
   "cell_type": "code",
   "execution_count": 68,
   "id": "94b39c97",
   "metadata": {},
   "outputs": [
    {
     "data": {
      "text/plain": [
       "<5000x1000 sparse matrix of type '<class 'numpy.float64'>'\n",
       "\twith 51174 stored elements in Compressed Sparse Row format>"
      ]
     },
     "execution_count": 68,
     "metadata": {},
     "output_type": "execute_result"
    }
   ],
   "source": [
    "from sklearn.feature_extraction.text import TfidfVectorizer\n",
    "tfid_tweets = TfidfVectorizer(max_features=1000, lowercase=True, analyzer='word',stop_words= 'english',ngram_range=(1,1))\n",
    "df_tweets_normalised = tfid_tweets.fit_transform(df_tweets['content'])\n",
    "df_tweets_normalised"
   ]
  },
  {
   "cell_type": "code",
   "execution_count": 69,
   "id": "77f6f8b0",
   "metadata": {},
   "outputs": [],
   "source": [
    "#split train test\n",
    "from sklearn.model_selection import train_test_split\n",
    "X_train, X_test, y_train, y_test = train_test_split(df_tweets_normalised, df_tweets['sentiment'], test_size=0.25, random_state=1)"
   ]
  },
  {
   "cell_type": "code",
   "execution_count": 70,
   "id": "1d3998b5",
   "metadata": {},
   "outputs": [
    {
     "name": "stdout",
     "output_type": "stream",
     "text": [
      "MultinomialNB Accuracy: 0.6472\n"
     ]
    }
   ],
   "source": [
    "from sklearn.naive_bayes import MultinomialNB\n",
    "#Import scikit-learn metrics module for accuracy calculation\n",
    "from sklearn import metrics\n",
    "# Model Generation Using Multinomial Naive Bayes\n",
    "mnb = MultinomialNB().fit(X_train, y_train)\n",
    "predicted= mnb.predict(X_test)\n",
    "print(\"MultinomialNB Accuracy:\",metrics.accuracy_score(y_test, predicted))"
   ]
  },
  {
   "cell_type": "code",
   "execution_count": 71,
   "id": "b3ff0253",
   "metadata": {},
   "outputs": [
    {
     "name": "stdout",
     "output_type": "stream",
     "text": [
      "[[174  31 111]\n",
      " [  5 172  86]\n",
      " [ 29  48 594]]\n",
      "0.752\n",
      "75.2\n"
     ]
    }
   ],
   "source": [
    "#random forest\n",
    "from sklearn.ensemble import RandomForestClassifier\n",
    "model = RandomForestClassifier(n_estimators=200)\n",
    "model.fit(X_train,y_train)\n",
    "predictions = model.predict(X_test)\n",
    "#Confusion Matrix \n",
    "from sklearn.metrics import confusion_matrix,f1_score\n",
    "print(confusion_matrix(y_test,predictions))\n",
    "\n",
    "#f1-score\n",
    "print(f1_score(y_test,predictions,average='micro'))\n",
    "\n",
    "#Accuracy_score\n",
    "from sklearn.metrics import accuracy_score\n",
    "print(accuracy_score(y_test,predictions)*100)\n"
   ]
  }
 ],
 "metadata": {
  "kernelspec": {
   "display_name": "Python 3 (ipykernel)",
   "language": "python",
   "name": "python3"
  },
  "language_info": {
   "codemirror_mode": {
    "name": "ipython",
    "version": 3
   },
   "file_extension": ".py",
   "mimetype": "text/x-python",
   "name": "python",
   "nbconvert_exporter": "python",
   "pygments_lexer": "ipython3",
   "version": "3.9.7"
  }
 },
 "nbformat": 4,
 "nbformat_minor": 5
}
