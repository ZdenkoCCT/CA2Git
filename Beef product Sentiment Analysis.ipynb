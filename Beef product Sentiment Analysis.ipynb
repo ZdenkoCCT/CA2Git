{
 "cells": [
  {
   "cell_type": "code",
   "execution_count": 1,
   "id": "8ba64c6f",
   "metadata": {},
   "outputs": [],
   "source": [
    "import warnings\n",
    "warnings.filterwarnings('ignore')"
   ]
  },
  {
   "cell_type": "markdown",
   "id": "21ed8322",
   "metadata": {},
   "source": [
    "## Producer sentiment analysis"
   ]
  },
  {
   "cell_type": "code",
   "execution_count": 48,
   "id": "d9f3351e",
   "metadata": {},
   "outputs": [],
   "source": [
    "import snscrape.modules.twitter as sntwitter\n",
    "import pandas as pd\n",
    "#use social network scraper to get tweets that contain words 'beef production'\n",
    "query = 'beef production cost' \n",
    "tweets = []\n",
    "limit = 5000\n",
    "#for loop is appending twets to the list\n",
    "for tweet in sntwitter.TwitterSearchScraper(query).get_items():\n",
    "    if len(tweets) == limit:\n",
    "        break\n",
    "    else:\n",
    "        tweets.append(tweet)\n",
    "#creating DataFrame from the list        \n",
    "df_tweets = pd.DataFrame(tweets)\n",
    "\n"
   ]
  },
  {
   "cell_type": "code",
   "execution_count": 49,
   "id": "c53aa4ad",
   "metadata": {},
   "outputs": [],
   "source": [
    "#Cleaning Data-adding column location\n",
    "df_tweets['user_location'] =  df_tweets['user'].apply(lambda x: x['location'])"
   ]
  },
  {
   "cell_type": "code",
   "execution_count": 50,
   "id": "a5b276b5",
   "metadata": {},
   "outputs": [],
   "source": [
    "df_tweets.to_csv('beef production.csv')\n",
    "#df_tweets =pd.read_csv(r'farming cost increase.csv')"
   ]
  },
  {
   "cell_type": "code",
   "execution_count": 51,
   "id": "9b926d89",
   "metadata": {},
   "outputs": [
    {
     "data": {
      "text/html": [
       "<div>\n",
       "<style scoped>\n",
       "    .dataframe tbody tr th:only-of-type {\n",
       "        vertical-align: middle;\n",
       "    }\n",
       "\n",
       "    .dataframe tbody tr th {\n",
       "        vertical-align: top;\n",
       "    }\n",
       "\n",
       "    .dataframe thead th {\n",
       "        text-align: right;\n",
       "    }\n",
       "</style>\n",
       "<table border=\"1\" class=\"dataframe\">\n",
       "  <thead>\n",
       "    <tr style=\"text-align: right;\">\n",
       "      <th></th>\n",
       "      <th>url</th>\n",
       "      <th>date</th>\n",
       "      <th>content</th>\n",
       "      <th>renderedContent</th>\n",
       "      <th>id</th>\n",
       "      <th>user</th>\n",
       "      <th>replyCount</th>\n",
       "      <th>retweetCount</th>\n",
       "      <th>likeCount</th>\n",
       "      <th>quoteCount</th>\n",
       "      <th>...</th>\n",
       "      <th>retweetedTweet</th>\n",
       "      <th>quotedTweet</th>\n",
       "      <th>inReplyToTweetId</th>\n",
       "      <th>inReplyToUser</th>\n",
       "      <th>mentionedUsers</th>\n",
       "      <th>coordinates</th>\n",
       "      <th>place</th>\n",
       "      <th>hashtags</th>\n",
       "      <th>cashtags</th>\n",
       "      <th>user_location</th>\n",
       "    </tr>\n",
       "  </thead>\n",
       "  <tbody>\n",
       "    <tr>\n",
       "      <th>0</th>\n",
       "      <td>https://twitter.com/MzTeel/status/152779960555...</td>\n",
       "      <td>2022-05-20 23:53:05+00:00</td>\n",
       "      <td>@BlackSavage70 @drboycewatkins1 No it’s not tr...</td>\n",
       "      <td>@BlackSavage70 @drboycewatkins1 No it’s not tr...</td>\n",
       "      <td>1527799605555089412</td>\n",
       "      <td>{'username': 'MzTeel', 'id': 151521906, 'displ...</td>\n",
       "      <td>3</td>\n",
       "      <td>0</td>\n",
       "      <td>4</td>\n",
       "      <td>0</td>\n",
       "      <td>...</td>\n",
       "      <td>None</td>\n",
       "      <td>None</td>\n",
       "      <td>1.527782e+18</td>\n",
       "      <td>{'username': 'BlackSavage70', 'id': 1467592915...</td>\n",
       "      <td>[{'username': 'BlackSavage70', 'id': 146759291...</td>\n",
       "      <td>None</td>\n",
       "      <td>None</td>\n",
       "      <td>None</td>\n",
       "      <td>None</td>\n",
       "      <td>Florida</td>\n",
       "    </tr>\n",
       "    <tr>\n",
       "      <th>1</th>\n",
       "      <td>https://twitter.com/GamechangerBeef/status/152...</td>\n",
       "      <td>2022-05-20 16:14:04+00:00</td>\n",
       "      <td>We know feed bills are on the rise. That's why...</td>\n",
       "      <td>We know feed bills are on the rise. That's why...</td>\n",
       "      <td>1527684090631278594</td>\n",
       "      <td>{'username': 'GamechangerBeef', 'id': 14870612...</td>\n",
       "      <td>0</td>\n",
       "      <td>0</td>\n",
       "      <td>2</td>\n",
       "      <td>0</td>\n",
       "      <td>...</td>\n",
       "      <td>None</td>\n",
       "      <td>None</td>\n",
       "      <td>NaN</td>\n",
       "      <td>None</td>\n",
       "      <td>None</td>\n",
       "      <td>None</td>\n",
       "      <td>None</td>\n",
       "      <td>None</td>\n",
       "      <td>None</td>\n",
       "      <td></td>\n",
       "    </tr>\n",
       "    <tr>\n",
       "      <th>2</th>\n",
       "      <td>https://twitter.com/goodtinesranch/status/1526...</td>\n",
       "      <td>2022-05-18 07:59:23+00:00</td>\n",
       "      <td>@tspencer322 @unusual_whales Beef, Chicken, Po...</td>\n",
       "      <td>@tspencer322 @unusual_whales Beef, Chicken, Po...</td>\n",
       "      <td>1526834823234560001</td>\n",
       "      <td>{'username': 'goodtinesranch', 'id': 142606511...</td>\n",
       "      <td>1</td>\n",
       "      <td>0</td>\n",
       "      <td>2</td>\n",
       "      <td>0</td>\n",
       "      <td>...</td>\n",
       "      <td>None</td>\n",
       "      <td>None</td>\n",
       "      <td>1.526793e+18</td>\n",
       "      <td>{'username': 'tspencer322', 'id': 2217620740, ...</td>\n",
       "      <td>[{'username': 'tspencer322', 'id': 2217620740,...</td>\n",
       "      <td>None</td>\n",
       "      <td>None</td>\n",
       "      <td>None</td>\n",
       "      <td>None</td>\n",
       "      <td></td>\n",
       "    </tr>\n",
       "    <tr>\n",
       "      <th>3</th>\n",
       "      <td>https://twitter.com/AgManagerInfo/status/15262...</td>\n",
       "      <td>2022-05-16 18:00:00+00:00</td>\n",
       "      <td>Risk Management on the Farm\\nONLINE CLASS\\nA f...</td>\n",
       "      <td>Risk Management on the Farm\\nONLINE CLASS\\nA f...</td>\n",
       "      <td>1526261196696993794</td>\n",
       "      <td>{'username': 'AgManagerInfo', 'id': 1581494005...</td>\n",
       "      <td>0</td>\n",
       "      <td>0</td>\n",
       "      <td>1</td>\n",
       "      <td>0</td>\n",
       "      <td>...</td>\n",
       "      <td>None</td>\n",
       "      <td>None</td>\n",
       "      <td>NaN</td>\n",
       "      <td>None</td>\n",
       "      <td>None</td>\n",
       "      <td>None</td>\n",
       "      <td>None</td>\n",
       "      <td>None</td>\n",
       "      <td>None</td>\n",
       "      <td>Manhattan, KS USA</td>\n",
       "    </tr>\n",
       "    <tr>\n",
       "      <th>4</th>\n",
       "      <td>https://twitter.com/amunratep/status/152551491...</td>\n",
       "      <td>2022-05-14 16:34:32+00:00</td>\n",
       "      <td>@RBReich Here's what liberals don't say- when ...</td>\n",
       "      <td>@RBReich Here's what liberals don't say- when ...</td>\n",
       "      <td>1525514914189791236</td>\n",
       "      <td>{'username': 'amunratep', 'id': 792623640, 'di...</td>\n",
       "      <td>0</td>\n",
       "      <td>0</td>\n",
       "      <td>0</td>\n",
       "      <td>0</td>\n",
       "      <td>...</td>\n",
       "      <td>None</td>\n",
       "      <td>None</td>\n",
       "      <td>1.525483e+18</td>\n",
       "      <td>{'username': 'RBReich', 'id': 148529707, 'disp...</td>\n",
       "      <td>[{'username': 'RBReich', 'id': 148529707, 'dis...</td>\n",
       "      <td>None</td>\n",
       "      <td>None</td>\n",
       "      <td>None</td>\n",
       "      <td>None</td>\n",
       "      <td>Northern Wall</td>\n",
       "    </tr>\n",
       "  </tbody>\n",
       "</table>\n",
       "<p>5 rows × 28 columns</p>\n",
       "</div>"
      ],
      "text/plain": [
       "                                                 url  \\\n",
       "0  https://twitter.com/MzTeel/status/152779960555...   \n",
       "1  https://twitter.com/GamechangerBeef/status/152...   \n",
       "2  https://twitter.com/goodtinesranch/status/1526...   \n",
       "3  https://twitter.com/AgManagerInfo/status/15262...   \n",
       "4  https://twitter.com/amunratep/status/152551491...   \n",
       "\n",
       "                       date  \\\n",
       "0 2022-05-20 23:53:05+00:00   \n",
       "1 2022-05-20 16:14:04+00:00   \n",
       "2 2022-05-18 07:59:23+00:00   \n",
       "3 2022-05-16 18:00:00+00:00   \n",
       "4 2022-05-14 16:34:32+00:00   \n",
       "\n",
       "                                             content  \\\n",
       "0  @BlackSavage70 @drboycewatkins1 No it’s not tr...   \n",
       "1  We know feed bills are on the rise. That's why...   \n",
       "2  @tspencer322 @unusual_whales Beef, Chicken, Po...   \n",
       "3  Risk Management on the Farm\\nONLINE CLASS\\nA f...   \n",
       "4  @RBReich Here's what liberals don't say- when ...   \n",
       "\n",
       "                                     renderedContent                   id  \\\n",
       "0  @BlackSavage70 @drboycewatkins1 No it’s not tr...  1527799605555089412   \n",
       "1  We know feed bills are on the rise. That's why...  1527684090631278594   \n",
       "2  @tspencer322 @unusual_whales Beef, Chicken, Po...  1526834823234560001   \n",
       "3  Risk Management on the Farm\\nONLINE CLASS\\nA f...  1526261196696993794   \n",
       "4  @RBReich Here's what liberals don't say- when ...  1525514914189791236   \n",
       "\n",
       "                                                user  replyCount  \\\n",
       "0  {'username': 'MzTeel', 'id': 151521906, 'displ...           3   \n",
       "1  {'username': 'GamechangerBeef', 'id': 14870612...           0   \n",
       "2  {'username': 'goodtinesranch', 'id': 142606511...           1   \n",
       "3  {'username': 'AgManagerInfo', 'id': 1581494005...           0   \n",
       "4  {'username': 'amunratep', 'id': 792623640, 'di...           0   \n",
       "\n",
       "   retweetCount  likeCount  quoteCount  ...  retweetedTweet quotedTweet  \\\n",
       "0             0          4           0  ...            None        None   \n",
       "1             0          2           0  ...            None        None   \n",
       "2             0          2           0  ...            None        None   \n",
       "3             0          1           0  ...            None        None   \n",
       "4             0          0           0  ...            None        None   \n",
       "\n",
       "  inReplyToTweetId                                      inReplyToUser  \\\n",
       "0     1.527782e+18  {'username': 'BlackSavage70', 'id': 1467592915...   \n",
       "1              NaN                                               None   \n",
       "2     1.526793e+18  {'username': 'tspencer322', 'id': 2217620740, ...   \n",
       "3              NaN                                               None   \n",
       "4     1.525483e+18  {'username': 'RBReich', 'id': 148529707, 'disp...   \n",
       "\n",
       "                                      mentionedUsers coordinates place  \\\n",
       "0  [{'username': 'BlackSavage70', 'id': 146759291...        None  None   \n",
       "1                                               None        None  None   \n",
       "2  [{'username': 'tspencer322', 'id': 2217620740,...        None  None   \n",
       "3                                               None        None  None   \n",
       "4  [{'username': 'RBReich', 'id': 148529707, 'dis...        None  None   \n",
       "\n",
       "  hashtags cashtags      user_location  \n",
       "0     None     None            Florida  \n",
       "1     None     None                     \n",
       "2     None     None                     \n",
       "3     None     None  Manhattan, KS USA  \n",
       "4     None     None      Northern Wall  \n",
       "\n",
       "[5 rows x 28 columns]"
      ]
     },
     "execution_count": 51,
     "metadata": {},
     "output_type": "execute_result"
    }
   ],
   "source": [
    "df_tweets.head()"
   ]
  },
  {
   "cell_type": "code",
   "execution_count": 52,
   "id": "e9256a26",
   "metadata": {},
   "outputs": [
    {
     "name": "stdout",
     "output_type": "stream",
     "text": [
      "<class 'pandas.core.frame.DataFrame'>\n",
      "RangeIndex: 1342 entries, 0 to 1341\n",
      "Data columns (total 2 columns):\n",
      " #   Column         Non-Null Count  Dtype \n",
      "---  ------         --------------  ----- \n",
      " 0   content        1342 non-null   object\n",
      " 1   user_location  1342 non-null   object\n",
      "dtypes: object(2)\n",
      "memory usage: 21.1+ KB\n"
     ]
    }
   ],
   "source": [
    "#Cleaning Data-flter and keep only columns that we will use in the dataset\n",
    "df_tweets= df_tweets.filter(['content','user_location'], axis=1)\n",
    "df_tweets.info()"
   ]
  },
  {
   "cell_type": "code",
   "execution_count": 53,
   "id": "628b2f9e",
   "metadata": {},
   "outputs": [
    {
     "data": {
      "text/plain": [
       "0       @blacksavage70 @drboycewatkins1 no it’s not tr...\n",
       "1       we know feed bills are on the rise. that's why...\n",
       "2       @tspencer322 @unusual_whales beef, chicken, po...\n",
       "3       risk management on the farm\\nonline class\\na f...\n",
       "4       @rbreich here's what liberals don't say- when ...\n",
       "                              ...                        \n",
       "1337    while eating lunch, beef terriyaki, i was thin...\n",
       "1338    cost of cattle production. from our sunup #ag ...\n",
       "1339    #cont ...with carbon cost of transporting chic...\n",
       "1340    @scotteweinberg it's probably because zombie's...\n",
       "1341    - us beef industry worried ethanol production ...\n",
       "Name: content, Length: 1342, dtype: object"
      ]
     },
     "execution_count": 53,
     "metadata": {},
     "output_type": "execute_result"
    }
   ],
   "source": [
    "#Cleaning Data-change words in the 'content' column to lower case\n",
    "df_tweets['content'] = df_tweets['content'].apply(lambda x:x.lower())\n",
    "df_tweets['content']"
   ]
  },
  {
   "cell_type": "code",
   "execution_count": 54,
   "id": "3ec26089",
   "metadata": {},
   "outputs": [
    {
     "name": "stderr",
     "output_type": "stream",
     "text": [
      "[nltk_data] Downloading package stopwords to\n",
      "[nltk_data]     C:\\Users\\Z\\AppData\\Roaming\\nltk_data...\n",
      "[nltk_data]   Package stopwords is already up-to-date!\n"
     ]
    }
   ],
   "source": [
    "#import natural processing toolkit stopwords\n",
    "import nltk\n",
    "nltk.download('stopwords')\n",
    "from nltk.corpus import stopwords\n",
    "stop = stopwords.words('english')"
   ]
  },
  {
   "cell_type": "code",
   "execution_count": 55,
   "id": "d38165dc",
   "metadata": {},
   "outputs": [
    {
     "data": {
      "text/plain": [
       "0    @blacksavage70 @drboycewatkins1 it’s true. set...\n",
       "1    know feed bills rise. that's gamechanger opera...\n",
       "2    @tspencer322 @unusual_whales beef, chicken, po...\n",
       "3    risk management farm online class five-part se...\n",
       "4    @rbreich here's liberals say- tesla makes bill...\n",
       "Name: content, dtype: object"
      ]
     },
     "execution_count": 55,
     "metadata": {},
     "output_type": "execute_result"
    }
   ],
   "source": [
    "#Cleaning Data-remove english stopwords\n",
    "df_tweets['content'] = df_tweets['content'].apply(lambda x: \" \".join(x for x in x.split() if x not in stop))\n",
    "df_tweets['content'].head()"
   ]
  },
  {
   "cell_type": "code",
   "execution_count": 56,
   "id": "3a6d5ece",
   "metadata": {},
   "outputs": [
    {
     "data": {
      "text/plain": [
       "0    blacksavage70 drboycewatkins1 its true set cos...\n",
       "1    know feed bills rise thats gamechanger operate...\n",
       "2    tspencer322 unusual_whales beef chicken pork g...\n",
       "3    risk management farm online class fivepart ser...\n",
       "4    rbreich heres liberals say tesla makes billion...\n",
       "Name: content, dtype: object"
      ]
     },
     "execution_count": 56,
     "metadata": {},
     "output_type": "execute_result"
    }
   ],
   "source": [
    "#Cleaning Data-remove special characters\n",
    "df_tweets['content'] = df_tweets['content'].str.replace('[^\\w\\s]','')\n",
    "df_tweets['content'].head()"
   ]
  },
  {
   "cell_type": "code",
   "execution_count": 57,
   "id": "eaba9186",
   "metadata": {},
   "outputs": [
    {
     "data": {
      "text/plain": [
       "[('beef', 1590),\n",
       " ('production', 1429),\n",
       " ('cost', 1428),\n",
       " ('farmers', 193),\n",
       " ('meat', 171),\n",
       " ('price', 168),\n",
       " ('amp', 160),\n",
       " ('cattle', 143),\n",
       " ('us', 137),\n",
       " ('would', 126),\n",
       " ('food', 115),\n",
       " ('high', 114),\n",
       " ('costs', 112),\n",
       " ('prices', 106),\n",
       " ('feed', 83),\n",
       " ('less', 77),\n",
       " ('produce', 75),\n",
       " ('per', 74),\n",
       " ('industry', 72),\n",
       " ('environmental', 72),\n",
       " ('need', 71),\n",
       " ('much', 71),\n",
       " ('lower', 71),\n",
       " ('producers', 70),\n",
       " ('market', 70),\n",
       " ('dairy', 70),\n",
       " ('like', 66),\n",
       " ('milk', 65),\n",
       " ('one', 63),\n",
       " ('uk', 62),\n",
       " ('carbon', 61),\n",
       " ('land', 61),\n",
       " ('also', 60),\n",
       " ('even', 59),\n",
       " ('chicken', 56),\n",
       " ('farm', 56),\n",
       " ('know', 55),\n",
       " ('make', 54),\n",
       " ('emissions', 54),\n",
       " ('use', 53),\n",
       " ('pay', 51),\n",
       " ('low', 51),\n",
       " ('higher', 51),\n",
       " ('increase', 51),\n",
       " ('still', 50),\n",
       " ('people', 50),\n",
       " ('new', 49),\n",
       " ('true', 47),\n",
       " ('pork', 47),\n",
       " ('get', 47)]"
      ]
     },
     "execution_count": 57,
     "metadata": {},
     "output_type": "execute_result"
    }
   ],
   "source": [
    "#Cleaning Data-check for most frequent words in the 'content column'\n",
    "from collections import Counter\n",
    "df_wordCounter= Counter(\" \".join(df_tweets['content']).split()).most_common(50)\n",
    "df_wordCounter"
   ]
  },
  {
   "cell_type": "code",
   "execution_count": 58,
   "id": "415817f9",
   "metadata": {},
   "outputs": [
    {
     "data": {
      "text/plain": [
       "0    blacksavage70 drboycewatkins1 it true set cost...\n",
       "1    know feed bill rise thats gamechanger operates...\n",
       "2    tspencer322 unusual_whales beef chicken pork g...\n",
       "3    risk management farm online class fivepart ser...\n",
       "4    rbreich here liberal say tesla make billion po...\n",
       "Name: content, dtype: object"
      ]
     },
     "execution_count": 58,
     "metadata": {},
     "output_type": "execute_result"
    }
   ],
   "source": [
    "#using lemmitize function to converts the word to its meaningful base form (lemma)\n",
    "from textblob import Word\n",
    "df_tweets['content'] = df_tweets['content'].apply(lambda x: \" \".join([Word(word).lemmatize() for word in x.split()]))\n",
    "df_tweets['content'].head()\n"
   ]
  },
  {
   "cell_type": "code",
   "execution_count": 59,
   "id": "746c52d0",
   "metadata": {},
   "outputs": [
    {
     "data": {
      "text/plain": [
       "[('beef', 1601),\n",
       " ('cost', 1540),\n",
       " ('production', 1429),\n",
       " ('price', 274),\n",
       " ('farmer', 226),\n",
       " ('meat', 180),\n",
       " ('amp', 160),\n",
       " ('u', 148),\n",
       " ('cattle', 143),\n",
       " ('food', 127),\n",
       " ('would', 126),\n",
       " ('high', 115),\n",
       " ('producer', 94),\n",
       " ('need', 89),\n",
       " ('market', 87),\n",
       " ('feed', 86),\n",
       " ('industry', 86),\n",
       " ('farm', 78),\n",
       " ('produce', 78),\n",
       " ('le', 78),\n",
       " ('it', 77),\n",
       " ('make', 75),\n",
       " ('lower', 74),\n",
       " ('per', 74),\n",
       " ('environmental', 72),\n",
       " ('dairy', 71),\n",
       " ('much', 71),\n",
       " ('cow', 71),\n",
       " ('increase', 69),\n",
       " ('like', 69),\n",
       " ('land', 65),\n",
       " ('milk', 65),\n",
       " ('one', 64),\n",
       " ('uk', 63),\n",
       " ('product', 63),\n",
       " ('year', 63),\n",
       " ('animal', 62),\n",
       " ('chicken', 61),\n",
       " ('carbon', 61),\n",
       " ('also', 60),\n",
       " ('even', 59),\n",
       " ('go', 57),\n",
       " ('get', 57),\n",
       " ('emission', 57),\n",
       " ('know', 55),\n",
       " ('pay', 55),\n",
       " ('time', 55),\n",
       " ('use', 53),\n",
       " ('low', 52),\n",
       " ('good', 51)]"
      ]
     },
     "execution_count": 59,
     "metadata": {},
     "output_type": "execute_result"
    }
   ],
   "source": [
    "#Cleaning Data-check for most frequent words in the 'content column' after applying lemmatiser\n",
    "from collections import Counter\n",
    "df_wordCounter= Counter(\" \".join(df_tweets['content']).split()).most_common(50)\n",
    "df_wordCounter"
   ]
  },
  {
   "cell_type": "code",
   "execution_count": 60,
   "id": "d75c8338",
   "metadata": {
    "scrolled": false
   },
   "outputs": [
    {
     "data": {
      "text/plain": [
       "0       (0.13749999999999998, 0.3833333333333333)\n",
       "1                                     (0.15, 0.0)\n",
       "2                                   (-0.4, 0.475)\n",
       "3                                      (0.0, 1.0)\n",
       "4                                      (0.5, 0.5)\n",
       "                          ...                    \n",
       "1337                                   (0.2, 0.2)\n",
       "1338                                   (0.5, 0.5)\n",
       "1339                                 (-0.6, 0.95)\n",
       "1340                                   (0.0, 0.0)\n",
       "1341                                   (0.0, 0.0)\n",
       "Name: content, Length: 1342, dtype: object"
      ]
     },
     "execution_count": 60,
     "metadata": {},
     "output_type": "execute_result"
    }
   ],
   "source": [
    "#import textblob sentiment\n",
    "from textblob import TextBlob\n",
    "df_tweets['content'].apply(lambda x: TextBlob(x).sentiment)"
   ]
  },
  {
   "cell_type": "code",
   "execution_count": 61,
   "id": "55d9d9dd",
   "metadata": {},
   "outputs": [
    {
     "data": {
      "text/html": [
       "<div>\n",
       "<style scoped>\n",
       "    .dataframe tbody tr th:only-of-type {\n",
       "        vertical-align: middle;\n",
       "    }\n",
       "\n",
       "    .dataframe tbody tr th {\n",
       "        vertical-align: top;\n",
       "    }\n",
       "\n",
       "    .dataframe thead th {\n",
       "        text-align: right;\n",
       "    }\n",
       "</style>\n",
       "<table border=\"1\" class=\"dataframe\">\n",
       "  <thead>\n",
       "    <tr style=\"text-align: right;\">\n",
       "      <th></th>\n",
       "      <th>content</th>\n",
       "      <th>user_location</th>\n",
       "      <th>sentiment</th>\n",
       "    </tr>\n",
       "  </thead>\n",
       "  <tbody>\n",
       "    <tr>\n",
       "      <th>0</th>\n",
       "      <td>blacksavage70 drboycewatkins1 it true set cost...</td>\n",
       "      <td>Florida</td>\n",
       "      <td>0.1375</td>\n",
       "    </tr>\n",
       "    <tr>\n",
       "      <th>1</th>\n",
       "      <td>know feed bill rise thats gamechanger operates...</td>\n",
       "      <td></td>\n",
       "      <td>0.1500</td>\n",
       "    </tr>\n",
       "    <tr>\n",
       "      <th>2</th>\n",
       "      <td>tspencer322 unusual_whales beef chicken pork g...</td>\n",
       "      <td></td>\n",
       "      <td>-0.4000</td>\n",
       "    </tr>\n",
       "    <tr>\n",
       "      <th>3</th>\n",
       "      <td>risk management farm online class fivepart ser...</td>\n",
       "      <td>Manhattan, KS USA</td>\n",
       "      <td>0.0000</td>\n",
       "    </tr>\n",
       "    <tr>\n",
       "      <th>4</th>\n",
       "      <td>rbreich here liberal say tesla make billion po...</td>\n",
       "      <td>Northern Wall</td>\n",
       "      <td>0.5000</td>\n",
       "    </tr>\n",
       "    <tr>\n",
       "      <th>...</th>\n",
       "      <td>...</td>\n",
       "      <td>...</td>\n",
       "      <td>...</td>\n",
       "    </tr>\n",
       "    <tr>\n",
       "      <th>1337</th>\n",
       "      <td>eating lunch beef terriyaki thinking much coul...</td>\n",
       "      <td>Makati | Davao</td>\n",
       "      <td>0.2000</td>\n",
       "    </tr>\n",
       "    <tr>\n",
       "      <th>1338</th>\n",
       "      <td>cost cattle production sunup ag tv show httpww...</td>\n",
       "      <td>Oklahoma</td>\n",
       "      <td>0.5000</td>\n",
       "    </tr>\n",
       "    <tr>\n",
       "      <th>1339</th>\n",
       "      <td>cont with carbon cost transporting chicken som...</td>\n",
       "      <td>London</td>\n",
       "      <td>-0.6000</td>\n",
       "    </tr>\n",
       "    <tr>\n",
       "      <th>1340</th>\n",
       "      <td>scotteweinberg probably zombie film cost le 20...</td>\n",
       "      <td>Austin, TX</td>\n",
       "      <td>0.0000</td>\n",
       "    </tr>\n",
       "    <tr>\n",
       "      <th>1341</th>\n",
       "      <td>u beef industry worried ethanol production inc...</td>\n",
       "      <td>Body: Calif.; Spirit: Ladakh</td>\n",
       "      <td>0.0000</td>\n",
       "    </tr>\n",
       "  </tbody>\n",
       "</table>\n",
       "<p>1342 rows × 3 columns</p>\n",
       "</div>"
      ],
      "text/plain": [
       "                                                content  \\\n",
       "0     blacksavage70 drboycewatkins1 it true set cost...   \n",
       "1     know feed bill rise thats gamechanger operates...   \n",
       "2     tspencer322 unusual_whales beef chicken pork g...   \n",
       "3     risk management farm online class fivepart ser...   \n",
       "4     rbreich here liberal say tesla make billion po...   \n",
       "...                                                 ...   \n",
       "1337  eating lunch beef terriyaki thinking much coul...   \n",
       "1338  cost cattle production sunup ag tv show httpww...   \n",
       "1339  cont with carbon cost transporting chicken som...   \n",
       "1340  scotteweinberg probably zombie film cost le 20...   \n",
       "1341  u beef industry worried ethanol production inc...   \n",
       "\n",
       "                     user_location  sentiment  \n",
       "0                          Florida     0.1375  \n",
       "1                                      0.1500  \n",
       "2                                     -0.4000  \n",
       "3                Manhattan, KS USA     0.0000  \n",
       "4                    Northern Wall     0.5000  \n",
       "...                            ...        ...  \n",
       "1337                Makati | Davao     0.2000  \n",
       "1338                      Oklahoma     0.5000  \n",
       "1339                        London    -0.6000  \n",
       "1340                    Austin, TX     0.0000  \n",
       "1341  Body: Calif.; Spirit: Ladakh     0.0000  \n",
       "\n",
       "[1342 rows x 3 columns]"
      ]
     },
     "execution_count": 61,
     "metadata": {},
     "output_type": "execute_result"
    }
   ],
   "source": [
    "#as textblob sentiment is returning two atributes- polarity and subjectivity.\n",
    "#we are only interested in first - polarity\n",
    "df_tweets['sentiment']= df_tweets['content'].apply(lambda x: TextBlob(x).sentiment[0])\n",
    "df_tweets"
   ]
  },
  {
   "cell_type": "code",
   "execution_count": 62,
   "id": "33072c5c",
   "metadata": {},
   "outputs": [
    {
     "name": "stdout",
     "output_type": "stream",
     "text": [
      "<class 'pandas.core.frame.DataFrame'>\n",
      "RangeIndex: 1342 entries, 0 to 1341\n",
      "Data columns (total 3 columns):\n",
      " #   Column         Non-Null Count  Dtype  \n",
      "---  ------         --------------  -----  \n",
      " 0   content        1342 non-null   object \n",
      " 1   user_location  1342 non-null   object \n",
      " 2   sentiment      1342 non-null   float64\n",
      "dtypes: float64(1), object(2)\n",
      "memory usage: 31.6+ KB\n"
     ]
    }
   ],
   "source": [
    "#check dataset structure\n",
    "df_tweets.info()"
   ]
  },
  {
   "cell_type": "code",
   "execution_count": 63,
   "id": "1a025393",
   "metadata": {},
   "outputs": [],
   "source": [
    "#use condition to change sentiment values to 1, 0, and -1 depending on the value. \n",
    "#if value is grater than 0, change value to 1 (positive sentiment). If value is less than 0, change value to -1 (negative sentiment)\n",
    "# if value equals to zero, asign 0 (neutral sentiment)\n",
    "df_tweets['sentiment'] = df_tweets['sentiment'].apply(lambda x:-1 if x <0 else (1 if x>0 else 0))"
   ]
  },
  {
   "cell_type": "code",
   "execution_count": 64,
   "id": "75d90074",
   "metadata": {},
   "outputs": [
    {
     "data": {
      "text/html": [
       "<div>\n",
       "<style scoped>\n",
       "    .dataframe tbody tr th:only-of-type {\n",
       "        vertical-align: middle;\n",
       "    }\n",
       "\n",
       "    .dataframe tbody tr th {\n",
       "        vertical-align: top;\n",
       "    }\n",
       "\n",
       "    .dataframe thead th {\n",
       "        text-align: right;\n",
       "    }\n",
       "</style>\n",
       "<table border=\"1\" class=\"dataframe\">\n",
       "  <thead>\n",
       "    <tr style=\"text-align: right;\">\n",
       "      <th></th>\n",
       "      <th>content</th>\n",
       "      <th>user_location</th>\n",
       "      <th>sentiment</th>\n",
       "    </tr>\n",
       "  </thead>\n",
       "  <tbody>\n",
       "    <tr>\n",
       "      <th>0</th>\n",
       "      <td>blacksavage70 drboycewatkins1 it true set cost...</td>\n",
       "      <td>Florida</td>\n",
       "      <td>1</td>\n",
       "    </tr>\n",
       "    <tr>\n",
       "      <th>1</th>\n",
       "      <td>know feed bill rise thats gamechanger operates...</td>\n",
       "      <td></td>\n",
       "      <td>1</td>\n",
       "    </tr>\n",
       "    <tr>\n",
       "      <th>2</th>\n",
       "      <td>tspencer322 unusual_whales beef chicken pork g...</td>\n",
       "      <td></td>\n",
       "      <td>-1</td>\n",
       "    </tr>\n",
       "    <tr>\n",
       "      <th>3</th>\n",
       "      <td>risk management farm online class fivepart ser...</td>\n",
       "      <td>Manhattan, KS USA</td>\n",
       "      <td>0</td>\n",
       "    </tr>\n",
       "    <tr>\n",
       "      <th>4</th>\n",
       "      <td>rbreich here liberal say tesla make billion po...</td>\n",
       "      <td>Northern Wall</td>\n",
       "      <td>1</td>\n",
       "    </tr>\n",
       "  </tbody>\n",
       "</table>\n",
       "</div>"
      ],
      "text/plain": [
       "                                             content      user_location  \\\n",
       "0  blacksavage70 drboycewatkins1 it true set cost...            Florida   \n",
       "1  know feed bill rise thats gamechanger operates...                      \n",
       "2  tspencer322 unusual_whales beef chicken pork g...                      \n",
       "3  risk management farm online class fivepart ser...  Manhattan, KS USA   \n",
       "4  rbreich here liberal say tesla make billion po...      Northern Wall   \n",
       "\n",
       "   sentiment  \n",
       "0          1  \n",
       "1          1  \n",
       "2         -1  \n",
       "3          0  \n",
       "4          1  "
      ]
     },
     "execution_count": 64,
     "metadata": {},
     "output_type": "execute_result"
    }
   ],
   "source": [
    "df_tweets.head()"
   ]
  },
  {
   "cell_type": "code",
   "execution_count": 65,
   "id": "a3193da8",
   "metadata": {},
   "outputs": [
    {
     "data": {
      "text/plain": [
       " 1    675\n",
       " 0    362\n",
       "-1    305\n",
       "Name: sentiment, dtype: int64"
      ]
     },
     "execution_count": 65,
     "metadata": {},
     "output_type": "execute_result"
    }
   ],
   "source": [
    "#Positive neutral negative sentiment count\n",
    "df_tweets.sentiment.value_counts()"
   ]
  },
  {
   "cell_type": "code",
   "execution_count": 66,
   "id": "63c14a73",
   "metadata": {},
   "outputs": [
    {
     "data": {
      "image/png": "[encoded data removed]",
      "text/plain": [
       "<Figure size 432x288 with 1 Axes>"
      ]
     },
     "metadata": {
      "needs_background": "light"
     },
     "output_type": "display_data"
    }
   ],
   "source": [
    "#use barplot to visualise number of sentiments\n",
    "color = ('orange', 'grey', 'green')\n",
    "from matplotlib import pyplot as plt\n",
    "Sentiment_count=df_tweets.groupby('sentiment').count()\n",
    "plt.bar(Sentiment_count.index.values, Sentiment_count['content'],color =color)\n",
    "plt.xlabel('Review Sentiments')\n",
    "plt.ylabel('Number of Review')\n",
    "plt.show()"
   ]
  },
  {
   "cell_type": "code",
   "execution_count": 67,
   "id": "5c326e71",
   "metadata": {},
   "outputs": [
    {
     "name": "stdout",
     "output_type": "stream",
     "text": [
      "  (0, 717)\t0.04938314017773562\n",
      "  (0, 988)\t0.25077286486769557\n",
      "  (0, 962)\t0.22593809187887604\n",
      "  (0, 370)\t0.16895711843061234\n",
      "  (0, 656)\t0.2639934469564599\n",
      "  (0, 836)\t0.31167835293231677\n",
      "  (0, 164)\t0.3041840203039757\n",
      "  (0, 490)\t0.25077286486769557\n",
      "  (0, 703)\t0.2735761576494663\n",
      "  (0, 69)\t0.1981395968877122\n",
      "  (0, 426)\t0.2868435799434972\n",
      "  (0, 84)\t0.27408823517360825\n",
      "  (0, 787)\t0.2531448928061182\n",
      "  (0, 583)\t0.26713111164459613\n",
      "  (0, 98)\t0.0511811976322289\n",
      "  (0, 218)\t0.04960429413975972\n",
      "  (0, 832)\t0.27408823517360825\n",
      "  (0, 930)\t0.21371995620831608\n",
      "  (1, 348)\t0.1706092345521945\n",
      "  (1, 128)\t0.3114695891810875\n",
      "  (1, 644)\t0.33445393707304205\n",
      "  (1, 822)\t0.3634107908539846\n",
      "  (1, 303)\t0.2980695658396639\n",
      "  (1, 489)\t0.23102684843849208\n",
      "  (1, 620)\t0.3195814575221533\n",
      "  :\t:\n",
      "  (1338, 346)\t0.4012495100791579\n",
      "  (1338, 717)\t0.10117814241195712\n",
      "  (1338, 98)\t0.10486207406435584\n",
      "  (1338, 218)\t0.10163125144844426\n",
      "  (1339, 301)\t0.395887707458441\n",
      "  (1339, 900)\t0.5152767703347535\n",
      "  (1339, 614)\t0.49629890407774013\n",
      "  (1339, 156)\t0.39400314151755406\n",
      "  (1339, 175)\t0.3868309763338908\n",
      "  (1339, 717)\t0.0928386618406093\n",
      "  (1339, 98)\t0.0962189500804193\n",
      "  (1339, 218)\t0.0932544239371704\n",
      "  (1340, 707)\t0.5437842298108236\n",
      "  (1340, 9)\t0.5118932895468032\n",
      "  (1340, 551)\t0.3945618990225781\n",
      "  (1340, 622)\t0.48422842312856895\n",
      "  (1340, 717)\t0.10172136148371465\n",
      "  (1340, 218)\t0.20435380646813997\n",
      "  (1341, 317)\t0.602702041776993\n",
      "  (1341, 496)\t0.4220481751989506\n",
      "  (1341, 489)\t0.4574638581257817\n",
      "  (1341, 717)\t0.11401558389601345\n",
      "  (1341, 69)\t0.4574638581257817\n",
      "  (1341, 98)\t0.1181669312954455\n",
      "  (1341, 218)\t0.11452618322243018\n"
     ]
    }
   ],
   "source": [
    "#vectoriser summarize how often a word appears within all tweet.\n",
    "# and then downscales words that appear frequently\n",
    "from sklearn.feature_extraction.text import TfidfVectorizer\n",
    "tfid_tweets = TfidfVectorizer(max_features=1000, lowercase=True, analyzer='word',stop_words= 'english',ngram_range=(1,1))\n",
    "df_tweets_normalised = tfid_tweets.fit_transform(df_tweets['content'])\n",
    "print(df_tweets_normalised)"
   ]
  },
  {
   "cell_type": "code",
   "execution_count": 68,
   "id": "00b7fb6f",
   "metadata": {},
   "outputs": [],
   "source": [
    "#split train test\n",
    "from sklearn.model_selection import train_test_split\n",
    "X_train, X_test, y_train, y_test = train_test_split(df_tweets_normalised, df_tweets['sentiment'], test_size=0.10, random_state=1)"
   ]
  },
  {
   "cell_type": "code",
   "execution_count": 69,
   "id": "ba9054ad",
   "metadata": {},
   "outputs": [
    {
     "name": "stdout",
     "output_type": "stream",
     "text": [
      "MultinomialNB Accuracy: 0.6370370370370371\n"
     ]
    }
   ],
   "source": [
    "from sklearn.naive_bayes import MultinomialNB\n",
    "#Import scikit-learn metrics module for accuracy calculation\n",
    "from sklearn import metrics\n",
    "# Model Generation Using Multinomial Naive Bayes\n",
    "mnb = MultinomialNB().fit(X_train, y_train)\n",
    "predicted= mnb.predict(X_test)\n",
    "print(\"MultinomialNB Accuracy:\",metrics.accuracy_score(y_test, predicted))"
   ]
  },
  {
   "cell_type": "code",
   "execution_count": 70,
   "id": "a8ada768",
   "metadata": {},
   "outputs": [
    {
     "name": "stdout",
     "output_type": "stream",
     "text": [
      "[[ 4  2 17]\n",
      " [ 1 19 13]\n",
      " [ 4  7 68]]\n",
      "0.674074074074074\n",
      "67.4074074074074\n"
     ]
    }
   ],
   "source": [
    "#random forest - use the model to predi\n",
    "from sklearn.ensemble import RandomForestClassifier\n",
    "model = RandomForestClassifier(n_estimators=200)\n",
    "model.fit(X_train,y_train)\n",
    "predictions = model.predict(X_test)\n",
    "#Confusion Matrix \n",
    "from sklearn.metrics import confusion_matrix,f1_score\n",
    "print(confusion_matrix(y_test,predictions))\n",
    "#f1-score\n",
    "print(f1_score(y_test,predictions,average='micro'))\n",
    "#Accuracy_score\n",
    "from sklearn.metrics import accuracy_score\n",
    "print(accuracy_score(y_test,predictions)*100)\n",
    "#best model accuracy was 68.8 with 90/10 train/test split (accuracy changes when running model again)"
   ]
  },
  {
   "cell_type": "markdown",
   "id": "4ee9b504",
   "metadata": {},
   "source": [
    "## Consumer sentiment analysis"
   ]
  },
  {
   "cell_type": "markdown",
   "id": "c7332160",
   "metadata": {},
   "source": [
    "## repeat above steps for consumer related tweets"
   ]
  },
  {
   "cell_type": "code",
   "execution_count": 71,
   "id": "4d92e91b",
   "metadata": {},
   "outputs": [],
   "source": [
    "#get comsumer related tweets\n",
    "query = 'steak price' \n",
    "tweets = []\n",
    "limit = 5000\n",
    "for tweet in sntwitter.TwitterSearchScraper(query).get_items():\n",
    "    if len(tweets) == limit:\n",
    "        break\n",
    "    else:\n",
    "        tweets.append(tweet)      \n",
    "df_tweets = pd.DataFrame(tweets)"
   ]
  },
  {
   "cell_type": "code",
   "execution_count": 72,
   "id": "00538ad1",
   "metadata": {},
   "outputs": [],
   "source": [
    "#Cleaning Data-adding column location\n",
    "df_tweets['user_location'] =  df_tweets['user'].apply(lambda x: x['location'])"
   ]
  },
  {
   "cell_type": "code",
   "execution_count": 73,
   "id": "b4914bde",
   "metadata": {},
   "outputs": [],
   "source": [
    "#df_tweets.to_csv('organic food cost.csv')\n",
    "#df_tweets =pd.read_csv(r'organic food cost.csv')"
   ]
  },
  {
   "cell_type": "code",
   "execution_count": 74,
   "id": "c33690ff",
   "metadata": {},
   "outputs": [
    {
     "data": {
      "text/html": [
       "<div>\n",
       "<style scoped>\n",
       "    .dataframe tbody tr th:only-of-type {\n",
       "        vertical-align: middle;\n",
       "    }\n",
       "\n",
       "    .dataframe tbody tr th {\n",
       "        vertical-align: top;\n",
       "    }\n",
       "\n",
       "    .dataframe thead th {\n",
       "        text-align: right;\n",
       "    }\n",
       "</style>\n",
       "<table border=\"1\" class=\"dataframe\">\n",
       "  <thead>\n",
       "    <tr style=\"text-align: right;\">\n",
       "      <th></th>\n",
       "      <th>url</th>\n",
       "      <th>date</th>\n",
       "      <th>content</th>\n",
       "      <th>renderedContent</th>\n",
       "      <th>id</th>\n",
       "      <th>user</th>\n",
       "      <th>replyCount</th>\n",
       "      <th>retweetCount</th>\n",
       "      <th>likeCount</th>\n",
       "      <th>quoteCount</th>\n",
       "      <th>...</th>\n",
       "      <th>retweetedTweet</th>\n",
       "      <th>quotedTweet</th>\n",
       "      <th>inReplyToTweetId</th>\n",
       "      <th>inReplyToUser</th>\n",
       "      <th>mentionedUsers</th>\n",
       "      <th>coordinates</th>\n",
       "      <th>place</th>\n",
       "      <th>hashtags</th>\n",
       "      <th>cashtags</th>\n",
       "      <th>user_location</th>\n",
       "    </tr>\n",
       "  </thead>\n",
       "  <tbody>\n",
       "    <tr>\n",
       "      <th>0</th>\n",
       "      <td>https://twitter.com/MugsPubCalgary/status/1528...</td>\n",
       "      <td>2022-05-22 14:23:07+00:00</td>\n",
       "      <td>Sunday at Mugs! Game 3 Flames Vs Oilers at 6pm...</td>\n",
       "      <td>Sunday at Mugs! Game 3 Flames Vs Oilers at 6pm...</td>\n",
       "      <td>1528380944289103872</td>\n",
       "      <td>{'username': 'MugsPubCalgary', 'id': 217502426...</td>\n",
       "      <td>0</td>\n",
       "      <td>0</td>\n",
       "      <td>3</td>\n",
       "      <td>0</td>\n",
       "      <td>...</td>\n",
       "      <td>None</td>\n",
       "      <td>None</td>\n",
       "      <td>NaN</td>\n",
       "      <td>None</td>\n",
       "      <td>None</td>\n",
       "      <td>{'longitude': -114.3160379, 'latitude': 50.84278}</td>\n",
       "      <td>{'fullName': 'Calgary, Alberta', 'name': 'Calg...</td>\n",
       "      <td>[yyc, yycpubs, yycbeer, yyceats, yycwings, yyc...</td>\n",
       "      <td>None</td>\n",
       "      <td>calgary yyc 1330 15 ave sw</td>\n",
       "    </tr>\n",
       "    <tr>\n",
       "      <th>1</th>\n",
       "      <td>https://twitter.com/MarkHar40004449/status/152...</td>\n",
       "      <td>2022-05-22 13:59:08+00:00</td>\n",
       "      <td>For the love of God SOMEONE please stand up in...</td>\n",
       "      <td>For the love of God SOMEONE please stand up in...</td>\n",
       "      <td>1528374909390446594</td>\n",
       "      <td>{'username': 'MarkHar40004449', 'id': 12396389...</td>\n",
       "      <td>0</td>\n",
       "      <td>1</td>\n",
       "      <td>6</td>\n",
       "      <td>1</td>\n",
       "      <td>...</td>\n",
       "      <td>None</td>\n",
       "      <td>{'url': 'https://twitter.com/JimMurp77852985/s...</td>\n",
       "      <td>NaN</td>\n",
       "      <td>None</td>\n",
       "      <td>None</td>\n",
       "      <td>None</td>\n",
       "      <td>None</td>\n",
       "      <td>None</td>\n",
       "      <td>None</td>\n",
       "      <td></td>\n",
       "    </tr>\n",
       "    <tr>\n",
       "      <th>2</th>\n",
       "      <td>https://twitter.com/Darlene22361056/status/152...</td>\n",
       "      <td>2022-05-22 13:38:52+00:00</td>\n",
       "      <td>@Liannabelle88 @syl20carle I hear ya. I look a...</td>\n",
       "      <td>@Liannabelle88 @syl20carle I hear ya. I look a...</td>\n",
       "      <td>1528369809292926977</td>\n",
       "      <td>{'username': 'Darlene22361056', 'id': 14935821...</td>\n",
       "      <td>1</td>\n",
       "      <td>2</td>\n",
       "      <td>4</td>\n",
       "      <td>0</td>\n",
       "      <td>...</td>\n",
       "      <td>None</td>\n",
       "      <td>None</td>\n",
       "      <td>1.527681e+18</td>\n",
       "      <td>{'username': 'Liannabelle88', 'id': 7562027145...</td>\n",
       "      <td>[{'username': 'Liannabelle88', 'id': 756202714...</td>\n",
       "      <td>None</td>\n",
       "      <td>None</td>\n",
       "      <td>None</td>\n",
       "      <td>None</td>\n",
       "      <td></td>\n",
       "    </tr>\n",
       "    <tr>\n",
       "      <th>3</th>\n",
       "      <td>https://twitter.com/KingpinQBS/status/15283569...</td>\n",
       "      <td>2022-05-22 12:47:38+00:00</td>\n",
       "      <td>Just had an astonishingly good steak 🥩 at ⁦@Ta...</td>\n",
       "      <td>Just had an astonishingly good steak 🥩 at ⁦@Ta...</td>\n",
       "      <td>1528356913460674560</td>\n",
       "      <td>{'username': 'KingpinQBS', 'id': 1374912794, '...</td>\n",
       "      <td>0</td>\n",
       "      <td>1</td>\n",
       "      <td>3</td>\n",
       "      <td>0</td>\n",
       "      <td>...</td>\n",
       "      <td>None</td>\n",
       "      <td>None</td>\n",
       "      <td>NaN</td>\n",
       "      <td>None</td>\n",
       "      <td>[{'username': 'TavernDandelion', 'id': 1102155...</td>\n",
       "      <td>None</td>\n",
       "      <td>None</td>\n",
       "      <td>None</td>\n",
       "      <td>None</td>\n",
       "      <td>United Kingdom</td>\n",
       "    </tr>\n",
       "    <tr>\n",
       "      <th>4</th>\n",
       "      <td>https://twitter.com/kevin_speyside/status/1528...</td>\n",
       "      <td>2022-05-22 10:57:59+00:00</td>\n",
       "      <td>@JustCarol___ That looks like it would cost th...</td>\n",
       "      <td>@JustCarol___ That looks like it would cost th...</td>\n",
       "      <td>1528329321701687296</td>\n",
       "      <td>{'username': 'kevin_speyside', 'id': 24626808,...</td>\n",
       "      <td>1</td>\n",
       "      <td>0</td>\n",
       "      <td>2</td>\n",
       "      <td>0</td>\n",
       "      <td>...</td>\n",
       "      <td>None</td>\n",
       "      <td>None</td>\n",
       "      <td>1.528319e+18</td>\n",
       "      <td>{'username': 'JustCarol___', 'id': 1930845782,...</td>\n",
       "      <td>[{'username': 'JustCarol___', 'id': 1930845782...</td>\n",
       "      <td>None</td>\n",
       "      <td>None</td>\n",
       "      <td>None</td>\n",
       "      <td>None</td>\n",
       "      <td>Watopia</td>\n",
       "    </tr>\n",
       "  </tbody>\n",
       "</table>\n",
       "<p>5 rows × 28 columns</p>\n",
       "</div>"
      ],
      "text/plain": [
       "                                                 url  \\\n",
       "0  https://twitter.com/MugsPubCalgary/status/1528...   \n",
       "1  https://twitter.com/MarkHar40004449/status/152...   \n",
       "2  https://twitter.com/Darlene22361056/status/152...   \n",
       "3  https://twitter.com/KingpinQBS/status/15283569...   \n",
       "4  https://twitter.com/kevin_speyside/status/1528...   \n",
       "\n",
       "                       date  \\\n",
       "0 2022-05-22 14:23:07+00:00   \n",
       "1 2022-05-22 13:59:08+00:00   \n",
       "2 2022-05-22 13:38:52+00:00   \n",
       "3 2022-05-22 12:47:38+00:00   \n",
       "4 2022-05-22 10:57:59+00:00   \n",
       "\n",
       "                                             content  \\\n",
       "0  Sunday at Mugs! Game 3 Flames Vs Oilers at 6pm...   \n",
       "1  For the love of God SOMEONE please stand up in...   \n",
       "2  @Liannabelle88 @syl20carle I hear ya. I look a...   \n",
       "3  Just had an astonishingly good steak 🥩 at ⁦@Ta...   \n",
       "4  @JustCarol___ That looks like it would cost th...   \n",
       "\n",
       "                                     renderedContent                   id  \\\n",
       "0  Sunday at Mugs! Game 3 Flames Vs Oilers at 6pm...  1528380944289103872   \n",
       "1  For the love of God SOMEONE please stand up in...  1528374909390446594   \n",
       "2  @Liannabelle88 @syl20carle I hear ya. I look a...  1528369809292926977   \n",
       "3  Just had an astonishingly good steak 🥩 at ⁦@Ta...  1528356913460674560   \n",
       "4  @JustCarol___ That looks like it would cost th...  1528329321701687296   \n",
       "\n",
       "                                                user  replyCount  \\\n",
       "0  {'username': 'MugsPubCalgary', 'id': 217502426...           0   \n",
       "1  {'username': 'MarkHar40004449', 'id': 12396389...           0   \n",
       "2  {'username': 'Darlene22361056', 'id': 14935821...           1   \n",
       "3  {'username': 'KingpinQBS', 'id': 1374912794, '...           0   \n",
       "4  {'username': 'kevin_speyside', 'id': 24626808,...           1   \n",
       "\n",
       "   retweetCount  likeCount  quoteCount  ...  retweetedTweet  \\\n",
       "0             0          3           0  ...            None   \n",
       "1             1          6           1  ...            None   \n",
       "2             2          4           0  ...            None   \n",
       "3             1          3           0  ...            None   \n",
       "4             0          2           0  ...            None   \n",
       "\n",
       "                                         quotedTweet inReplyToTweetId  \\\n",
       "0                                               None              NaN   \n",
       "1  {'url': 'https://twitter.com/JimMurp77852985/s...              NaN   \n",
       "2                                               None     1.527681e+18   \n",
       "3                                               None              NaN   \n",
       "4                                               None     1.528319e+18   \n",
       "\n",
       "                                       inReplyToUser  \\\n",
       "0                                               None   \n",
       "1                                               None   \n",
       "2  {'username': 'Liannabelle88', 'id': 7562027145...   \n",
       "3                                               None   \n",
       "4  {'username': 'JustCarol___', 'id': 1930845782,...   \n",
       "\n",
       "                                      mentionedUsers  \\\n",
       "0                                               None   \n",
       "1                                               None   \n",
       "2  [{'username': 'Liannabelle88', 'id': 756202714...   \n",
       "3  [{'username': 'TavernDandelion', 'id': 1102155...   \n",
       "4  [{'username': 'JustCarol___', 'id': 1930845782...   \n",
       "\n",
       "                                         coordinates  \\\n",
       "0  {'longitude': -114.3160379, 'latitude': 50.84278}   \n",
       "1                                               None   \n",
       "2                                               None   \n",
       "3                                               None   \n",
       "4                                               None   \n",
       "\n",
       "                                               place  \\\n",
       "0  {'fullName': 'Calgary, Alberta', 'name': 'Calg...   \n",
       "1                                               None   \n",
       "2                                               None   \n",
       "3                                               None   \n",
       "4                                               None   \n",
       "\n",
       "                                            hashtags cashtags  \\\n",
       "0  [yyc, yycpubs, yycbeer, yyceats, yycwings, yyc...     None   \n",
       "1                                               None     None   \n",
       "2                                               None     None   \n",
       "3                                               None     None   \n",
       "4                                               None     None   \n",
       "\n",
       "                user_location  \n",
       "0  calgary yyc 1330 15 ave sw  \n",
       "1                              \n",
       "2                              \n",
       "3              United Kingdom  \n",
       "4                     Watopia  \n",
       "\n",
       "[5 rows x 28 columns]"
      ]
     },
     "execution_count": 74,
     "metadata": {},
     "output_type": "execute_result"
    }
   ],
   "source": [
    "df_tweets.head()"
   ]
  },
  {
   "cell_type": "code",
   "execution_count": 75,
   "id": "277d7dd7",
   "metadata": {},
   "outputs": [
    {
     "name": "stdout",
     "output_type": "stream",
     "text": [
      "<class 'pandas.core.frame.DataFrame'>\n",
      "RangeIndex: 5000 entries, 0 to 4999\n",
      "Data columns (total 2 columns):\n",
      " #   Column         Non-Null Count  Dtype \n",
      "---  ------         --------------  ----- \n",
      " 0   content        5000 non-null   object\n",
      " 1   user_location  5000 non-null   object\n",
      "dtypes: object(2)\n",
      "memory usage: 78.2+ KB\n"
     ]
    }
   ],
   "source": [
    "#Cleaning Data-flter and keep only columns that we will use in the dataset\n",
    "df_tweets= df_tweets.filter(['content','user_location'], axis=1)\n",
    "df_tweets.info()"
   ]
  },
  {
   "cell_type": "code",
   "execution_count": 76,
   "id": "13f04001",
   "metadata": {},
   "outputs": [
    {
     "data": {
      "text/plain": [
       "0       sunday at mugs! game 3 flames vs oilers at 6pm...\n",
       "1       for the love of god someone please stand up in...\n",
       "2       @liannabelle88 @syl20carle i hear ya. i look a...\n",
       "3       just had an astonishingly good steak 🥩 at ⁦@ta...\n",
       "4       @justcarol___ that looks like it would cost th...\n",
       "                              ...                        \n",
       "4995    i don’t understand.  you ordered a gold steak ...\n",
       "4996    【it's selling!】📈📈\\n\\nopensea:sold\\n\\ntitle:ste...\n",
       "4997    if you're paying thousands for some dude to sp...\n",
       "4998    google tells me petrus 2003 can be bought for ...\n",
       "4999    economy we living in, with that price i expect...\n",
       "Name: content, Length: 5000, dtype: object"
      ]
     },
     "execution_count": 76,
     "metadata": {},
     "output_type": "execute_result"
    }
   ],
   "source": [
    "#Cleaning Data-change words in the 'content' column to lower case\n",
    "df_tweets['content'] = df_tweets['content'].apply(lambda x:x.lower())\n",
    "df_tweets['content']"
   ]
  },
  {
   "cell_type": "code",
   "execution_count": 77,
   "id": "c617638f",
   "metadata": {},
   "outputs": [
    {
     "name": "stderr",
     "output_type": "stream",
     "text": [
      "[nltk_data] Downloading package stopwords to\n",
      "[nltk_data]     C:\\Users\\Z\\AppData\\Roaming\\nltk_data...\n",
      "[nltk_data]   Package stopwords is already up-to-date!\n"
     ]
    }
   ],
   "source": [
    "#import natural processing toolkit\n",
    "import nltk\n",
    "nltk.download('stopwords')\n",
    "from nltk.corpus import stopwords\n",
    "stop = stopwords.words('english')"
   ]
  },
  {
   "cell_type": "code",
   "execution_count": 78,
   "id": "b006cf1a",
   "metadata": {},
   "outputs": [
    {
     "data": {
      "text/plain": [
       "0    sunday mugs! game 3 flames vs oilers 6pm! 1/2 ...\n",
       "1    love god someone please stand qp make every qu...\n",
       "2    @liannabelle88 @syl20carle hear ya. look price...\n",
       "3    astonishingly good steak 🥩 ⁦@taverndandelion⁩....\n",
       "4    @justcarol___ looks like would cost price stea...\n",
       "Name: content, dtype: object"
      ]
     },
     "execution_count": 78,
     "metadata": {},
     "output_type": "execute_result"
    }
   ],
   "source": [
    "#Cleaning Data-remove english stopwords\n",
    "df_tweets['content'] = df_tweets['content'].apply(lambda x: \" \".join(x for x in x.split() if x not in stop))\n",
    "df_tweets['content'].head()"
   ]
  },
  {
   "cell_type": "code",
   "execution_count": 79,
   "id": "3002e6cb",
   "metadata": {},
   "outputs": [
    {
     "data": {
      "text/plain": [
       "0    sunday mugs game 3 flames vs oilers 6pm 12 pri...\n",
       "1    love god someone please stand qp make every qu...\n",
       "2    liannabelle88 syl20carle hear ya look price th...\n",
       "3    astonishingly good steak  taverndandelion abso...\n",
       "4    justcarol___ looks like would cost price steak...\n",
       "Name: content, dtype: object"
      ]
     },
     "execution_count": 79,
     "metadata": {},
     "output_type": "execute_result"
    }
   ],
   "source": [
    "#Cleaning Data-remove special characters\n",
    "df_tweets['content'] = df_tweets['content'].str.replace('[^\\w\\s]','')\n",
    "df_tweets['content'].head()"
   ]
  },
  {
   "cell_type": "code",
   "execution_count": 80,
   "id": "8d6b0f12",
   "metadata": {},
   "outputs": [
    {
     "data": {
      "text/plain": [
       "[('steak', 5336),\n",
       " ('price', 5184),\n",
       " ('like', 642),\n",
       " ('good', 577),\n",
       " ('get', 549),\n",
       " ('amp', 457),\n",
       " ('meat', 403),\n",
       " ('beef', 402),\n",
       " ('buy', 381),\n",
       " ('chicken', 347),\n",
       " ('food', 339),\n",
       " ('one', 334),\n",
       " ('im', 330),\n",
       " ('its', 325),\n",
       " ('dinner', 305),\n",
       " ('prices', 294),\n",
       " ('would', 293),\n",
       " ('eat', 289),\n",
       " ('pay', 283),\n",
       " ('thats', 277),\n",
       " ('half', 276),\n",
       " ('go', 273),\n",
       " ('it', 267),\n",
       " ('could', 257),\n",
       " ('better', 249),\n",
       " ('people', 248),\n",
       " ('much', 230),\n",
       " ('steaks', 228),\n",
       " ('restaurant', 222),\n",
       " ('got', 217),\n",
       " ('2', 210),\n",
       " ('cost', 208),\n",
       " ('even', 207),\n",
       " ('going', 205),\n",
       " ('day', 202),\n",
       " ('want', 200),\n",
       " ('worth', 198),\n",
       " ('make', 190),\n",
       " ('think', 189),\n",
       " ('also', 189),\n",
       " ('great', 187),\n",
       " ('know', 187),\n",
       " ('12', 184),\n",
       " ('time', 183),\n",
       " ('high', 181),\n",
       " ('dont', 181),\n",
       " ('well', 180),\n",
       " ('per', 175),\n",
       " ('gas', 171),\n",
       " ('expensive', 169)]"
      ]
     },
     "execution_count": 80,
     "metadata": {},
     "output_type": "execute_result"
    }
   ],
   "source": [
    "#Cleaning Data-check for most frequent words in the 'content column'\n",
    "from collections import Counter\n",
    "df_wordCounter= Counter(\" \".join(df_tweets['content']).split()).most_common(50)\n",
    "df_wordCounter"
   ]
  },
  {
   "cell_type": "code",
   "execution_count": 81,
   "id": "dc7af923",
   "metadata": {},
   "outputs": [
    {
     "name": "stderr",
     "output_type": "stream",
     "text": [
      "[nltk_data] Downloading package wordnet to\n",
      "[nltk_data]     C:\\Users\\Z\\AppData\\Roaming\\nltk_data...\n",
      "[nltk_data]   Package wordnet is already up-to-date!\n"
     ]
    },
    {
     "data": {
      "text/plain": [
       "0    sunday mug game 3 flame v oiler 6pm 12 price p...\n",
       "1    love god someone please stand qp make every qu...\n",
       "2    liannabelle88 syl20carle hear ya look price th...\n",
       "3    astonishingly good steak taverndandelion absol...\n",
       "4    justcarol___ look like would cost price steak ...\n",
       "Name: content, dtype: object"
      ]
     },
     "execution_count": 81,
     "metadata": {},
     "output_type": "execute_result"
    }
   ],
   "source": [
    "#import natural processing toolkit stopwords\n",
    "nltk.download('wordnet')\n",
    "from textblob import Word\n",
    "df_tweets['content'] = df_tweets['content'].apply(lambda x: \" \".join([Word(word).lemmatize() for word in x.split()]))\n",
    "df_tweets['content'].head()\n"
   ]
  },
  {
   "cell_type": "code",
   "execution_count": 82,
   "id": "11986a6c",
   "metadata": {},
   "outputs": [
    {
     "data": {
      "text/plain": [
       "[('steak', 5564),\n",
       " ('price', 5478),\n",
       " ('like', 648),\n",
       " ('good', 594),\n",
       " ('it', 592),\n",
       " ('get', 588),\n",
       " ('amp', 457),\n",
       " ('meat', 420),\n",
       " ('beef', 403),\n",
       " ('buy', 385),\n",
       " ('one', 361),\n",
       " ('chicken', 359),\n",
       " ('food', 354),\n",
       " ('im', 330),\n",
       " ('dinner', 327),\n",
       " ('go', 320),\n",
       " ('restaurant', 307),\n",
       " ('would', 293),\n",
       " ('pay', 293),\n",
       " ('cost', 291),\n",
       " ('eat', 289),\n",
       " ('day', 287),\n",
       " ('half', 277),\n",
       " ('thats', 277),\n",
       " ('could', 257),\n",
       " ('people', 252),\n",
       " ('better', 249),\n",
       " ('make', 247),\n",
       " ('year', 246),\n",
       " ('time', 240),\n",
       " ('cut', 233),\n",
       " ('much', 230),\n",
       " ('want', 223),\n",
       " ('got', 217),\n",
       " ('2', 210),\n",
       " ('even', 207),\n",
       " ('going', 205),\n",
       " ('think', 200),\n",
       " ('worth', 198),\n",
       " ('know', 198),\n",
       " ('u', 194),\n",
       " ('also', 189),\n",
       " ('great', 187),\n",
       " ('12', 184),\n",
       " ('high', 183),\n",
       " ('well', 181),\n",
       " ('dont', 181),\n",
       " ('meal', 178),\n",
       " ('per', 175),\n",
       " ('gas', 171)]"
      ]
     },
     "execution_count": 82,
     "metadata": {},
     "output_type": "execute_result"
    }
   ],
   "source": [
    "#Cleaning Data-check for most frequent words in the 'content column' after applying lemmatiser\n",
    "from collections import Counter\n",
    "df_wordCounter= Counter(\" \".join(df_tweets['content']).split()).most_common(50)\n",
    "df_wordCounter"
   ]
  },
  {
   "cell_type": "code",
   "execution_count": 83,
   "id": "a13ee0e7",
   "metadata": {},
   "outputs": [
    {
     "data": {
      "text/plain": [
       "0                                       (0.2, 0.7)\n",
       "1       (0.16666666666666666, 0.24444444444444444)\n",
       "2       (-0.3333333333333333, 0.35555555555555557)\n",
       "3                                    (0.75, 0.675)\n",
       "4                                       (0.0, 0.0)\n",
       "                           ...                    \n",
       "4995                                 (-0.25, 0.35)\n",
       "4996                                    (0.0, 0.0)\n",
       "4997                  (-0.475, 0.7250000000000001)\n",
       "4998                                 (-0.75, 0.75)\n",
       "4999                     (0.7, 0.6000000000000001)\n",
       "Name: content, Length: 5000, dtype: object"
      ]
     },
     "execution_count": 83,
     "metadata": {},
     "output_type": "execute_result"
    }
   ],
   "source": [
    "#imort textblob sentiment\n",
    "from textblob import TextBlob\n",
    "df_tweets['content'].apply(lambda x: TextBlob(x).sentiment)"
   ]
  },
  {
   "cell_type": "code",
   "execution_count": 84,
   "id": "81d3bddc",
   "metadata": {},
   "outputs": [
    {
     "data": {
      "text/html": [
       "<div>\n",
       "<style scoped>\n",
       "    .dataframe tbody tr th:only-of-type {\n",
       "        vertical-align: middle;\n",
       "    }\n",
       "\n",
       "    .dataframe tbody tr th {\n",
       "        vertical-align: top;\n",
       "    }\n",
       "\n",
       "    .dataframe thead th {\n",
       "        text-align: right;\n",
       "    }\n",
       "</style>\n",
       "<table border=\"1\" class=\"dataframe\">\n",
       "  <thead>\n",
       "    <tr style=\"text-align: right;\">\n",
       "      <th></th>\n",
       "      <th>content</th>\n",
       "      <th>user_location</th>\n",
       "      <th>sentiment</th>\n",
       "    </tr>\n",
       "  </thead>\n",
       "  <tbody>\n",
       "    <tr>\n",
       "      <th>0</th>\n",
       "      <td>sunday mug game 3 flame v oiler 6pm 12 price p...</td>\n",
       "      <td>calgary yyc 1330 15 ave sw</td>\n",
       "      <td>0.200000</td>\n",
       "    </tr>\n",
       "    <tr>\n",
       "      <th>1</th>\n",
       "      <td>love god someone please stand qp make every qu...</td>\n",
       "      <td></td>\n",
       "      <td>0.166667</td>\n",
       "    </tr>\n",
       "    <tr>\n",
       "      <th>2</th>\n",
       "      <td>liannabelle88 syl20carle hear ya look price th...</td>\n",
       "      <td></td>\n",
       "      <td>-0.333333</td>\n",
       "    </tr>\n",
       "    <tr>\n",
       "      <th>3</th>\n",
       "      <td>astonishingly good steak taverndandelion absol...</td>\n",
       "      <td>United Kingdom</td>\n",
       "      <td>0.750000</td>\n",
       "    </tr>\n",
       "    <tr>\n",
       "      <th>4</th>\n",
       "      <td>justcarol___ look like would cost price steak ...</td>\n",
       "      <td>Watopia</td>\n",
       "      <td>0.000000</td>\n",
       "    </tr>\n",
       "    <tr>\n",
       "      <th>...</th>\n",
       "      <td>...</td>\n",
       "      <td>...</td>\n",
       "      <td>...</td>\n",
       "    </tr>\n",
       "    <tr>\n",
       "      <th>4995</th>\n",
       "      <td>dont understand ordered gold steak multiple bo...</td>\n",
       "      <td>30 minutes from everywhere, NJ</td>\n",
       "      <td>-0.250000</td>\n",
       "    </tr>\n",
       "    <tr>\n",
       "      <th>4996</th>\n",
       "      <td>it selling openseasold titlesteak 1244 priceet...</td>\n",
       "      <td>https://debank.com/profile/0xe</td>\n",
       "      <td>0.000000</td>\n",
       "    </tr>\n",
       "    <tr>\n",
       "      <th>4997</th>\n",
       "      <td>paying thousand dude sprinkle salt steak feed ...</td>\n",
       "      <td>United Kingdom</td>\n",
       "      <td>-0.475000</td>\n",
       "    </tr>\n",
       "    <tr>\n",
       "      <th>4998</th>\n",
       "      <td>google tell petrus 2003 bought 2500 thats usua...</td>\n",
       "      <td>England, United Kingdom</td>\n",
       "      <td>-0.750000</td>\n",
       "    </tr>\n",
       "    <tr>\n",
       "      <th>4999</th>\n",
       "      <td>economy living in price expect good steak burg...</td>\n",
       "      <td></td>\n",
       "      <td>0.700000</td>\n",
       "    </tr>\n",
       "  </tbody>\n",
       "</table>\n",
       "<p>5000 rows × 3 columns</p>\n",
       "</div>"
      ],
      "text/plain": [
       "                                                content  \\\n",
       "0     sunday mug game 3 flame v oiler 6pm 12 price p...   \n",
       "1     love god someone please stand qp make every qu...   \n",
       "2     liannabelle88 syl20carle hear ya look price th...   \n",
       "3     astonishingly good steak taverndandelion absol...   \n",
       "4     justcarol___ look like would cost price steak ...   \n",
       "...                                                 ...   \n",
       "4995  dont understand ordered gold steak multiple bo...   \n",
       "4996  it selling openseasold titlesteak 1244 priceet...   \n",
       "4997  paying thousand dude sprinkle salt steak feed ...   \n",
       "4998  google tell petrus 2003 bought 2500 thats usua...   \n",
       "4999  economy living in price expect good steak burg...   \n",
       "\n",
       "                       user_location  sentiment  \n",
       "0         calgary yyc 1330 15 ave sw   0.200000  \n",
       "1                                      0.166667  \n",
       "2                                     -0.333333  \n",
       "3                     United Kingdom   0.750000  \n",
       "4                            Watopia   0.000000  \n",
       "...                              ...        ...  \n",
       "4995  30 minutes from everywhere, NJ  -0.250000  \n",
       "4996  https://debank.com/profile/0xe   0.000000  \n",
       "4997                  United Kingdom  -0.475000  \n",
       "4998         England, United Kingdom  -0.750000  \n",
       "4999                                   0.700000  \n",
       "\n",
       "[5000 rows x 3 columns]"
      ]
     },
     "execution_count": 84,
     "metadata": {},
     "output_type": "execute_result"
    }
   ],
   "source": [
    "#as textblob sentiment is returning two atributes- polarity and subjectivity.\n",
    "#we are only interested in first - polarity\n",
    "df_tweets['sentiment']= df_tweets['content'].apply(lambda x: TextBlob(x).sentiment[0])\n",
    "df_tweets"
   ]
  },
  {
   "cell_type": "code",
   "execution_count": 85,
   "id": "24c8af9b",
   "metadata": {},
   "outputs": [
    {
     "name": "stdout",
     "output_type": "stream",
     "text": [
      "<class 'pandas.core.frame.DataFrame'>\n",
      "RangeIndex: 5000 entries, 0 to 4999\n",
      "Data columns (total 3 columns):\n",
      " #   Column         Non-Null Count  Dtype  \n",
      "---  ------         --------------  -----  \n",
      " 0   content        5000 non-null   object \n",
      " 1   user_location  5000 non-null   object \n",
      " 2   sentiment      5000 non-null   float64\n",
      "dtypes: float64(1), object(2)\n",
      "memory usage: 117.3+ KB\n"
     ]
    }
   ],
   "source": [
    "#review dataset\n",
    "df_tweets.info()"
   ]
  },
  {
   "cell_type": "code",
   "execution_count": 86,
   "id": "8552d13d",
   "metadata": {},
   "outputs": [],
   "source": [
    "#use condition to change sentiment values to 1, 0, and -1 depending on the value. \n",
    "#if value is grater than 0, change value to 1 (positive sentiment). If value is less than 0, change value to -1 (negative sentiment)\n",
    "# if value equals to zero, asign 0 (neutral sentiment)\n",
    "df_tweets['sentiment'] = df_tweets['sentiment'].apply(lambda x:-1 if x <0 else (1 if x>0 else 0))"
   ]
  },
  {
   "cell_type": "code",
   "execution_count": 87,
   "id": "21038eb6",
   "metadata": {},
   "outputs": [
    {
     "data": {
      "text/html": [
       "<div>\n",
       "<style scoped>\n",
       "    .dataframe tbody tr th:only-of-type {\n",
       "        vertical-align: middle;\n",
       "    }\n",
       "\n",
       "    .dataframe tbody tr th {\n",
       "        vertical-align: top;\n",
       "    }\n",
       "\n",
       "    .dataframe thead th {\n",
       "        text-align: right;\n",
       "    }\n",
       "</style>\n",
       "<table border=\"1\" class=\"dataframe\">\n",
       "  <thead>\n",
       "    <tr style=\"text-align: right;\">\n",
       "      <th></th>\n",
       "      <th>content</th>\n",
       "      <th>user_location</th>\n",
       "      <th>sentiment</th>\n",
       "    </tr>\n",
       "  </thead>\n",
       "  <tbody>\n",
       "    <tr>\n",
       "      <th>0</th>\n",
       "      <td>sunday mug game 3 flame v oiler 6pm 12 price p...</td>\n",
       "      <td>calgary yyc 1330 15 ave sw</td>\n",
       "      <td>1</td>\n",
       "    </tr>\n",
       "    <tr>\n",
       "      <th>1</th>\n",
       "      <td>love god someone please stand qp make every qu...</td>\n",
       "      <td></td>\n",
       "      <td>1</td>\n",
       "    </tr>\n",
       "    <tr>\n",
       "      <th>2</th>\n",
       "      <td>liannabelle88 syl20carle hear ya look price th...</td>\n",
       "      <td></td>\n",
       "      <td>-1</td>\n",
       "    </tr>\n",
       "    <tr>\n",
       "      <th>3</th>\n",
       "      <td>astonishingly good steak taverndandelion absol...</td>\n",
       "      <td>United Kingdom</td>\n",
       "      <td>1</td>\n",
       "    </tr>\n",
       "    <tr>\n",
       "      <th>4</th>\n",
       "      <td>justcarol___ look like would cost price steak ...</td>\n",
       "      <td>Watopia</td>\n",
       "      <td>0</td>\n",
       "    </tr>\n",
       "  </tbody>\n",
       "</table>\n",
       "</div>"
      ],
      "text/plain": [
       "                                             content  \\\n",
       "0  sunday mug game 3 flame v oiler 6pm 12 price p...   \n",
       "1  love god someone please stand qp make every qu...   \n",
       "2  liannabelle88 syl20carle hear ya look price th...   \n",
       "3  astonishingly good steak taverndandelion absol...   \n",
       "4  justcarol___ look like would cost price steak ...   \n",
       "\n",
       "                user_location  sentiment  \n",
       "0  calgary yyc 1330 15 ave sw          1  \n",
       "1                                      1  \n",
       "2                                     -1  \n",
       "3              United Kingdom          1  \n",
       "4                     Watopia          0  "
      ]
     },
     "execution_count": 87,
     "metadata": {},
     "output_type": "execute_result"
    }
   ],
   "source": [
    "df_tweets.head()"
   ]
  },
  {
   "cell_type": "code",
   "execution_count": 88,
   "id": "9008135f",
   "metadata": {},
   "outputs": [
    {
     "data": {
      "text/plain": [
       " 1    2682\n",
       "-1    1256\n",
       " 0    1062\n",
       "Name: sentiment, dtype: int64"
      ]
     },
     "execution_count": 88,
     "metadata": {},
     "output_type": "execute_result"
    }
   ],
   "source": [
    "#Positive neutral negative sentiment count\n",
    "df_tweets.sentiment.value_counts()"
   ]
  },
  {
   "cell_type": "code",
   "execution_count": 89,
   "id": "fda4aa60",
   "metadata": {},
   "outputs": [
    {
     "data": {
      "image/png": "[encoded data removed]",
      "text/plain": [
       "<Figure size 432x288 with 1 Axes>"
      ]
     },
     "metadata": {
      "needs_background": "light"
     },
     "output_type": "display_data"
    }
   ],
   "source": [
    "# plot sentiment count\n",
    "from matplotlib import pyplot as plt\n",
    "Sentiment_count=df_tweets.groupby('sentiment').count()\n",
    "plt.bar(Sentiment_count.index.values, Sentiment_count['content'],color= color)\n",
    "plt.xlabel('Review Sentiments')\n",
    "plt.ylabel('Number of Review')\n",
    "plt.show()"
   ]
  },
  {
   "cell_type": "code",
   "execution_count": 90,
   "id": "94b39c97",
   "metadata": {},
   "outputs": [
    {
     "data": {
      "text/plain": [
       "<5000x1000 sparse matrix of type '<class 'numpy.float64'>'\n",
       "\twith 51215 stored elements in Compressed Sparse Row format>"
      ]
     },
     "execution_count": 90,
     "metadata": {},
     "output_type": "execute_result"
    }
   ],
   "source": [
    "from sklearn.feature_extraction.text import TfidfVectorizer\n",
    "tfid_tweets = TfidfVectorizer(max_features=1000, lowercase=True, analyzer='word',stop_words= 'english',ngram_range=(1,1))\n",
    "df_tweets_normalised = tfid_tweets.fit_transform(df_tweets['content'])\n",
    "df_tweets_normalised"
   ]
  },
  {
   "cell_type": "code",
   "execution_count": 91,
   "id": "77f6f8b0",
   "metadata": {},
   "outputs": [],
   "source": [
    "#split train test\n",
    "from sklearn.model_selection import train_test_split\n",
    "X_train, X_test, y_train, y_test = train_test_split(df_tweets_normalised, df_tweets['sentiment'], test_size=0.25, random_state=1)"
   ]
  },
  {
   "cell_type": "code",
   "execution_count": 92,
   "id": "1d3998b5",
   "metadata": {},
   "outputs": [
    {
     "name": "stdout",
     "output_type": "stream",
     "text": [
      "MultinomialNB Accuracy: 0.6216\n"
     ]
    }
   ],
   "source": [
    "from sklearn.naive_bayes import MultinomialNB\n",
    "#Import scikit-learn metrics module for accuracy calculation\n",
    "from sklearn import metrics\n",
    "# Model Generation Using Multinomial Naive Bayes\n",
    "mnb = MultinomialNB().fit(X_train, y_train)\n",
    "predicted= mnb.predict(X_test)\n",
    "print(\"MultinomialNB Accuracy:\",metrics.accuracy_score(y_test, predicted))"
   ]
  },
  {
   "cell_type": "code",
   "execution_count": 93,
   "id": "b3ff0253",
   "metadata": {},
   "outputs": [
    {
     "name": "stdout",
     "output_type": "stream",
     "text": [
      "[[159  31 120]\n",
      " [  6 169  96]\n",
      " [ 47  45 577]]\n",
      "0.724\n",
      "72.39999999999999\n"
     ]
    }
   ],
   "source": [
    "#random forest\n",
    "from sklearn.ensemble import RandomForestClassifier\n",
    "model = RandomForestClassifier(n_estimators=200)\n",
    "model.fit(X_train,y_train)\n",
    "predictions = model.predict(X_test)\n",
    "#Confusion Matrix \n",
    "from sklearn.metrics import confusion_matrix,f1_score\n",
    "print(confusion_matrix(y_test,predictions))\n",
    "\n",
    "#f1-score\n",
    "print(f1_score(y_test,predictions,average='micro'))\n",
    "\n",
    "#Accuracy_score\n",
    "from sklearn.metrics import accuracy_score\n",
    "print(accuracy_score(y_test,predictions)*100)\n"
   ]
  }
 ],
 "metadata": {
  "kernelspec": {
   "display_name": "Python 3 (ipykernel)",
   "language": "python",
   "name": "python3"
  },
  "language_info": {
   "codemirror_mode": {
    "name": "ipython",
    "version": 3
   },
   "file_extension": ".py",
   "mimetype": "text/x-python",
   "name": "python",
   "nbconvert_exporter": "python",
   "pygments_lexer": "ipython3",
   "version": "3.9.7"
  }
 },
 "nbformat": 4,
 "nbformat_minor": 5
}
