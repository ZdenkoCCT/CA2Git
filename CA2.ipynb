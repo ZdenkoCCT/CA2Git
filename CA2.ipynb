{
 "cells": [
  {
   "cell_type": "markdown",
   "id": "289a8576",
   "metadata": {},
   "source": [
    "## Cleaning IRL Data"
   ]
  },
  {
   "cell_type": "code",
   "execution_count": 1,
   "id": "2efe63dc",
   "metadata": {},
   "outputs": [],
   "source": [
    "#import  os,warnings and pandas libraries\n",
    "import os\n",
    "import pandas as pd\n",
    "import warnings\n",
    "warnings.filterwarnings('ignore')"
   ]
  },
  {
   "cell_type": "code",
   "execution_count": 2,
   "id": "066d862e",
   "metadata": {},
   "outputs": [
    {
     "data": {
      "text/plain": [
       "['.git',\n",
       " '.gitattributes',\n",
       " '.ipynb_checkpoints',\n",
       " 'Average price 1970 -2001.csv',\n",
       " 'Average price 2001-2011.csv',\n",
       " 'Average price 2011-2022.csv',\n",
       " 'CA2.ipynb',\n",
       " 'Continues_Assignment_2_Zdenko_Zahorec_sbs22090_MSc in Data Analytics (SB+) - Feb 2022 - 2022 - YR1.docx',\n",
       " 'Download links.txt',\n",
       " 'test_irl',\n",
       " 'train_irl.csv',\n",
       " 'tweets_organic_food ireland.csv',\n",
       " 'Unlimited tweets.ipynb',\n",
       " 'Unused code.ipynb',\n",
       " 'US Steak prices.csv',\n",
       " 'US Steak prices.xlsx',\n",
       " '_Twitter API.ipynb']"
      ]
     },
     "execution_count": 2,
     "metadata": {},
     "output_type": "execute_result"
    }
   ],
   "source": [
    "#listing files from the working directory into list\n",
    "files_list =os.listdir('.')\n",
    "files_list"
   ]
  },
  {
   "cell_type": "code",
   "execution_count": 3,
   "id": "4525935f",
   "metadata": {
    "scrolled": false
   },
   "outputs": [
    {
     "data": {
      "text/html": [
       "<div>\n",
       "<style scoped>\n",
       "    .dataframe tbody tr th:only-of-type {\n",
       "        vertical-align: middle;\n",
       "    }\n",
       "\n",
       "    .dataframe tbody tr th {\n",
       "        vertical-align: top;\n",
       "    }\n",
       "\n",
       "    .dataframe thead th {\n",
       "        text-align: right;\n",
       "    }\n",
       "</style>\n",
       "<table border=\"1\" class=\"dataframe\">\n",
       "  <thead>\n",
       "    <tr style=\"text-align: right;\">\n",
       "      <th></th>\n",
       "      <th>STATISTIC</th>\n",
       "      <th>Statistic2</th>\n",
       "      <th>TLIST(M1)</th>\n",
       "      <th>Month</th>\n",
       "      <th>C02438V02948</th>\n",
       "      <th>Consumer Item</th>\n",
       "      <th>UNIT</th>\n",
       "      <th>VALUE</th>\n",
       "    </tr>\n",
       "  </thead>\n",
       "  <tbody>\n",
       "    <tr>\n",
       "      <th>0</th>\n",
       "      <td>CPM08</td>\n",
       "      <td>National Average Price</td>\n",
       "      <td>199701</td>\n",
       "      <td>1997M01</td>\n",
       "      <td>10010</td>\n",
       "      <td>Round steak per kg.</td>\n",
       "      <td>IEP</td>\n",
       "      <td>6.119</td>\n",
       "    </tr>\n",
       "    <tr>\n",
       "      <th>1</th>\n",
       "      <td>CPM08</td>\n",
       "      <td>National Average Price</td>\n",
       "      <td>199701</td>\n",
       "      <td>1997M01</td>\n",
       "      <td>10020</td>\n",
       "      <td>Sirloin steak per kg.</td>\n",
       "      <td>IEP</td>\n",
       "      <td>8.053</td>\n",
       "    </tr>\n",
       "    <tr>\n",
       "      <th>2</th>\n",
       "      <td>CPM08</td>\n",
       "      <td>National Average Price</td>\n",
       "      <td>199701</td>\n",
       "      <td>1997M01</td>\n",
       "      <td>10030</td>\n",
       "      <td>Rib steak per kg.</td>\n",
       "      <td>IEP</td>\n",
       "      <td>4.023</td>\n",
       "    </tr>\n",
       "    <tr>\n",
       "      <th>3</th>\n",
       "      <td>CPM08</td>\n",
       "      <td>National Average Price</td>\n",
       "      <td>199701</td>\n",
       "      <td>1997M01</td>\n",
       "      <td>10040</td>\n",
       "      <td>Leg beef (boneless) per kg.</td>\n",
       "      <td>IEP</td>\n",
       "      <td>4.269</td>\n",
       "    </tr>\n",
       "    <tr>\n",
       "      <th>4</th>\n",
       "      <td>CPM08</td>\n",
       "      <td>National Average Price</td>\n",
       "      <td>199701</td>\n",
       "      <td>1997M01</td>\n",
       "      <td>10050</td>\n",
       "      <td>Brisket pot roast per kg.</td>\n",
       "      <td>IEP</td>\n",
       "      <td>4.097</td>\n",
       "    </tr>\n",
       "    <tr>\n",
       "      <th>...</th>\n",
       "      <td>...</td>\n",
       "      <td>...</td>\n",
       "      <td>...</td>\n",
       "      <td>...</td>\n",
       "      <td>...</td>\n",
       "      <td>...</td>\n",
       "      <td>...</td>\n",
       "      <td>...</td>\n",
       "    </tr>\n",
       "    <tr>\n",
       "      <th>3948</th>\n",
       "      <td>CPM08</td>\n",
       "      <td>National Average Price</td>\n",
       "      <td>200111</td>\n",
       "      <td>2001M11</td>\n",
       "      <td>11820</td>\n",
       "      <td>Filtered cigarettes, standard size per 20 pk.</td>\n",
       "      <td>IEP</td>\n",
       "      <td>3.847</td>\n",
       "    </tr>\n",
       "    <tr>\n",
       "      <th>3949</th>\n",
       "      <td>CPM08</td>\n",
       "      <td>National Average Price</td>\n",
       "      <td>200111</td>\n",
       "      <td>2001M11</td>\n",
       "      <td>30430</td>\n",
       "      <td>Leaded petrol per ltr.</td>\n",
       "      <td>IEP</td>\n",
       "      <td>NaN</td>\n",
       "    </tr>\n",
       "    <tr>\n",
       "      <th>3950</th>\n",
       "      <td>CPM08</td>\n",
       "      <td>National Average Price</td>\n",
       "      <td>200111</td>\n",
       "      <td>2001M11</td>\n",
       "      <td>30440</td>\n",
       "      <td>Petrol - unleaded per ltr.</td>\n",
       "      <td>IEP</td>\n",
       "      <td>0.619</td>\n",
       "    </tr>\n",
       "    <tr>\n",
       "      <th>3951</th>\n",
       "      <td>CPM08</td>\n",
       "      <td>National Average Price</td>\n",
       "      <td>200111</td>\n",
       "      <td>2001M11</td>\n",
       "      <td>30450</td>\n",
       "      <td>Liquid petroleum gas per ltr.</td>\n",
       "      <td>IEP</td>\n",
       "      <td>0.512</td>\n",
       "    </tr>\n",
       "    <tr>\n",
       "      <th>3952</th>\n",
       "      <td>CPM08</td>\n",
       "      <td>National Average Price</td>\n",
       "      <td>200111</td>\n",
       "      <td>2001M11</td>\n",
       "      <td>30460</td>\n",
       "      <td>Diesel per ltr.</td>\n",
       "      <td>IEP</td>\n",
       "      <td>0.578</td>\n",
       "    </tr>\n",
       "  </tbody>\n",
       "</table>\n",
       "<p>3953 rows × 8 columns</p>\n",
       "</div>"
      ],
      "text/plain": [
       "     STATISTIC              Statistic2  TLIST(M1)    Month  C02438V02948  \\\n",
       "0        CPM08  National Average Price     199701  1997M01         10010   \n",
       "1        CPM08  National Average Price     199701  1997M01         10020   \n",
       "2        CPM08  National Average Price     199701  1997M01         10030   \n",
       "3        CPM08  National Average Price     199701  1997M01         10040   \n",
       "4        CPM08  National Average Price     199701  1997M01         10050   \n",
       "...        ...                     ...        ...      ...           ...   \n",
       "3948     CPM08  National Average Price     200111  2001M11         11820   \n",
       "3949     CPM08  National Average Price     200111  2001M11         30430   \n",
       "3950     CPM08  National Average Price     200111  2001M11         30440   \n",
       "3951     CPM08  National Average Price     200111  2001M11         30450   \n",
       "3952     CPM08  National Average Price     200111  2001M11         30460   \n",
       "\n",
       "                                      Consumer Item UNIT  VALUE  \n",
       "0                               Round steak per kg.  IEP  6.119  \n",
       "1                             Sirloin steak per kg.  IEP  8.053  \n",
       "2                                 Rib steak per kg.  IEP  4.023  \n",
       "3                       Leg beef (boneless) per kg.  IEP  4.269  \n",
       "4                         Brisket pot roast per kg.  IEP  4.097  \n",
       "...                                             ...  ...    ...  \n",
       "3948  Filtered cigarettes, standard size per 20 pk.  IEP  3.847  \n",
       "3949                         Leaded petrol per ltr.  IEP    NaN  \n",
       "3950                     Petrol - unleaded per ltr.  IEP  0.619  \n",
       "3951                  Liquid petroleum gas per ltr.  IEP  0.512  \n",
       "3952                                Diesel per ltr.  IEP  0.578  \n",
       "\n",
       "[3953 rows x 8 columns]"
      ]
     },
     "execution_count": 3,
     "metadata": {},
     "output_type": "execute_result"
    }
   ],
   "source": [
    "#seting columns dispay option to 'max'- to see all columns in dataset\n",
    "pd.set_option('display.max.columns', None)\n",
    "#importing dataframe irl_1 containing data from 1997-2001\n",
    "df_irl1= pd.read_csv(r'Average price 1970 -2001.csv')\n",
    "df_irl1"
   ]
  },
  {
   "cell_type": "code",
   "execution_count": 4,
   "id": "16f0f454",
   "metadata": {},
   "outputs": [
    {
     "data": {
      "text/plain": [
       "count      3953.000000\n",
       "mean     199903.016949\n",
       "std         140.100566\n",
       "min      199701.000000\n",
       "25%      199803.000000\n",
       "50%      199906.000000\n",
       "75%      200009.000000\n",
       "max      200111.000000\n",
       "Name: TLIST(M1), dtype: float64"
      ]
     },
     "execution_count": 4,
     "metadata": {},
     "output_type": "execute_result"
    }
   ],
   "source": [
    "df_irl1['TLIST(M1)'].describe()"
   ]
  },
  {
   "cell_type": "code",
   "execution_count": 5,
   "id": "4f9da7c3",
   "metadata": {
    "scrolled": true
   },
   "outputs": [
    {
     "data": {
      "text/html": [
       "<div>\n",
       "<style scoped>\n",
       "    .dataframe tbody tr th:only-of-type {\n",
       "        vertical-align: middle;\n",
       "    }\n",
       "\n",
       "    .dataframe tbody tr th {\n",
       "        vertical-align: top;\n",
       "    }\n",
       "\n",
       "    .dataframe thead th {\n",
       "        text-align: right;\n",
       "    }\n",
       "</style>\n",
       "<table border=\"1\" class=\"dataframe\">\n",
       "  <thead>\n",
       "    <tr style=\"text-align: right;\">\n",
       "      <th></th>\n",
       "      <th>STATISTIC</th>\n",
       "      <th>Statistic</th>\n",
       "      <th>TLIST(M1)</th>\n",
       "      <th>Month</th>\n",
       "      <th>C02363V02844</th>\n",
       "      <th>Consumer Item</th>\n",
       "      <th>UNIT</th>\n",
       "      <th>VALUE</th>\n",
       "    </tr>\n",
       "  </thead>\n",
       "  <tbody>\n",
       "    <tr>\n",
       "      <th>0</th>\n",
       "      <td>CPM04</td>\n",
       "      <td>National Average  Price</td>\n",
       "      <td>200112</td>\n",
       "      <td>2001M12</td>\n",
       "      <td>10010</td>\n",
       "      <td>Round steak per kg.</td>\n",
       "      <td>Euro</td>\n",
       "      <td>8.414</td>\n",
       "    </tr>\n",
       "    <tr>\n",
       "      <th>1</th>\n",
       "      <td>CPM04</td>\n",
       "      <td>National Average  Price</td>\n",
       "      <td>200112</td>\n",
       "      <td>2001M12</td>\n",
       "      <td>10020</td>\n",
       "      <td>Sirloin steak per kg.</td>\n",
       "      <td>Euro</td>\n",
       "      <td>12.095</td>\n",
       "    </tr>\n",
       "    <tr>\n",
       "      <th>2</th>\n",
       "      <td>CPM04</td>\n",
       "      <td>National Average  Price</td>\n",
       "      <td>200112</td>\n",
       "      <td>2001M12</td>\n",
       "      <td>10030</td>\n",
       "      <td>Striploin steak per kg.</td>\n",
       "      <td>Euro</td>\n",
       "      <td>16.448</td>\n",
       "    </tr>\n",
       "    <tr>\n",
       "      <th>3</th>\n",
       "      <td>CPM04</td>\n",
       "      <td>National Average  Price</td>\n",
       "      <td>200112</td>\n",
       "      <td>2001M12</td>\n",
       "      <td>10040</td>\n",
       "      <td>Roast beef topside/rib per kg.</td>\n",
       "      <td>Euro</td>\n",
       "      <td>8.726</td>\n",
       "    </tr>\n",
       "    <tr>\n",
       "      <th>4</th>\n",
       "      <td>CPM04</td>\n",
       "      <td>National Average  Price</td>\n",
       "      <td>200112</td>\n",
       "      <td>2001M12</td>\n",
       "      <td>10050</td>\n",
       "      <td>Sliced/diced beef pieces per kg.</td>\n",
       "      <td>Euro</td>\n",
       "      <td>7.041</td>\n",
       "    </tr>\n",
       "    <tr>\n",
       "      <th>...</th>\n",
       "      <td>...</td>\n",
       "      <td>...</td>\n",
       "      <td>...</td>\n",
       "      <td>...</td>\n",
       "      <td>...</td>\n",
       "      <td>...</td>\n",
       "      <td>...</td>\n",
       "      <td>...</td>\n",
       "    </tr>\n",
       "    <tr>\n",
       "      <th>10522</th>\n",
       "      <td>CPM04</td>\n",
       "      <td>National Average  Price</td>\n",
       "      <td>201112</td>\n",
       "      <td>2011M12</td>\n",
       "      <td>80001</td>\n",
       "      <td>1 litre, low fat milk per ltr.</td>\n",
       "      <td>Euro</td>\n",
       "      <td>1.044</td>\n",
       "    </tr>\n",
       "    <tr>\n",
       "      <th>10523</th>\n",
       "      <td>CPM04</td>\n",
       "      <td>National Average  Price</td>\n",
       "      <td>201112</td>\n",
       "      <td>2011M12</td>\n",
       "      <td>80002</td>\n",
       "      <td>Large (size 2) eggs per dozen</td>\n",
       "      <td>Euro</td>\n",
       "      <td>NaN</td>\n",
       "    </tr>\n",
       "    <tr>\n",
       "      <th>10524</th>\n",
       "      <td>CPM04</td>\n",
       "      <td>National Average  Price</td>\n",
       "      <td>201112</td>\n",
       "      <td>2011M12</td>\n",
       "      <td>80003</td>\n",
       "      <td>Medium (size 3) eggs per dozen</td>\n",
       "      <td>Euro</td>\n",
       "      <td>NaN</td>\n",
       "    </tr>\n",
       "    <tr>\n",
       "      <th>10525</th>\n",
       "      <td>CPM04</td>\n",
       "      <td>National Average  Price</td>\n",
       "      <td>201112</td>\n",
       "      <td>2011M12</td>\n",
       "      <td>80004</td>\n",
       "      <td>White, plain flour per 2 kgs.</td>\n",
       "      <td>Euro</td>\n",
       "      <td>NaN</td>\n",
       "    </tr>\n",
       "    <tr>\n",
       "      <th>10526</th>\n",
       "      <td>CPM04</td>\n",
       "      <td>National Average  Price</td>\n",
       "      <td>201112</td>\n",
       "      <td>2011M12</td>\n",
       "      <td>80005</td>\n",
       "      <td>Fine quality wine - take home (75cl bottle)</td>\n",
       "      <td>Euro</td>\n",
       "      <td>NaN</td>\n",
       "    </tr>\n",
       "  </tbody>\n",
       "</table>\n",
       "<p>10527 rows × 8 columns</p>\n",
       "</div>"
      ],
      "text/plain": [
       "      STATISTIC                Statistic  TLIST(M1)    Month  C02363V02844  \\\n",
       "0         CPM04  National Average  Price     200112  2001M12         10010   \n",
       "1         CPM04  National Average  Price     200112  2001M12         10020   \n",
       "2         CPM04  National Average  Price     200112  2001M12         10030   \n",
       "3         CPM04  National Average  Price     200112  2001M12         10040   \n",
       "4         CPM04  National Average  Price     200112  2001M12         10050   \n",
       "...         ...                      ...        ...      ...           ...   \n",
       "10522     CPM04  National Average  Price     201112  2011M12         80001   \n",
       "10523     CPM04  National Average  Price     201112  2011M12         80002   \n",
       "10524     CPM04  National Average  Price     201112  2011M12         80003   \n",
       "10525     CPM04  National Average  Price     201112  2011M12         80004   \n",
       "10526     CPM04  National Average  Price     201112  2011M12         80005   \n",
       "\n",
       "                                     Consumer Item  UNIT   VALUE  \n",
       "0                              Round steak per kg.  Euro   8.414  \n",
       "1                            Sirloin steak per kg.  Euro  12.095  \n",
       "2                          Striploin steak per kg.  Euro  16.448  \n",
       "3                   Roast beef topside/rib per kg.  Euro   8.726  \n",
       "4                 Sliced/diced beef pieces per kg.  Euro   7.041  \n",
       "...                                            ...   ...     ...  \n",
       "10522               1 litre, low fat milk per ltr.  Euro   1.044  \n",
       "10523                Large (size 2) eggs per dozen  Euro     NaN  \n",
       "10524               Medium (size 3) eggs per dozen  Euro     NaN  \n",
       "10525                White, plain flour per 2 kgs.  Euro     NaN  \n",
       "10526  Fine quality wine - take home (75cl bottle)  Euro     NaN  \n",
       "\n",
       "[10527 rows x 8 columns]"
      ]
     },
     "execution_count": 5,
     "metadata": {},
     "output_type": "execute_result"
    }
   ],
   "source": [
    "#importing dataframe irl_2 containing data from 2001-2011\n",
    "df_irl2= pd.read_csv(r'Average price 2001-2011.csv')\n",
    "df_irl2"
   ]
  },
  {
   "cell_type": "code",
   "execution_count": 6,
   "id": "e06e7fa2",
   "metadata": {},
   "outputs": [
    {
     "data": {
      "text/plain": [
       "count     10527.000000\n",
       "mean     200652.000000\n",
       "std         290.289519\n",
       "min      200112.000000\n",
       "25%      200406.000000\n",
       "50%      200612.000000\n",
       "75%      200906.000000\n",
       "max      201112.000000\n",
       "Name: TLIST(M1), dtype: float64"
      ]
     },
     "execution_count": 6,
     "metadata": {},
     "output_type": "execute_result"
    }
   ],
   "source": [
    "df_irl2['TLIST(M1)'].describe()"
   ]
  },
  {
   "cell_type": "code",
   "execution_count": 7,
   "id": "8916cd42",
   "metadata": {
    "scrolled": true
   },
   "outputs": [
    {
     "data": {
      "text/html": [
       "<div>\n",
       "<style scoped>\n",
       "    .dataframe tbody tr th:only-of-type {\n",
       "        vertical-align: middle;\n",
       "    }\n",
       "\n",
       "    .dataframe tbody tr th {\n",
       "        vertical-align: top;\n",
       "    }\n",
       "\n",
       "    .dataframe thead th {\n",
       "        text-align: right;\n",
       "    }\n",
       "</style>\n",
       "<table border=\"1\" class=\"dataframe\">\n",
       "  <thead>\n",
       "    <tr style=\"text-align: right;\">\n",
       "      <th></th>\n",
       "      <th>STATISTIC</th>\n",
       "      <th>Statistic</th>\n",
       "      <th>TLIST(M1)</th>\n",
       "      <th>Month</th>\n",
       "      <th>C02363V03422</th>\n",
       "      <th>Consumer Item</th>\n",
       "      <th>UNIT</th>\n",
       "      <th>VALUE</th>\n",
       "    </tr>\n",
       "  </thead>\n",
       "  <tbody>\n",
       "    <tr>\n",
       "      <th>0</th>\n",
       "      <td>CPM12</td>\n",
       "      <td>National Average Price</td>\n",
       "      <td>201112</td>\n",
       "      <td>2011M12</td>\n",
       "      <td>10020</td>\n",
       "      <td>White, self raising flour per 2 kg</td>\n",
       "      <td>Euro</td>\n",
       "      <td>NaN</td>\n",
       "    </tr>\n",
       "    <tr>\n",
       "      <th>1</th>\n",
       "      <td>CPM12</td>\n",
       "      <td>National Average Price</td>\n",
       "      <td>201112</td>\n",
       "      <td>2011M12</td>\n",
       "      <td>10030</td>\n",
       "      <td>Brown, wholemeal flour per 2 kg</td>\n",
       "      <td>Euro</td>\n",
       "      <td>NaN</td>\n",
       "    </tr>\n",
       "    <tr>\n",
       "      <th>2</th>\n",
       "      <td>CPM12</td>\n",
       "      <td>National Average Price</td>\n",
       "      <td>201112</td>\n",
       "      <td>2011M12</td>\n",
       "      <td>10040</td>\n",
       "      <td>Bread, white sliced pan, large (800g)</td>\n",
       "      <td>Euro</td>\n",
       "      <td>NaN</td>\n",
       "    </tr>\n",
       "    <tr>\n",
       "      <th>3</th>\n",
       "      <td>CPM12</td>\n",
       "      <td>National Average Price</td>\n",
       "      <td>201112</td>\n",
       "      <td>2011M12</td>\n",
       "      <td>10050</td>\n",
       "      <td>Bread, brown sliced pan, large (800g)</td>\n",
       "      <td>Euro</td>\n",
       "      <td>NaN</td>\n",
       "    </tr>\n",
       "    <tr>\n",
       "      <th>4</th>\n",
       "      <td>CPM12</td>\n",
       "      <td>National Average Price</td>\n",
       "      <td>201112</td>\n",
       "      <td>2011M12</td>\n",
       "      <td>10190</td>\n",
       "      <td>Spaghetti per 500g</td>\n",
       "      <td>Euro</td>\n",
       "      <td>NaN</td>\n",
       "    </tr>\n",
       "    <tr>\n",
       "      <th>...</th>\n",
       "      <td>...</td>\n",
       "      <td>...</td>\n",
       "      <td>...</td>\n",
       "      <td>...</td>\n",
       "      <td>...</td>\n",
       "      <td>...</td>\n",
       "      <td>...</td>\n",
       "      <td>...</td>\n",
       "    </tr>\n",
       "    <tr>\n",
       "      <th>9343</th>\n",
       "      <td>CPM12</td>\n",
       "      <td>National Average Price</td>\n",
       "      <td>202202</td>\n",
       "      <td>2022M02</td>\n",
       "      <td>30400</td>\n",
       "      <td>Cinema fee</td>\n",
       "      <td>Euro</td>\n",
       "      <td>10.313</td>\n",
       "    </tr>\n",
       "    <tr>\n",
       "      <th>9344</th>\n",
       "      <td>CPM12</td>\n",
       "      <td>National Average Price</td>\n",
       "      <td>202202</td>\n",
       "      <td>2022M02</td>\n",
       "      <td>30410</td>\n",
       "      <td>Nightclubs fee</td>\n",
       "      <td>Euro</td>\n",
       "      <td>NaN</td>\n",
       "    </tr>\n",
       "    <tr>\n",
       "      <th>9345</th>\n",
       "      <td>CPM12</td>\n",
       "      <td>National Average Price</td>\n",
       "      <td>202202</td>\n",
       "      <td>2022M02</td>\n",
       "      <td>30690</td>\n",
       "      <td>Gent's dry cut fee</td>\n",
       "      <td>Euro</td>\n",
       "      <td>17.157</td>\n",
       "    </tr>\n",
       "    <tr>\n",
       "      <th>9346</th>\n",
       "      <td>CPM12</td>\n",
       "      <td>National Average Price</td>\n",
       "      <td>202202</td>\n",
       "      <td>2022M02</td>\n",
       "      <td>30700</td>\n",
       "      <td>Gent's wash, cut, and blow dry fee</td>\n",
       "      <td>Euro</td>\n",
       "      <td>NaN</td>\n",
       "    </tr>\n",
       "    <tr>\n",
       "      <th>9347</th>\n",
       "      <td>CPM12</td>\n",
       "      <td>National Average Price</td>\n",
       "      <td>202202</td>\n",
       "      <td>2022M02</td>\n",
       "      <td>30720</td>\n",
       "      <td>Ladies' wash, cut and blow dry fee</td>\n",
       "      <td>Euro</td>\n",
       "      <td>46.857</td>\n",
       "    </tr>\n",
       "  </tbody>\n",
       "</table>\n",
       "<p>9348 rows × 8 columns</p>\n",
       "</div>"
      ],
      "text/plain": [
       "     STATISTIC               Statistic  TLIST(M1)    Month  C02363V03422  \\\n",
       "0        CPM12  National Average Price     201112  2011M12         10020   \n",
       "1        CPM12  National Average Price     201112  2011M12         10030   \n",
       "2        CPM12  National Average Price     201112  2011M12         10040   \n",
       "3        CPM12  National Average Price     201112  2011M12         10050   \n",
       "4        CPM12  National Average Price     201112  2011M12         10190   \n",
       "...        ...                     ...        ...      ...           ...   \n",
       "9343     CPM12  National Average Price     202202  2022M02         30400   \n",
       "9344     CPM12  National Average Price     202202  2022M02         30410   \n",
       "9345     CPM12  National Average Price     202202  2022M02         30690   \n",
       "9346     CPM12  National Average Price     202202  2022M02         30700   \n",
       "9347     CPM12  National Average Price     202202  2022M02         30720   \n",
       "\n",
       "                              Consumer Item  UNIT   VALUE  \n",
       "0        White, self raising flour per 2 kg  Euro     NaN  \n",
       "1           Brown, wholemeal flour per 2 kg  Euro     NaN  \n",
       "2     Bread, white sliced pan, large (800g)  Euro     NaN  \n",
       "3     Bread, brown sliced pan, large (800g)  Euro     NaN  \n",
       "4                        Spaghetti per 500g  Euro     NaN  \n",
       "...                                     ...   ...     ...  \n",
       "9343                             Cinema fee  Euro  10.313  \n",
       "9344                         Nightclubs fee  Euro     NaN  \n",
       "9345                     Gent's dry cut fee  Euro  17.157  \n",
       "9346     Gent's wash, cut, and blow dry fee  Euro     NaN  \n",
       "9347     Ladies' wash, cut and blow dry fee  Euro  46.857  \n",
       "\n",
       "[9348 rows x 8 columns]"
      ]
     },
     "execution_count": 7,
     "metadata": {},
     "output_type": "execute_result"
    }
   ],
   "source": [
    "#importing dataframe irl_3 containing data from 2011-2022\n",
    "df_irl3= pd.read_csv(r'Average price 2011-2022.csv')\n",
    "df_irl3"
   ]
  },
  {
   "cell_type": "code",
   "execution_count": 8,
   "id": "b084fd68",
   "metadata": {
    "scrolled": true
   },
   "outputs": [
    {
     "data": {
      "text/plain": [
       "count      9348.000000\n",
       "mean     201660.934959\n",
       "std         296.191212\n",
       "min      201112.000000\n",
       "25%      201406.000000\n",
       "50%      201701.000000\n",
       "75%      201908.000000\n",
       "max      202202.000000\n",
       "Name: TLIST(M1), dtype: float64"
      ]
     },
     "execution_count": 8,
     "metadata": {},
     "output_type": "execute_result"
    }
   ],
   "source": [
    "df_irl3['TLIST(M1)'].describe()"
   ]
  },
  {
   "cell_type": "code",
   "execution_count": 9,
   "id": "39a79780",
   "metadata": {},
   "outputs": [],
   "source": [
    "#drop repeating columns from December 2011 that appear in df_irl2 & df_irl3 dataframes\n",
    "df_irl3 = df_irl3[df_irl3['TLIST(M1)'] != 201112]"
   ]
  },
  {
   "cell_type": "code",
   "execution_count": 10,
   "id": "b4458a6b",
   "metadata": {},
   "outputs": [
    {
     "data": {
      "text/plain": [
       "count      9272.000000\n",
       "mean     201665.434426\n",
       "std         293.185906\n",
       "min      201201.000000\n",
       "25%      201407.000000\n",
       "50%      201701.500000\n",
       "75%      201908.000000\n",
       "max      202202.000000\n",
       "Name: TLIST(M1), dtype: float64"
      ]
     },
     "execution_count": 10,
     "metadata": {},
     "output_type": "execute_result"
    }
   ],
   "source": [
    "#check are duplicated values removed\n",
    "df_irl3['TLIST(M1)'].describe()"
   ]
  },
  {
   "cell_type": "code",
   "execution_count": 11,
   "id": "fd75e776",
   "metadata": {
    "scrolled": true
   },
   "outputs": [
    {
     "name": "stdout",
     "output_type": "stream",
     "text": [
      "0       Round steak per kg.\n",
      "1     Sirloin steak per kg.\n",
      "2         Rib steak per kg.\n",
      "13       Pork steak per kg.\n",
      "Name: Consumer Item, dtype: object\n",
      "0         Round steak per kg.\n",
      "1       Sirloin steak per kg.\n",
      "2     Striploin steak per kg.\n",
      "12         Pork steak per kg.\n",
      "21       Salmon steak per kg.\n",
      "Name: Consumer Item, dtype: object\n",
      "81      Sirloin steak per kg\n",
      "82    Striploin steak per kg\n",
      "86         Pork steak per kg\n",
      "Name: Consumer Item, dtype: object\n"
     ]
    }
   ],
   "source": [
    "#create function to check how many rows contain 'steak' substring in all three IRL dataframes\n",
    "dfs = [df_irl1,df_irl2,df_irl3]\n",
    "def steaks(lists):\n",
    "    column_1=lists.drop_duplicates(subset = ['Consumer Item']) #drop duplicated values\n",
    "    column_1=column_1[column_1['Consumer Item'].str.contains('steak')] # keep only observations that contain string 'steak'\n",
    "    column_1 = column_1['Consumer Item'] #keep only 'Consumer Item' column\n",
    "    print(column_1)\n",
    "for lists in dfs:\n",
    "    steaks(lists)\n"
   ]
  },
  {
   "cell_type": "code",
   "execution_count": 12,
   "id": "97edfc75",
   "metadata": {
    "scrolled": true
   },
   "outputs": [
    {
     "name": "stdout",
     "output_type": "stream",
     "text": [
      "<class 'pandas.core.frame.DataFrame'>\n",
      "RangeIndex: 302 entries, 0 to 301\n",
      "Data columns (total 2 columns):\n",
      " #   Column                 Non-Null Count  Dtype  \n",
      "---  ------                 --------------  -----  \n",
      " 0   Daystamp               302 non-null    int64  \n",
      " 1   Sirloin steak per kg.  302 non-null    float64\n",
      "dtypes: float64(1), int64(1)\n",
      "memory usage: 4.8 KB\n"
     ]
    }
   ],
   "source": [
    "#rename column in df_irl3 to match column names in dfs 1&2\n",
    "df_irl3['Consumer Item'] = df_irl3['Consumer Item'].replace(['Sirloin steak per kg'],'Sirloin steak per kg.')\n",
    "#create blank list\n",
    "lst=[]\n",
    "#use for loop  to itterate through all 3 IRL datasets\n",
    "for lists in dfs:\n",
    "    lists=lists.rename(columns = {'Consumer Item':'SteakType','TLIST(M1)':'Daystamp'}) #rename columns for easier manipulation\n",
    "    lists=lists.loc[(lists.SteakType.str.contains('Sirloin'))] #keep only observations that contain string 'Sirloin'  \n",
    "    lists = lists.pivot_table('VALUE', ['Daystamp'], 'SteakType') # use pivot table function to create variables from observations\n",
    "    lists= lists.rename_axis('ID',axis=1) # add variable name to ID column\n",
    "    lists= lists.reset_index() # reset index- daystamp don't appear if don't reset index\n",
    "    lst.append(lists) #apend observations into list\n",
    "df_irl = pd.concat(lst, axis=0, ignore_index=True)#create dataframe from the created list\n",
    "df_irl.info()"
   ]
  },
  {
   "cell_type": "code",
   "execution_count": 13,
   "id": "9ceb06f5",
   "metadata": {},
   "outputs": [
    {
     "data": {
      "text/html": [
       "<div>\n",
       "<style scoped>\n",
       "    .dataframe tbody tr th:only-of-type {\n",
       "        vertical-align: middle;\n",
       "    }\n",
       "\n",
       "    .dataframe tbody tr th {\n",
       "        vertical-align: top;\n",
       "    }\n",
       "\n",
       "    .dataframe thead th {\n",
       "        text-align: right;\n",
       "    }\n",
       "</style>\n",
       "<table border=\"1\" class=\"dataframe\">\n",
       "  <thead>\n",
       "    <tr style=\"text-align: right;\">\n",
       "      <th>ID</th>\n",
       "      <th>Sirloin steak per kg.</th>\n",
       "    </tr>\n",
       "    <tr>\n",
       "      <th>Daystamp</th>\n",
       "      <th></th>\n",
       "    </tr>\n",
       "  </thead>\n",
       "  <tbody>\n",
       "    <tr>\n",
       "      <th>1997-01-01</th>\n",
       "      <td>8.053</td>\n",
       "    </tr>\n",
       "    <tr>\n",
       "      <th>1997-02-01</th>\n",
       "      <td>8.276</td>\n",
       "    </tr>\n",
       "    <tr>\n",
       "      <th>1997-03-01</th>\n",
       "      <td>8.124</td>\n",
       "    </tr>\n",
       "    <tr>\n",
       "      <th>1997-04-01</th>\n",
       "      <td>8.503</td>\n",
       "    </tr>\n",
       "    <tr>\n",
       "      <th>1997-05-01</th>\n",
       "      <td>8.397</td>\n",
       "    </tr>\n",
       "    <tr>\n",
       "      <th>...</th>\n",
       "      <td>...</td>\n",
       "    </tr>\n",
       "    <tr>\n",
       "      <th>2021-10-01</th>\n",
       "      <td>14.209</td>\n",
       "    </tr>\n",
       "    <tr>\n",
       "      <th>2021-11-01</th>\n",
       "      <td>14.209</td>\n",
       "    </tr>\n",
       "    <tr>\n",
       "      <th>2021-12-01</th>\n",
       "      <td>14.258</td>\n",
       "    </tr>\n",
       "    <tr>\n",
       "      <th>2022-01-01</th>\n",
       "      <td>14.258</td>\n",
       "    </tr>\n",
       "    <tr>\n",
       "      <th>2022-02-01</th>\n",
       "      <td>14.254</td>\n",
       "    </tr>\n",
       "  </tbody>\n",
       "</table>\n",
       "<p>302 rows × 1 columns</p>\n",
       "</div>"
      ],
      "text/plain": [
       "ID          Sirloin steak per kg.\n",
       "Daystamp                         \n",
       "1997-01-01                  8.053\n",
       "1997-02-01                  8.276\n",
       "1997-03-01                  8.124\n",
       "1997-04-01                  8.503\n",
       "1997-05-01                  8.397\n",
       "...                           ...\n",
       "2021-10-01                 14.209\n",
       "2021-11-01                 14.209\n",
       "2021-12-01                 14.258\n",
       "2022-01-01                 14.258\n",
       "2022-02-01                 14.254\n",
       "\n",
       "[302 rows x 1 columns]"
      ]
     },
     "execution_count": 13,
     "metadata": {},
     "output_type": "execute_result"
    }
   ],
   "source": [
    "#create date values from current integer values in column 'Daystamp'\n",
    "df_irl['Daystamp'] = pd.to_datetime(df_irl['Daystamp'].apply(str) + '01', format='%Y%m%d', errors='ignore')\n",
    "#df_irl['Year']= df_irl['Daystamp'].dt.year #Creating 'Year' column that will be used in visualisations\n",
    "#df_irl['Month']= df_irl['Daystamp'].dt.month#Creating 'Month' column that will be used in visualisations\n",
    "df_irl.set_index('Daystamp',inplace =True)\n",
    "df_irl"
   ]
  },
  {
   "cell_type": "code",
   "execution_count": 14,
   "id": "91261f89",
   "metadata": {},
   "outputs": [
    {
     "data": {
      "text/plain": [
       "count    300.000000\n",
       "mean      13.360170\n",
       "std        2.605816\n",
       "min        7.994000\n",
       "25%       12.175250\n",
       "50%       14.161500\n",
       "75%       15.471000\n",
       "max       16.982000\n",
       "Name: Sirloin steak per kg., dtype: float64"
      ]
     },
     "execution_count": 14,
     "metadata": {},
     "output_type": "execute_result"
    }
   ],
   "source": [
    "df_irl.drop(df_irl.tail(2).index,inplace=True) #drop last two rows- to have end of year data\n",
    "#check values ???\n",
    "df_irl['Sirloin steak per kg.'].describe()"
   ]
  },
  {
   "cell_type": "code",
   "execution_count": 15,
   "id": "4802aa4a",
   "metadata": {
    "scrolled": false
   },
   "outputs": [
    {
     "data": {
      "image/png": "[encoded data removed]",
      "text/plain": [
       "<Figure size 1080x360 with 1 Axes>"
      ]
     },
     "metadata": {},
     "output_type": "display_data"
    }
   ],
   "source": [
    "# importing seaborn module\n",
    "import seaborn as sns\n",
    "import matplotlib.pyplot as plt\n",
    "#enhance line plot\n",
    "plt.figure(figsize=(15,5),facecolor='#ECECEC')\n",
    "Time_series=sns.lineplot(x=df_irl.index,y='Sirloin steak per kg.',data=df_irl,color='#599664', linewidth=2)\n",
    "Time_series.set_title('Sirloin steak price in Ireland from 1997-2021',fontsize=20)\n",
    "Time_series.set_ylabel('Price per Kg.',fontsize=20)\n",
    "Time_series.set_xlabel('Year',fontsize=20)\n",
    "plt.grid() \n"
   ]
  },
  {
   "cell_type": "code",
   "execution_count": 16,
   "id": "f796cdad",
   "metadata": {},
   "outputs": [],
   "source": [
    "#pip install statsmodels "
   ]
  },
  {
   "cell_type": "code",
   "execution_count": 17,
   "id": "98e46f39",
   "metadata": {},
   "outputs": [
    {
     "data": {
      "image/png": "[encoded data removed]",
      "text/plain": [
       "<Figure size 432x288 with 4 Axes>"
      ]
     },
     "execution_count": 17,
     "metadata": {},
     "output_type": "execute_result"
    },
    {
     "data": {
      "image/png": "[encoded data removed]",
      "text/plain": [
       "<Figure size 432x288 with 4 Axes>"
      ]
     },
     "metadata": {
      "needs_background": "light"
     },
     "output_type": "display_data"
    }
   ],
   "source": [
    "from statsmodels.tsa.seasonal import seasonal_decompose\n",
    "res = seasonal_decompose(df_irl, model ='additive')\n",
    "res.plot()"
   ]
  },
  {
   "cell_type": "code",
   "execution_count": 18,
   "id": "c20444a1",
   "metadata": {},
   "outputs": [
    {
     "data": {
      "text/plain": [
       "<AxesSubplot:xlabel='Daystamp'>"
      ]
     },
     "execution_count": 18,
     "metadata": {},
     "output_type": "execute_result"
    },
    {
     "data": {
      "image/png": "[encoded data removed]",
      "text/plain": [
       "<Figure size 432x288 with 1 Axes>"
      ]
     },
     "metadata": {
      "needs_background": "light"
     },
     "output_type": "display_data"
    }
   ],
   "source": [
    "seasonality=res.seasonal\n",
    "seasonality.plot(color='green')"
   ]
  },
  {
   "cell_type": "code",
   "execution_count": 19,
   "id": "21ee849a",
   "metadata": {},
   "outputs": [
    {
     "name": "stdout",
     "output_type": "stream",
     "text": [
      "1. ADF :  -1.9752866535749813\n",
      "2. P-Value :  0.2975130415881175\n",
      "3. Critical Values :\n",
      "\t 1% :  -3.452636878592149\n",
      "\t 5% :  -2.8713543954331433\n",
      "\t 10% :  -2.5719993576515705\n"
     ]
    }
   ],
   "source": [
    "#hypothesis p-value <0.5?\n",
    "from statsmodels.tsa.stattools import adfuller\n",
    "adf_irl = adfuller(df_irl['Sirloin steak per kg.'], autolag = 'AIC')\n",
    "print(\"1. ADF : \",adf_irl[0])\n",
    "print(\"2. P-Value : \", adf_irl[1])\n",
    "print(\"3. Critical Values :\")\n",
    "for key, val in adf_irl[4].items():\n",
    "    print(\"\\t\",key, \": \", val)"
   ]
  },
  {
   "cell_type": "code",
   "execution_count": 20,
   "id": "c6f03425",
   "metadata": {},
   "outputs": [
    {
     "data": {
      "image/png": "[encoded data removed]",
      "text/plain": [
       "<Figure size 432x288 with 1 Axes>"
      ]
     },
     "metadata": {
      "needs_background": "light"
     },
     "output_type": "display_data"
    },
    {
     "data": {
      "image/png": "[encoded data removed]",
      "text/plain": [
       "<Figure size 432x288 with 1 Axes>"
      ]
     },
     "metadata": {
      "needs_background": "light"
     },
     "output_type": "display_data"
    }
   ],
   "source": [
    "# rolling mean differencing methods. \n",
    "rmdm = df_irl.rolling(window = 12).mean()\n",
    "df_irl['rolling_mean_diff'] = rmdm - rmdm.shift()\n",
    "ax1 = plt.subplot()\n",
    "df_irl['rolling_mean_diff'].plot(title='after rolling mean & differencing');\n",
    "ax2 = plt.subplot()\n",
    "df_irl.plot(title='original');"
   ]
  },
  {
   "cell_type": "code",
   "execution_count": 21,
   "id": "8c6193ba",
   "metadata": {},
   "outputs": [
    {
     "name": "stdout",
     "output_type": "stream",
     "text": [
      "1. ADF :  -2.7560368388810637\n",
      "2. P-Value :  0.06483317017866187\n",
      "5. Critical Values :\n",
      "\t 1% :  -3.4544435065994437\n",
      "\t 5% :  -2.8721468827772774\n",
      "\t 10% :  -2.572422013959188\n"
     ]
    }
   ],
   "source": [
    "adf_irl = adfuller(df_irl['rolling_mean_diff'].dropna(), autolag = 'AIC')\n",
    "print(\"1. ADF : \",adf_irl[0])\n",
    "print(\"2. P-Value : \", adf_irl[1])\n",
    "print(\"5. Critical Values :\")\n",
    "for key, val in adf_irl[4].items():\n",
    "  print(\"\\t\",key, \": \", val)"
   ]
  },
  {
   "cell_type": "code",
   "execution_count": 22,
   "id": "afb2eb86",
   "metadata": {},
   "outputs": [
    {
     "name": "stderr",
     "output_type": "stream",
     "text": [
      "C:\\ProgramData\\Anaconda3\\lib\\site-packages\\statsmodels\\tsa\\base\\tsa_model.py:524: ValueWarning: No frequency information was provided, so inferred frequency MS will be used.\n",
      "  warnings.warn('No frequency information was'\n",
      "C:\\ProgramData\\Anaconda3\\lib\\site-packages\\statsmodels\\tsa\\base\\tsa_model.py:524: ValueWarning: No frequency information was provided, so inferred frequency MS will be used.\n",
      "  warnings.warn('No frequency information was'\n"
     ]
    },
    {
     "data": {
      "text/html": [
       "<table class=\"simpletable\">\n",
       "<caption>ARIMA Model Results</caption>\n",
       "<tr>\n",
       "  <th>Dep. Variable:</th> <td>D.Sirloin steak per kg.</td> <th>  No. Observations:  </th>    <td>299</td>  \n",
       "</tr>\n",
       "<tr>\n",
       "  <th>Model:</th>             <td>ARIMA(1, 1, 1)</td>      <th>  Log Likelihood     </th> <td>-229.107</td>\n",
       "</tr>\n",
       "<tr>\n",
       "  <th>Method:</th>                <td>css-mle</td>         <th>  S.D. of innovations</th>   <td>0.520</td> \n",
       "</tr>\n",
       "<tr>\n",
       "  <th>Date:</th>             <td>Fri, 13 May 2022</td>     <th>  AIC                </th>  <td>466.214</td>\n",
       "</tr>\n",
       "<tr>\n",
       "  <th>Time:</th>                 <td>01:40:27</td>         <th>  BIC                </th>  <td>481.015</td>\n",
       "</tr>\n",
       "<tr>\n",
       "  <th>Sample:</th>              <td>02-01-1997</td>        <th>  HQIC               </th>  <td>472.138</td>\n",
       "</tr>\n",
       "<tr>\n",
       "  <th></th>                    <td>- 12-01-2021</td>       <th>                     </th>     <td> </td>   \n",
       "</tr>\n",
       "</table>\n",
       "<table class=\"simpletable\">\n",
       "<tr>\n",
       "                <td></td>                   <th>coef</th>     <th>std err</th>      <th>z</th>      <th>P>|z|</th>  <th>[0.025</th>    <th>0.975]</th>  \n",
       "</tr>\n",
       "<tr>\n",
       "  <th>const</th>                         <td>    0.0204</td> <td>    0.015</td> <td>    1.382</td> <td> 0.167</td> <td>   -0.009</td> <td>    0.049</td>\n",
       "</tr>\n",
       "<tr>\n",
       "  <th>ar.L1.D.Sirloin steak per kg.</th> <td>   -0.0557</td> <td>    0.098</td> <td>   -0.567</td> <td> 0.571</td> <td>   -0.248</td> <td>    0.137</td>\n",
       "</tr>\n",
       "<tr>\n",
       "  <th>ma.L1.D.Sirloin steak per kg.</th> <td>   -0.4839</td> <td>    0.082</td> <td>   -5.900</td> <td> 0.000</td> <td>   -0.645</td> <td>   -0.323</td>\n",
       "</tr>\n",
       "</table>\n",
       "<table class=\"simpletable\">\n",
       "<caption>Roots</caption>\n",
       "<tr>\n",
       "    <td></td>   <th>            Real</th>  <th>         Imaginary</th> <th>         Modulus</th>  <th>        Frequency</th>\n",
       "</tr>\n",
       "<tr>\n",
       "  <th>AR.1</th> <td>         -17.9573</td> <td>          +0.0000j</td> <td>          17.9573</td> <td>           0.5000</td>\n",
       "</tr>\n",
       "<tr>\n",
       "  <th>MA.1</th> <td>           2.0664</td> <td>          +0.0000j</td> <td>           2.0664</td> <td>           0.0000</td>\n",
       "</tr>\n",
       "</table>"
      ],
      "text/plain": [
       "<class 'statsmodels.iolib.summary.Summary'>\n",
       "\"\"\"\n",
       "                                ARIMA Model Results                                \n",
       "===================================================================================\n",
       "Dep. Variable:     D.Sirloin steak per kg.   No. Observations:                  299\n",
       "Model:                      ARIMA(1, 1, 1)   Log Likelihood                -229.107\n",
       "Method:                            css-mle   S.D. of innovations              0.520\n",
       "Date:                     Fri, 13 May 2022   AIC                            466.214\n",
       "Time:                             01:40:27   BIC                            481.015\n",
       "Sample:                         02-01-1997   HQIC                           472.138\n",
       "                              - 12-01-2021                                         \n",
       "=================================================================================================\n",
       "                                    coef    std err          z      P>|z|      [0.025      0.975]\n",
       "-------------------------------------------------------------------------------------------------\n",
       "const                             0.0204      0.015      1.382      0.167      -0.009       0.049\n",
       "ar.L1.D.Sirloin steak per kg.    -0.0557      0.098     -0.567      0.571      -0.248       0.137\n",
       "ma.L1.D.Sirloin steak per kg.    -0.4839      0.082     -5.900      0.000      -0.645      -0.323\n",
       "                                    Roots                                    \n",
       "=============================================================================\n",
       "                  Real          Imaginary           Modulus         Frequency\n",
       "-----------------------------------------------------------------------------\n",
       "AR.1          -17.9573           +0.0000j           17.9573            0.5000\n",
       "MA.1            2.0664           +0.0000j            2.0664            0.0000\n",
       "-----------------------------------------------------------------------------\n",
       "\"\"\""
      ]
     },
     "execution_count": 22,
     "metadata": {},
     "output_type": "execute_result"
    }
   ],
   "source": [
    "from statsmodels.tsa.arima_model import ARIMA\n",
    "model=ARIMA(df_irl['Sirloin steak per kg.'],order=(1,1,1))\n",
    "history=model.fit()\n",
    "history.summary()"
   ]
  },
  {
   "cell_type": "code",
   "execution_count": 23,
   "id": "dc36b38e",
   "metadata": {},
   "outputs": [
    {
     "data": {
      "text/plain": [
       "<AxesSubplot:xlabel='Daystamp'>"
      ]
     },
     "execution_count": 23,
     "metadata": {},
     "output_type": "execute_result"
    },
    {
     "data": {
      "image/png": "[encoded data removed]",
      "text/plain": [
       "<Figure size 864x576 with 1 Axes>"
      ]
     },
     "metadata": {
      "needs_background": "light"
     },
     "output_type": "display_data"
    }
   ],
   "source": [
    "df_irl['forecast']=history.predict(start=276,end=300,dynamic=True)\n",
    "df_irl[['Sirloin steak per kg.','forecast']].plot(figsize=(12,8))"
   ]
  },
  {
   "cell_type": "code",
   "execution_count": 24,
   "id": "4080d9c4",
   "metadata": {},
   "outputs": [
    {
     "name": "stderr",
     "output_type": "stream",
     "text": [
      "C:\\ProgramData\\Anaconda3\\lib\\site-packages\\statsmodels\\tsa\\base\\tsa_model.py:524: ValueWarning: No frequency information was provided, so inferred frequency MS will be used.\n",
      "  warnings.warn('No frequency information was'\n",
      "C:\\ProgramData\\Anaconda3\\lib\\site-packages\\statsmodels\\tsa\\base\\tsa_model.py:524: ValueWarning: No frequency information was provided, so inferred frequency MS will be used.\n",
      "  warnings.warn('No frequency information was'\n"
     ]
    },
    {
     "data": {
      "text/plain": [
       "<AxesSubplot:xlabel='Daystamp'>"
      ]
     },
     "execution_count": 24,
     "metadata": {},
     "output_type": "execute_result"
    },
    {
     "data": {
      "image/png": "[encoded data removed]",
      "text/plain": [
       "<Figure size 864x576 with 1 Axes>"
      ]
     },
     "metadata": {
      "needs_background": "light"
     },
     "output_type": "display_data"
    }
   ],
   "source": [
    "model=ARIMA(df_irl['rolling_mean_diff'].dropna(),order=(1,1,1))\n",
    "model_fit=model.fit()\n",
    "df_irl['forecast']=model_fit.predict(start=len(df_irl)-24,end=len(df_irl),dynamic=True)\n",
    "df_irl[['rolling_mean_diff','forecast']].plot(figsize=(12,8))"
   ]
  },
  {
   "cell_type": "code",
   "execution_count": null,
   "id": "e433c768",
   "metadata": {},
   "outputs": [],
   "source": []
  },
  {
   "cell_type": "code",
   "execution_count": null,
   "id": "73dc7a29",
   "metadata": {},
   "outputs": [],
   "source": []
  },
  {
   "cell_type": "code",
   "execution_count": null,
   "id": "e8b89f74",
   "metadata": {},
   "outputs": [],
   "source": []
  },
  {
   "cell_type": "code",
   "execution_count": null,
   "id": "b94a5cbb",
   "metadata": {},
   "outputs": [],
   "source": []
  },
  {
   "cell_type": "code",
   "execution_count": 25,
   "id": "09f8f0de",
   "metadata": {},
   "outputs": [],
   "source": [
    "from pmdarima import auto_arima"
   ]
  },
  {
   "cell_type": "code",
   "execution_count": 26,
   "id": "911c0826",
   "metadata": {},
   "outputs": [
    {
     "data": {
      "text/html": [
       "<table class=\"simpletable\">\n",
       "<caption>SARIMAX Results</caption>\n",
       "<tr>\n",
       "  <th>Dep. Variable:</th>                  <td>y</td>                <th>  No. Observations:  </th>    <td>300</td>  \n",
       "</tr>\n",
       "<tr>\n",
       "  <th>Model:</th>           <td>SARIMAX(1, 1, 2)x(2, 0, [], 12)</td> <th>  Log Likelihood     </th> <td>-219.209</td>\n",
       "</tr>\n",
       "<tr>\n",
       "  <th>Date:</th>                   <td>Fri, 13 May 2022</td>         <th>  AIC                </th>  <td>450.418</td>\n",
       "</tr>\n",
       "<tr>\n",
       "  <th>Time:</th>                       <td>01:41:46</td>             <th>  BIC                </th>  <td>472.621</td>\n",
       "</tr>\n",
       "<tr>\n",
       "  <th>Sample:</th>                         <td>0</td>                <th>  HQIC               </th>  <td>459.305</td>\n",
       "</tr>\n",
       "<tr>\n",
       "  <th></th>                             <td> - 300</td>              <th>                     </th>     <td> </td>   \n",
       "</tr>\n",
       "<tr>\n",
       "  <th>Covariance Type:</th>               <td>opg</td>               <th>                     </th>     <td> </td>   \n",
       "</tr>\n",
       "</table>\n",
       "<table class=\"simpletable\">\n",
       "<tr>\n",
       "      <td></td>        <th>coef</th>     <th>std err</th>      <th>z</th>      <th>P>|z|</th>  <th>[0.025</th>    <th>0.975]</th>  \n",
       "</tr>\n",
       "<tr>\n",
       "  <th>ar.L1</th>    <td>    0.6489</td> <td>    0.245</td> <td>    2.651</td> <td> 0.008</td> <td>    0.169</td> <td>    1.129</td>\n",
       "</tr>\n",
       "<tr>\n",
       "  <th>ma.L1</th>    <td>   -1.2330</td> <td>    0.239</td> <td>   -5.159</td> <td> 0.000</td> <td>   -1.701</td> <td>   -0.765</td>\n",
       "</tr>\n",
       "<tr>\n",
       "  <th>ma.L2</th>    <td>    0.4537</td> <td>    0.123</td> <td>    3.695</td> <td> 0.000</td> <td>    0.213</td> <td>    0.694</td>\n",
       "</tr>\n",
       "<tr>\n",
       "  <th>ar.S.L12</th> <td>    0.1619</td> <td>    0.048</td> <td>    3.356</td> <td> 0.001</td> <td>    0.067</td> <td>    0.256</td>\n",
       "</tr>\n",
       "<tr>\n",
       "  <th>ar.S.L24</th> <td>    0.1612</td> <td>    0.056</td> <td>    2.903</td> <td> 0.004</td> <td>    0.052</td> <td>    0.270</td>\n",
       "</tr>\n",
       "<tr>\n",
       "  <th>sigma2</th>   <td>    0.2524</td> <td>    0.015</td> <td>   17.228</td> <td> 0.000</td> <td>    0.224</td> <td>    0.281</td>\n",
       "</tr>\n",
       "</table>\n",
       "<table class=\"simpletable\">\n",
       "<tr>\n",
       "  <th>Ljung-Box (L1) (Q):</th>     <td>0.01</td> <th>  Jarque-Bera (JB):  </th> <td>79.65</td>\n",
       "</tr>\n",
       "<tr>\n",
       "  <th>Prob(Q):</th>                <td>0.92</td> <th>  Prob(JB):          </th> <td>0.00</td> \n",
       "</tr>\n",
       "<tr>\n",
       "  <th>Heteroskedasticity (H):</th> <td>1.63</td> <th>  Skew:              </th> <td>-0.30</td>\n",
       "</tr>\n",
       "<tr>\n",
       "  <th>Prob(H) (two-sided):</th>    <td>0.01</td> <th>  Kurtosis:          </th> <td>5.45</td> \n",
       "</tr>\n",
       "</table><br/><br/>Warnings:<br/>[1] Covariance matrix calculated using the outer product of gradients (complex-step)."
      ],
      "text/plain": [
       "<class 'statsmodels.iolib.summary.Summary'>\n",
       "\"\"\"\n",
       "                                      SARIMAX Results                                      \n",
       "===========================================================================================\n",
       "Dep. Variable:                                   y   No. Observations:                  300\n",
       "Model:             SARIMAX(1, 1, 2)x(2, 0, [], 12)   Log Likelihood                -219.209\n",
       "Date:                             Fri, 13 May 2022   AIC                            450.418\n",
       "Time:                                     01:41:46   BIC                            472.621\n",
       "Sample:                                          0   HQIC                           459.305\n",
       "                                             - 300                                         \n",
       "Covariance Type:                               opg                                         \n",
       "==============================================================================\n",
       "                 coef    std err          z      P>|z|      [0.025      0.975]\n",
       "------------------------------------------------------------------------------\n",
       "ar.L1          0.6489      0.245      2.651      0.008       0.169       1.129\n",
       "ma.L1         -1.2330      0.239     -5.159      0.000      -1.701      -0.765\n",
       "ma.L2          0.4537      0.123      3.695      0.000       0.213       0.694\n",
       "ar.S.L12       0.1619      0.048      3.356      0.001       0.067       0.256\n",
       "ar.S.L24       0.1612      0.056      2.903      0.004       0.052       0.270\n",
       "sigma2         0.2524      0.015     17.228      0.000       0.224       0.281\n",
       "===================================================================================\n",
       "Ljung-Box (L1) (Q):                   0.01   Jarque-Bera (JB):                79.65\n",
       "Prob(Q):                              0.92   Prob(JB):                         0.00\n",
       "Heteroskedasticity (H):               1.63   Skew:                            -0.30\n",
       "Prob(H) (two-sided):                  0.01   Kurtosis:                         5.45\n",
       "===================================================================================\n",
       "\n",
       "Warnings:\n",
       "[1] Covariance matrix calculated using the outer product of gradients (complex-step).\n",
       "\"\"\""
      ]
     },
     "execution_count": 26,
     "metadata": {},
     "output_type": "execute_result"
    }
   ],
   "source": [
    "auto_arima(df_irl['Sirloin steak per kg.'],sesonal =True,m=12).summary()\n"
   ]
  },
  {
   "cell_type": "code",
   "execution_count": null,
   "id": "a61d0d87",
   "metadata": {},
   "outputs": [],
   "source": [
    "#data partitioning\n"
   ]
  },
  {
   "cell_type": "code",
   "execution_count": null,
   "id": "661fa2e3",
   "metadata": {},
   "outputs": [],
   "source": []
  },
  {
   "cell_type": "code",
   "execution_count": null,
   "id": "6768adaa",
   "metadata": {},
   "outputs": [],
   "source": []
  },
  {
   "cell_type": "code",
   "execution_count": null,
   "id": "318348e1",
   "metadata": {},
   "outputs": [],
   "source": []
  },
  {
   "cell_type": "code",
   "execution_count": null,
   "id": "b72c7c57",
   "metadata": {},
   "outputs": [],
   "source": []
  },
  {
   "cell_type": "code",
   "execution_count": null,
   "id": "a2a6975d",
   "metadata": {},
   "outputs": [],
   "source": []
  },
  {
   "cell_type": "code",
   "execution_count": 27,
   "id": "89c75d9f",
   "metadata": {},
   "outputs": [
    {
     "data": {
      "text/plain": [
       "276"
      ]
     },
     "execution_count": 27,
     "metadata": {},
     "output_type": "execute_result"
    }
   ],
   "source": [
    "start_row= len(df_irl)-24 #splitting data set\n",
    "start_row"
   ]
  },
  {
   "cell_type": "code",
   "execution_count": 28,
   "id": "eadee349",
   "metadata": {},
   "outputs": [
    {
     "data": {
      "text/html": [
       "<div>\n",
       "<style scoped>\n",
       "    .dataframe tbody tr th:only-of-type {\n",
       "        vertical-align: middle;\n",
       "    }\n",
       "\n",
       "    .dataframe tbody tr th {\n",
       "        vertical-align: top;\n",
       "    }\n",
       "\n",
       "    .dataframe thead th {\n",
       "        text-align: right;\n",
       "    }\n",
       "</style>\n",
       "<table border=\"1\" class=\"dataframe\">\n",
       "  <thead>\n",
       "    <tr style=\"text-align: right;\">\n",
       "      <th>ID</th>\n",
       "      <th>Sirloin steak per kg.</th>\n",
       "      <th>rolling_mean_diff</th>\n",
       "      <th>forecast</th>\n",
       "    </tr>\n",
       "    <tr>\n",
       "      <th>Daystamp</th>\n",
       "      <th></th>\n",
       "      <th></th>\n",
       "      <th></th>\n",
       "    </tr>\n",
       "  </thead>\n",
       "  <tbody>\n",
       "    <tr>\n",
       "      <th>1997-01-01</th>\n",
       "      <td>8.053</td>\n",
       "      <td>NaN</td>\n",
       "      <td>NaN</td>\n",
       "    </tr>\n",
       "    <tr>\n",
       "      <th>1997-02-01</th>\n",
       "      <td>8.276</td>\n",
       "      <td>NaN</td>\n",
       "      <td>NaN</td>\n",
       "    </tr>\n",
       "    <tr>\n",
       "      <th>1997-03-01</th>\n",
       "      <td>8.124</td>\n",
       "      <td>NaN</td>\n",
       "      <td>NaN</td>\n",
       "    </tr>\n",
       "    <tr>\n",
       "      <th>1997-04-01</th>\n",
       "      <td>8.503</td>\n",
       "      <td>NaN</td>\n",
       "      <td>NaN</td>\n",
       "    </tr>\n",
       "    <tr>\n",
       "      <th>1997-05-01</th>\n",
       "      <td>8.397</td>\n",
       "      <td>NaN</td>\n",
       "      <td>NaN</td>\n",
       "    </tr>\n",
       "    <tr>\n",
       "      <th>...</th>\n",
       "      <td>...</td>\n",
       "      <td>...</td>\n",
       "      <td>...</td>\n",
       "    </tr>\n",
       "    <tr>\n",
       "      <th>2019-08-01</th>\n",
       "      <td>15.357</td>\n",
       "      <td>0.008667</td>\n",
       "      <td>NaN</td>\n",
       "    </tr>\n",
       "    <tr>\n",
       "      <th>2019-09-01</th>\n",
       "      <td>15.809</td>\n",
       "      <td>0.009667</td>\n",
       "      <td>NaN</td>\n",
       "    </tr>\n",
       "    <tr>\n",
       "      <th>2019-10-01</th>\n",
       "      <td>15.668</td>\n",
       "      <td>0.102000</td>\n",
       "      <td>NaN</td>\n",
       "    </tr>\n",
       "    <tr>\n",
       "      <th>2019-11-01</th>\n",
       "      <td>15.730</td>\n",
       "      <td>0.032750</td>\n",
       "      <td>NaN</td>\n",
       "    </tr>\n",
       "    <tr>\n",
       "      <th>2019-12-01</th>\n",
       "      <td>15.677</td>\n",
       "      <td>0.075917</td>\n",
       "      <td>NaN</td>\n",
       "    </tr>\n",
       "  </tbody>\n",
       "</table>\n",
       "<p>276 rows × 3 columns</p>\n",
       "</div>"
      ],
      "text/plain": [
       "ID          Sirloin steak per kg.  rolling_mean_diff  forecast\n",
       "Daystamp                                                      \n",
       "1997-01-01                  8.053                NaN       NaN\n",
       "1997-02-01                  8.276                NaN       NaN\n",
       "1997-03-01                  8.124                NaN       NaN\n",
       "1997-04-01                  8.503                NaN       NaN\n",
       "1997-05-01                  8.397                NaN       NaN\n",
       "...                           ...                ...       ...\n",
       "2019-08-01                 15.357           0.008667       NaN\n",
       "2019-09-01                 15.809           0.009667       NaN\n",
       "2019-10-01                 15.668           0.102000       NaN\n",
       "2019-11-01                 15.730           0.032750       NaN\n",
       "2019-12-01                 15.677           0.075917       NaN\n",
       "\n",
       "[276 rows x 3 columns]"
      ]
     },
     "execution_count": 28,
     "metadata": {},
     "output_type": "execute_result"
    }
   ],
   "source": [
    "df_train_irl = df_irl.iloc[:start_row]\n",
    "df_train_irl"
   ]
  },
  {
   "cell_type": "code",
   "execution_count": 29,
   "id": "cac0b988",
   "metadata": {
    "scrolled": false
   },
   "outputs": [
    {
     "data": {
      "text/html": [
       "<div>\n",
       "<style scoped>\n",
       "    .dataframe tbody tr th:only-of-type {\n",
       "        vertical-align: middle;\n",
       "    }\n",
       "\n",
       "    .dataframe tbody tr th {\n",
       "        vertical-align: top;\n",
       "    }\n",
       "\n",
       "    .dataframe thead th {\n",
       "        text-align: right;\n",
       "    }\n",
       "</style>\n",
       "<table border=\"1\" class=\"dataframe\">\n",
       "  <thead>\n",
       "    <tr style=\"text-align: right;\">\n",
       "      <th>ID</th>\n",
       "      <th>Sirloin steak per kg.</th>\n",
       "      <th>rolling_mean_diff</th>\n",
       "      <th>forecast</th>\n",
       "    </tr>\n",
       "    <tr>\n",
       "      <th>Daystamp</th>\n",
       "      <th></th>\n",
       "      <th></th>\n",
       "      <th></th>\n",
       "    </tr>\n",
       "  </thead>\n",
       "  <tbody>\n",
       "    <tr>\n",
       "      <th>2020-01-01</th>\n",
       "      <td>15.766</td>\n",
       "      <td>0.020833</td>\n",
       "      <td>NaN</td>\n",
       "    </tr>\n",
       "    <tr>\n",
       "      <th>2020-02-01</th>\n",
       "      <td>15.585</td>\n",
       "      <td>0.113500</td>\n",
       "      <td>NaN</td>\n",
       "    </tr>\n",
       "    <tr>\n",
       "      <th>2020-03-01</th>\n",
       "      <td>15.511</td>\n",
       "      <td>0.048583</td>\n",
       "      <td>NaN</td>\n",
       "    </tr>\n",
       "    <tr>\n",
       "      <th>2020-04-01</th>\n",
       "      <td>14.780</td>\n",
       "      <td>-0.018417</td>\n",
       "      <td>NaN</td>\n",
       "    </tr>\n",
       "    <tr>\n",
       "      <th>2020-05-01</th>\n",
       "      <td>15.474</td>\n",
       "      <td>-0.010750</td>\n",
       "      <td>NaN</td>\n",
       "    </tr>\n",
       "  </tbody>\n",
       "</table>\n",
       "</div>"
      ],
      "text/plain": [
       "ID          Sirloin steak per kg.  rolling_mean_diff  forecast\n",
       "Daystamp                                                      \n",
       "2020-01-01                 15.766           0.020833       NaN\n",
       "2020-02-01                 15.585           0.113500       NaN\n",
       "2020-03-01                 15.511           0.048583       NaN\n",
       "2020-04-01                 14.780          -0.018417       NaN\n",
       "2020-05-01                 15.474          -0.010750       NaN"
      ]
     },
     "execution_count": 29,
     "metadata": {},
     "output_type": "execute_result"
    }
   ],
   "source": [
    "df_test_irl = df_irl.iloc[start_row:]\n",
    "df_test_irl.head()"
   ]
  },
  {
   "cell_type": "code",
   "execution_count": 30,
   "id": "2773838e",
   "metadata": {},
   "outputs": [
    {
     "name": "stderr",
     "output_type": "stream",
     "text": [
      "C:\\ProgramData\\Anaconda3\\lib\\site-packages\\statsmodels\\tsa\\base\\tsa_model.py:524: ValueWarning: No frequency information was provided, so inferred frequency MS will be used.\n",
      "  warnings.warn('No frequency information was'\n",
      "C:\\ProgramData\\Anaconda3\\lib\\site-packages\\statsmodels\\tsa\\base\\tsa_model.py:524: ValueWarning: No frequency information was provided, so inferred frequency MS will be used.\n",
      "  warnings.warn('No frequency information was'\n"
     ]
    },
    {
     "data": {
      "text/html": [
       "<table class=\"simpletable\">\n",
       "<caption>SARIMAX Results</caption>\n",
       "<tr>\n",
       "  <th>Dep. Variable:</th>        <td>Sirloin steak per kg.</td>      <th>  No. Observations:  </th>    <td>276</td>  \n",
       "</tr>\n",
       "<tr>\n",
       "  <th>Model:</th>           <td>SARIMAX(1, 1, 2)x(2, 0, [], 12)</td> <th>  Log Likelihood     </th> <td>-208.729</td>\n",
       "</tr>\n",
       "<tr>\n",
       "  <th>Date:</th>                   <td>Fri, 13 May 2022</td>         <th>  AIC                </th>  <td>429.458</td>\n",
       "</tr>\n",
       "<tr>\n",
       "  <th>Time:</th>                       <td>01:41:59</td>             <th>  BIC                </th>  <td>451.159</td>\n",
       "</tr>\n",
       "<tr>\n",
       "  <th>Sample:</th>                    <td>01-01-1997</td>            <th>  HQIC               </th>  <td>438.167</td>\n",
       "</tr>\n",
       "<tr>\n",
       "  <th></th>                          <td>- 12-01-2019</td>           <th>                     </th>     <td> </td>   \n",
       "</tr>\n",
       "<tr>\n",
       "  <th>Covariance Type:</th>               <td>opg</td>               <th>                     </th>     <td> </td>   \n",
       "</tr>\n",
       "</table>\n",
       "<table class=\"simpletable\">\n",
       "<tr>\n",
       "      <td></td>        <th>coef</th>     <th>std err</th>      <th>z</th>      <th>P>|z|</th>  <th>[0.025</th>    <th>0.975]</th>  \n",
       "</tr>\n",
       "<tr>\n",
       "  <th>ar.L1</th>    <td>    0.6481</td> <td>    0.259</td> <td>    2.507</td> <td> 0.012</td> <td>    0.141</td> <td>    1.155</td>\n",
       "</tr>\n",
       "<tr>\n",
       "  <th>ma.L1</th>    <td>   -1.2310</td> <td>    0.252</td> <td>   -4.876</td> <td> 0.000</td> <td>   -1.726</td> <td>   -0.736</td>\n",
       "</tr>\n",
       "<tr>\n",
       "  <th>ma.L2</th>    <td>    0.4543</td> <td>    0.129</td> <td>    3.520</td> <td> 0.000</td> <td>    0.201</td> <td>    0.707</td>\n",
       "</tr>\n",
       "<tr>\n",
       "  <th>ar.S.L12</th> <td>    0.1789</td> <td>    0.052</td> <td>    3.470</td> <td> 0.001</td> <td>    0.078</td> <td>    0.280</td>\n",
       "</tr>\n",
       "<tr>\n",
       "  <th>ar.S.L24</th> <td>    0.1821</td> <td>    0.059</td> <td>    3.080</td> <td> 0.002</td> <td>    0.066</td> <td>    0.298</td>\n",
       "</tr>\n",
       "<tr>\n",
       "  <th>sigma2</th>   <td>    0.2654</td> <td>    0.016</td> <td>   16.204</td> <td> 0.000</td> <td>    0.233</td> <td>    0.298</td>\n",
       "</tr>\n",
       "</table>\n",
       "<table class=\"simpletable\">\n",
       "<tr>\n",
       "  <th>Ljung-Box (L1) (Q):</th>     <td>0.00</td> <th>  Jarque-Bera (JB):  </th> <td>68.93</td>\n",
       "</tr>\n",
       "<tr>\n",
       "  <th>Prob(Q):</th>                <td>0.97</td> <th>  Prob(JB):          </th> <td>0.00</td> \n",
       "</tr>\n",
       "<tr>\n",
       "  <th>Heteroskedasticity (H):</th> <td>2.05</td> <th>  Skew:              </th> <td>-0.33</td>\n",
       "</tr>\n",
       "<tr>\n",
       "  <th>Prob(H) (two-sided):</th>    <td>0.00</td> <th>  Kurtosis:          </th> <td>5.36</td> \n",
       "</tr>\n",
       "</table><br/><br/>Warnings:<br/>[1] Covariance matrix calculated using the outer product of gradients (complex-step)."
      ],
      "text/plain": [
       "<class 'statsmodels.iolib.summary.Summary'>\n",
       "\"\"\"\n",
       "                                      SARIMAX Results                                      \n",
       "===========================================================================================\n",
       "Dep. Variable:               Sirloin steak per kg.   No. Observations:                  276\n",
       "Model:             SARIMAX(1, 1, 2)x(2, 0, [], 12)   Log Likelihood                -208.729\n",
       "Date:                             Fri, 13 May 2022   AIC                            429.458\n",
       "Time:                                     01:41:59   BIC                            451.159\n",
       "Sample:                                 01-01-1997   HQIC                           438.167\n",
       "                                      - 12-01-2019                                         \n",
       "Covariance Type:                               opg                                         \n",
       "==============================================================================\n",
       "                 coef    std err          z      P>|z|      [0.025      0.975]\n",
       "------------------------------------------------------------------------------\n",
       "ar.L1          0.6481      0.259      2.507      0.012       0.141       1.155\n",
       "ma.L1         -1.2310      0.252     -4.876      0.000      -1.726      -0.736\n",
       "ma.L2          0.4543      0.129      3.520      0.000       0.201       0.707\n",
       "ar.S.L12       0.1789      0.052      3.470      0.001       0.078       0.280\n",
       "ar.S.L24       0.1821      0.059      3.080      0.002       0.066       0.298\n",
       "sigma2         0.2654      0.016     16.204      0.000       0.233       0.298\n",
       "===================================================================================\n",
       "Ljung-Box (L1) (Q):                   0.00   Jarque-Bera (JB):                68.93\n",
       "Prob(Q):                              0.97   Prob(JB):                         0.00\n",
       "Heteroskedasticity (H):               2.05   Skew:                            -0.33\n",
       "Prob(H) (two-sided):                  0.00   Kurtosis:                         5.36\n",
       "===================================================================================\n",
       "\n",
       "Warnings:\n",
       "[1] Covariance matrix calculated using the outer product of gradients (complex-step).\n",
       "\"\"\""
      ]
     },
     "execution_count": 30,
     "metadata": {},
     "output_type": "execute_result"
    }
   ],
   "source": [
    "from statsmodels.tsa.statespace.sarimax import SARIMAX\n",
    "model= SARIMAX(df_train_irl['Sirloin steak per kg.'],order =(1, 1, 2),seasonal_order=(2, 0, 0, 12))\n",
    "res_SAR =model.fit()\n",
    "res_SAR.summary()"
   ]
  },
  {
   "cell_type": "code",
   "execution_count": null,
   "id": "52dfaf92",
   "metadata": {},
   "outputs": [],
   "source": [
    "#error means non stationary data\n"
   ]
  },
  {
   "cell_type": "code",
   "execution_count": null,
   "id": "0e04dc95",
   "metadata": {},
   "outputs": [],
   "source": []
  },
  {
   "cell_type": "code",
   "execution_count": null,
   "id": "cd75517c",
   "metadata": {},
   "outputs": [],
   "source": []
  },
  {
   "cell_type": "code",
   "execution_count": null,
   "id": "132ffdde",
   "metadata": {},
   "outputs": [],
   "source": []
  },
  {
   "cell_type": "code",
   "execution_count": null,
   "id": "8c3957f4",
   "metadata": {},
   "outputs": [],
   "source": []
  },
  {
   "cell_type": "code",
   "execution_count": null,
   "id": "cec96ef1",
   "metadata": {},
   "outputs": [],
   "source": []
  },
  {
   "cell_type": "code",
   "execution_count": null,
   "id": "408ad5b1",
   "metadata": {},
   "outputs": [],
   "source": []
  },
  {
   "cell_type": "code",
   "execution_count": null,
   "id": "db0a7a2f",
   "metadata": {},
   "outputs": [],
   "source": []
  },
  {
   "cell_type": "markdown",
   "id": "4c5c982c",
   "metadata": {},
   "source": [
    "## Cleaning USA Data"
   ]
  },
  {
   "cell_type": "code",
   "execution_count": null,
   "id": "96861a60",
   "metadata": {
    "scrolled": false
   },
   "outputs": [],
   "source": [
    "#importing dataframe USA containing data from 1989-2022\n",
    "df_usa= pd.read_csv(r'US Steak prices.csv')\n",
    "df_usa.head(20)"
   ]
  },
  {
   "cell_type": "code",
   "execution_count": null,
   "id": "e8fc152b",
   "metadata": {
    "scrolled": true
   },
   "outputs": [],
   "source": [
    "#import dataset again, but skip firdt 9 rows to get correct column names\n",
    "df_usa= pd.read_csv(r'US Steak prices.csv',skiprows=9)\n",
    "df_usa['Period']=df_usa['Period'].str[1:] # remove 'M' character from 'Period' column\n",
    "df_usa['Year']=df_usa['Year'].astype(str) + df_usa[\"Period\"] # merge columns 'Year' and 'Period' \n",
    "df_usa =df_usa.drop(['Series ID', 'Unnamed: 4','Unnamed: 5','Period'], axis=1) #drop unused columns\n",
    "df_usa=df_usa.rename(columns = {'Year':'Daystamp'}) # remane 'Year' column to mach IRL dataset\n",
    "df_usa= df_usa.rename_axis('ID',axis=1) # Add column name to the index column\n",
    "df_usa.head()"
   ]
  },
  {
   "cell_type": "code",
   "execution_count": null,
   "id": "e587f917",
   "metadata": {},
   "outputs": [],
   "source": [
    "#create date values from current integer values in column 'Daystamp'\n",
    "df_usa['Daystamp'] = pd.to_datetime(df_usa['Daystamp'].apply(str) + '01', format='%Y%m%d', errors='ignore')\n",
    "df_usa['Year']= df_usa['Daystamp'].dt.year #Creating 'Year' column that will be used in visualisations\n",
    "df_usa['Month']= df_usa['Daystamp'].dt.month #Creating 'Month' column that will be used in visualisations\n",
    "df_usa"
   ]
  },
  {
   "cell_type": "code",
   "execution_count": null,
   "id": "767e70fb",
   "metadata": {
    "scrolled": true
   },
   "outputs": [],
   "source": [
    "df_usa=df_usa.rename(columns = {'Value':'Sirloin steak per kg.'}) #rename 'Value' column to match IRL dataset\n",
    "df_usa['Sirloin steak per kg.']=2.2* df_usa['Sirloin steak per kg.'] #convert price from pounds into kilograms\n",
    "df_usa"
   ]
  },
  {
   "cell_type": "code",
   "execution_count": null,
   "id": "05c1c14c",
   "metadata": {},
   "outputs": [],
   "source": [
    "# after comparing IRL/USA datasets - remove unmached data from USA dataset\n",
    "df_usa = df_usa[(df_usa['Daystamp'] > '1996-12-1') & (df_usa['Daystamp'] <= '2022-2-1')]\n",
    "print(df_usa.info())\n",
    "df_irl.info()"
   ]
  },
  {
   "cell_type": "code",
   "execution_count": null,
   "id": "8dcfedab",
   "metadata": {
    "scrolled": false
   },
   "outputs": [],
   "source": [
    "#enhance line plot\n",
    "plt.figure(figsize=(15,5),facecolor='#ECECEC')\n",
    "Time_series=sns.lineplot(x=df_usa['Year'],y='Sirloin steak per kg.',data=df_usa,color='#599664', linewidth=3)\n",
    "Time_series.set_title('Sirloin steak price in USA from 1997-2021',fontsize=20)\n",
    "Time_series.set_ylabel('Price per Kg.',fontsize=20)\n",
    "Time_series.set_xlabel('Year',fontsize=20)\n",
    "plt.grid() "
   ]
  },
  {
   "cell_type": "code",
   "execution_count": null,
   "id": "c40305fa",
   "metadata": {},
   "outputs": [],
   "source": [
    "#compare fwo graphs\n",
    "plt.figure(figsize=(15,5),facecolor='#ECECEC')\n",
    "Time_series=sns.lineplot(x=df_usa['Year'],y='Sirloin steak per kg.',data=df_usa,color='#880808', linewidth=1.5,label='USA')\n",
    "Time_series=sns.lineplot(x=df_irl['Year'],y='Sirloin steak per kg.',data=df_irl,color='#50C878', linewidth=1.5, label='IRL')\n",
    "Time_series.set_title('Sirloin steak prices in IRL and USA from 1997-2021',fontsize=20)\n",
    "Time_series.set_ylabel('Price per Kg.',fontsize=20)\n",
    "Time_series.set_xlabel('Year',fontsize=20)\n",
    "plt.grid() \n"
   ]
  },
  {
   "cell_type": "code",
   "execution_count": null,
   "id": "312268c3",
   "metadata": {
    "scrolled": true
   },
   "outputs": [],
   "source": [
    "plt.figure(figsize=(24, 10))\n",
    "axs=sns.boxplot(x=df_usa.Year, y=df_usa['Sirloin steak per kg.'])\n",
    "axs.set_title('Count Of Traffic 2008',fontsize=30)\n",
    "axs.set_ylabel('Number of Vehicles',fontsize=20)\n",
    "axs.set_xlabel('Year',fontsize=20)\n",
    "plt.show()"
   ]
  },
  {
   "cell_type": "code",
   "execution_count": null,
   "id": "d1ed1fd1",
   "metadata": {},
   "outputs": [],
   "source": [
    "#remove outliers in USA data using GroupBy median\n",
    "grp = df_usa.groupby('Year')['Sirloin steak per kg.']\n",
    "df_usa['Sirloin steak per kg.'] = (df_usa['Sirloin steak per kg.'].where(grp.transform('quantile', q=0.95) > df_usa['Sirloin steak per kg.'], \n",
    "                            grp.transform('median')))\n"
   ]
  },
  {
   "cell_type": "code",
   "execution_count": null,
   "id": "cff955e5",
   "metadata": {
    "scrolled": true
   },
   "outputs": [],
   "source": [
    "plt.figure(figsize=(24, 10))\n",
    "axs=sns.boxplot(x=df_usa.Year, y=df_usa['Sirloin steak per kg.'])\n",
    "axs.set_title('Count Of Traffic 2008',fontsize=30)\n",
    "axs.set_ylabel('Number of Vehicles',fontsize=20)\n",
    "axs.set_xlabel('Year',fontsize=20)\n",
    "plt.show()"
   ]
  },
  {
   "cell_type": "code",
   "execution_count": null,
   "id": "efecdda2",
   "metadata": {
    "scrolled": false
   },
   "outputs": [],
   "source": [
    "plt.figure(figsize=(24, 10))\n",
    "axs=sns.boxplot(x=df_irl.Year, y=df_irl['Sirloin steak per kg.'])\n",
    "axs.set_title('Count Of Traffic 2008',fontsize=30)\n",
    "axs.set_ylabel('Number of Vehicles',fontsize=20)\n",
    "axs.set_xlabel('Year',fontsize=20)\n",
    "plt.show()"
   ]
  },
  {
   "cell_type": "code",
   "execution_count": null,
   "id": "e3f76cdc",
   "metadata": {},
   "outputs": [],
   "source": [
    "#remove outliers using GroupBy median\n",
    "grp = df_irl.groupby('Year')['Sirloin steak per kg.']\n",
    "df_irl['Sirloin steak per kg.'] = (df_irl['Sirloin steak per kg.'].where(grp.transform('quantile', q=0.95) > df_irl['Sirloin steak per kg.'], \n",
    "                            grp.transform('median')))\n"
   ]
  },
  {
   "cell_type": "code",
   "execution_count": null,
   "id": "24af1aa6",
   "metadata": {},
   "outputs": [],
   "source": [
    "plt.figure(figsize=(24, 10))\n",
    "axs=sns.boxplot(x=df_irl.Year, y=df_irl['Sirloin steak per kg.'])\n",
    "axs.set_title('Count Of Traffic 2008',fontsize=30)\n",
    "axs.set_ylabel('Number of Vehicles',fontsize=20)\n",
    "axs.set_xlabel('Year',fontsize=20)\n",
    "plt.show()"
   ]
  },
  {
   "cell_type": "code",
   "execution_count": null,
   "id": "f81ac7cd",
   "metadata": {},
   "outputs": [],
   "source": []
  }
 ],
 "metadata": {
  "kernelspec": {
   "display_name": "Python 3 (ipykernel)",
   "language": "python",
   "name": "python3"
  },
  "language_info": {
   "codemirror_mode": {
    "name": "ipython",
    "version": 3
   },
   "file_extension": ".py",
   "mimetype": "text/x-python",
   "name": "python",
   "nbconvert_exporter": "python",
   "pygments_lexer": "ipython3",
   "version": "3.9.7"
  }
 },
 "nbformat": 4,
 "nbformat_minor": 5
}
