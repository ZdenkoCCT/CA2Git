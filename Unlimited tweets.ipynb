{
 "cells": [
  {
   "cell_type": "code",
   "execution_count": 1,
   "id": "d9f3351e",
   "metadata": {},
   "outputs": [],
   "source": [
    "import snscrape.modules.twitter as sntwitter\n",
    "import pandas as pd\n",
    "\n",
    "query = 'organic food ireland' #near:\"Dublin\"'\n",
    "tweets = []\n",
    "limit = 20\n",
    "\n",
    "\n",
    "for tweet in sntwitter.TwitterSearchScraper(query).get_items():\n",
    "    \n",
    "    # print(vars(tweet))\n",
    "    # break\n",
    "    if len(tweets) == limit:\n",
    "        break\n",
    "    else:\n",
    "        tweets.append(tweet)\n",
    "        \n",
    "df_tweets = pd.DataFrame(tweets)\n",
    "\n",
    "# df_tweets.to_csv('tweets_allcolumns.csv')"
   ]
  },
  {
   "cell_type": "code",
   "execution_count": 2,
   "id": "c53aa4ad",
   "metadata": {},
   "outputs": [],
   "source": [
    "#adding column location\n",
    "df_tweets['user_location'] =  df_tweets['user'].apply(lambda x: x['location'])"
   ]
  },
  {
   "cell_type": "code",
   "execution_count": 3,
   "id": "e9256a26",
   "metadata": {},
   "outputs": [
    {
     "name": "stdout",
     "output_type": "stream",
     "text": [
      "<class 'pandas.core.frame.DataFrame'>\n",
      "RangeIndex: 20 entries, 0 to 19\n",
      "Data columns (total 3 columns):\n",
      " #   Column         Non-Null Count  Dtype              \n",
      "---  ------         --------------  -----              \n",
      " 0   date           20 non-null     datetime64[ns, UTC]\n",
      " 1   content        20 non-null     object             \n",
      " 2   user_location  20 non-null     object             \n",
      "dtypes: datetime64[ns, UTC](1), object(2)\n",
      "memory usage: 608.0+ bytes\n"
     ]
    }
   ],
   "source": [
    "#Step 1 Drop Columns-easier to cre\n",
    "df_tweets= df_tweets.filter(['date','content','user_location'], axis=1)\n",
    "df_tweets.info()"
   ]
  },
  {
   "cell_type": "code",
   "execution_count": 5,
   "id": "628b2f9e",
   "metadata": {},
   "outputs": [
    {
     "data": {
      "text/plain": [
       "0     @mjc0ughl4n the quality of food/availability o...\n",
       "1     @codohertynews more and more land being given ...\n",
       "2     i hope you’ve enjoyed this series, that it has...\n",
       "3     consider the seed\\nhttps://t.co/skc2vwekuo\\nas...\n",
       "4     organic fitness with fitness trainer and organ...\n",
       "5     delicious #vegetable art - almost too beautifu...\n",
       "6     ireland’s #tradesurplus widened to €7.1bn in f...\n",
       "7     we have 4 aims at drumanilra aka the 4 “r”s. t...\n",
       "8     @davquinn idea is organic food is for wealthy ...\n",
       "9     @ciaramcdonnell3 irelands 1st drive through sl...\n",
       "10    today is world health day and research has sho...\n",
       "11    we have a reputation in ireland for our high q...\n",
       "12    @irish_organic @irelandsaysno @actingthegom if...\n",
       "13    @haroldkingston1 @lorcanallen @redcresearch @k...\n",
       "14    note to green party \\nsri lanka adopted organi...\n",
       "15    @rachael_uriarte @astoldbyta @tlcplmax after l...\n",
       "16    @lorcanallen @redcresearch @kpmg_ireland not a...\n",
       "17    **reminder**\\n\\nthe next rds climate-smart agr...\n",
       "18    this webinar organised by the rds may be of in...\n",
       "19    old green ireland has lowest % of agricultural...\n",
       "Name: content, dtype: object"
      ]
     },
     "execution_count": 5,
     "metadata": {},
     "output_type": "execute_result"
    }
   ],
   "source": [
    "#Cleaning Data - change words in content column to lower\n",
    "df_tweets['content'] = df_tweets['content'].apply(lambda x:x.lower())\n",
    "df_tweets['content']"
   ]
  },
  {
   "cell_type": "code",
   "execution_count": 6,
   "id": "19078c0b",
   "metadata": {},
   "outputs": [
    {
     "ename": "NameError",
     "evalue": "name 'nltk' is not defined",
     "output_type": "error",
     "traceback": [
      "\u001b[1;31m---------------------------------------------------------------------------\u001b[0m",
      "\u001b[1;31mNameError\u001b[0m                                 Traceback (most recent call last)",
      "Input \u001b[1;32mIn [6]\u001b[0m, in \u001b[0;36m<cell line: 2>\u001b[1;34m()\u001b[0m\n\u001b[0;32m      1\u001b[0m \u001b[38;5;28;01mfrom\u001b[39;00m \u001b[38;5;21;01mnltk\u001b[39;00m \u001b[38;5;28;01mimport\u001b[39;00m sent_tokenize, word_tokenize\n\u001b[1;32m----> 2\u001b[0m nltk\u001b[38;5;241m.\u001b[39mdownload(\u001b[38;5;124m'\u001b[39m\u001b[38;5;124mpunkt\u001b[39m\u001b[38;5;124m'\u001b[39m)\n",
      "\u001b[1;31mNameError\u001b[0m: name 'nltk' is not defined"
     ]
    }
   ],
   "source": [
    "import nt\n",
    "from nltk import sent_tokenize, word_tokenize\n",
    "nltk.download('punkt')"
   ]
  },
  {
   "cell_type": "code",
   "execution_count": null,
   "id": "b0482ceb",
   "metadata": {},
   "outputs": [],
   "source": []
  },
  {
   "cell_type": "code",
   "execution_count": null,
   "id": "7d57c88b",
   "metadata": {},
   "outputs": [],
   "source": []
  }
 ],
 "metadata": {
  "kernelspec": {
   "display_name": "Python 3 (ipykernel)",
   "language": "python",
   "name": "python3"
  },
  "language_info": {
   "codemirror_mode": {
    "name": "ipython",
    "version": 3
   },
   "file_extension": ".py",
   "mimetype": "text/x-python",
   "name": "python",
   "nbconvert_exporter": "python",
   "pygments_lexer": "ipython3",
   "version": "3.9.7"
  }
 },
 "nbformat": 4,
 "nbformat_minor": 5
}
