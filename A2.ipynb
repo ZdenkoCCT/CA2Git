{
 "cells": [
  {
   "cell_type": "markdown",
   "id": "289a8576",
   "metadata": {},
   "source": [
    "## Cleaning IRL Data"
   ]
  },
  {
   "cell_type": "code",
   "execution_count": 1,
   "id": "2efe63dc",
   "metadata": {},
   "outputs": [],
   "source": [
    "#import  os,warnings and pandas libraries\n",
    "import os\n",
    "import pandas as pd\n",
    "import warnings\n",
    "warnings.filterwarnings('ignore')"
   ]
  },
  {
   "cell_type": "code",
   "execution_count": 2,
   "id": "066d862e",
   "metadata": {},
   "outputs": [
    {
     "data": {
      "text/plain": [
       "['.git',\n",
       " '.gitattributes',\n",
       " '.ipynb_checkpoints',\n",
       " 'A2.ipynb',\n",
       " 'ARIMA RESULTS.txt',\n",
       " 'Average price 1970 -2001.csv',\n",
       " 'Average price 2001-2011.csv',\n",
       " 'Average price 2011-2022.csv',\n",
       " 'CA2.ipynb',\n",
       " 'CA2Git.zip',\n",
       " 'Cleaned data.ipynb',\n",
       " 'Continues_Assignment_2_Zdenko_Zahorec_sbs22090_MSc in Data Analytics (SB+) - Feb 2022 - 2022 - YR1.docx',\n",
       " 'Download links.txt',\n",
       " 'test_irl',\n",
       " 'train_irl.csv',\n",
       " 'tweets_organic_food ireland.csv',\n",
       " 'Unlimited tweets.ipynb',\n",
       " 'Unused code.ipynb',\n",
       " 'US Steak prices.csv',\n",
       " '_Twitter API.ipynb']"
      ]
     },
     "execution_count": 2,
     "metadata": {},
     "output_type": "execute_result"
    }
   ],
   "source": [
    "#listing files from the working directory into list\n",
    "files_list =os.listdir('.')\n",
    "files_list"
   ]
  },
  {
   "cell_type": "code",
   "execution_count": 3,
   "id": "4525935f",
   "metadata": {
    "scrolled": false
   },
   "outputs": [
    {
     "data": {
      "text/html": [
       "<div>\n",
       "<style scoped>\n",
       "    .dataframe tbody tr th:only-of-type {\n",
       "        vertical-align: middle;\n",
       "    }\n",
       "\n",
       "    .dataframe tbody tr th {\n",
       "        vertical-align: top;\n",
       "    }\n",
       "\n",
       "    .dataframe thead th {\n",
       "        text-align: right;\n",
       "    }\n",
       "</style>\n",
       "<table border=\"1\" class=\"dataframe\">\n",
       "  <thead>\n",
       "    <tr style=\"text-align: right;\">\n",
       "      <th></th>\n",
       "      <th>STATISTIC</th>\n",
       "      <th>Statistic2</th>\n",
       "      <th>TLIST(M1)</th>\n",
       "      <th>Month</th>\n",
       "      <th>C02438V02948</th>\n",
       "      <th>Consumer Item</th>\n",
       "      <th>UNIT</th>\n",
       "      <th>VALUE</th>\n",
       "    </tr>\n",
       "  </thead>\n",
       "  <tbody>\n",
       "    <tr>\n",
       "      <th>0</th>\n",
       "      <td>CPM08</td>\n",
       "      <td>National Average Price</td>\n",
       "      <td>199701</td>\n",
       "      <td>1997M01</td>\n",
       "      <td>10010</td>\n",
       "      <td>Round steak per kg.</td>\n",
       "      <td>IEP</td>\n",
       "      <td>6.119</td>\n",
       "    </tr>\n",
       "    <tr>\n",
       "      <th>1</th>\n",
       "      <td>CPM08</td>\n",
       "      <td>National Average Price</td>\n",
       "      <td>199701</td>\n",
       "      <td>1997M01</td>\n",
       "      <td>10020</td>\n",
       "      <td>Sirloin steak per kg.</td>\n",
       "      <td>IEP</td>\n",
       "      <td>8.053</td>\n",
       "    </tr>\n",
       "    <tr>\n",
       "      <th>2</th>\n",
       "      <td>CPM08</td>\n",
       "      <td>National Average Price</td>\n",
       "      <td>199701</td>\n",
       "      <td>1997M01</td>\n",
       "      <td>10030</td>\n",
       "      <td>Rib steak per kg.</td>\n",
       "      <td>IEP</td>\n",
       "      <td>4.023</td>\n",
       "    </tr>\n",
       "    <tr>\n",
       "      <th>3</th>\n",
       "      <td>CPM08</td>\n",
       "      <td>National Average Price</td>\n",
       "      <td>199701</td>\n",
       "      <td>1997M01</td>\n",
       "      <td>10040</td>\n",
       "      <td>Leg beef (boneless) per kg.</td>\n",
       "      <td>IEP</td>\n",
       "      <td>4.269</td>\n",
       "    </tr>\n",
       "    <tr>\n",
       "      <th>4</th>\n",
       "      <td>CPM08</td>\n",
       "      <td>National Average Price</td>\n",
       "      <td>199701</td>\n",
       "      <td>1997M01</td>\n",
       "      <td>10050</td>\n",
       "      <td>Brisket pot roast per kg.</td>\n",
       "      <td>IEP</td>\n",
       "      <td>4.097</td>\n",
       "    </tr>\n",
       "    <tr>\n",
       "      <th>...</th>\n",
       "      <td>...</td>\n",
       "      <td>...</td>\n",
       "      <td>...</td>\n",
       "      <td>...</td>\n",
       "      <td>...</td>\n",
       "      <td>...</td>\n",
       "      <td>...</td>\n",
       "      <td>...</td>\n",
       "    </tr>\n",
       "    <tr>\n",
       "      <th>3948</th>\n",
       "      <td>CPM08</td>\n",
       "      <td>National Average Price</td>\n",
       "      <td>200111</td>\n",
       "      <td>2001M11</td>\n",
       "      <td>11820</td>\n",
       "      <td>Filtered cigarettes, standard size per 20 pk.</td>\n",
       "      <td>IEP</td>\n",
       "      <td>3.847</td>\n",
       "    </tr>\n",
       "    <tr>\n",
       "      <th>3949</th>\n",
       "      <td>CPM08</td>\n",
       "      <td>National Average Price</td>\n",
       "      <td>200111</td>\n",
       "      <td>2001M11</td>\n",
       "      <td>30430</td>\n",
       "      <td>Leaded petrol per ltr.</td>\n",
       "      <td>IEP</td>\n",
       "      <td>NaN</td>\n",
       "    </tr>\n",
       "    <tr>\n",
       "      <th>3950</th>\n",
       "      <td>CPM08</td>\n",
       "      <td>National Average Price</td>\n",
       "      <td>200111</td>\n",
       "      <td>2001M11</td>\n",
       "      <td>30440</td>\n",
       "      <td>Petrol - unleaded per ltr.</td>\n",
       "      <td>IEP</td>\n",
       "      <td>0.619</td>\n",
       "    </tr>\n",
       "    <tr>\n",
       "      <th>3951</th>\n",
       "      <td>CPM08</td>\n",
       "      <td>National Average Price</td>\n",
       "      <td>200111</td>\n",
       "      <td>2001M11</td>\n",
       "      <td>30450</td>\n",
       "      <td>Liquid petroleum gas per ltr.</td>\n",
       "      <td>IEP</td>\n",
       "      <td>0.512</td>\n",
       "    </tr>\n",
       "    <tr>\n",
       "      <th>3952</th>\n",
       "      <td>CPM08</td>\n",
       "      <td>National Average Price</td>\n",
       "      <td>200111</td>\n",
       "      <td>2001M11</td>\n",
       "      <td>30460</td>\n",
       "      <td>Diesel per ltr.</td>\n",
       "      <td>IEP</td>\n",
       "      <td>0.578</td>\n",
       "    </tr>\n",
       "  </tbody>\n",
       "</table>\n",
       "<p>3953 rows × 8 columns</p>\n",
       "</div>"
      ],
      "text/plain": [
       "     STATISTIC              Statistic2  TLIST(M1)    Month  C02438V02948  \\\n",
       "0        CPM08  National Average Price     199701  1997M01         10010   \n",
       "1        CPM08  National Average Price     199701  1997M01         10020   \n",
       "2        CPM08  National Average Price     199701  1997M01         10030   \n",
       "3        CPM08  National Average Price     199701  1997M01         10040   \n",
       "4        CPM08  National Average Price     199701  1997M01         10050   \n",
       "...        ...                     ...        ...      ...           ...   \n",
       "3948     CPM08  National Average Price     200111  2001M11         11820   \n",
       "3949     CPM08  National Average Price     200111  2001M11         30430   \n",
       "3950     CPM08  National Average Price     200111  2001M11         30440   \n",
       "3951     CPM08  National Average Price     200111  2001M11         30450   \n",
       "3952     CPM08  National Average Price     200111  2001M11         30460   \n",
       "\n",
       "                                      Consumer Item UNIT  VALUE  \n",
       "0                               Round steak per kg.  IEP  6.119  \n",
       "1                             Sirloin steak per kg.  IEP  8.053  \n",
       "2                                 Rib steak per kg.  IEP  4.023  \n",
       "3                       Leg beef (boneless) per kg.  IEP  4.269  \n",
       "4                         Brisket pot roast per kg.  IEP  4.097  \n",
       "...                                             ...  ...    ...  \n",
       "3948  Filtered cigarettes, standard size per 20 pk.  IEP  3.847  \n",
       "3949                         Leaded petrol per ltr.  IEP    NaN  \n",
       "3950                     Petrol - unleaded per ltr.  IEP  0.619  \n",
       "3951                  Liquid petroleum gas per ltr.  IEP  0.512  \n",
       "3952                                Diesel per ltr.  IEP  0.578  \n",
       "\n",
       "[3953 rows x 8 columns]"
      ]
     },
     "execution_count": 3,
     "metadata": {},
     "output_type": "execute_result"
    }
   ],
   "source": [
    "#seting columns dispay option to 'max'- to see all columns in dataset\n",
    "pd.set_option('display.max.columns', None)\n",
    "#importing dataframe irl_1 containing data from 1997-2001\n",
    "df_irl1= pd.read_csv(r'Average price 1970 -2001.csv')\n",
    "df_irl1"
   ]
  },
  {
   "cell_type": "code",
   "execution_count": 4,
   "id": "16f0f454",
   "metadata": {},
   "outputs": [
    {
     "data": {
      "text/plain": [
       "count      3953.000000\n",
       "mean     199903.016949\n",
       "std         140.100566\n",
       "min      199701.000000\n",
       "25%      199803.000000\n",
       "50%      199906.000000\n",
       "75%      200009.000000\n",
       "max      200111.000000\n",
       "Name: TLIST(M1), dtype: float64"
      ]
     },
     "execution_count": 4,
     "metadata": {},
     "output_type": "execute_result"
    }
   ],
   "source": [
    "df_irl1['TLIST(M1)'].describe()"
   ]
  },
  {
   "cell_type": "code",
   "execution_count": 5,
   "id": "4f9da7c3",
   "metadata": {
    "scrolled": true
   },
   "outputs": [
    {
     "data": {
      "text/html": [
       "<div>\n",
       "<style scoped>\n",
       "    .dataframe tbody tr th:only-of-type {\n",
       "        vertical-align: middle;\n",
       "    }\n",
       "\n",
       "    .dataframe tbody tr th {\n",
       "        vertical-align: top;\n",
       "    }\n",
       "\n",
       "    .dataframe thead th {\n",
       "        text-align: right;\n",
       "    }\n",
       "</style>\n",
       "<table border=\"1\" class=\"dataframe\">\n",
       "  <thead>\n",
       "    <tr style=\"text-align: right;\">\n",
       "      <th></th>\n",
       "      <th>STATISTIC</th>\n",
       "      <th>Statistic</th>\n",
       "      <th>TLIST(M1)</th>\n",
       "      <th>Month</th>\n",
       "      <th>C02363V02844</th>\n",
       "      <th>Consumer Item</th>\n",
       "      <th>UNIT</th>\n",
       "      <th>VALUE</th>\n",
       "    </tr>\n",
       "  </thead>\n",
       "  <tbody>\n",
       "    <tr>\n",
       "      <th>0</th>\n",
       "      <td>CPM04</td>\n",
       "      <td>National Average  Price</td>\n",
       "      <td>200112</td>\n",
       "      <td>2001M12</td>\n",
       "      <td>10010</td>\n",
       "      <td>Round steak per kg.</td>\n",
       "      <td>Euro</td>\n",
       "      <td>8.414</td>\n",
       "    </tr>\n",
       "    <tr>\n",
       "      <th>1</th>\n",
       "      <td>CPM04</td>\n",
       "      <td>National Average  Price</td>\n",
       "      <td>200112</td>\n",
       "      <td>2001M12</td>\n",
       "      <td>10020</td>\n",
       "      <td>Sirloin steak per kg.</td>\n",
       "      <td>Euro</td>\n",
       "      <td>12.095</td>\n",
       "    </tr>\n",
       "    <tr>\n",
       "      <th>2</th>\n",
       "      <td>CPM04</td>\n",
       "      <td>National Average  Price</td>\n",
       "      <td>200112</td>\n",
       "      <td>2001M12</td>\n",
       "      <td>10030</td>\n",
       "      <td>Striploin steak per kg.</td>\n",
       "      <td>Euro</td>\n",
       "      <td>16.448</td>\n",
       "    </tr>\n",
       "    <tr>\n",
       "      <th>3</th>\n",
       "      <td>CPM04</td>\n",
       "      <td>National Average  Price</td>\n",
       "      <td>200112</td>\n",
       "      <td>2001M12</td>\n",
       "      <td>10040</td>\n",
       "      <td>Roast beef topside/rib per kg.</td>\n",
       "      <td>Euro</td>\n",
       "      <td>8.726</td>\n",
       "    </tr>\n",
       "    <tr>\n",
       "      <th>4</th>\n",
       "      <td>CPM04</td>\n",
       "      <td>National Average  Price</td>\n",
       "      <td>200112</td>\n",
       "      <td>2001M12</td>\n",
       "      <td>10050</td>\n",
       "      <td>Sliced/diced beef pieces per kg.</td>\n",
       "      <td>Euro</td>\n",
       "      <td>7.041</td>\n",
       "    </tr>\n",
       "    <tr>\n",
       "      <th>...</th>\n",
       "      <td>...</td>\n",
       "      <td>...</td>\n",
       "      <td>...</td>\n",
       "      <td>...</td>\n",
       "      <td>...</td>\n",
       "      <td>...</td>\n",
       "      <td>...</td>\n",
       "      <td>...</td>\n",
       "    </tr>\n",
       "    <tr>\n",
       "      <th>10522</th>\n",
       "      <td>CPM04</td>\n",
       "      <td>National Average  Price</td>\n",
       "      <td>201112</td>\n",
       "      <td>2011M12</td>\n",
       "      <td>80001</td>\n",
       "      <td>1 litre, low fat milk per ltr.</td>\n",
       "      <td>Euro</td>\n",
       "      <td>1.044</td>\n",
       "    </tr>\n",
       "    <tr>\n",
       "      <th>10523</th>\n",
       "      <td>CPM04</td>\n",
       "      <td>National Average  Price</td>\n",
       "      <td>201112</td>\n",
       "      <td>2011M12</td>\n",
       "      <td>80002</td>\n",
       "      <td>Large (size 2) eggs per dozen</td>\n",
       "      <td>Euro</td>\n",
       "      <td>NaN</td>\n",
       "    </tr>\n",
       "    <tr>\n",
       "      <th>10524</th>\n",
       "      <td>CPM04</td>\n",
       "      <td>National Average  Price</td>\n",
       "      <td>201112</td>\n",
       "      <td>2011M12</td>\n",
       "      <td>80003</td>\n",
       "      <td>Medium (size 3) eggs per dozen</td>\n",
       "      <td>Euro</td>\n",
       "      <td>NaN</td>\n",
       "    </tr>\n",
       "    <tr>\n",
       "      <th>10525</th>\n",
       "      <td>CPM04</td>\n",
       "      <td>National Average  Price</td>\n",
       "      <td>201112</td>\n",
       "      <td>2011M12</td>\n",
       "      <td>80004</td>\n",
       "      <td>White, plain flour per 2 kgs.</td>\n",
       "      <td>Euro</td>\n",
       "      <td>NaN</td>\n",
       "    </tr>\n",
       "    <tr>\n",
       "      <th>10526</th>\n",
       "      <td>CPM04</td>\n",
       "      <td>National Average  Price</td>\n",
       "      <td>201112</td>\n",
       "      <td>2011M12</td>\n",
       "      <td>80005</td>\n",
       "      <td>Fine quality wine - take home (75cl bottle)</td>\n",
       "      <td>Euro</td>\n",
       "      <td>NaN</td>\n",
       "    </tr>\n",
       "  </tbody>\n",
       "</table>\n",
       "<p>10527 rows × 8 columns</p>\n",
       "</div>"
      ],
      "text/plain": [
       "      STATISTIC                Statistic  TLIST(M1)    Month  C02363V02844  \\\n",
       "0         CPM04  National Average  Price     200112  2001M12         10010   \n",
       "1         CPM04  National Average  Price     200112  2001M12         10020   \n",
       "2         CPM04  National Average  Price     200112  2001M12         10030   \n",
       "3         CPM04  National Average  Price     200112  2001M12         10040   \n",
       "4         CPM04  National Average  Price     200112  2001M12         10050   \n",
       "...         ...                      ...        ...      ...           ...   \n",
       "10522     CPM04  National Average  Price     201112  2011M12         80001   \n",
       "10523     CPM04  National Average  Price     201112  2011M12         80002   \n",
       "10524     CPM04  National Average  Price     201112  2011M12         80003   \n",
       "10525     CPM04  National Average  Price     201112  2011M12         80004   \n",
       "10526     CPM04  National Average  Price     201112  2011M12         80005   \n",
       "\n",
       "                                     Consumer Item  UNIT   VALUE  \n",
       "0                              Round steak per kg.  Euro   8.414  \n",
       "1                            Sirloin steak per kg.  Euro  12.095  \n",
       "2                          Striploin steak per kg.  Euro  16.448  \n",
       "3                   Roast beef topside/rib per kg.  Euro   8.726  \n",
       "4                 Sliced/diced beef pieces per kg.  Euro   7.041  \n",
       "...                                            ...   ...     ...  \n",
       "10522               1 litre, low fat milk per ltr.  Euro   1.044  \n",
       "10523                Large (size 2) eggs per dozen  Euro     NaN  \n",
       "10524               Medium (size 3) eggs per dozen  Euro     NaN  \n",
       "10525                White, plain flour per 2 kgs.  Euro     NaN  \n",
       "10526  Fine quality wine - take home (75cl bottle)  Euro     NaN  \n",
       "\n",
       "[10527 rows x 8 columns]"
      ]
     },
     "execution_count": 5,
     "metadata": {},
     "output_type": "execute_result"
    }
   ],
   "source": [
    "#importing dataframe irl_2 containing data from 2001-2011\n",
    "df_irl2= pd.read_csv(r'Average price 2001-2011.csv')\n",
    "df_irl2"
   ]
  },
  {
   "cell_type": "code",
   "execution_count": 6,
   "id": "e06e7fa2",
   "metadata": {},
   "outputs": [
    {
     "data": {
      "text/plain": [
       "count     10527.000000\n",
       "mean     200652.000000\n",
       "std         290.289519\n",
       "min      200112.000000\n",
       "25%      200406.000000\n",
       "50%      200612.000000\n",
       "75%      200906.000000\n",
       "max      201112.000000\n",
       "Name: TLIST(M1), dtype: float64"
      ]
     },
     "execution_count": 6,
     "metadata": {},
     "output_type": "execute_result"
    }
   ],
   "source": [
    "df_irl2['TLIST(M1)'].describe()"
   ]
  },
  {
   "cell_type": "code",
   "execution_count": 7,
   "id": "8916cd42",
   "metadata": {
    "scrolled": true
   },
   "outputs": [
    {
     "data": {
      "text/html": [
       "<div>\n",
       "<style scoped>\n",
       "    .dataframe tbody tr th:only-of-type {\n",
       "        vertical-align: middle;\n",
       "    }\n",
       "\n",
       "    .dataframe tbody tr th {\n",
       "        vertical-align: top;\n",
       "    }\n",
       "\n",
       "    .dataframe thead th {\n",
       "        text-align: right;\n",
       "    }\n",
       "</style>\n",
       "<table border=\"1\" class=\"dataframe\">\n",
       "  <thead>\n",
       "    <tr style=\"text-align: right;\">\n",
       "      <th></th>\n",
       "      <th>STATISTIC</th>\n",
       "      <th>Statistic</th>\n",
       "      <th>TLIST(M1)</th>\n",
       "      <th>Month</th>\n",
       "      <th>C02363V03422</th>\n",
       "      <th>Consumer Item</th>\n",
       "      <th>UNIT</th>\n",
       "      <th>VALUE</th>\n",
       "    </tr>\n",
       "  </thead>\n",
       "  <tbody>\n",
       "    <tr>\n",
       "      <th>0</th>\n",
       "      <td>CPM12</td>\n",
       "      <td>National Average Price</td>\n",
       "      <td>201112</td>\n",
       "      <td>2011M12</td>\n",
       "      <td>10020</td>\n",
       "      <td>White, self raising flour per 2 kg</td>\n",
       "      <td>Euro</td>\n",
       "      <td>NaN</td>\n",
       "    </tr>\n",
       "    <tr>\n",
       "      <th>1</th>\n",
       "      <td>CPM12</td>\n",
       "      <td>National Average Price</td>\n",
       "      <td>201112</td>\n",
       "      <td>2011M12</td>\n",
       "      <td>10030</td>\n",
       "      <td>Brown, wholemeal flour per 2 kg</td>\n",
       "      <td>Euro</td>\n",
       "      <td>NaN</td>\n",
       "    </tr>\n",
       "    <tr>\n",
       "      <th>2</th>\n",
       "      <td>CPM12</td>\n",
       "      <td>National Average Price</td>\n",
       "      <td>201112</td>\n",
       "      <td>2011M12</td>\n",
       "      <td>10040</td>\n",
       "      <td>Bread, white sliced pan, large (800g)</td>\n",
       "      <td>Euro</td>\n",
       "      <td>NaN</td>\n",
       "    </tr>\n",
       "    <tr>\n",
       "      <th>3</th>\n",
       "      <td>CPM12</td>\n",
       "      <td>National Average Price</td>\n",
       "      <td>201112</td>\n",
       "      <td>2011M12</td>\n",
       "      <td>10050</td>\n",
       "      <td>Bread, brown sliced pan, large (800g)</td>\n",
       "      <td>Euro</td>\n",
       "      <td>NaN</td>\n",
       "    </tr>\n",
       "    <tr>\n",
       "      <th>4</th>\n",
       "      <td>CPM12</td>\n",
       "      <td>National Average Price</td>\n",
       "      <td>201112</td>\n",
       "      <td>2011M12</td>\n",
       "      <td>10190</td>\n",
       "      <td>Spaghetti per 500g</td>\n",
       "      <td>Euro</td>\n",
       "      <td>NaN</td>\n",
       "    </tr>\n",
       "    <tr>\n",
       "      <th>...</th>\n",
       "      <td>...</td>\n",
       "      <td>...</td>\n",
       "      <td>...</td>\n",
       "      <td>...</td>\n",
       "      <td>...</td>\n",
       "      <td>...</td>\n",
       "      <td>...</td>\n",
       "      <td>...</td>\n",
       "    </tr>\n",
       "    <tr>\n",
       "      <th>9343</th>\n",
       "      <td>CPM12</td>\n",
       "      <td>National Average Price</td>\n",
       "      <td>202202</td>\n",
       "      <td>2022M02</td>\n",
       "      <td>30400</td>\n",
       "      <td>Cinema fee</td>\n",
       "      <td>Euro</td>\n",
       "      <td>10.313</td>\n",
       "    </tr>\n",
       "    <tr>\n",
       "      <th>9344</th>\n",
       "      <td>CPM12</td>\n",
       "      <td>National Average Price</td>\n",
       "      <td>202202</td>\n",
       "      <td>2022M02</td>\n",
       "      <td>30410</td>\n",
       "      <td>Nightclubs fee</td>\n",
       "      <td>Euro</td>\n",
       "      <td>NaN</td>\n",
       "    </tr>\n",
       "    <tr>\n",
       "      <th>9345</th>\n",
       "      <td>CPM12</td>\n",
       "      <td>National Average Price</td>\n",
       "      <td>202202</td>\n",
       "      <td>2022M02</td>\n",
       "      <td>30690</td>\n",
       "      <td>Gent's dry cut fee</td>\n",
       "      <td>Euro</td>\n",
       "      <td>17.157</td>\n",
       "    </tr>\n",
       "    <tr>\n",
       "      <th>9346</th>\n",
       "      <td>CPM12</td>\n",
       "      <td>National Average Price</td>\n",
       "      <td>202202</td>\n",
       "      <td>2022M02</td>\n",
       "      <td>30700</td>\n",
       "      <td>Gent's wash, cut, and blow dry fee</td>\n",
       "      <td>Euro</td>\n",
       "      <td>NaN</td>\n",
       "    </tr>\n",
       "    <tr>\n",
       "      <th>9347</th>\n",
       "      <td>CPM12</td>\n",
       "      <td>National Average Price</td>\n",
       "      <td>202202</td>\n",
       "      <td>2022M02</td>\n",
       "      <td>30720</td>\n",
       "      <td>Ladies' wash, cut and blow dry fee</td>\n",
       "      <td>Euro</td>\n",
       "      <td>46.857</td>\n",
       "    </tr>\n",
       "  </tbody>\n",
       "</table>\n",
       "<p>9348 rows × 8 columns</p>\n",
       "</div>"
      ],
      "text/plain": [
       "     STATISTIC               Statistic  TLIST(M1)    Month  C02363V03422  \\\n",
       "0        CPM12  National Average Price     201112  2011M12         10020   \n",
       "1        CPM12  National Average Price     201112  2011M12         10030   \n",
       "2        CPM12  National Average Price     201112  2011M12         10040   \n",
       "3        CPM12  National Average Price     201112  2011M12         10050   \n",
       "4        CPM12  National Average Price     201112  2011M12         10190   \n",
       "...        ...                     ...        ...      ...           ...   \n",
       "9343     CPM12  National Average Price     202202  2022M02         30400   \n",
       "9344     CPM12  National Average Price     202202  2022M02         30410   \n",
       "9345     CPM12  National Average Price     202202  2022M02         30690   \n",
       "9346     CPM12  National Average Price     202202  2022M02         30700   \n",
       "9347     CPM12  National Average Price     202202  2022M02         30720   \n",
       "\n",
       "                              Consumer Item  UNIT   VALUE  \n",
       "0        White, self raising flour per 2 kg  Euro     NaN  \n",
       "1           Brown, wholemeal flour per 2 kg  Euro     NaN  \n",
       "2     Bread, white sliced pan, large (800g)  Euro     NaN  \n",
       "3     Bread, brown sliced pan, large (800g)  Euro     NaN  \n",
       "4                        Spaghetti per 500g  Euro     NaN  \n",
       "...                                     ...   ...     ...  \n",
       "9343                             Cinema fee  Euro  10.313  \n",
       "9344                         Nightclubs fee  Euro     NaN  \n",
       "9345                     Gent's dry cut fee  Euro  17.157  \n",
       "9346     Gent's wash, cut, and blow dry fee  Euro     NaN  \n",
       "9347     Ladies' wash, cut and blow dry fee  Euro  46.857  \n",
       "\n",
       "[9348 rows x 8 columns]"
      ]
     },
     "execution_count": 7,
     "metadata": {},
     "output_type": "execute_result"
    }
   ],
   "source": [
    "#importing dataframe irl_3 containing data from 2011-2022\n",
    "df_irl3= pd.read_csv(r'Average price 2011-2022.csv')\n",
    "df_irl3"
   ]
  },
  {
   "cell_type": "code",
   "execution_count": 8,
   "id": "b084fd68",
   "metadata": {
    "scrolled": true
   },
   "outputs": [
    {
     "data": {
      "text/plain": [
       "count      9348.000000\n",
       "mean     201660.934959\n",
       "std         296.191212\n",
       "min      201112.000000\n",
       "25%      201406.000000\n",
       "50%      201701.000000\n",
       "75%      201908.000000\n",
       "max      202202.000000\n",
       "Name: TLIST(M1), dtype: float64"
      ]
     },
     "execution_count": 8,
     "metadata": {},
     "output_type": "execute_result"
    }
   ],
   "source": [
    "df_irl3['TLIST(M1)'].describe()"
   ]
  },
  {
   "cell_type": "code",
   "execution_count": 9,
   "id": "39a79780",
   "metadata": {},
   "outputs": [],
   "source": [
    "#drop repeating columns from December 2011 that appear in df_irl2 & df_irl3 dataframes\n",
    "df_irl3 = df_irl3[df_irl3['TLIST(M1)'] != 201112]"
   ]
  },
  {
   "cell_type": "code",
   "execution_count": 10,
   "id": "b4458a6b",
   "metadata": {},
   "outputs": [
    {
     "data": {
      "text/plain": [
       "count      9272.000000\n",
       "mean     201665.434426\n",
       "std         293.185906\n",
       "min      201201.000000\n",
       "25%      201407.000000\n",
       "50%      201701.500000\n",
       "75%      201908.000000\n",
       "max      202202.000000\n",
       "Name: TLIST(M1), dtype: float64"
      ]
     },
     "execution_count": 10,
     "metadata": {},
     "output_type": "execute_result"
    }
   ],
   "source": [
    "#check are duplicated values removed\n",
    "df_irl3['TLIST(M1)'].describe()"
   ]
  },
  {
   "cell_type": "code",
   "execution_count": 11,
   "id": "fd75e776",
   "metadata": {
    "scrolled": true
   },
   "outputs": [
    {
     "name": "stdout",
     "output_type": "stream",
     "text": [
      "0       Round steak per kg.\n",
      "1     Sirloin steak per kg.\n",
      "2         Rib steak per kg.\n",
      "13       Pork steak per kg.\n",
      "Name: Consumer Item, dtype: object\n",
      "0         Round steak per kg.\n",
      "1       Sirloin steak per kg.\n",
      "2     Striploin steak per kg.\n",
      "12         Pork steak per kg.\n",
      "21       Salmon steak per kg.\n",
      "Name: Consumer Item, dtype: object\n",
      "81      Sirloin steak per kg\n",
      "82    Striploin steak per kg\n",
      "86         Pork steak per kg\n",
      "Name: Consumer Item, dtype: object\n"
     ]
    }
   ],
   "source": [
    "#create function to check how many rows contain 'steak' substring in all three IRL dataframes\n",
    "dfs = [df_irl1,df_irl2,df_irl3]\n",
    "def steaks(lists):\n",
    "    column_1=lists.drop_duplicates(subset = ['Consumer Item']) #drop duplicated values\n",
    "    column_1=column_1[column_1['Consumer Item'].str.contains('steak')] # keep only observations that contain string 'steak'\n",
    "    column_1 = column_1['Consumer Item'] #keep only 'Consumer Item' column\n",
    "    print(column_1)\n",
    "for lists in dfs:\n",
    "    steaks(lists)\n"
   ]
  },
  {
   "cell_type": "code",
   "execution_count": 12,
   "id": "97edfc75",
   "metadata": {
    "scrolled": true
   },
   "outputs": [
    {
     "name": "stdout",
     "output_type": "stream",
     "text": [
      "<class 'pandas.core.frame.DataFrame'>\n",
      "RangeIndex: 302 entries, 0 to 301\n",
      "Data columns (total 2 columns):\n",
      " #   Column                 Non-Null Count  Dtype  \n",
      "---  ------                 --------------  -----  \n",
      " 0   Daystamp               302 non-null    int64  \n",
      " 1   Sirloin steak per kg.  302 non-null    float64\n",
      "dtypes: float64(1), int64(1)\n",
      "memory usage: 4.8 KB\n"
     ]
    }
   ],
   "source": [
    "#rename column in df_irl3 to match column names in dfs 1&2\n",
    "df_irl3['Consumer Item'] = df_irl3['Consumer Item'].replace(['Sirloin steak per kg'],'Sirloin steak per kg.')\n",
    "#create blank list\n",
    "lst=[]\n",
    "#use for loop  to itterate through all 3 IRL datasets\n",
    "for lists in dfs:\n",
    "    lists=lists.rename(columns = {'Consumer Item':'SteakType','TLIST(M1)':'Daystamp'}) #rename columns for easier manipulation\n",
    "    lists=lists.loc[(lists.SteakType.str.contains('Sirloin'))] #keep only observations that contain string 'Sirloin'  \n",
    "    lists = lists.pivot_table('VALUE', ['Daystamp'], 'SteakType') # use pivot table function to create variables from observations\n",
    "    lists= lists.rename_axis('ID',axis=1) # add variable name to ID column\n",
    "    lists= lists.reset_index() # reset index- daystamp don't appear if don't reset index\n",
    "    lst.append(lists) #apend observations into list\n",
    "df_irl = pd.concat(lst, axis=0, ignore_index=True)#create dataframe from the created list\n",
    "df_irl.info()"
   ]
  },
  {
   "cell_type": "code",
   "execution_count": 13,
   "id": "9ceb06f5",
   "metadata": {},
   "outputs": [
    {
     "data": {
      "text/html": [
       "<div>\n",
       "<style scoped>\n",
       "    .dataframe tbody tr th:only-of-type {\n",
       "        vertical-align: middle;\n",
       "    }\n",
       "\n",
       "    .dataframe tbody tr th {\n",
       "        vertical-align: top;\n",
       "    }\n",
       "\n",
       "    .dataframe thead th {\n",
       "        text-align: right;\n",
       "    }\n",
       "</style>\n",
       "<table border=\"1\" class=\"dataframe\">\n",
       "  <thead>\n",
       "    <tr style=\"text-align: right;\">\n",
       "      <th>ID</th>\n",
       "      <th>Sirloin steak per kg.</th>\n",
       "      <th>Year</th>\n",
       "      <th>Month</th>\n",
       "    </tr>\n",
       "    <tr>\n",
       "      <th>Daystamp</th>\n",
       "      <th></th>\n",
       "      <th></th>\n",
       "      <th></th>\n",
       "    </tr>\n",
       "  </thead>\n",
       "  <tbody>\n",
       "    <tr>\n",
       "      <th>1997-01-01</th>\n",
       "      <td>8.053</td>\n",
       "      <td>1997</td>\n",
       "      <td>1</td>\n",
       "    </tr>\n",
       "    <tr>\n",
       "      <th>1997-02-01</th>\n",
       "      <td>8.276</td>\n",
       "      <td>1997</td>\n",
       "      <td>2</td>\n",
       "    </tr>\n",
       "    <tr>\n",
       "      <th>1997-03-01</th>\n",
       "      <td>8.124</td>\n",
       "      <td>1997</td>\n",
       "      <td>3</td>\n",
       "    </tr>\n",
       "    <tr>\n",
       "      <th>1997-04-01</th>\n",
       "      <td>8.503</td>\n",
       "      <td>1997</td>\n",
       "      <td>4</td>\n",
       "    </tr>\n",
       "    <tr>\n",
       "      <th>1997-05-01</th>\n",
       "      <td>8.397</td>\n",
       "      <td>1997</td>\n",
       "      <td>5</td>\n",
       "    </tr>\n",
       "    <tr>\n",
       "      <th>...</th>\n",
       "      <td>...</td>\n",
       "      <td>...</td>\n",
       "      <td>...</td>\n",
       "    </tr>\n",
       "    <tr>\n",
       "      <th>2021-10-01</th>\n",
       "      <td>14.209</td>\n",
       "      <td>2021</td>\n",
       "      <td>10</td>\n",
       "    </tr>\n",
       "    <tr>\n",
       "      <th>2021-11-01</th>\n",
       "      <td>14.209</td>\n",
       "      <td>2021</td>\n",
       "      <td>11</td>\n",
       "    </tr>\n",
       "    <tr>\n",
       "      <th>2021-12-01</th>\n",
       "      <td>14.258</td>\n",
       "      <td>2021</td>\n",
       "      <td>12</td>\n",
       "    </tr>\n",
       "    <tr>\n",
       "      <th>2022-01-01</th>\n",
       "      <td>14.258</td>\n",
       "      <td>2022</td>\n",
       "      <td>1</td>\n",
       "    </tr>\n",
       "    <tr>\n",
       "      <th>2022-02-01</th>\n",
       "      <td>14.254</td>\n",
       "      <td>2022</td>\n",
       "      <td>2</td>\n",
       "    </tr>\n",
       "  </tbody>\n",
       "</table>\n",
       "<p>302 rows × 3 columns</p>\n",
       "</div>"
      ],
      "text/plain": [
       "ID          Sirloin steak per kg.  Year  Month\n",
       "Daystamp                                      \n",
       "1997-01-01                  8.053  1997      1\n",
       "1997-02-01                  8.276  1997      2\n",
       "1997-03-01                  8.124  1997      3\n",
       "1997-04-01                  8.503  1997      4\n",
       "1997-05-01                  8.397  1997      5\n",
       "...                           ...   ...    ...\n",
       "2021-10-01                 14.209  2021     10\n",
       "2021-11-01                 14.209  2021     11\n",
       "2021-12-01                 14.258  2021     12\n",
       "2022-01-01                 14.258  2022      1\n",
       "2022-02-01                 14.254  2022      2\n",
       "\n",
       "[302 rows x 3 columns]"
      ]
     },
     "execution_count": 13,
     "metadata": {},
     "output_type": "execute_result"
    }
   ],
   "source": [
    "#create date values from current integer values in column 'Daystamp'\n",
    "df_irl['Daystamp'] = pd.to_datetime(df_irl['Daystamp'].apply(str) + '01', format='%Y%m%d', errors='ignore')\n",
    "df_irl['Year']= df_irl['Daystamp'].dt.year #Creating 'Year' column that will be used in visualisations\n",
    "df_irl['Month']= df_irl['Daystamp'].dt.month #Creating 'Month' column that will be used in visualisations\n",
    "df_irl.set_index('Daystamp',inplace =True)\n",
    "df_irl.resample('M').asfreq()\n",
    "df_irl"
   ]
  },
  {
   "cell_type": "code",
   "execution_count": 14,
   "id": "91261f89",
   "metadata": {},
   "outputs": [
    {
     "data": {
      "text/plain": [
       "count    300.000000\n",
       "mean      13.360170\n",
       "std        2.605816\n",
       "min        7.994000\n",
       "25%       12.175250\n",
       "50%       14.161500\n",
       "75%       15.471000\n",
       "max       16.982000\n",
       "Name: Sirloin steak per kg., dtype: float64"
      ]
     },
     "execution_count": 14,
     "metadata": {},
     "output_type": "execute_result"
    }
   ],
   "source": [
    "df_irl.drop(df_irl.tail(2).index,inplace=True) #drop last two rows- to have end of year data\n",
    "#check values ???\n",
    "df_irl['Sirloin steak per kg.'].describe()"
   ]
  },
  {
   "cell_type": "code",
   "execution_count": 15,
   "id": "4802aa4a",
   "metadata": {
    "scrolled": true
   },
   "outputs": [
    {
     "data": {
      "image/png": "[encoded data removed]",
      "text/plain": [
       "<Figure size 1080x360 with 1 Axes>"
      ]
     },
     "metadata": {},
     "output_type": "display_data"
    }
   ],
   "source": [
    "# importing seaborn module\n",
    "import seaborn as sns\n",
    "import matplotlib.pyplot as plt\n",
    "#enhance line plot\n",
    "plt.figure(figsize=(15,5),facecolor='#ECECEC')\n",
    "Time_series=sns.lineplot(x=df_irl.index,y='Sirloin steak per kg.',data=df_irl,color='#599664', linewidth=2)\n",
    "Time_series.set_title('Sirloin steak price in Ireland from 1997-2021',fontsize=20)\n",
    "Time_series.set_ylabel('Price per Kg.',fontsize=20)\n",
    "Time_series.set_xlabel('Year',fontsize=20)\n",
    "plt.grid() \n"
   ]
  },
  {
   "cell_type": "code",
   "execution_count": 16,
   "id": "fa958e32",
   "metadata": {},
   "outputs": [
    {
     "data": {
      "image/png": "[encoded data removed]",
      "text/plain": [
       "<Figure size 1728x720 with 1 Axes>"
      ]
     },
     "metadata": {
      "needs_background": "light"
     },
     "output_type": "display_data"
    }
   ],
   "source": [
    "plt.figure(figsize=(24, 10))\n",
    "axs=sns.boxplot(x=df_irl.Year, y=df_irl['Sirloin steak per kg.'])\n",
    "axs.set_title('Count Of Traffic 2008',fontsize=30)\n",
    "axs.set_ylabel('Number of Vehicles',fontsize=20)\n",
    "axs.set_xlabel('Year',fontsize=20)\n",
    "plt.show()"
   ]
  },
  {
   "cell_type": "code",
   "execution_count": 17,
   "id": "c365527c",
   "metadata": {},
   "outputs": [],
   "source": [
    "#remove outliers using GroupBy median\n",
    "grp = df_irl.groupby('Year')['Sirloin steak per kg.']\n",
    "df_irl['Sirloin steak per kg.'] = (df_irl['Sirloin steak per kg.'].where(grp.transform('quantile', q=0.95) > df_irl['Sirloin steak per kg.'], \n",
    "                            grp.transform('median')))\n"
   ]
  },
  {
   "cell_type": "code",
   "execution_count": 18,
   "id": "1ac25c0b",
   "metadata": {},
   "outputs": [
    {
     "data": {
      "image/png": "[encoded data removed]",
      "text/plain": [
       "<Figure size 1728x720 with 1 Axes>"
      ]
     },
     "metadata": {
      "needs_background": "light"
     },
     "output_type": "display_data"
    }
   ],
   "source": [
    "plt.figure(figsize=(24, 10))\n",
    "axs=sns.boxplot(x=df_irl.Year, y=df_irl['Sirloin steak per kg.'])\n",
    "axs.set_title('Count Of Traffic 2008',fontsize=30)\n",
    "axs.set_ylabel('Number of Vehicles',fontsize=20)\n",
    "axs.set_xlabel('Year',fontsize=20)\n",
    "plt.show()"
   ]
  },
  {
   "cell_type": "code",
   "execution_count": 19,
   "id": "f1f77a1e",
   "metadata": {},
   "outputs": [
    {
     "data": {
      "text/html": [
       "<div>\n",
       "<style scoped>\n",
       "    .dataframe tbody tr th:only-of-type {\n",
       "        vertical-align: middle;\n",
       "    }\n",
       "\n",
       "    .dataframe tbody tr th {\n",
       "        vertical-align: top;\n",
       "    }\n",
       "\n",
       "    .dataframe thead th {\n",
       "        text-align: right;\n",
       "    }\n",
       "</style>\n",
       "<table border=\"1\" class=\"dataframe\">\n",
       "  <thead>\n",
       "    <tr style=\"text-align: right;\">\n",
       "      <th>ID</th>\n",
       "      <th>Sirloin steak per kg.</th>\n",
       "      <th>Year</th>\n",
       "      <th>Month</th>\n",
       "    </tr>\n",
       "    <tr>\n",
       "      <th>Daystamp</th>\n",
       "      <th></th>\n",
       "      <th></th>\n",
       "      <th></th>\n",
       "    </tr>\n",
       "  </thead>\n",
       "  <tbody>\n",
       "    <tr>\n",
       "      <th>1997-01-01</th>\n",
       "      <td>8.053</td>\n",
       "      <td>1997</td>\n",
       "      <td>1</td>\n",
       "    </tr>\n",
       "    <tr>\n",
       "      <th>1997-02-01</th>\n",
       "      <td>8.276</td>\n",
       "      <td>1997</td>\n",
       "      <td>2</td>\n",
       "    </tr>\n",
       "    <tr>\n",
       "      <th>1997-03-01</th>\n",
       "      <td>8.124</td>\n",
       "      <td>1997</td>\n",
       "      <td>3</td>\n",
       "    </tr>\n",
       "    <tr>\n",
       "      <th>1997-04-01</th>\n",
       "      <td>8.403</td>\n",
       "      <td>1997</td>\n",
       "      <td>4</td>\n",
       "    </tr>\n",
       "    <tr>\n",
       "      <th>1997-05-01</th>\n",
       "      <td>8.397</td>\n",
       "      <td>1997</td>\n",
       "      <td>5</td>\n",
       "    </tr>\n",
       "    <tr>\n",
       "      <th>...</th>\n",
       "      <td>...</td>\n",
       "      <td>...</td>\n",
       "      <td>...</td>\n",
       "    </tr>\n",
       "    <tr>\n",
       "      <th>2021-08-01</th>\n",
       "      <td>14.041</td>\n",
       "      <td>2021</td>\n",
       "      <td>8</td>\n",
       "    </tr>\n",
       "    <tr>\n",
       "      <th>2021-09-01</th>\n",
       "      <td>14.221</td>\n",
       "      <td>2021</td>\n",
       "      <td>9</td>\n",
       "    </tr>\n",
       "    <tr>\n",
       "      <th>2021-10-01</th>\n",
       "      <td>14.209</td>\n",
       "      <td>2021</td>\n",
       "      <td>10</td>\n",
       "    </tr>\n",
       "    <tr>\n",
       "      <th>2021-11-01</th>\n",
       "      <td>14.209</td>\n",
       "      <td>2021</td>\n",
       "      <td>11</td>\n",
       "    </tr>\n",
       "    <tr>\n",
       "      <th>2021-12-01</th>\n",
       "      <td>14.258</td>\n",
       "      <td>2021</td>\n",
       "      <td>12</td>\n",
       "    </tr>\n",
       "  </tbody>\n",
       "</table>\n",
       "<p>300 rows × 3 columns</p>\n",
       "</div>"
      ],
      "text/plain": [
       "ID          Sirloin steak per kg.  Year  Month\n",
       "Daystamp                                      \n",
       "1997-01-01                  8.053  1997      1\n",
       "1997-02-01                  8.276  1997      2\n",
       "1997-03-01                  8.124  1997      3\n",
       "1997-04-01                  8.403  1997      4\n",
       "1997-05-01                  8.397  1997      5\n",
       "...                           ...   ...    ...\n",
       "2021-08-01                 14.041  2021      8\n",
       "2021-09-01                 14.221  2021      9\n",
       "2021-10-01                 14.209  2021     10\n",
       "2021-11-01                 14.209  2021     11\n",
       "2021-12-01                 14.258  2021     12\n",
       "\n",
       "[300 rows x 3 columns]"
      ]
     },
     "execution_count": 19,
     "metadata": {},
     "output_type": "execute_result"
    }
   ],
   "source": [
    "df_irl"
   ]
  },
  {
   "cell_type": "markdown",
   "id": "23e2ea5f",
   "metadata": {},
   "source": [
    "# Machine Learning ARIMA IRL\n"
   ]
  },
  {
   "cell_type": "code",
   "execution_count": 20,
   "id": "ba1b669e",
   "metadata": {
    "scrolled": true
   },
   "outputs": [
    {
     "data": {
      "text/html": [
       "<div>\n",
       "<style scoped>\n",
       "    .dataframe tbody tr th:only-of-type {\n",
       "        vertical-align: middle;\n",
       "    }\n",
       "\n",
       "    .dataframe tbody tr th {\n",
       "        vertical-align: top;\n",
       "    }\n",
       "\n",
       "    .dataframe thead th {\n",
       "        text-align: right;\n",
       "    }\n",
       "</style>\n",
       "<table border=\"1\" class=\"dataframe\">\n",
       "  <thead>\n",
       "    <tr style=\"text-align: right;\">\n",
       "      <th>ID</th>\n",
       "      <th>value</th>\n",
       "    </tr>\n",
       "    <tr>\n",
       "      <th>Daystamp</th>\n",
       "      <th></th>\n",
       "    </tr>\n",
       "  </thead>\n",
       "  <tbody>\n",
       "    <tr>\n",
       "      <th>1997-01-01</th>\n",
       "      <td>8.053</td>\n",
       "    </tr>\n",
       "    <tr>\n",
       "      <th>1997-02-01</th>\n",
       "      <td>8.276</td>\n",
       "    </tr>\n",
       "    <tr>\n",
       "      <th>1997-03-01</th>\n",
       "      <td>8.124</td>\n",
       "    </tr>\n",
       "    <tr>\n",
       "      <th>1997-04-01</th>\n",
       "      <td>8.403</td>\n",
       "    </tr>\n",
       "    <tr>\n",
       "      <th>1997-05-01</th>\n",
       "      <td>8.397</td>\n",
       "    </tr>\n",
       "    <tr>\n",
       "      <th>...</th>\n",
       "      <td>...</td>\n",
       "    </tr>\n",
       "    <tr>\n",
       "      <th>2021-08-01</th>\n",
       "      <td>14.041</td>\n",
       "    </tr>\n",
       "    <tr>\n",
       "      <th>2021-09-01</th>\n",
       "      <td>14.221</td>\n",
       "    </tr>\n",
       "    <tr>\n",
       "      <th>2021-10-01</th>\n",
       "      <td>14.209</td>\n",
       "    </tr>\n",
       "    <tr>\n",
       "      <th>2021-11-01</th>\n",
       "      <td>14.209</td>\n",
       "    </tr>\n",
       "    <tr>\n",
       "      <th>2021-12-01</th>\n",
       "      <td>14.258</td>\n",
       "    </tr>\n",
       "  </tbody>\n",
       "</table>\n",
       "<p>300 rows × 1 columns</p>\n",
       "</div>"
      ],
      "text/plain": [
       "ID           value\n",
       "Daystamp          \n",
       "1997-01-01   8.053\n",
       "1997-02-01   8.276\n",
       "1997-03-01   8.124\n",
       "1997-04-01   8.403\n",
       "1997-05-01   8.397\n",
       "...            ...\n",
       "2021-08-01  14.041\n",
       "2021-09-01  14.221\n",
       "2021-10-01  14.209\n",
       "2021-11-01  14.209\n",
       "2021-12-01  14.258\n",
       "\n",
       "[300 rows x 1 columns]"
      ]
     },
     "execution_count": 20,
     "metadata": {},
     "output_type": "execute_result"
    }
   ],
   "source": [
    "#drop unnecessary columns\n",
    "df_irl.drop(columns=['Year', 'Month'], inplace=True)\n",
    "data = df_irl\n",
    "df = df_irl\n",
    "dftest=df_irl\n",
    "df.rename(columns = {'Sirloin steak per kg.':'value'}, inplace = True)\n",
    "df"
   ]
  },
  {
   "cell_type": "code",
   "execution_count": 21,
   "id": "05b66337",
   "metadata": {
    "scrolled": false
   },
   "outputs": [
    {
     "ename": "NameError",
     "evalue": "name 'stop' is not defined",
     "output_type": "error",
     "traceback": [
      "\u001b[1;31m---------------------------------------------------------------------------\u001b[0m",
      "\u001b[1;31mNameError\u001b[0m                                 Traceback (most recent call last)",
      "Input \u001b[1;32mIn [21]\u001b[0m, in \u001b[0;36m<cell line: 1>\u001b[1;34m()\u001b[0m\n\u001b[1;32m----> 1\u001b[0m stop\n",
      "\u001b[1;31mNameError\u001b[0m: name 'stop' is not defined"
     ]
    }
   ],
   "source": [
    "stop"
   ]
  },
  {
   "cell_type": "markdown",
   "id": "d3374d3e",
   "metadata": {},
   "source": [
    "## ARIMA NEW "
   ]
  },
  {
   "cell_type": "markdown",
   "id": "5749ac0d",
   "metadata": {},
   "source": [
    "## ARIMA1"
   ]
  },
  {
   "cell_type": "code",
   "execution_count": null,
   "id": "2e4efbc6",
   "metadata": {},
   "outputs": [],
   "source": [
    "from statsmodels.tsa.stattools import adfuller\n",
    "from numpy import log\n",
    "result = adfuller(df.value.dropna())\n",
    "print('ADF Statistic: %f' % result[0])\n",
    "print('p-value: %f' % result[1])"
   ]
  },
  {
   "cell_type": "code",
   "execution_count": null,
   "id": "6f801b47",
   "metadata": {},
   "outputs": [],
   "source": [
    "df"
   ]
  },
  {
   "cell_type": "code",
   "execution_count": null,
   "id": "5ca37f30",
   "metadata": {},
   "outputs": [],
   "source": [
    "import pandas as pd\n",
    "from statsmodels.graphics.tsaplots import plot_acf, plot_pacf\n",
    "import matplotlib.pyplot as plt\n",
    "plt.rcParams.update({'figure.figsize':(9,3), 'figure.dpi':120})\n",
    "\n",
    "# Import data\n",
    "#df = pd.read_csv('https://raw.githubusercontent.com/selva86/datasets/master/austa.csv')\n",
    "\n",
    "fig, axes = plt.subplots(1, 2, sharex=True)\n",
    "axes[0].plot(df.value.diff()); axes[0].set_title('1st Differencing')\n",
    "axes[1].set(ylim=(0,1.2))\n",
    "plot_acf(df.value.diff().dropna(), ax=axes[1])\n",
    "\n",
    "plt.show()"
   ]
  },
  {
   "cell_type": "code",
   "execution_count": null,
   "id": "cb6df7ee",
   "metadata": {},
   "outputs": [],
   "source": [
    "from statsmodels.tsa.arima_model import ARIMA\n",
    "\n",
    "# 1,1,2 ARIMA Model\n",
    "model = ARIMA(df.value, order=(1,1,2))\n",
    "model_fit = model.fit(disp=0)\n",
    "print(model_fit.summary())"
   ]
  },
  {
   "cell_type": "code",
   "execution_count": null,
   "id": "2c1e9ed3",
   "metadata": {
    "scrolled": true
   },
   "outputs": [],
   "source": [
    "# Plot residual errors\n",
    "residuals = pd.DataFrame(model_fit.resid)\n",
    "fig, ax = plt.subplots(1,2)\n",
    "residuals.plot(title=\"Residuals\", ax=ax[0])\n",
    "residuals.plot(kind='kde', title='Density', ax=ax[1])\n",
    "plt.show()"
   ]
  },
  {
   "cell_type": "code",
   "execution_count": null,
   "id": "db2791ec",
   "metadata": {},
   "outputs": [],
   "source": [
    "# Actual vs Fitted\n",
    "model_fit.plot_predict(dynamic=False)\n",
    "plt.show()"
   ]
  },
  {
   "cell_type": "code",
   "execution_count": null,
   "id": "979b8f92",
   "metadata": {},
   "outputs": [],
   "source": [
    "# 1,1,1 ARIMA Model\n",
    "model = ARIMA(df.value, order=(1,1,1))\n",
    "model_fit = model.fit(disp=0)\n",
    "print(model_fit.summary())"
   ]
  },
  {
   "cell_type": "code",
   "execution_count": null,
   "id": "6bbc7e98",
   "metadata": {},
   "outputs": [],
   "source": [
    "# Plot residual errors\n",
    "residuals = pd.DataFrame(model_fit.resid)\n",
    "fig, ax = plt.subplots(1,2)\n",
    "residuals.plot(title=\"Residuals\", ax=ax[0])\n",
    "residuals.plot(kind='kde', title='Density', ax=ax[1])\n",
    "plt.show()"
   ]
  },
  {
   "cell_type": "code",
   "execution_count": null,
   "id": "78bfe830",
   "metadata": {},
   "outputs": [],
   "source": [
    "# Actual vs Fitted\n",
    "model_fit.plot_predict(dynamic=False)\n",
    "plt.show()"
   ]
  },
  {
   "cell_type": "code",
   "execution_count": null,
   "id": "d9d1d41c",
   "metadata": {},
   "outputs": [],
   "source": [
    "from statsmodels.tsa.stattools import acf\n",
    "\n",
    "# Create Training and Test\n",
    "train = df.value[:276]\n",
    "test = df.value[276:]\n",
    "print(len(train))\n",
    "print(len(test))"
   ]
  },
  {
   "cell_type": "code",
   "execution_count": null,
   "id": "302e3064",
   "metadata": {},
   "outputs": [],
   "source": [
    "# Build Model\n",
    "# model = ARIMA(train, order=(3,2,1))  \n",
    "model = ARIMA(train, order=(1, 1, 1))  \n",
    "fitted = model.fit(disp=-1)  \n",
    "\n",
    "# Forecast\n",
    "fc, se, conf = fitted.forecast(24, alpha=0.05)  # 95% conf\n",
    "\n",
    "# Make as pandas series\n",
    "fc_series = pd.Series(fc, index=test.index)\n",
    "lower_series = pd.Series(conf[:, 0], index=test.index)\n",
    "upper_series = pd.Series(conf[:, 1], index=test.index)\n",
    "\n",
    "# Plot\n",
    "plt.figure(figsize=(12,5), dpi=100)\n",
    "plt.plot(train, label='training')\n",
    "plt.plot(test, label='actual')\n",
    "plt.plot(fc_series, label='forecast')\n",
    "plt.fill_between(lower_series.index, lower_series, upper_series, \n",
    "                 color='k', alpha=.15)\n",
    "plt.title('Forecast vs Actuals')\n",
    "plt.legend(loc='upper left', fontsize=8)\n",
    "plt.show()"
   ]
  },
  {
   "cell_type": "code",
   "execution_count": null,
   "id": "1f89d32c",
   "metadata": {},
   "outputs": [],
   "source": [
    "# Build Model\n",
    "model = ARIMA(train, order=(3, 2, 1))  \n",
    "fitted = model.fit(disp=-1)  \n",
    "print(fitted.summary())\n",
    "\n",
    "# Forecast\n",
    "fc, se, conf = fitted.forecast(24, alpha=0.05)  # 95% conf\n",
    "\n",
    "# Make as pandas series\n",
    "fc_series = pd.Series(fc, index=test.index)\n",
    "lower_series = pd.Series(conf[:, 0], index=test.index)\n",
    "upper_series = pd.Series(conf[:, 1], index=test.index)\n",
    "\n",
    "# Plot\n",
    "plt.figure(figsize=(12,5), dpi=100)\n",
    "plt.plot(train, label='training')\n",
    "plt.plot(test, label='actual')\n",
    "plt.plot(fc_series, label='forecast')\n",
    "plt.fill_between(lower_series.index, lower_series, upper_series, \n",
    "                 color='k', alpha=.15)\n",
    "plt.title('Forecast vs Actuals')\n",
    "plt.legend(loc='upper left', fontsize=8)\n",
    "plt.show()"
   ]
  },
  {
   "cell_type": "markdown",
   "id": "8004cd12",
   "metadata": {},
   "source": [
    "## ARIMA data"
   ]
  },
  {
   "cell_type": "code",
   "execution_count": 22,
   "id": "82513510",
   "metadata": {},
   "outputs": [
    {
     "data": {
      "text/plain": [
       "ID\n",
       "value    0\n",
       "dtype: int64"
      ]
     },
     "execution_count": 22,
     "metadata": {},
     "output_type": "execute_result"
    }
   ],
   "source": [
    "data.isna().sum()"
   ]
  },
  {
   "cell_type": "code",
   "execution_count": 23,
   "id": "914ee39b",
   "metadata": {},
   "outputs": [
    {
     "data": {
      "text/plain": [
       "<AxesSubplot:xlabel='Daystamp'>"
      ]
     },
     "execution_count": 23,
     "metadata": {},
     "output_type": "execute_result"
    },
    {
     "data": {
      "image/png": "[encoded data removed]",
      "text/plain": [
       "<Figure size 432x288 with 1 Axes>"
      ]
     },
     "metadata": {
      "needs_background": "light"
     },
     "output_type": "display_data"
    }
   ],
   "source": [
    "data.plot()\n"
   ]
  },
  {
   "cell_type": "code",
   "execution_count": 24,
   "id": "ff203916",
   "metadata": {},
   "outputs": [
    {
     "data": {
      "image/png": "[encoded data removed]",
      "text/plain": [
       "<Figure size 432x288 with 4 Axes>"
      ]
     },
     "metadata": {
      "needs_background": "light"
     },
     "output_type": "display_data"
    }
   ],
   "source": [
    "from statsmodels.tsa.seasonal import seasonal_decompose\n",
    "decompose_data = seasonal_decompose(data, model=\"additive\")\n",
    "decompose_data.plot();"
   ]
  },
  {
   "cell_type": "code",
   "execution_count": 25,
   "id": "6ec55b40",
   "metadata": {},
   "outputs": [
    {
     "data": {
      "text/plain": [
       "<AxesSubplot:xlabel='Daystamp'>"
      ]
     },
     "execution_count": 25,
     "metadata": {},
     "output_type": "execute_result"
    },
    {
     "data": {
      "image/png": "[encoded data removed]",
      "text/plain": [
       "<Figure size 432x288 with 1 Axes>"
      ]
     },
     "metadata": {
      "needs_background": "light"
     },
     "output_type": "display_data"
    }
   ],
   "source": [
    "seasonality=decompose_data.seasonal\n",
    "seasonality.plot(color='green')"
   ]
  },
  {
   "cell_type": "code",
   "execution_count": 26,
   "id": "165e2346",
   "metadata": {},
   "outputs": [
    {
     "name": "stdout",
     "output_type": "stream",
     "text": [
      "1. ADF :  -2.211964139506899\n",
      "2. P-Value :  0.201931856024892\n",
      "3. Num Of Lags :  13\n",
      "4. Num Of Observations Used For ADF Regression and Critical Values Calculation : 286\n",
      "5. Critical Values :\n",
      "\t 1% :  -3.4534232986669546\n",
      "\t 5% :  -2.8716994185534745\n",
      "\t 10% :  -2.5721833625116144\n"
     ]
    }
   ],
   "source": [
    "from statsmodels.tsa.stattools import adfuller\n",
    "dftest = adfuller(data['value'], autolag = 'AIC')\n",
    "print(\"1. ADF : \",dftest[0])\n",
    "print(\"2. P-Value : \", dftest[1])\n",
    "print(\"3. Num Of Lags : \", dftest[2])\n",
    "print(\"4. Num Of Observations Used For ADF Regression and Critical Values Calculation :\", dftest[3])\n",
    "print(\"5. Critical Values :\")\n",
    "for key, val in dftest[4].items():\n",
    "    print(\"\\t\",key, \": \", val)"
   ]
  },
  {
   "cell_type": "code",
   "execution_count": 27,
   "id": "c49621cc",
   "metadata": {},
   "outputs": [
    {
     "data": {
      "image/png": "[encoded data removed]",
      "text/plain": [
       "<Figure size 432x288 with 1 Axes>"
      ]
     },
     "metadata": {
      "needs_background": "light"
     },
     "output_type": "display_data"
    },
    {
     "data": {
      "image/png": "[encoded data removed]",
      "text/plain": [
       "<Figure size 432x288 with 1 Axes>"
      ]
     },
     "metadata": {
      "needs_background": "light"
     },
     "output_type": "display_data"
    }
   ],
   "source": [
    "rolling_mean = data.rolling(window = 12).mean()\n",
    "data['rolling_mean_diff'] = rolling_mean - rolling_mean.shift()\n",
    "ax1 = plt.subplot()\n",
    "data['rolling_mean_diff'].plot(title='after rolling mean & differencing');\n",
    "ax2 = plt.subplot()\n",
    "data.plot(title='original');"
   ]
  },
  {
   "cell_type": "code",
   "execution_count": 28,
   "id": "6fadff32",
   "metadata": {},
   "outputs": [
    {
     "name": "stdout",
     "output_type": "stream",
     "text": [
      "1. ADF :  -2.813672330299446\n",
      "2. P-Value :  0.056347157494065735\n",
      "3. Num Of Lags :  13\n",
      "4. Num Of Observations Used For ADF Regression and Critical Values Calculation : 274\n",
      "5. Critical Values :\n",
      "\t 1% :  -3.4544435065994437\n",
      "\t 5% :  -2.8721468827772774\n",
      "\t 10% :  -2.572422013959188\n"
     ]
    }
   ],
   "source": [
    "dftest = adfuller(data['rolling_mean_diff'].dropna(), autolag = 'AIC')\n",
    "print(\"1. ADF : \",dftest[0])\n",
    "print(\"2. P-Value : \", dftest[1])\n",
    "print(\"3. Num Of Lags : \", dftest[2])\n",
    "print(\"4. Num Of Observations Used For ADF Regression and Critical Values Calculation :\", dftest[3])\n",
    "print(\"5. Critical Values :\")\n",
    "for key, val in dftest[4].items():\n",
    "  print(\"\\t\",key, \": \", val)"
   ]
  },
  {
   "cell_type": "code",
   "execution_count": 29,
   "id": "48aa9618",
   "metadata": {},
   "outputs": [],
   "source": [
    "\n"
   ]
  },
  {
   "cell_type": "code",
   "execution_count": 41,
   "id": "5aad05d2",
   "metadata": {},
   "outputs": [
    {
     "name": "stderr",
     "output_type": "stream",
     "text": [
      "C:\\ProgramData\\Anaconda3\\lib\\site-packages\\statsmodels\\tsa\\base\\tsa_model.py:524: ValueWarning: No frequency information was provided, so inferred frequency MS will be used.\n",
      "  warnings.warn('No frequency information was'\n"
     ]
    }
   ],
   "source": [
    "from statsmodels.tsa.arima_model import ARIMA\n",
    "model=ARIMA(data['value'],order=(1,0,1))\n",
    "history=model.fit()"
   ]
  },
  {
   "cell_type": "code",
   "execution_count": 42,
   "id": "ef46dc45",
   "metadata": {},
   "outputs": [
    {
     "data": {
      "text/html": [
       "<table class=\"simpletable\">\n",
       "<caption>ARMA Model Results</caption>\n",
       "<tr>\n",
       "  <th>Dep. Variable:</th>       <td>value</td>      <th>  No. Observations:  </th>    <td>300</td>  \n",
       "</tr>\n",
       "<tr>\n",
       "  <th>Model:</th>            <td>ARMA(1, 1)</td>    <th>  Log Likelihood     </th> <td>-220.083</td>\n",
       "</tr>\n",
       "<tr>\n",
       "  <th>Method:</th>             <td>css-mle</td>     <th>  S.D. of innovations</th>   <td>0.501</td> \n",
       "</tr>\n",
       "<tr>\n",
       "  <th>Date:</th>          <td>Sat, 14 May 2022</td> <th>  AIC                </th>  <td>448.167</td>\n",
       "</tr>\n",
       "<tr>\n",
       "  <th>Time:</th>              <td>11:53:41</td>     <th>  BIC                </th>  <td>462.982</td>\n",
       "</tr>\n",
       "<tr>\n",
       "  <th>Sample:</th>           <td>01-01-1997</td>    <th>  HQIC               </th>  <td>454.096</td>\n",
       "</tr>\n",
       "<tr>\n",
       "  <th></th>                 <td>- 12-01-2021</td>   <th>                     </th>     <td> </td>   \n",
       "</tr>\n",
       "</table>\n",
       "<table class=\"simpletable\">\n",
       "<tr>\n",
       "       <td></td>          <th>coef</th>     <th>std err</th>      <th>z</th>      <th>P>|z|</th>  <th>[0.025</th>    <th>0.975]</th>  \n",
       "</tr>\n",
       "<tr>\n",
       "  <th>const</th>       <td>   11.8924</td> <td>    2.527</td> <td>    4.705</td> <td> 0.000</td> <td>    6.939</td> <td>   16.846</td>\n",
       "</tr>\n",
       "<tr>\n",
       "  <th>ar.L1.value</th> <td>    0.9967</td> <td>    0.003</td> <td>  287.439</td> <td> 0.000</td> <td>    0.990</td> <td>    1.004</td>\n",
       "</tr>\n",
       "<tr>\n",
       "  <th>ma.L1.value</th> <td>   -0.5134</td> <td>    0.045</td> <td>  -11.387</td> <td> 0.000</td> <td>   -0.602</td> <td>   -0.425</td>\n",
       "</tr>\n",
       "</table>\n",
       "<table class=\"simpletable\">\n",
       "<caption>Roots</caption>\n",
       "<tr>\n",
       "    <td></td>   <th>            Real</th>  <th>         Imaginary</th> <th>         Modulus</th>  <th>        Frequency</th>\n",
       "</tr>\n",
       "<tr>\n",
       "  <th>AR.1</th> <td>           1.0033</td> <td>          +0.0000j</td> <td>           1.0033</td> <td>           0.0000</td>\n",
       "</tr>\n",
       "<tr>\n",
       "  <th>MA.1</th> <td>           1.9480</td> <td>          +0.0000j</td> <td>           1.9480</td> <td>           0.0000</td>\n",
       "</tr>\n",
       "</table>"
      ],
      "text/plain": [
       "<class 'statsmodels.iolib.summary.Summary'>\n",
       "\"\"\"\n",
       "                              ARMA Model Results                              \n",
       "==============================================================================\n",
       "Dep. Variable:                  value   No. Observations:                  300\n",
       "Model:                     ARMA(1, 1)   Log Likelihood                -220.083\n",
       "Method:                       css-mle   S.D. of innovations              0.501\n",
       "Date:                Sat, 14 May 2022   AIC                            448.167\n",
       "Time:                        11:53:41   BIC                            462.982\n",
       "Sample:                    01-01-1997   HQIC                           454.096\n",
       "                         - 12-01-2021                                         \n",
       "===============================================================================\n",
       "                  coef    std err          z      P>|z|      [0.025      0.975]\n",
       "-------------------------------------------------------------------------------\n",
       "const          11.8924      2.527      4.705      0.000       6.939      16.846\n",
       "ar.L1.value     0.9967      0.003    287.439      0.000       0.990       1.004\n",
       "ma.L1.value    -0.5134      0.045    -11.387      0.000      -0.602      -0.425\n",
       "                                    Roots                                    \n",
       "=============================================================================\n",
       "                  Real          Imaginary           Modulus         Frequency\n",
       "-----------------------------------------------------------------------------\n",
       "AR.1            1.0033           +0.0000j            1.0033            0.0000\n",
       "MA.1            1.9480           +0.0000j            1.9480            0.0000\n",
       "-----------------------------------------------------------------------------\n",
       "\"\"\""
      ]
     },
     "execution_count": 42,
     "metadata": {},
     "output_type": "execute_result"
    }
   ],
   "source": [
    "history.summary()\n"
   ]
  },
  {
   "cell_type": "code",
   "execution_count": 51,
   "id": "74caa3e4",
   "metadata": {},
   "outputs": [
    {
     "data": {
      "text/plain": [
       "<AxesSubplot:xlabel='Daystamp'>"
      ]
     },
     "execution_count": 51,
     "metadata": {},
     "output_type": "execute_result"
    },
    {
     "data": {
      "image/png": "[encoded data removed]",
      "text/plain": [
       "<Figure size 864x576 with 1 Axes>"
      ]
     },
     "metadata": {
      "needs_background": "light"
     },
     "output_type": "display_data"
    }
   ],
   "source": [
    "data['forecast']=history.predict(start=200,end=330,dynamic=False)\n",
    "data[['value','forecast']].plot(figsize=(12,8))"
   ]
  },
  {
   "cell_type": "code",
   "execution_count": 44,
   "id": "15967f81",
   "metadata": {},
   "outputs": [
    {
     "name": "stderr",
     "output_type": "stream",
     "text": [
      "C:\\ProgramData\\Anaconda3\\lib\\site-packages\\statsmodels\\tsa\\base\\tsa_model.py:524: ValueWarning: No frequency information was provided, so inferred frequency MS will be used.\n",
      "  warnings.warn('No frequency information was'\n",
      "C:\\ProgramData\\Anaconda3\\lib\\site-packages\\statsmodels\\tsa\\base\\tsa_model.py:524: ValueWarning: No frequency information was provided, so inferred frequency MS will be used.\n",
      "  warnings.warn('No frequency information was'\n"
     ]
    }
   ],
   "source": [
    "model=ARIMA(data['rolling_mean_diff'].dropna(),order=(1,1,2))\n",
    "model_fit=model.fit()"
   ]
  },
  {
   "cell_type": "code",
   "execution_count": 47,
   "id": "7ef2c0f3",
   "metadata": {},
   "outputs": [
    {
     "data": {
      "text/plain": [
       "<AxesSubplot:xlabel='Daystamp'>"
      ]
     },
     "execution_count": 47,
     "metadata": {},
     "output_type": "execute_result"
    },
    {
     "data": {
      "image/png": "[encoded data removed]",
      "text/plain": [
       "<Figure size 864x576 with 1 Axes>"
      ]
     },
     "metadata": {
      "needs_background": "light"
     },
     "output_type": "display_data"
    }
   ],
   "source": [
    "data['forecast']=model_fit.predict(start=276,end=300,dynamic=False)\n",
    "data[['rolling_mean_diff','forecast']].plot(figsize=(12,8))"
   ]
  },
  {
   "cell_type": "code",
   "execution_count": 35,
   "id": "ee2db2c6",
   "metadata": {},
   "outputs": [],
   "source": [
    "import statsmodels.api as sm"
   ]
  },
  {
   "cell_type": "code",
   "execution_count": 49,
   "id": "11046499",
   "metadata": {},
   "outputs": [
    {
     "ename": "NameError",
     "evalue": "name 'results' is not defined",
     "output_type": "error",
     "traceback": [
      "\u001b[1;31m---------------------------------------------------------------------------\u001b[0m",
      "\u001b[1;31mNameError\u001b[0m                                 Traceback (most recent call last)",
      "Input \u001b[1;32mIn [49]\u001b[0m, in \u001b[0;36m<cell line: 1>\u001b[1;34m()\u001b[0m\n\u001b[1;32m----> 1\u001b[0m data[\u001b[38;5;124m'\u001b[39m\u001b[38;5;124mforecast\u001b[39m\u001b[38;5;124m'\u001b[39m]\u001b[38;5;241m=\u001b[39mresults\u001b[38;5;241m.\u001b[39mpredict(start\u001b[38;5;241m=\u001b[39m\u001b[38;5;241m276\u001b[39m,end\u001b[38;5;241m=\u001b[39m\u001b[38;5;241m300\u001b[39m,dynamic\u001b[38;5;241m=\u001b[39m\u001b[38;5;28;01mTrue\u001b[39;00m)\n\u001b[0;32m      2\u001b[0m data[[\u001b[38;5;124m'\u001b[39m\u001b[38;5;124mvalue\u001b[39m\u001b[38;5;124m'\u001b[39m,\u001b[38;5;124m'\u001b[39m\u001b[38;5;124mforecast\u001b[39m\u001b[38;5;124m'\u001b[39m]]\u001b[38;5;241m.\u001b[39mplot(figsize\u001b[38;5;241m=\u001b[39m(\u001b[38;5;241m12\u001b[39m,\u001b[38;5;241m8\u001b[39m))\n",
      "\u001b[1;31mNameError\u001b[0m: name 'results' is not defined"
     ]
    }
   ],
   "source": [
    "data['forecast']=results.predict(start=276,end=300,dynamic=True)\n",
    "data[['value','forecast']].plot(figsize=(12,8))"
   ]
  },
  {
   "cell_type": "code",
   "execution_count": null,
   "id": "3a72e4e2",
   "metadata": {},
   "outputs": [],
   "source": [
    "from pandas.tseries.offsets import DateOffset\n",
    "pred_date=[data.index[-1]+ DateOffset(months=x)for x in range(0,24)]"
   ]
  },
  {
   "cell_type": "code",
   "execution_count": null,
   "id": "16ea06e4",
   "metadata": {},
   "outputs": [],
   "source": [
    "pred_date=pd.DataFrame(index=pred_date[1:],columns=data.columns)\n",
    "pred_date"
   ]
  },
  {
   "cell_type": "code",
   "execution_count": null,
   "id": "cb6753fa",
   "metadata": {},
   "outputs": [],
   "source": [
    "data=pd.concat([data,pred_date])\n"
   ]
  },
  {
   "cell_type": "code",
   "execution_count": null,
   "id": "b23322a3",
   "metadata": {},
   "outputs": [],
   "source": [
    "data['forecast'] = results.predict(start = 300, end = 336, dynamic= True)  \n",
    "data[['value', 'forecast']].plot(figsize=(12, 8))"
   ]
  },
  {
   "cell_type": "code",
   "execution_count": null,
   "id": "022de613",
   "metadata": {},
   "outputs": [],
   "source": []
  },
  {
   "cell_type": "code",
   "execution_count": null,
   "id": "ad299303",
   "metadata": {},
   "outputs": [],
   "source": []
  },
  {
   "cell_type": "code",
   "execution_count": null,
   "id": "976ad44b",
   "metadata": {},
   "outputs": [],
   "source": []
  },
  {
   "cell_type": "code",
   "execution_count": null,
   "id": "14eda388",
   "metadata": {},
   "outputs": [],
   "source": []
  },
  {
   "cell_type": "code",
   "execution_count": null,
   "id": "75416bb1",
   "metadata": {},
   "outputs": [],
   "source": []
  },
  {
   "cell_type": "code",
   "execution_count": null,
   "id": "299e9d15",
   "metadata": {},
   "outputs": [],
   "source": []
  },
  {
   "cell_type": "code",
   "execution_count": null,
   "id": "57eec196",
   "metadata": {},
   "outputs": [],
   "source": []
  },
  {
   "cell_type": "code",
   "execution_count": null,
   "id": "46a2c595",
   "metadata": {},
   "outputs": [],
   "source": []
  },
  {
   "cell_type": "code",
   "execution_count": null,
   "id": "67c14857",
   "metadata": {},
   "outputs": [],
   "source": []
  },
  {
   "cell_type": "code",
   "execution_count": null,
   "id": "7e78728c",
   "metadata": {},
   "outputs": [],
   "source": [
    "stop"
   ]
  },
  {
   "cell_type": "markdown",
   "id": "60050f77",
   "metadata": {},
   "source": [
    "## ARIMA df_irl"
   ]
  },
  {
   "cell_type": "code",
   "execution_count": null,
   "id": "98e46f39",
   "metadata": {},
   "outputs": [],
   "source": [
    "\n",
    "from statsmodels.tsa.seasonal import seasonal_decompose\n",
    "res = seasonal_decompose(df_irl, model ='additive')\n",
    "res.plot()"
   ]
  },
  {
   "cell_type": "code",
   "execution_count": null,
   "id": "c20444a1",
   "metadata": {},
   "outputs": [],
   "source": [
    "seasonality=res.seasonal\n",
    "seasonality.plot(color='green')"
   ]
  },
  {
   "cell_type": "code",
   "execution_count": null,
   "id": "21ee849a",
   "metadata": {},
   "outputs": [],
   "source": [
    "#hypothesis p-value <0.5?\n",
    "from statsmodels.tsa.stattools import adfuller\n",
    "adf_irl = adfuller(df_irl['Sirloin steak per kg.'], autolag = 'AIC')\n",
    "print(\"1. ADF : \",adf_irl[0])\n",
    "print(\"2. P-Value : \", adf_irl[1])\n",
    "print(\"3. Critical Values :\")\n",
    "for key, val in adf_irl[4].items():\n",
    "    print(\"\\t\",key, \": \", val)"
   ]
  },
  {
   "cell_type": "code",
   "execution_count": null,
   "id": "c6f03425",
   "metadata": {},
   "outputs": [],
   "source": [
    "# rolling mean differencing methods. \n",
    "rmdm = df_irl.rolling(window = 12).mean()\n",
    "df_irl['rolling_mean_diff'] = rmdm - rmdm.shift()\n",
    "ax1 = plt.subplot()\n",
    "df_irl['rolling_mean_diff'].plot(title='after rolling mean & differencing');\n",
    "ax2 = plt.subplot()\n",
    "df_irl.plot(title='original');"
   ]
  },
  {
   "cell_type": "code",
   "execution_count": null,
   "id": "8c6193ba",
   "metadata": {},
   "outputs": [],
   "source": [
    "adf_irl = adfuller(df_irl['rolling_mean_diff'].dropna(), autolag = 'AIC')\n",
    "print(\"1. ADF : \",adf_irl[0])\n",
    "print(\"2. P-Value : \", adf_irl[1])\n",
    "print(\"5. Critical Values :\")\n",
    "for key, val in adf_irl[4].items():\n",
    "  print(\"\\t\",key, \": \", val)"
   ]
  },
  {
   "cell_type": "code",
   "execution_count": null,
   "id": "afb2eb86",
   "metadata": {},
   "outputs": [],
   "source": [
    "from statsmodels.tsa.arima_model import ARIMA\n",
    "model=ARIMA(df_irl['Sirloin steak per kg.'],order=(1,1,1))\n",
    "history=model.fit()\n",
    "history.summary()"
   ]
  },
  {
   "cell_type": "code",
   "execution_count": null,
   "id": "dc36b38e",
   "metadata": {},
   "outputs": [],
   "source": [
    "df_irl['forecast']=history.predict(start=288,end=300,dynamic=True)\n",
    "df_irl[['Sirloin steak per kg.','forecast']].plot(figsize=(12,8))"
   ]
  },
  {
   "cell_type": "code",
   "execution_count": null,
   "id": "4080d9c4",
   "metadata": {},
   "outputs": [],
   "source": [
    "model=ARIMA(df_irl['rolling_mean_diff'].dropna(),order=(1,1,1))\n",
    "model_fit=model.fit()\n",
    "df_irl['forecast']=model_fit.predict(start=len(df_irl)-24,end=len(df_irl),dynamic=True)\n",
    "df_irl[['rolling_mean_diff','forecast']].plot(figsize=(12,8))"
   ]
  },
  {
   "cell_type": "code",
   "execution_count": null,
   "id": "21b8a58a",
   "metadata": {},
   "outputs": [],
   "source": []
  },
  {
   "cell_type": "code",
   "execution_count": null,
   "id": "a696f40e",
   "metadata": {},
   "outputs": [],
   "source": []
  },
  {
   "cell_type": "code",
   "execution_count": null,
   "id": "4b236b90",
   "metadata": {},
   "outputs": [],
   "source": []
  },
  {
   "cell_type": "code",
   "execution_count": null,
   "id": "3500b71d",
   "metadata": {},
   "outputs": [],
   "source": []
  },
  {
   "cell_type": "code",
   "execution_count": null,
   "id": "781f67dd",
   "metadata": {},
   "outputs": [],
   "source": []
  },
  {
   "cell_type": "code",
   "execution_count": null,
   "id": "302dffa5",
   "metadata": {},
   "outputs": [],
   "source": []
  },
  {
   "cell_type": "code",
   "execution_count": null,
   "id": "3c706fb9",
   "metadata": {},
   "outputs": [],
   "source": []
  },
  {
   "cell_type": "code",
   "execution_count": null,
   "id": "1464b9f6",
   "metadata": {},
   "outputs": [],
   "source": []
  },
  {
   "cell_type": "markdown",
   "id": "2700a5b5",
   "metadata": {},
   "source": [
    "## Auto Arima"
   ]
  },
  {
   "cell_type": "code",
   "execution_count": null,
   "id": "82e0c293",
   "metadata": {},
   "outputs": [],
   "source": [
    "from statsmodels.tsa.arima_model import ARIMA\n",
    "import pmdarima as pm\n",
    "\n",
    "#df = pd.read_csv('https://raw.githubusercontent.com/selva86/datasets/master/wwwusage.csv', names=['value'], header=0)\n",
    "\n",
    "model = pm.auto_arima(df.value, start_p=1, start_q=1,\n",
    "                      test='adf',       # use adftest to find optimal 'd'\n",
    "                      max_p=3, max_q=3, # maximum p and q\n",
    "                      m=1,              # frequency of series\n",
    "                      d=None,           # let model determine 'd'\n",
    "                      seasonal=False,   # No Seasonality\n",
    "                      start_P=0, \n",
    "                      D=0, \n",
    "                      trace=True,\n",
    "                      error_action='ignore',  \n",
    "                      suppress_warnings=True, \n",
    "                      stepwise=True)\n",
    "\n",
    "print(model.summary())"
   ]
  },
  {
   "cell_type": "code",
   "execution_count": null,
   "id": "92b93c09",
   "metadata": {
    "scrolled": true
   },
   "outputs": [],
   "source": [
    "model.plot_diagnostics(figsize=(15,10))\n",
    "plt.show()"
   ]
  },
  {
   "cell_type": "code",
   "execution_count": null,
   "id": "7a5c13e4",
   "metadata": {},
   "outputs": [],
   "source": [
    "import numpy as np\n",
    "# Forecast\n",
    "n_periods = 24\n",
    "fc, confint = model.predict(n_periods=n_periods, return_conf_int=True)\n",
    "index_of_fc = np.arange(len(df.value), len(df.value)+n_periods)\n",
    "\n",
    "# make series for plotting purpose\n",
    "fc_series = pd.Series(fc, index=index_of_fc)\n",
    "lower_series = pd.Series(confint[:, 0], index=index_of_fc)\n",
    "upper_series = pd.Series(confint[:, 1], index=index_of_fc)\n",
    "\n",
    "# Plot\n",
    "plt.plot(df.value)\n",
    "plt.plot(fc_series, color='darkgreen')\n",
    "plt.fill_between(lower_series.index, \n",
    "                 lower_series, \n",
    "                 upper_series, \n",
    "                 color='k', alpha=.15)\n",
    "\n",
    "plt.title(\"Final Forecast of WWW Usage\")\n",
    "plt.show()"
   ]
  },
  {
   "cell_type": "code",
   "execution_count": null,
   "id": "14461337",
   "metadata": {},
   "outputs": [],
   "source": [
    "\n"
   ]
  },
  {
   "cell_type": "code",
   "execution_count": null,
   "id": "69bb8b2a",
   "metadata": {},
   "outputs": [],
   "source": []
  },
  {
   "cell_type": "code",
   "execution_count": null,
   "id": "ccd17189",
   "metadata": {},
   "outputs": [],
   "source": [
    "data"
   ]
  },
  {
   "cell_type": "markdown",
   "id": "4b5ad74b",
   "metadata": {},
   "source": [
    "## SARIMA"
   ]
  },
  {
   "cell_type": "code",
   "execution_count": null,
   "id": "135f73be",
   "metadata": {},
   "outputs": [],
   "source": [
    "# Plot\n",
    "fig, axes = plt.subplots(2, 1, figsize=(10,5), dpi=100, sharex=True)\n",
    "\n",
    "# Usual Differencing\n",
    "axes[0].plot(data[:], label='Original Series')\n",
    "axes[0].plot(data[:].diff(1), label='Usual Differencing')\n",
    "axes[0].set_title('Usual Differencing')\n",
    "axes[0].legend(loc='upper left', fontsize=10)\n",
    "\n",
    "\n",
    "# Seasinal Dei\n",
    "axes[1].plot(data[:], label='Original Series')\n",
    "axes[1].plot(data[:].diff(12), label='Seasonal Differencing', color='green')\n",
    "axes[1].set_title('Seasonal Differencing')\n",
    "plt.legend(loc='upper left', fontsize=10)\n",
    "plt.suptitle('a10 - Drug Sales', fontsize=16)\n",
    "plt.show()"
   ]
  },
  {
   "cell_type": "code",
   "execution_count": null,
   "id": "1f997040",
   "metadata": {},
   "outputs": [],
   "source": [
    "# !pip3 install pyramid-arima\n",
    "import pmdarima as pm\n",
    "\n",
    "# Seasonal - fit stepwise auto-ARIMA\n",
    "smodel = pm.auto_arima(data, start_p=1, start_q=1,\n",
    "                         test='adf',\n",
    "                         max_p=3, max_q=3, m=12,\n",
    "                         start_P=0, seasonal=True,\n",
    "                         d=None, D=1, trace=True,\n",
    "                         error_action='ignore',  \n",
    "                         suppress_warnings=True, \n",
    "                         stepwise=True)\n",
    "\n",
    "smodel.summary()"
   ]
  },
  {
   "cell_type": "code",
   "execution_count": null,
   "id": "86632e94",
   "metadata": {},
   "outputs": [],
   "source": [
    "# Forecast\n",
    "n_periods = 12\n",
    "fitted, confint = smodel.predict(n_periods=n_periods, return_conf_int=True)\n",
    "index_of_fc = pd.date_range(data.index[-1], periods = n_periods, freq='MS')\n",
    "\n",
    "# make series for plotting purpose\n",
    "fitted_series = pd.Series(fitted, index=index_of_fc)\n",
    "lower_series = pd.Series(confint[:, 0], index=index_of_fc)\n",
    "upper_series = pd.Series(confint[:, 1], index=index_of_fc)\n",
    "\n",
    "# Plot\n",
    "plt.plot(data)\n",
    "plt.plot(fitted_series, color='darkgreen')\n",
    "plt.fill_between(lower_series.index, \n",
    "                 lower_series, \n",
    "                 upper_series, \n",
    "                 color='k', alpha=.15)\n",
    "\n",
    "plt.title(\"SARIMA - Final Forecast of a10 - Drug Sales\")\n",
    "plt.show()"
   ]
  },
  {
   "cell_type": "code",
   "execution_count": null,
   "id": "2ed872aa",
   "metadata": {},
   "outputs": [],
   "source": []
  },
  {
   "cell_type": "code",
   "execution_count": null,
   "id": "6c4bfa59",
   "metadata": {},
   "outputs": [],
   "source": []
  },
  {
   "cell_type": "code",
   "execution_count": null,
   "id": "bd4c2259",
   "metadata": {},
   "outputs": [],
   "source": []
  },
  {
   "cell_type": "code",
   "execution_count": null,
   "id": "deb1d997",
   "metadata": {},
   "outputs": [],
   "source": []
  },
  {
   "cell_type": "code",
   "execution_count": null,
   "id": "fb61d622",
   "metadata": {},
   "outputs": [],
   "source": []
  },
  {
   "cell_type": "code",
   "execution_count": null,
   "id": "0d7fa36f",
   "metadata": {},
   "outputs": [],
   "source": [
    "data"
   ]
  },
  {
   "cell_type": "markdown",
   "id": "3e424965",
   "metadata": {},
   "source": [
    "## Arima  New"
   ]
  },
  {
   "cell_type": "code",
   "execution_count": null,
   "id": "49a1a72e",
   "metadata": {},
   "outputs": [],
   "source": [
    "#creating our ARIMA Model\n",
    " from pmdarima import auto_arima\n",
    " # Ignore harmless warnings\n",
    " import warnings\n",
    " warnings.filterwarnings(\"ignore\")\n",
    " Calling our model and generating best possible ARIMA combination,\n",
    " #calling our function\n",
    " stepwise_fit = auto_arima(df['AvgTemp'],suppress_warnings=True)           \n",
    " stepwise_fit.summary() "
   ]
  },
  {
   "cell_type": "code",
   "execution_count": null,
   "id": "8ca69b50",
   "metadata": {},
   "outputs": [],
   "source": []
  },
  {
   "cell_type": "code",
   "execution_count": null,
   "id": "4e4eabbd",
   "metadata": {},
   "outputs": [],
   "source": []
  },
  {
   "cell_type": "code",
   "execution_count": null,
   "id": "b6fa9e09",
   "metadata": {},
   "outputs": [],
   "source": []
  },
  {
   "cell_type": "code",
   "execution_count": null,
   "id": "6aea723e",
   "metadata": {},
   "outputs": [],
   "source": []
  },
  {
   "cell_type": "code",
   "execution_count": null,
   "id": "57b49f31",
   "metadata": {},
   "outputs": [],
   "source": []
  },
  {
   "cell_type": "code",
   "execution_count": null,
   "id": "721771e1",
   "metadata": {},
   "outputs": [],
   "source": []
  },
  {
   "cell_type": "code",
   "execution_count": null,
   "id": "4b735304",
   "metadata": {},
   "outputs": [],
   "source": []
  },
  {
   "cell_type": "code",
   "execution_count": null,
   "id": "ed88672c",
   "metadata": {},
   "outputs": [],
   "source": []
  },
  {
   "cell_type": "code",
   "execution_count": null,
   "id": "17058a76",
   "metadata": {},
   "outputs": [],
   "source": []
  },
  {
   "cell_type": "code",
   "execution_count": null,
   "id": "cc009150",
   "metadata": {},
   "outputs": [],
   "source": []
  },
  {
   "cell_type": "markdown",
   "id": "6aa9f9ca",
   "metadata": {},
   "source": [
    "## Cleaning USA Data"
   ]
  },
  {
   "cell_type": "code",
   "execution_count": null,
   "id": "dfd69786",
   "metadata": {},
   "outputs": [],
   "source": [
    "#importing dataframe USA containing data from 1989-2022\n",
    "df_usa= pd.read_csv(r'US Steak prices.csv')\n",
    "df_usa.head(20)"
   ]
  },
  {
   "cell_type": "code",
   "execution_count": null,
   "id": "e8fc152b",
   "metadata": {
    "scrolled": true
   },
   "outputs": [],
   "source": [
    "#import dataset again, but skip firdt 9 rows to get correct column names\n",
    "df_usa= pd.read_csv(r'US Steak prices.csv',skiprows=9)\n",
    "df_usa['Period']=df_usa['Period'].str[1:] # remove 'M' character from 'Period' column\n",
    "df_usa['Year']=df_usa['Year'].astype(str) + df_usa[\"Period\"] # merge columns 'Year' and 'Period' \n",
    "df_usa =df_usa.drop(['Series ID', 'Unnamed: 4','Unnamed: 5','Period'], axis=1) #drop unused columns\n",
    "df_usa=df_usa.rename(columns = {'Year':'Daystamp'}) # remane 'Year' column to mach IRL dataset\n",
    "df_usa= df_usa.rename_axis('ID',axis=1) # Add column name to the index column\n",
    "df_usa.head()"
   ]
  },
  {
   "cell_type": "code",
   "execution_count": null,
   "id": "e587f917",
   "metadata": {},
   "outputs": [],
   "source": [
    "#create date values from current integer values in column 'Daystamp'\n",
    "df_usa['Daystamp'] = pd.to_datetime(df_usa['Daystamp'].apply(str) + '01', format='%Y%m%d', errors='ignore')\n",
    "df_usa['Year']= df_usa.index.year #Creating 'Year' column that will be used in visualisations\n",
    "df_usa['Month']= df_usa.index.month #Creating 'Month' column that will be used in visualisations\n",
    "df_usa.set_index('Daystamp',inplace =True)\n",
    "df_usa"
   ]
  },
  {
   "cell_type": "code",
   "execution_count": null,
   "id": "767e70fb",
   "metadata": {
    "scrolled": true
   },
   "outputs": [],
   "source": [
    "df_usa=df_usa.rename(columns = {'Value':'Sirloin steak per kg.'}) #rename 'Value' column to match IRL dataset\n",
    "df_usa['Sirloin steak per kg.']=2.2* df_usa['Sirloin steak per kg.'] #convert price from pounds into kilograms\n",
    "df_usa"
   ]
  },
  {
   "cell_type": "code",
   "execution_count": null,
   "id": "05c1c14c",
   "metadata": {},
   "outputs": [],
   "source": [
    "# after comparing IRL/USA datasets - remove unmached data from USA dataset\n",
    "df_usa = df_usa[(df_usa.index > '1996-12-1') & (df_usa.index<= '2021-12-1')]\n",
    "print(df_usa.info())\n",
    "df_irl.info()"
   ]
  },
  {
   "cell_type": "code",
   "execution_count": null,
   "id": "8dcfedab",
   "metadata": {
    "scrolled": false
   },
   "outputs": [],
   "source": [
    "#enhance line plot\n",
    "plt.figure(figsize=(15,5),facecolor='#ECECEC')\n",
    "Time_series=sns.lineplot(x=df_usa.index,y='Sirloin steak per kg.',data=df_usa,color='#599664', linewidth=3)\n",
    "Time_series.set_title('Sirloin steak price in USA from 1997-2021',fontsize=20)\n",
    "Time_series.set_ylabel('Price per Kg.',fontsize=20)\n",
    "Time_series.set_xlabel('Year',fontsize=20)\n",
    "plt.grid() "
   ]
  },
  {
   "cell_type": "code",
   "execution_count": null,
   "id": "312268c3",
   "metadata": {
    "scrolled": true
   },
   "outputs": [],
   "source": [
    "plt.figure(figsize=(24, 10))\n",
    "axs=sns.boxplot(x=df_usa.Year, y=df_usa['Sirloin steak per kg.'])\n",
    "axs.set_title('Count Of Traffic 2008',fontsize=30)\n",
    "axs.set_ylabel('Number of Vehicles',fontsize=20)\n",
    "axs.set_xlabel('Year',fontsize=20)\n",
    "plt.show()"
   ]
  },
  {
   "cell_type": "code",
   "execution_count": null,
   "id": "d1ed1fd1",
   "metadata": {},
   "outputs": [],
   "source": [
    "#remove outliers in USA data using GroupBy median\n",
    "grp = df_usa.groupby('Year')['Sirloin steak per kg.']\n",
    "df_usa['Sirloin steak per kg.'] = (df_usa['Sirloin steak per kg.'].where(grp.transform('quantile', q=0.95) > df_usa['Sirloin steak per kg.'], \n",
    "                            grp.transform('median')))\n"
   ]
  },
  {
   "cell_type": "code",
   "execution_count": null,
   "id": "cff955e5",
   "metadata": {
    "scrolled": true
   },
   "outputs": [],
   "source": [
    "plt.figure(figsize=(24, 10))\n",
    "axs=sns.boxplot(x=df_usa.Year, y=df_usa['Sirloin steak per kg.'])\n",
    "axs.set_title('Count Of Traffic 2008',fontsize=30)\n",
    "axs.set_ylabel('Number of Vehicles',fontsize=20)\n",
    "axs.set_xlabel('Year',fontsize=20)\n",
    "plt.show()"
   ]
  },
  {
   "cell_type": "code",
   "execution_count": null,
   "id": "9ad7c18d",
   "metadata": {},
   "outputs": [],
   "source": []
  },
  {
   "cell_type": "markdown",
   "id": "12e69bce",
   "metadata": {},
   "source": [
    "## Compare Two Datasets"
   ]
  },
  {
   "cell_type": "code",
   "execution_count": null,
   "id": "c40305fa",
   "metadata": {
    "scrolled": false
   },
   "outputs": [],
   "source": [
    "#compare fwo graphs\n",
    "plt.figure(figsize=(15,5),facecolor='#ECECEC')\n",
    "Time_series=sns.lineplot(x=df_usa.index,y='Sirloin steak per kg.',data=df_usa,color='#880808', linewidth=1.5,label='USA')\n",
    "Time_series=sns.lineplot(x=df_irl.index,y='Sirloin steak per kg.',data=df_irl,color='#50C878', linewidth=1.5, label='IRL')\n",
    "Time_series.set_title('Sirloin steak prices in IRL and USA from 1997-2021',fontsize=20)\n",
    "Time_series.set_ylabel('Price per Kg.',fontsize=20)\n",
    "Time_series.set_xlabel('Year',fontsize=20)\n",
    "plt.grid() \n"
   ]
  },
  {
   "cell_type": "code",
   "execution_count": null,
   "id": "1d23c357",
   "metadata": {},
   "outputs": [],
   "source": []
  }
 ],
 "metadata": {
  "kernelspec": {
   "display_name": "Python 3 (ipykernel)",
   "language": "python",
   "name": "python3"
  },
  "language_info": {
   "codemirror_mode": {
    "name": "ipython",
    "version": 3
   },
   "file_extension": ".py",
   "mimetype": "text/x-python",
   "name": "python",
   "nbconvert_exporter": "python",
   "pygments_lexer": "ipython3",
   "version": "3.9.7"
  }
 },
 "nbformat": 4,
 "nbformat_minor": 5
}
