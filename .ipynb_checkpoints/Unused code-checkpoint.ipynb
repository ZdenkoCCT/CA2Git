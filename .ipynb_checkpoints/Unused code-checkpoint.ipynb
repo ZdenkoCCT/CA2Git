{
 "cells": [
  {
   "cell_type": "code",
   "execution_count": 1,
   "id": "baaa71df",
   "metadata": {},
   "outputs": [
    {
     "ename": "NameError",
     "evalue": "name 'df_irl' is not defined",
     "output_type": "error",
     "traceback": [
      "\u001b[1;31m---------------------------------------------------------------------------\u001b[0m",
      "\u001b[1;31mNameError\u001b[0m                                 Traceback (most recent call last)",
      "Input \u001b[1;32mIn [1]\u001b[0m, in \u001b[0;36m<cell line: 4>\u001b[1;34m()\u001b[0m\n\u001b[0;32m      2\u001b[0m \u001b[38;5;28;01mimport\u001b[39;00m \u001b[38;5;21;01mplotly\u001b[39;00m\u001b[38;5;21;01m.\u001b[39;00m\u001b[38;5;21;01mexpress\u001b[39;00m \u001b[38;5;28;01mas\u001b[39;00m \u001b[38;5;21;01mpx\u001b[39;00m \n\u001b[0;32m      3\u001b[0m \u001b[38;5;66;03m#define min/max values for x-axis and y-axis\u001b[39;00m\n\u001b[1;32m----> 4\u001b[0m xmin, xmax \u001b[38;5;241m=\u001b[39m \u001b[38;5;28mmin\u001b[39m(df_irl\u001b[38;5;241m.\u001b[39mMonth), \u001b[38;5;28mmax\u001b[39m(df_irl\u001b[38;5;241m.\u001b[39mMonth) \n\u001b[0;32m      5\u001b[0m ymin, ymax \u001b[38;5;241m=\u001b[39m \u001b[38;5;28mmin\u001b[39m(df_irl[\u001b[38;5;124m'\u001b[39m\u001b[38;5;124mSirloin steak per kg.\u001b[39m\u001b[38;5;124m'\u001b[39m]), \u001b[38;5;28mmax\u001b[39m(df_irl[\u001b[38;5;124m'\u001b[39m\u001b[38;5;124mSirloin steak per kg.\u001b[39m\u001b[38;5;124m'\u001b[39m])\n\u001b[0;32m      6\u001b[0m \u001b[38;5;66;03m#define scater plot atributes\u001b[39;00m\n",
      "\u001b[1;31mNameError\u001b[0m: name 'df_irl' is not defined"
     ]
    }
   ],
   "source": [
    "#import plotly module\n",
    "import plotly.express as px \n",
    "#define min/max values for x-axis and y-axis\n",
    "xmin, xmax = min(df_irl.Month), max(df_irl.Month) \n",
    "ymin, ymax = min(df_irl['Sirloin steak per kg.']), max(df_irl['Sirloin steak per kg.'])\n",
    "#define scater plot atributes\n",
    "fig = px.scatter(df_irl, x='Month', y='Sirloin steak per kg.', animation_frame='Month',\n",
    "animation_group='Sirloin steak per kg.', color='Year', hover_name='Sirloin steak per kg.',\n",
    "facet_col='Year', width=8000, height=400, log_x=True, size_max=50,\n",
    "range_x=[xmin,xmax], range_y=[ymin,ymax]) \n",
    "fig.show() "
   ]
  },
  {
   "cell_type": "code",
   "execution_count": null,
   "id": "2caa04e1",
   "metadata": {},
   "outputs": [],
   "source": [
    "from calendar import month_name as mn\n",
    "\n",
    "# month list\n",
    "months = mn[1:]\n",
    "\n",
    "# convert the column to categorical and ordered\n",
    "#df_irl.Month = pd.Categorical(df_irl.Month, categories=months, ordered=True)\n",
    "\n",
    "# plot the data\n",
    "p = sns.relplot(kind='line', data=df_irl, x='Month', y='Sirloin steak per kg.', hue='Year', aspect=2.5, marker='o')"
   ]
  },
  {
   "cell_type": "code",
   "execution_count": null,
   "id": "48414fcb",
   "metadata": {},
   "outputs": [],
   "source": []
  },
  {
   "cell_type": "code",
   "execution_count": null,
   "id": "c093cf85",
   "metadata": {},
   "outputs": [],
   "source": []
  }
 ],
 "metadata": {
  "kernelspec": {
   "display_name": "Python 3 (ipykernel)",
   "language": "python",
   "name": "python3"
  },
  "language_info": {
   "codemirror_mode": {
    "name": "ipython",
    "version": 3
   },
   "file_extension": ".py",
   "mimetype": "text/x-python",
   "name": "python",
   "nbconvert_exporter": "python",
   "pygments_lexer": "ipython3",
   "version": "3.9.7"
  }
 },
 "nbformat": 4,
 "nbformat_minor": 5
}
