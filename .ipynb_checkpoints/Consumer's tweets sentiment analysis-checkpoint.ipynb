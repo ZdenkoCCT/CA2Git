{
 "cells": [
  {
   "cell_type": "code",
   "execution_count": 1,
   "id": "8ba64c6f",
   "metadata": {},
   "outputs": [],
   "source": [
    "import warnings\n",
    "warnings.filterwarnings('ignore')"
   ]
  },
  {
   "cell_type": "markdown",
   "id": "3262637a",
   "metadata": {},
   "source": [
    "## Producer sentiment analysis"
   ]
  },
  {
   "cell_type": "code",
   "execution_count": 2,
   "id": "d9f3351e",
   "metadata": {},
   "outputs": [],
   "source": [
    "import snscrape.modules.twitter as sntwitter\n",
    "import pandas as pd\n",
    "\n",
    "query = 'farming cost increase' \n",
    "tweets = []\n",
    "limit = 5000\n",
    "\n",
    "\n",
    "for tweet in sntwitter.TwitterSearchScraper(query).get_items():\n",
    "    if len(tweets) == limit:\n",
    "        break\n",
    "    else:\n",
    "        tweets.append(tweet)\n",
    "        \n",
    "df_tweets = pd.DataFrame(tweets)\n",
    "\n"
   ]
  },
  {
   "cell_type": "code",
   "execution_count": 3,
   "id": "c53aa4ad",
   "metadata": {},
   "outputs": [],
   "source": [
    "#Cleaning Data-adding column location\n",
    "df_tweets['user_location'] =  df_tweets['user'].apply(lambda x: x['location'])"
   ]
  },
  {
   "cell_type": "code",
   "execution_count": 4,
   "id": "a5b276b5",
   "metadata": {},
   "outputs": [],
   "source": [
    "#df_tweets.to_csv('farming cost increase.csv.csv')\n",
    "#df_tweets =pd.read_csv(r'farming cost increase.csv')"
   ]
  },
  {
   "cell_type": "code",
   "execution_count": 26,
   "id": "9b926d89",
   "metadata": {},
   "outputs": [
    {
     "data": {
      "text/html": [
       "<div>\n",
       "<style scoped>\n",
       "    .dataframe tbody tr th:only-of-type {\n",
       "        vertical-align: middle;\n",
       "    }\n",
       "\n",
       "    .dataframe tbody tr th {\n",
       "        vertical-align: top;\n",
       "    }\n",
       "\n",
       "    .dataframe thead th {\n",
       "        text-align: right;\n",
       "    }\n",
       "</style>\n",
       "<table border=\"1\" class=\"dataframe\">\n",
       "  <thead>\n",
       "    <tr style=\"text-align: right;\">\n",
       "      <th></th>\n",
       "      <th>content</th>\n",
       "      <th>user_location</th>\n",
       "      <th>sentiment</th>\n",
       "    </tr>\n",
       "  </thead>\n",
       "  <tbody>\n",
       "    <tr>\n",
       "      <th>0</th>\n",
       "      <td>study sustainable farming proven increase yiel...</td>\n",
       "      <td></td>\n",
       "      <td>0</td>\n",
       "    </tr>\n",
       "    <tr>\n",
       "      <th>1</th>\n",
       "      <td>ircocytus vheeringa tauhenare ets currently su...</td>\n",
       "      <td>Kuri Bush, Dunedin City</td>\n",
       "      <td>-1</td>\n",
       "    </tr>\n",
       "    <tr>\n",
       "      <th>2</th>\n",
       "      <td>piirooooo mxtuner58 chocolatesalty3 farming_co...</td>\n",
       "      <td>France</td>\n",
       "      <td>-1</td>\n",
       "    </tr>\n",
       "    <tr>\n",
       "      <th>3</th>\n",
       "      <td>_gedeoh_ mxtuner58 chocolatesalty3 farming_cor...</td>\n",
       "      <td>crack den</td>\n",
       "      <td>0</td>\n",
       "    </tr>\n",
       "    <tr>\n",
       "      <th>4</th>\n",
       "      <td>aldi_ireland mention week ago butter jumped 21...</td>\n",
       "      <td>Kildare, Ireland</td>\n",
       "      <td>1</td>\n",
       "    </tr>\n",
       "  </tbody>\n",
       "</table>\n",
       "</div>"
      ],
      "text/plain": [
       "                                             content            user_location  \\\n",
       "0  study sustainable farming proven increase yiel...                            \n",
       "1  ircocytus vheeringa tauhenare ets currently su...  Kuri Bush, Dunedin City   \n",
       "2  piirooooo mxtuner58 chocolatesalty3 farming_co...                   France   \n",
       "3  _gedeoh_ mxtuner58 chocolatesalty3 farming_cor...                crack den   \n",
       "4  aldi_ireland mention week ago butter jumped 21...         Kildare, Ireland   \n",
       "\n",
       "   sentiment  \n",
       "0          0  \n",
       "1         -1  \n",
       "2         -1  \n",
       "3          0  \n",
       "4          1  "
      ]
     },
     "execution_count": 26,
     "metadata": {},
     "output_type": "execute_result"
    }
   ],
   "source": [
    "df_tweets.head()"
   ]
  },
  {
   "cell_type": "code",
   "execution_count": 6,
   "id": "e9256a26",
   "metadata": {},
   "outputs": [
    {
     "name": "stdout",
     "output_type": "stream",
     "text": [
      "<class 'pandas.core.frame.DataFrame'>\n",
      "RangeIndex: 1156 entries, 0 to 1155\n",
      "Data columns (total 2 columns):\n",
      " #   Column         Non-Null Count  Dtype \n",
      "---  ------         --------------  ----- \n",
      " 0   content        1156 non-null   object\n",
      " 1   user_location  1156 non-null   object\n",
      "dtypes: object(2)\n",
      "memory usage: 18.2+ KB\n"
     ]
    }
   ],
   "source": [
    "#Cleaning Data-flter and keep only columns that we will use in the dataset\n",
    "df_tweets= df_tweets.filter(['content','user_location'], axis=1)\n",
    "df_tweets.info()"
   ]
  },
  {
   "cell_type": "code",
   "execution_count": 7,
   "id": "628b2f9e",
   "metadata": {},
   "outputs": [
    {
     "data": {
      "text/plain": [
       "0       study: sustainable farming proven to increase ...\n",
       "1       @ircocytus @vheeringa @tauhenare the ets curre...\n",
       "2       @piirooooo @mxtuner58 @chocolatesalty3 @farmin...\n",
       "3       @_gedeoh_ @mxtuner58 @chocolatesalty3 @farming...\n",
       "4       @aldi_ireland so i did mention a few weeks ago...\n",
       "                              ...                        \n",
       "1151    increase productivity, lower cost of farming &...\n",
       "1152    @yourlocalfoods the wage increase is great 4 w...\n",
       "1153    what i like about sarah palin « proleptic life...\n",
       "1154    hot air » blog archive » video: &#39;cuda atta...\n",
       "1155    disturbed by the fact every business in the u....\n",
       "Name: content, Length: 1156, dtype: object"
      ]
     },
     "execution_count": 7,
     "metadata": {},
     "output_type": "execute_result"
    }
   ],
   "source": [
    "#Cleaning Data-change words in the 'content' column to lower case\n",
    "df_tweets['content'] = df_tweets['content'].apply(lambda x:x.lower())\n",
    "df_tweets['content']"
   ]
  },
  {
   "cell_type": "code",
   "execution_count": 8,
   "id": "3ec26089",
   "metadata": {},
   "outputs": [
    {
     "name": "stderr",
     "output_type": "stream",
     "text": [
      "[nltk_data] Downloading package stopwords to\n",
      "[nltk_data]     C:\\Users\\Z\\AppData\\Roaming\\nltk_data...\n",
      "[nltk_data]   Package stopwords is already up-to-date!\n"
     ]
    }
   ],
   "source": [
    "#import natural processing toolkit\n",
    "import nltk\n",
    "nltk.download('stopwords')\n",
    "from nltk.corpus import stopwords\n",
    "stop = stopwords.words('english')"
   ]
  },
  {
   "cell_type": "code",
   "execution_count": 9,
   "id": "d38165dc",
   "metadata": {},
   "outputs": [
    {
     "data": {
      "text/plain": [
       "0    study: sustainable farming proven increase yie...\n",
       "1    @ircocytus @vheeringa @tauhenare ets currently...\n",
       "2    @piirooooo @mxtuner58 @chocolatesalty3 @farmin...\n",
       "3    @_gedeoh_ @mxtuner58 @chocolatesalty3 @farming...\n",
       "4    @aldi_ireland mention weeks ago butter jumped ...\n",
       "Name: content, dtype: object"
      ]
     },
     "execution_count": 9,
     "metadata": {},
     "output_type": "execute_result"
    }
   ],
   "source": [
    "#Cleaning Data-remove english stopwords\n",
    "df_tweets['content'] = df_tweets['content'].apply(lambda x: \" \".join(x for x in x.split() if x not in stop))\n",
    "df_tweets['content'].head()"
   ]
  },
  {
   "cell_type": "code",
   "execution_count": 10,
   "id": "3a6d5ece",
   "metadata": {},
   "outputs": [
    {
     "data": {
      "text/plain": [
       "0    study sustainable farming proven increase yiel...\n",
       "1    ircocytus vheeringa tauhenare ets currently su...\n",
       "2    piirooooo mxtuner58 chocolatesalty3 farming_co...\n",
       "3    _gedeoh_ mxtuner58 chocolatesalty3 farming_cor...\n",
       "4    aldi_ireland mention weeks ago butter jumped 2...\n",
       "Name: content, dtype: object"
      ]
     },
     "execution_count": 10,
     "metadata": {},
     "output_type": "execute_result"
    }
   ],
   "source": [
    "#Cleaning Data-remove special characters\n",
    "df_tweets['content'] = df_tweets['content'].str.replace('[^\\w\\s]','')\n",
    "df_tweets['content'].head()"
   ]
  },
  {
   "cell_type": "code",
   "execution_count": 11,
   "id": "eaba9186",
   "metadata": {},
   "outputs": [
    {
     "data": {
      "text/plain": [
       "[('increase', 1229),\n",
       " ('cost', 1220),\n",
       " ('farming', 1219),\n",
       " ('farmers', 321),\n",
       " ('production', 189),\n",
       " ('food', 185),\n",
       " ('amp', 184),\n",
       " ('reduce', 139),\n",
       " ('yield', 128),\n",
       " ('price', 127),\n",
       " ('organic', 110),\n",
       " ('would', 105),\n",
       " ('prices', 99),\n",
       " ('farm', 87),\n",
       " ('also', 86),\n",
       " ('need', 79),\n",
       " ('land', 77),\n",
       " ('income', 76),\n",
       " ('agriculture', 76),\n",
       " ('sustainable', 74),\n",
       " ('productivity', 74),\n",
       " ('crop', 69),\n",
       " ('costs', 64),\n",
       " ('farmer', 63),\n",
       " ('zero', 62),\n",
       " ('use', 62),\n",
       " ('due', 60),\n",
       " ('way', 60),\n",
       " ('less', 57),\n",
       " ('high', 57),\n",
       " ('make', 56),\n",
       " ('per', 56),\n",
       " ('input', 55),\n",
       " ('govt', 54),\n",
       " ('year', 53),\n",
       " ('low', 53),\n",
       " ('help', 52),\n",
       " ('new', 51),\n",
       " ('living', 50),\n",
       " ('good', 50),\n",
       " ('us', 49),\n",
       " ('fuel', 49),\n",
       " ('proven', 48),\n",
       " ('inputs', 48),\n",
       " ('yields', 48),\n",
       " ('one', 47),\n",
       " ('people', 47),\n",
       " ('msp', 47),\n",
       " ('like', 46),\n",
       " ('industry', 46)]"
      ]
     },
     "execution_count": 11,
     "metadata": {},
     "output_type": "execute_result"
    }
   ],
   "source": [
    "#Cleaning Data-check for most frequent words in the 'content column'\n",
    "from collections import Counter\n",
    "df_wordCounter= Counter(\" \".join(df_tweets['content']).split()).most_common(50)\n",
    "df_wordCounter"
   ]
  },
  {
   "cell_type": "code",
   "execution_count": 12,
   "id": "415817f9",
   "metadata": {},
   "outputs": [
    {
     "name": "stderr",
     "output_type": "stream",
     "text": [
      "[nltk_data] Downloading package wordnet to\n",
      "[nltk_data]     C:\\Users\\Z\\AppData\\Roaming\\nltk_data...\n",
      "[nltk_data]   Package wordnet is already up-to-date!\n"
     ]
    },
    {
     "data": {
      "text/plain": [
       "0    study sustainable farming proven increase yiel...\n",
       "1    ircocytus vheeringa tauhenare ets currently su...\n",
       "2    piirooooo mxtuner58 chocolatesalty3 farming_co...\n",
       "3    _gedeoh_ mxtuner58 chocolatesalty3 farming_cor...\n",
       "4    aldi_ireland mention week ago butter jumped 21...\n",
       "Name: content, dtype: object"
      ]
     },
     "execution_count": 12,
     "metadata": {},
     "output_type": "execute_result"
    }
   ],
   "source": [
    "\n",
    "nltk.download('wordnet')\n",
    "from textblob import Word\n",
    "df_tweets['content'] = df_tweets['content'].apply(lambda x: \" \".join([Word(word).lemmatize() for word in x.split()]))\n",
    "df_tweets['content'].head()\n"
   ]
  },
  {
   "cell_type": "code",
   "execution_count": 13,
   "id": "746c52d0",
   "metadata": {},
   "outputs": [
    {
     "data": {
      "text/plain": [
       "[('cost', 1284),\n",
       " ('increase', 1255),\n",
       " ('farming', 1220),\n",
       " ('farmer', 384),\n",
       " ('price', 226),\n",
       " ('production', 190),\n",
       " ('food', 189),\n",
       " ('amp', 184),\n",
       " ('yield', 176),\n",
       " ('reduce', 139),\n",
       " ('organic', 111),\n",
       " ('farm', 110),\n",
       " ('would', 105),\n",
       " ('crop', 104),\n",
       " ('input', 103),\n",
       " ('need', 98),\n",
       " ('also', 86),\n",
       " ('year', 85),\n",
       " ('way', 82),\n",
       " ('income', 81),\n",
       " ('land', 79),\n",
       " ('agriculture', 76),\n",
       " ('sustainable', 74),\n",
       " ('productivity', 74),\n",
       " ('good', 72),\n",
       " ('fertilizer', 67),\n",
       " ('industry', 64),\n",
       " ('zero', 62),\n",
       " ('use', 62),\n",
       " ('make', 60),\n",
       " ('due', 60),\n",
       " ('le', 58),\n",
       " ('u', 58),\n",
       " ('profit', 58),\n",
       " ('help', 58),\n",
       " ('high', 57),\n",
       " ('per', 56),\n",
       " ('govt', 54),\n",
       " ('low', 53),\n",
       " ('time', 52),\n",
       " ('get', 51),\n",
       " ('one', 51),\n",
       " ('new', 51),\n",
       " ('feed', 51),\n",
       " ('living', 50),\n",
       " ('it', 50),\n",
       " ('lower', 50),\n",
       " ('fuel', 50),\n",
       " ('people', 49),\n",
       " ('proven', 48)]"
      ]
     },
     "execution_count": 13,
     "metadata": {},
     "output_type": "execute_result"
    }
   ],
   "source": [
    "#Cleaning Data-check for most frequent words in the 'content column' after applying lemmatiser\n",
    "from collections import Counter\n",
    "df_wordCounter= Counter(\" \".join(df_tweets['content']).split()).most_common(50)\n",
    "df_wordCounter"
   ]
  },
  {
   "cell_type": "code",
   "execution_count": 14,
   "id": "d75c8338",
   "metadata": {
    "scrolled": false
   },
   "outputs": [
    {
     "data": {
      "text/plain": [
       "0                                       (0.0, 0.0)\n",
       "1                                    (-0.25, 0.35)\n",
       "2       (-0.10714285714285715, 0.7178571428571429)\n",
       "3                                       (0.0, 0.0)\n",
       "4                                       (0.5, 0.6)\n",
       "                           ...                    \n",
       "1151                                   (0.25, 0.5)\n",
       "1152                                  (0.575, 0.7)\n",
       "1153     (0.21428571428571427, 0.5714285714285714)\n",
       "1154     (0.23214285714285715, 0.7107142857142857)\n",
       "1155                                    (0.0, 0.0)\n",
       "Name: content, Length: 1156, dtype: object"
      ]
     },
     "execution_count": 14,
     "metadata": {},
     "output_type": "execute_result"
    }
   ],
   "source": [
    "#\n",
    "from textblob import TextBlob\n",
    "df_tweets['content'].apply(lambda x: TextBlob(x).sentiment)"
   ]
  },
  {
   "cell_type": "code",
   "execution_count": 15,
   "id": "55d9d9dd",
   "metadata": {},
   "outputs": [
    {
     "data": {
      "text/html": [
       "<div>\n",
       "<style scoped>\n",
       "    .dataframe tbody tr th:only-of-type {\n",
       "        vertical-align: middle;\n",
       "    }\n",
       "\n",
       "    .dataframe tbody tr th {\n",
       "        vertical-align: top;\n",
       "    }\n",
       "\n",
       "    .dataframe thead th {\n",
       "        text-align: right;\n",
       "    }\n",
       "</style>\n",
       "<table border=\"1\" class=\"dataframe\">\n",
       "  <thead>\n",
       "    <tr style=\"text-align: right;\">\n",
       "      <th></th>\n",
       "      <th>content</th>\n",
       "      <th>user_location</th>\n",
       "      <th>sentiment</th>\n",
       "    </tr>\n",
       "  </thead>\n",
       "  <tbody>\n",
       "    <tr>\n",
       "      <th>0</th>\n",
       "      <td>study sustainable farming proven increase yiel...</td>\n",
       "      <td></td>\n",
       "      <td>0.000000</td>\n",
       "    </tr>\n",
       "    <tr>\n",
       "      <th>1</th>\n",
       "      <td>ircocytus vheeringa tauhenare ets currently su...</td>\n",
       "      <td>Kuri Bush, Dunedin City</td>\n",
       "      <td>-0.250000</td>\n",
       "    </tr>\n",
       "    <tr>\n",
       "      <th>2</th>\n",
       "      <td>piirooooo mxtuner58 chocolatesalty3 farming_co...</td>\n",
       "      <td>France</td>\n",
       "      <td>-0.107143</td>\n",
       "    </tr>\n",
       "    <tr>\n",
       "      <th>3</th>\n",
       "      <td>_gedeoh_ mxtuner58 chocolatesalty3 farming_cor...</td>\n",
       "      <td>crack den</td>\n",
       "      <td>0.000000</td>\n",
       "    </tr>\n",
       "    <tr>\n",
       "      <th>4</th>\n",
       "      <td>aldi_ireland mention week ago butter jumped 21...</td>\n",
       "      <td>Kildare, Ireland</td>\n",
       "      <td>0.500000</td>\n",
       "    </tr>\n",
       "    <tr>\n",
       "      <th>...</th>\n",
       "      <td>...</td>\n",
       "      <td>...</td>\n",
       "      <td>...</td>\n",
       "    </tr>\n",
       "    <tr>\n",
       "      <th>1151</th>\n",
       "      <td>increase productivity lower cost farming highe...</td>\n",
       "      <td>Malaysia</td>\n",
       "      <td>0.250000</td>\n",
       "    </tr>\n",
       "    <tr>\n",
       "      <th>1152</th>\n",
       "      <td>yourlocalfoods wage increase great 4 worker tr...</td>\n",
       "      <td>Holland Marsh, Ontario</td>\n",
       "      <td>0.575000</td>\n",
       "    </tr>\n",
       "    <tr>\n",
       "      <th>1153</th>\n",
       "      <td>like sarah palin proleptic life cost farming c...</td>\n",
       "      <td>Lexington, NC</td>\n",
       "      <td>0.214286</td>\n",
       "    </tr>\n",
       "    <tr>\n",
       "      <th>1154</th>\n",
       "      <td>hot air blog archive video 39cuda attack hong ...</td>\n",
       "      <td>Lexington, NC</td>\n",
       "      <td>0.232143</td>\n",
       "    </tr>\n",
       "    <tr>\n",
       "      <th>1155</th>\n",
       "      <td>disturbed fact every business u liberty increa...</td>\n",
       "      <td>The Middle of Nowhere</td>\n",
       "      <td>0.000000</td>\n",
       "    </tr>\n",
       "  </tbody>\n",
       "</table>\n",
       "<p>1156 rows × 3 columns</p>\n",
       "</div>"
      ],
      "text/plain": [
       "                                                content  \\\n",
       "0     study sustainable farming proven increase yiel...   \n",
       "1     ircocytus vheeringa tauhenare ets currently su...   \n",
       "2     piirooooo mxtuner58 chocolatesalty3 farming_co...   \n",
       "3     _gedeoh_ mxtuner58 chocolatesalty3 farming_cor...   \n",
       "4     aldi_ireland mention week ago butter jumped 21...   \n",
       "...                                                 ...   \n",
       "1151  increase productivity lower cost farming highe...   \n",
       "1152  yourlocalfoods wage increase great 4 worker tr...   \n",
       "1153  like sarah palin proleptic life cost farming c...   \n",
       "1154  hot air blog archive video 39cuda attack hong ...   \n",
       "1155  disturbed fact every business u liberty increa...   \n",
       "\n",
       "                user_location  sentiment  \n",
       "0                               0.000000  \n",
       "1     Kuri Bush, Dunedin City  -0.250000  \n",
       "2                      France  -0.107143  \n",
       "3                   crack den   0.000000  \n",
       "4            Kildare, Ireland   0.500000  \n",
       "...                       ...        ...  \n",
       "1151                 Malaysia   0.250000  \n",
       "1152   Holland Marsh, Ontario   0.575000  \n",
       "1153            Lexington, NC   0.214286  \n",
       "1154            Lexington, NC   0.232143  \n",
       "1155    The Middle of Nowhere   0.000000  \n",
       "\n",
       "[1156 rows x 3 columns]"
      ]
     },
     "execution_count": 15,
     "metadata": {},
     "output_type": "execute_result"
    }
   ],
   "source": [
    "#\n",
    "df_tweets['sentiment']= df_tweets['content'].apply(lambda x: TextBlob(x).sentiment[0])\n",
    "df_tweets"
   ]
  },
  {
   "cell_type": "code",
   "execution_count": 16,
   "id": "33072c5c",
   "metadata": {},
   "outputs": [
    {
     "name": "stdout",
     "output_type": "stream",
     "text": [
      "<class 'pandas.core.frame.DataFrame'>\n",
      "RangeIndex: 1156 entries, 0 to 1155\n",
      "Data columns (total 3 columns):\n",
      " #   Column         Non-Null Count  Dtype  \n",
      "---  ------         --------------  -----  \n",
      " 0   content        1156 non-null   object \n",
      " 1   user_location  1156 non-null   object \n",
      " 2   sentiment      1156 non-null   float64\n",
      "dtypes: float64(1), object(2)\n",
      "memory usage: 27.2+ KB\n"
     ]
    }
   ],
   "source": [
    "#\n",
    "df_tweets.info()"
   ]
  },
  {
   "cell_type": "code",
   "execution_count": 17,
   "id": "1a025393",
   "metadata": {},
   "outputs": [],
   "source": [
    "#\n",
    "df_tweets['sentiment'] = df_tweets['sentiment'].apply(lambda x:-1 if x <0 else (1 if x>0 else 0))"
   ]
  },
  {
   "cell_type": "code",
   "execution_count": 18,
   "id": "75d90074",
   "metadata": {},
   "outputs": [
    {
     "data": {
      "text/html": [
       "<div>\n",
       "<style scoped>\n",
       "    .dataframe tbody tr th:only-of-type {\n",
       "        vertical-align: middle;\n",
       "    }\n",
       "\n",
       "    .dataframe tbody tr th {\n",
       "        vertical-align: top;\n",
       "    }\n",
       "\n",
       "    .dataframe thead th {\n",
       "        text-align: right;\n",
       "    }\n",
       "</style>\n",
       "<table border=\"1\" class=\"dataframe\">\n",
       "  <thead>\n",
       "    <tr style=\"text-align: right;\">\n",
       "      <th></th>\n",
       "      <th>content</th>\n",
       "      <th>user_location</th>\n",
       "      <th>sentiment</th>\n",
       "    </tr>\n",
       "  </thead>\n",
       "  <tbody>\n",
       "    <tr>\n",
       "      <th>0</th>\n",
       "      <td>study sustainable farming proven increase yiel...</td>\n",
       "      <td></td>\n",
       "      <td>0</td>\n",
       "    </tr>\n",
       "    <tr>\n",
       "      <th>1</th>\n",
       "      <td>ircocytus vheeringa tauhenare ets currently su...</td>\n",
       "      <td>Kuri Bush, Dunedin City</td>\n",
       "      <td>-1</td>\n",
       "    </tr>\n",
       "    <tr>\n",
       "      <th>2</th>\n",
       "      <td>piirooooo mxtuner58 chocolatesalty3 farming_co...</td>\n",
       "      <td>France</td>\n",
       "      <td>-1</td>\n",
       "    </tr>\n",
       "    <tr>\n",
       "      <th>3</th>\n",
       "      <td>_gedeoh_ mxtuner58 chocolatesalty3 farming_cor...</td>\n",
       "      <td>crack den</td>\n",
       "      <td>0</td>\n",
       "    </tr>\n",
       "    <tr>\n",
       "      <th>4</th>\n",
       "      <td>aldi_ireland mention week ago butter jumped 21...</td>\n",
       "      <td>Kildare, Ireland</td>\n",
       "      <td>1</td>\n",
       "    </tr>\n",
       "  </tbody>\n",
       "</table>\n",
       "</div>"
      ],
      "text/plain": [
       "                                             content            user_location  \\\n",
       "0  study sustainable farming proven increase yiel...                            \n",
       "1  ircocytus vheeringa tauhenare ets currently su...  Kuri Bush, Dunedin City   \n",
       "2  piirooooo mxtuner58 chocolatesalty3 farming_co...                   France   \n",
       "3  _gedeoh_ mxtuner58 chocolatesalty3 farming_cor...                crack den   \n",
       "4  aldi_ireland mention week ago butter jumped 21...         Kildare, Ireland   \n",
       "\n",
       "   sentiment  \n",
       "0          0  \n",
       "1         -1  \n",
       "2         -1  \n",
       "3          0  \n",
       "4          1  "
      ]
     },
     "execution_count": 18,
     "metadata": {},
     "output_type": "execute_result"
    }
   ],
   "source": [
    "df_tweets.head()"
   ]
  },
  {
   "cell_type": "code",
   "execution_count": 19,
   "id": "a3193da8",
   "metadata": {},
   "outputs": [
    {
     "data": {
      "text/plain": [
       " 1    533\n",
       " 0    336\n",
       "-1    287\n",
       "Name: sentiment, dtype: int64"
      ]
     },
     "execution_count": 19,
     "metadata": {},
     "output_type": "execute_result"
    }
   ],
   "source": [
    "#Positive neutral negative sentiment count\n",
    "df_tweets.sentiment.value_counts()"
   ]
  },
  {
   "cell_type": "code",
   "execution_count": 20,
   "id": "63c14a73",
   "metadata": {},
   "outputs": [
    {
     "data": {
      "image/png": "[encoded data removed]",
      "text/plain": [
       "<Figure size 432x288 with 1 Axes>"
      ]
     },
     "metadata": {
      "needs_background": "light"
     },
     "output_type": "display_data"
    }
   ],
   "source": [
    "from matplotlib import pyplot as plt\n",
    "Sentiment_count=df_tweets.groupby('sentiment').count()\n",
    "plt.bar(Sentiment_count.index.values, Sentiment_count['content'])\n",
    "plt.xlabel('Review Sentiments')\n",
    "plt.ylabel('Number of Review')\n",
    "plt.show()"
   ]
  },
  {
   "cell_type": "code",
   "execution_count": 21,
   "id": "5c326e71",
   "metadata": {},
   "outputs": [
    {
     "data": {
      "text/plain": [
       "<1156x1000 sparse matrix of type '<class 'numpy.float64'>'\n",
       "\twith 15481 stored elements in Compressed Sparse Row format>"
      ]
     },
     "execution_count": 21,
     "metadata": {},
     "output_type": "execute_result"
    }
   ],
   "source": [
    "from sklearn.feature_extraction.text import TfidfVectorizer\n",
    "tfid_tweets = TfidfVectorizer(max_features=1000, lowercase=True, analyzer='word',stop_words= 'english',ngram_range=(1,1))\n",
    "df_tweets_normalised = tfid_tweets.fit_transform(df_tweets['content'])\n",
    "df_tweets_normalised"
   ]
  },
  {
   "cell_type": "code",
   "execution_count": 22,
   "id": "00b7fb6f",
   "metadata": {},
   "outputs": [],
   "source": [
    "#split train test\n",
    "from sklearn.model_selection import train_test_split\n",
    "X_train, X_test, y_train, y_test = train_test_split(df_tweets_normalised, df_tweets['sentiment'], test_size=0.25, random_state=1)"
   ]
  },
  {
   "cell_type": "code",
   "execution_count": 23,
   "id": "ba9054ad",
   "metadata": {},
   "outputs": [
    {
     "name": "stdout",
     "output_type": "stream",
     "text": [
      "MultinomialNB Accuracy: 0.5778546712802768\n"
     ]
    }
   ],
   "source": [
    "from sklearn.naive_bayes import MultinomialNB\n",
    "#Import scikit-learn metrics module for accuracy calculation\n",
    "from sklearn import metrics\n",
    "# Model Generation Using Multinomial Naive Bayes\n",
    "mnb = MultinomialNB().fit(X_train, y_train)\n",
    "predicted= mnb.predict(X_test)\n",
    "print(\"MultinomialNB Accuracy:\",metrics.accuracy_score(y_test, predicted))"
   ]
  },
  {
   "cell_type": "code",
   "execution_count": 24,
   "id": "a8ada768",
   "metadata": {},
   "outputs": [
    {
     "name": "stdout",
     "output_type": "stream",
     "text": [
      "[[ 13   8  44]\n",
      " [  2  46  43]\n",
      " [  7  13 113]]\n",
      "0.5951557093425606\n",
      "59.515570934256054\n"
     ]
    }
   ],
   "source": [
    "#random forest\n",
    "from sklearn.ensemble import RandomForestClassifier\n",
    "model = RandomForestClassifier(n_estimators=200)\n",
    "model.fit(X_train,y_train)\n",
    "predictions = model.predict(X_test)\n",
    "#Confusion Matrix \n",
    "from sklearn.metrics import confusion_matrix,f1_score\n",
    "print(confusion_matrix(y_test,predictions))\n",
    "\n",
    "#f1-score\n",
    "print(f1_score(y_test,predictions,average='micro'))\n",
    "\n",
    "#Accuracy_score\n",
    "from sklearn.metrics import accuracy_score\n",
    "print(accuracy_score(y_test,predictions)*100)\n"
   ]
  },
  {
   "cell_type": "code",
   "execution_count": null,
   "id": "c3c76fd4",
   "metadata": {},
   "outputs": [],
   "source": []
  },
  {
   "cell_type": "markdown",
   "id": "58f1de28",
   "metadata": {},
   "source": [
    "## Consumer sentiment analysis"
   ]
  },
  {
   "cell_type": "code",
   "execution_count": 2,
   "id": "de4c32bd",
   "metadata": {},
   "outputs": [],
   "source": [
    "import snscrape.modules.twitter as sntwitter\n",
    "import pandas as pd\n",
    "\n",
    "query = 'organic food cost' \n",
    "tweets = []\n",
    "limit = 5000\n",
    "\n",
    "\n",
    "for tweet in sntwitter.TwitterSearchScraper(query).get_items():\n",
    "    if len(tweets) == limit:\n",
    "        break\n",
    "    else:\n",
    "        tweets.append(tweet)\n",
    "        \n",
    "df_tweets = pd.DataFrame(tweets)\n",
    "\n"
   ]
  },
  {
   "cell_type": "code",
   "execution_count": 3,
   "id": "c53aa4ad",
   "metadata": {},
   "outputs": [],
   "source": [
    "#Cleaning Data-adding column location\n",
    "df_tweets['user_location'] =  df_tweets['user'].apply(lambda x: x['location'])"
   ]
  },
  {
   "cell_type": "code",
   "execution_count": 4,
   "id": "a5b276b5",
   "metadata": {},
   "outputs": [],
   "source": [
    "#df_tweets.to_csv('organic food cost.csv')\n",
    "#df_tweets =pd.read_csv(r'organic food cost.csv')"
   ]
  },
  {
   "cell_type": "code",
   "execution_count": 26,
   "id": "9b926d89",
   "metadata": {},
   "outputs": [
    {
     "data": {
      "text/html": [
       "<div>\n",
       "<style scoped>\n",
       "    .dataframe tbody tr th:only-of-type {\n",
       "        vertical-align: middle;\n",
       "    }\n",
       "\n",
       "    .dataframe tbody tr th {\n",
       "        vertical-align: top;\n",
       "    }\n",
       "\n",
       "    .dataframe thead th {\n",
       "        text-align: right;\n",
       "    }\n",
       "</style>\n",
       "<table border=\"1\" class=\"dataframe\">\n",
       "  <thead>\n",
       "    <tr style=\"text-align: right;\">\n",
       "      <th></th>\n",
       "      <th>content</th>\n",
       "      <th>user_location</th>\n",
       "      <th>sentiment</th>\n",
       "    </tr>\n",
       "  </thead>\n",
       "  <tbody>\n",
       "    <tr>\n",
       "      <th>0</th>\n",
       "      <td>study sustainable farming proven increase yiel...</td>\n",
       "      <td></td>\n",
       "      <td>0</td>\n",
       "    </tr>\n",
       "    <tr>\n",
       "      <th>1</th>\n",
       "      <td>ircocytus vheeringa tauhenare ets currently su...</td>\n",
       "      <td>Kuri Bush, Dunedin City</td>\n",
       "      <td>-1</td>\n",
       "    </tr>\n",
       "    <tr>\n",
       "      <th>2</th>\n",
       "      <td>piirooooo mxtuner58 chocolatesalty3 farming_co...</td>\n",
       "      <td>France</td>\n",
       "      <td>-1</td>\n",
       "    </tr>\n",
       "    <tr>\n",
       "      <th>3</th>\n",
       "      <td>_gedeoh_ mxtuner58 chocolatesalty3 farming_cor...</td>\n",
       "      <td>crack den</td>\n",
       "      <td>0</td>\n",
       "    </tr>\n",
       "    <tr>\n",
       "      <th>4</th>\n",
       "      <td>aldi_ireland mention week ago butter jumped 21...</td>\n",
       "      <td>Kildare, Ireland</td>\n",
       "      <td>1</td>\n",
       "    </tr>\n",
       "  </tbody>\n",
       "</table>\n",
       "</div>"
      ],
      "text/plain": [
       "                                             content            user_location  \\\n",
       "0  study sustainable farming proven increase yiel...                            \n",
       "1  ircocytus vheeringa tauhenare ets currently su...  Kuri Bush, Dunedin City   \n",
       "2  piirooooo mxtuner58 chocolatesalty3 farming_co...                   France   \n",
       "3  _gedeoh_ mxtuner58 chocolatesalty3 farming_cor...                crack den   \n",
       "4  aldi_ireland mention week ago butter jumped 21...         Kildare, Ireland   \n",
       "\n",
       "   sentiment  \n",
       "0          0  \n",
       "1         -1  \n",
       "2         -1  \n",
       "3          0  \n",
       "4          1  "
      ]
     },
     "execution_count": 26,
     "metadata": {},
     "output_type": "execute_result"
    }
   ],
   "source": [
    "df_tweets.head()"
   ]
  },
  {
   "cell_type": "code",
   "execution_count": 6,
   "id": "e9256a26",
   "metadata": {},
   "outputs": [
    {
     "name": "stdout",
     "output_type": "stream",
     "text": [
      "<class 'pandas.core.frame.DataFrame'>\n",
      "RangeIndex: 1156 entries, 0 to 1155\n",
      "Data columns (total 2 columns):\n",
      " #   Column         Non-Null Count  Dtype \n",
      "---  ------         --------------  ----- \n",
      " 0   content        1156 non-null   object\n",
      " 1   user_location  1156 non-null   object\n",
      "dtypes: object(2)\n",
      "memory usage: 18.2+ KB\n"
     ]
    }
   ],
   "source": [
    "#Cleaning Data-flter and keep only columns that we will use in the dataset\n",
    "df_tweets= df_tweets.filter(['content','user_location'], axis=1)\n",
    "df_tweets.info()"
   ]
  },
  {
   "cell_type": "code",
   "execution_count": 7,
   "id": "628b2f9e",
   "metadata": {},
   "outputs": [
    {
     "data": {
      "text/plain": [
       "0       study: sustainable farming proven to increase ...\n",
       "1       @ircocytus @vheeringa @tauhenare the ets curre...\n",
       "2       @piirooooo @mxtuner58 @chocolatesalty3 @farmin...\n",
       "3       @_gedeoh_ @mxtuner58 @chocolatesalty3 @farming...\n",
       "4       @aldi_ireland so i did mention a few weeks ago...\n",
       "                              ...                        \n",
       "1151    increase productivity, lower cost of farming &...\n",
       "1152    @yourlocalfoods the wage increase is great 4 w...\n",
       "1153    what i like about sarah palin « proleptic life...\n",
       "1154    hot air » blog archive » video: &#39;cuda atta...\n",
       "1155    disturbed by the fact every business in the u....\n",
       "Name: content, Length: 1156, dtype: object"
      ]
     },
     "execution_count": 7,
     "metadata": {},
     "output_type": "execute_result"
    }
   ],
   "source": [
    "#Cleaning Data-change words in the 'content' column to lower case\n",
    "df_tweets['content'] = df_tweets['content'].apply(lambda x:x.lower())\n",
    "df_tweets['content']"
   ]
  },
  {
   "cell_type": "code",
   "execution_count": 8,
   "id": "3ec26089",
   "metadata": {},
   "outputs": [
    {
     "name": "stderr",
     "output_type": "stream",
     "text": [
      "[nltk_data] Downloading package stopwords to\n",
      "[nltk_data]     C:\\Users\\Z\\AppData\\Roaming\\nltk_data...\n",
      "[nltk_data]   Package stopwords is already up-to-date!\n"
     ]
    }
   ],
   "source": [
    "#import natural processing toolkit\n",
    "import nltk\n",
    "nltk.download('stopwords')\n",
    "from nltk.corpus import stopwords\n",
    "stop = stopwords.words('english')"
   ]
  },
  {
   "cell_type": "code",
   "execution_count": 9,
   "id": "d38165dc",
   "metadata": {},
   "outputs": [
    {
     "data": {
      "text/plain": [
       "0    study: sustainable farming proven increase yie...\n",
       "1    @ircocytus @vheeringa @tauhenare ets currently...\n",
       "2    @piirooooo @mxtuner58 @chocolatesalty3 @farmin...\n",
       "3    @_gedeoh_ @mxtuner58 @chocolatesalty3 @farming...\n",
       "4    @aldi_ireland mention weeks ago butter jumped ...\n",
       "Name: content, dtype: object"
      ]
     },
     "execution_count": 9,
     "metadata": {},
     "output_type": "execute_result"
    }
   ],
   "source": [
    "#Cleaning Data-remove english stopwords\n",
    "df_tweets['content'] = df_tweets['content'].apply(lambda x: \" \".join(x for x in x.split() if x not in stop))\n",
    "df_tweets['content'].head()"
   ]
  },
  {
   "cell_type": "code",
   "execution_count": 10,
   "id": "3a6d5ece",
   "metadata": {},
   "outputs": [
    {
     "data": {
      "text/plain": [
       "0    study sustainable farming proven increase yiel...\n",
       "1    ircocytus vheeringa tauhenare ets currently su...\n",
       "2    piirooooo mxtuner58 chocolatesalty3 farming_co...\n",
       "3    _gedeoh_ mxtuner58 chocolatesalty3 farming_cor...\n",
       "4    aldi_ireland mention weeks ago butter jumped 2...\n",
       "Name: content, dtype: object"
      ]
     },
     "execution_count": 10,
     "metadata": {},
     "output_type": "execute_result"
    }
   ],
   "source": [
    "#Cleaning Data-remove special characters\n",
    "df_tweets['content'] = df_tweets['content'].str.replace('[^\\w\\s]','')\n",
    "df_tweets['content'].head()"
   ]
  },
  {
   "cell_type": "code",
   "execution_count": 11,
   "id": "eaba9186",
   "metadata": {},
   "outputs": [
    {
     "data": {
      "text/plain": [
       "[('increase', 1229),\n",
       " ('cost', 1220),\n",
       " ('farming', 1219),\n",
       " ('farmers', 321),\n",
       " ('production', 189),\n",
       " ('food', 185),\n",
       " ('amp', 184),\n",
       " ('reduce', 139),\n",
       " ('yield', 128),\n",
       " ('price', 127),\n",
       " ('organic', 110),\n",
       " ('would', 105),\n",
       " ('prices', 99),\n",
       " ('farm', 87),\n",
       " ('also', 86),\n",
       " ('need', 79),\n",
       " ('land', 77),\n",
       " ('income', 76),\n",
       " ('agriculture', 76),\n",
       " ('sustainable', 74),\n",
       " ('productivity', 74),\n",
       " ('crop', 69),\n",
       " ('costs', 64),\n",
       " ('farmer', 63),\n",
       " ('zero', 62),\n",
       " ('use', 62),\n",
       " ('due', 60),\n",
       " ('way', 60),\n",
       " ('less', 57),\n",
       " ('high', 57),\n",
       " ('make', 56),\n",
       " ('per', 56),\n",
       " ('input', 55),\n",
       " ('govt', 54),\n",
       " ('year', 53),\n",
       " ('low', 53),\n",
       " ('help', 52),\n",
       " ('new', 51),\n",
       " ('living', 50),\n",
       " ('good', 50),\n",
       " ('us', 49),\n",
       " ('fuel', 49),\n",
       " ('proven', 48),\n",
       " ('inputs', 48),\n",
       " ('yields', 48),\n",
       " ('one', 47),\n",
       " ('people', 47),\n",
       " ('msp', 47),\n",
       " ('like', 46),\n",
       " ('industry', 46)]"
      ]
     },
     "execution_count": 11,
     "metadata": {},
     "output_type": "execute_result"
    }
   ],
   "source": [
    "#Cleaning Data-check for most frequent words in the 'content column'\n",
    "from collections import Counter\n",
    "df_wordCounter= Counter(\" \".join(df_tweets['content']).split()).most_common(50)\n",
    "df_wordCounter"
   ]
  },
  {
   "cell_type": "code",
   "execution_count": 12,
   "id": "415817f9",
   "metadata": {},
   "outputs": [
    {
     "name": "stderr",
     "output_type": "stream",
     "text": [
      "[nltk_data] Downloading package wordnet to\n",
      "[nltk_data]     C:\\Users\\Z\\AppData\\Roaming\\nltk_data...\n",
      "[nltk_data]   Package wordnet is already up-to-date!\n"
     ]
    },
    {
     "data": {
      "text/plain": [
       "0    study sustainable farming proven increase yiel...\n",
       "1    ircocytus vheeringa tauhenare ets currently su...\n",
       "2    piirooooo mxtuner58 chocolatesalty3 farming_co...\n",
       "3    _gedeoh_ mxtuner58 chocolatesalty3 farming_cor...\n",
       "4    aldi_ireland mention week ago butter jumped 21...\n",
       "Name: content, dtype: object"
      ]
     },
     "execution_count": 12,
     "metadata": {},
     "output_type": "execute_result"
    }
   ],
   "source": [
    "\n",
    "nltk.download('wordnet')\n",
    "from textblob import Word\n",
    "df_tweets['content'] = df_tweets['content'].apply(lambda x: \" \".join([Word(word).lemmatize() for word in x.split()]))\n",
    "df_tweets['content'].head()\n"
   ]
  },
  {
   "cell_type": "code",
   "execution_count": 13,
   "id": "746c52d0",
   "metadata": {},
   "outputs": [
    {
     "data": {
      "text/plain": [
       "[('cost', 1284),\n",
       " ('increase', 1255),\n",
       " ('farming', 1220),\n",
       " ('farmer', 384),\n",
       " ('price', 226),\n",
       " ('production', 190),\n",
       " ('food', 189),\n",
       " ('amp', 184),\n",
       " ('yield', 176),\n",
       " ('reduce', 139),\n",
       " ('organic', 111),\n",
       " ('farm', 110),\n",
       " ('would', 105),\n",
       " ('crop', 104),\n",
       " ('input', 103),\n",
       " ('need', 98),\n",
       " ('also', 86),\n",
       " ('year', 85),\n",
       " ('way', 82),\n",
       " ('income', 81),\n",
       " ('land', 79),\n",
       " ('agriculture', 76),\n",
       " ('sustainable', 74),\n",
       " ('productivity', 74),\n",
       " ('good', 72),\n",
       " ('fertilizer', 67),\n",
       " ('industry', 64),\n",
       " ('zero', 62),\n",
       " ('use', 62),\n",
       " ('make', 60),\n",
       " ('due', 60),\n",
       " ('le', 58),\n",
       " ('u', 58),\n",
       " ('profit', 58),\n",
       " ('help', 58),\n",
       " ('high', 57),\n",
       " ('per', 56),\n",
       " ('govt', 54),\n",
       " ('low', 53),\n",
       " ('time', 52),\n",
       " ('get', 51),\n",
       " ('one', 51),\n",
       " ('new', 51),\n",
       " ('feed', 51),\n",
       " ('living', 50),\n",
       " ('it', 50),\n",
       " ('lower', 50),\n",
       " ('fuel', 50),\n",
       " ('people', 49),\n",
       " ('proven', 48)]"
      ]
     },
     "execution_count": 13,
     "metadata": {},
     "output_type": "execute_result"
    }
   ],
   "source": [
    "#Cleaning Data-check for most frequent words in the 'content column' after applying lemmatiser\n",
    "from collections import Counter\n",
    "df_wordCounter= Counter(\" \".join(df_tweets['content']).split()).most_common(50)\n",
    "df_wordCounter"
   ]
  },
  {
   "cell_type": "code",
   "execution_count": 14,
   "id": "d75c8338",
   "metadata": {
    "scrolled": false
   },
   "outputs": [
    {
     "data": {
      "text/plain": [
       "0                                       (0.0, 0.0)\n",
       "1                                    (-0.25, 0.35)\n",
       "2       (-0.10714285714285715, 0.7178571428571429)\n",
       "3                                       (0.0, 0.0)\n",
       "4                                       (0.5, 0.6)\n",
       "                           ...                    \n",
       "1151                                   (0.25, 0.5)\n",
       "1152                                  (0.575, 0.7)\n",
       "1153     (0.21428571428571427, 0.5714285714285714)\n",
       "1154     (0.23214285714285715, 0.7107142857142857)\n",
       "1155                                    (0.0, 0.0)\n",
       "Name: content, Length: 1156, dtype: object"
      ]
     },
     "execution_count": 14,
     "metadata": {},
     "output_type": "execute_result"
    }
   ],
   "source": [
    "#\n",
    "from textblob import TextBlob\n",
    "df_tweets['content'].apply(lambda x: TextBlob(x).sentiment)"
   ]
  },
  {
   "cell_type": "code",
   "execution_count": 15,
   "id": "55d9d9dd",
   "metadata": {},
   "outputs": [
    {
     "data": {
      "text/html": [
       "<div>\n",
       "<style scoped>\n",
       "    .dataframe tbody tr th:only-of-type {\n",
       "        vertical-align: middle;\n",
       "    }\n",
       "\n",
       "    .dataframe tbody tr th {\n",
       "        vertical-align: top;\n",
       "    }\n",
       "\n",
       "    .dataframe thead th {\n",
       "        text-align: right;\n",
       "    }\n",
       "</style>\n",
       "<table border=\"1\" class=\"dataframe\">\n",
       "  <thead>\n",
       "    <tr style=\"text-align: right;\">\n",
       "      <th></th>\n",
       "      <th>content</th>\n",
       "      <th>user_location</th>\n",
       "      <th>sentiment</th>\n",
       "    </tr>\n",
       "  </thead>\n",
       "  <tbody>\n",
       "    <tr>\n",
       "      <th>0</th>\n",
       "      <td>study sustainable farming proven increase yiel...</td>\n",
       "      <td></td>\n",
       "      <td>0.000000</td>\n",
       "    </tr>\n",
       "    <tr>\n",
       "      <th>1</th>\n",
       "      <td>ircocytus vheeringa tauhenare ets currently su...</td>\n",
       "      <td>Kuri Bush, Dunedin City</td>\n",
       "      <td>-0.250000</td>\n",
       "    </tr>\n",
       "    <tr>\n",
       "      <th>2</th>\n",
       "      <td>piirooooo mxtuner58 chocolatesalty3 farming_co...</td>\n",
       "      <td>France</td>\n",
       "      <td>-0.107143</td>\n",
       "    </tr>\n",
       "    <tr>\n",
       "      <th>3</th>\n",
       "      <td>_gedeoh_ mxtuner58 chocolatesalty3 farming_cor...</td>\n",
       "      <td>crack den</td>\n",
       "      <td>0.000000</td>\n",
       "    </tr>\n",
       "    <tr>\n",
       "      <th>4</th>\n",
       "      <td>aldi_ireland mention week ago butter jumped 21...</td>\n",
       "      <td>Kildare, Ireland</td>\n",
       "      <td>0.500000</td>\n",
       "    </tr>\n",
       "    <tr>\n",
       "      <th>...</th>\n",
       "      <td>...</td>\n",
       "      <td>...</td>\n",
       "      <td>...</td>\n",
       "    </tr>\n",
       "    <tr>\n",
       "      <th>1151</th>\n",
       "      <td>increase productivity lower cost farming highe...</td>\n",
       "      <td>Malaysia</td>\n",
       "      <td>0.250000</td>\n",
       "    </tr>\n",
       "    <tr>\n",
       "      <th>1152</th>\n",
       "      <td>yourlocalfoods wage increase great 4 worker tr...</td>\n",
       "      <td>Holland Marsh, Ontario</td>\n",
       "      <td>0.575000</td>\n",
       "    </tr>\n",
       "    <tr>\n",
       "      <th>1153</th>\n",
       "      <td>like sarah palin proleptic life cost farming c...</td>\n",
       "      <td>Lexington, NC</td>\n",
       "      <td>0.214286</td>\n",
       "    </tr>\n",
       "    <tr>\n",
       "      <th>1154</th>\n",
       "      <td>hot air blog archive video 39cuda attack hong ...</td>\n",
       "      <td>Lexington, NC</td>\n",
       "      <td>0.232143</td>\n",
       "    </tr>\n",
       "    <tr>\n",
       "      <th>1155</th>\n",
       "      <td>disturbed fact every business u liberty increa...</td>\n",
       "      <td>The Middle of Nowhere</td>\n",
       "      <td>0.000000</td>\n",
       "    </tr>\n",
       "  </tbody>\n",
       "</table>\n",
       "<p>1156 rows × 3 columns</p>\n",
       "</div>"
      ],
      "text/plain": [
       "                                                content  \\\n",
       "0     study sustainable farming proven increase yiel...   \n",
       "1     ircocytus vheeringa tauhenare ets currently su...   \n",
       "2     piirooooo mxtuner58 chocolatesalty3 farming_co...   \n",
       "3     _gedeoh_ mxtuner58 chocolatesalty3 farming_cor...   \n",
       "4     aldi_ireland mention week ago butter jumped 21...   \n",
       "...                                                 ...   \n",
       "1151  increase productivity lower cost farming highe...   \n",
       "1152  yourlocalfoods wage increase great 4 worker tr...   \n",
       "1153  like sarah palin proleptic life cost farming c...   \n",
       "1154  hot air blog archive video 39cuda attack hong ...   \n",
       "1155  disturbed fact every business u liberty increa...   \n",
       "\n",
       "                user_location  sentiment  \n",
       "0                               0.000000  \n",
       "1     Kuri Bush, Dunedin City  -0.250000  \n",
       "2                      France  -0.107143  \n",
       "3                   crack den   0.000000  \n",
       "4            Kildare, Ireland   0.500000  \n",
       "...                       ...        ...  \n",
       "1151                 Malaysia   0.250000  \n",
       "1152   Holland Marsh, Ontario   0.575000  \n",
       "1153            Lexington, NC   0.214286  \n",
       "1154            Lexington, NC   0.232143  \n",
       "1155    The Middle of Nowhere   0.000000  \n",
       "\n",
       "[1156 rows x 3 columns]"
      ]
     },
     "execution_count": 15,
     "metadata": {},
     "output_type": "execute_result"
    }
   ],
   "source": [
    "#\n",
    "df_tweets['sentiment']= df_tweets['content'].apply(lambda x: TextBlob(x).sentiment[0])\n",
    "df_tweets"
   ]
  },
  {
   "cell_type": "code",
   "execution_count": 16,
   "id": "33072c5c",
   "metadata": {},
   "outputs": [
    {
     "name": "stdout",
     "output_type": "stream",
     "text": [
      "<class 'pandas.core.frame.DataFrame'>\n",
      "RangeIndex: 1156 entries, 0 to 1155\n",
      "Data columns (total 3 columns):\n",
      " #   Column         Non-Null Count  Dtype  \n",
      "---  ------         --------------  -----  \n",
      " 0   content        1156 non-null   object \n",
      " 1   user_location  1156 non-null   object \n",
      " 2   sentiment      1156 non-null   float64\n",
      "dtypes: float64(1), object(2)\n",
      "memory usage: 27.2+ KB\n"
     ]
    }
   ],
   "source": [
    "#\n",
    "df_tweets.info()"
   ]
  },
  {
   "cell_type": "code",
   "execution_count": 17,
   "id": "1a025393",
   "metadata": {},
   "outputs": [],
   "source": [
    "#\n",
    "df_tweets['sentiment'] = df_tweets['sentiment'].apply(lambda x:-1 if x <0 else (1 if x>0 else 0))"
   ]
  },
  {
   "cell_type": "code",
   "execution_count": 18,
   "id": "75d90074",
   "metadata": {},
   "outputs": [
    {
     "data": {
      "text/html": [
       "<div>\n",
       "<style scoped>\n",
       "    .dataframe tbody tr th:only-of-type {\n",
       "        vertical-align: middle;\n",
       "    }\n",
       "\n",
       "    .dataframe tbody tr th {\n",
       "        vertical-align: top;\n",
       "    }\n",
       "\n",
       "    .dataframe thead th {\n",
       "        text-align: right;\n",
       "    }\n",
       "</style>\n",
       "<table border=\"1\" class=\"dataframe\">\n",
       "  <thead>\n",
       "    <tr style=\"text-align: right;\">\n",
       "      <th></th>\n",
       "      <th>content</th>\n",
       "      <th>user_location</th>\n",
       "      <th>sentiment</th>\n",
       "    </tr>\n",
       "  </thead>\n",
       "  <tbody>\n",
       "    <tr>\n",
       "      <th>0</th>\n",
       "      <td>study sustainable farming proven increase yiel...</td>\n",
       "      <td></td>\n",
       "      <td>0</td>\n",
       "    </tr>\n",
       "    <tr>\n",
       "      <th>1</th>\n",
       "      <td>ircocytus vheeringa tauhenare ets currently su...</td>\n",
       "      <td>Kuri Bush, Dunedin City</td>\n",
       "      <td>-1</td>\n",
       "    </tr>\n",
       "    <tr>\n",
       "      <th>2</th>\n",
       "      <td>piirooooo mxtuner58 chocolatesalty3 farming_co...</td>\n",
       "      <td>France</td>\n",
       "      <td>-1</td>\n",
       "    </tr>\n",
       "    <tr>\n",
       "      <th>3</th>\n",
       "      <td>_gedeoh_ mxtuner58 chocolatesalty3 farming_cor...</td>\n",
       "      <td>crack den</td>\n",
       "      <td>0</td>\n",
       "    </tr>\n",
       "    <tr>\n",
       "      <th>4</th>\n",
       "      <td>aldi_ireland mention week ago butter jumped 21...</td>\n",
       "      <td>Kildare, Ireland</td>\n",
       "      <td>1</td>\n",
       "    </tr>\n",
       "  </tbody>\n",
       "</table>\n",
       "</div>"
      ],
      "text/plain": [
       "                                             content            user_location  \\\n",
       "0  study sustainable farming proven increase yiel...                            \n",
       "1  ircocytus vheeringa tauhenare ets currently su...  Kuri Bush, Dunedin City   \n",
       "2  piirooooo mxtuner58 chocolatesalty3 farming_co...                   France   \n",
       "3  _gedeoh_ mxtuner58 chocolatesalty3 farming_cor...                crack den   \n",
       "4  aldi_ireland mention week ago butter jumped 21...         Kildare, Ireland   \n",
       "\n",
       "   sentiment  \n",
       "0          0  \n",
       "1         -1  \n",
       "2         -1  \n",
       "3          0  \n",
       "4          1  "
      ]
     },
     "execution_count": 18,
     "metadata": {},
     "output_type": "execute_result"
    }
   ],
   "source": [
    "df_tweets.head()"
   ]
  },
  {
   "cell_type": "code",
   "execution_count": 19,
   "id": "a3193da8",
   "metadata": {},
   "outputs": [
    {
     "data": {
      "text/plain": [
       " 1    533\n",
       " 0    336\n",
       "-1    287\n",
       "Name: sentiment, dtype: int64"
      ]
     },
     "execution_count": 19,
     "metadata": {},
     "output_type": "execute_result"
    }
   ],
   "source": [
    "#Positive neutral negative sentiment count\n",
    "df_tweets.sentiment.value_counts()"
   ]
  },
  {
   "cell_type": "code",
   "execution_count": 20,
   "id": "63c14a73",
   "metadata": {},
   "outputs": [
    {
     "data": {
      "image/png": "[encoded data removed]",
      "text/plain": [
       "<Figure size 432x288 with 1 Axes>"
      ]
     },
     "metadata": {
      "needs_background": "light"
     },
     "output_type": "display_data"
    }
   ],
   "source": [
    "from matplotlib import pyplot as plt\n",
    "Sentiment_count=df_tweets.groupby('sentiment').count()\n",
    "plt.bar(Sentiment_count.index.values, Sentiment_count['content'])\n",
    "plt.xlabel('Review Sentiments')\n",
    "plt.ylabel('Number of Review')\n",
    "plt.show()"
   ]
  },
  {
   "cell_type": "code",
   "execution_count": 21,
   "id": "5c326e71",
   "metadata": {},
   "outputs": [
    {
     "data": {
      "text/plain": [
       "<1156x1000 sparse matrix of type '<class 'numpy.float64'>'\n",
       "\twith 15481 stored elements in Compressed Sparse Row format>"
      ]
     },
     "execution_count": 21,
     "metadata": {},
     "output_type": "execute_result"
    }
   ],
   "source": [
    "from sklearn.feature_extraction.text import TfidfVectorizer\n",
    "tfid_tweets = TfidfVectorizer(max_features=1000, lowercase=True, analyzer='word',stop_words= 'english',ngram_range=(1,1))\n",
    "df_tweets_normalised = tfid_tweets.fit_transform(df_tweets['content'])\n",
    "df_tweets_normalised"
   ]
  },
  {
   "cell_type": "code",
   "execution_count": 22,
   "id": "00b7fb6f",
   "metadata": {},
   "outputs": [],
   "source": [
    "#split train test\n",
    "from sklearn.model_selection import train_test_split\n",
    "X_train, X_test, y_train, y_test = train_test_split(df_tweets_normalised, df_tweets['sentiment'], test_size=0.25, random_state=1)"
   ]
  },
  {
   "cell_type": "code",
   "execution_count": 23,
   "id": "ba9054ad",
   "metadata": {},
   "outputs": [
    {
     "name": "stdout",
     "output_type": "stream",
     "text": [
      "MultinomialNB Accuracy: 0.5778546712802768\n"
     ]
    }
   ],
   "source": [
    "from sklearn.naive_bayes import MultinomialNB\n",
    "#Import scikit-learn metrics module for accuracy calculation\n",
    "from sklearn import metrics\n",
    "# Model Generation Using Multinomial Naive Bayes\n",
    "mnb = MultinomialNB().fit(X_train, y_train)\n",
    "predicted= mnb.predict(X_test)\n",
    "print(\"MultinomialNB Accuracy:\",metrics.accuracy_score(y_test, predicted))"
   ]
  },
  {
   "cell_type": "code",
   "execution_count": 24,
   "id": "a8ada768",
   "metadata": {},
   "outputs": [
    {
     "name": "stdout",
     "output_type": "stream",
     "text": [
      "[[ 13   8  44]\n",
      " [  2  46  43]\n",
      " [  7  13 113]]\n",
      "0.5951557093425606\n",
      "59.515570934256054\n"
     ]
    }
   ],
   "source": [
    "#random forest\n",
    "from sklearn.ensemble import RandomForestClassifier\n",
    "model = RandomForestClassifier(n_estimators=200)\n",
    "model.fit(X_train,y_train)\n",
    "predictions = model.predict(X_test)\n",
    "#Confusion Matrix \n",
    "from sklearn.metrics import confusion_matrix,f1_score\n",
    "print(confusion_matrix(y_test,predictions))\n",
    "\n",
    "#f1-score\n",
    "print(f1_score(y_test,predictions,average='micro'))\n",
    "\n",
    "#Accuracy_score\n",
    "from sklearn.metrics import accuracy_score\n",
    "print(accuracy_score(y_test,predictions)*100)\n"
   ]
  },
  {
   "cell_type": "code",
   "execution_count": null,
   "id": "4a4692d4",
   "metadata": {},
   "outputs": [],
   "source": [
    "## Producer sentiment analysis\n",
    "\n",
    "import snscrape.modules.twitter as sntwitter\n",
    "import pandas as pd\n",
    "\n",
    "query = 'farming cost increase' \n",
    "tweets = []\n",
    "limit = 5000\n",
    "\n",
    "\n",
    "for tweet in sntwitter.TwitterSearchScraper(query).get_items():\n",
    "    if len(tweets) == limit:\n",
    "        break\n",
    "    else:\n",
    "        tweets.append(tweet)\n",
    "        \n",
    "df_tweets = pd.DataFrame(tweets)\n",
    "\n",
    "\n",
    "\n",
    "#Cleaning Data-adding column location\n",
    "df_tweets['user_location'] =  df_tweets['user'].apply(lambda x: x['location'])\n",
    "\n",
    "#df_tweets.to_csv('farming cost increase.csv.csv')\n",
    "#df_tweets =pd.read_csv(r'farming cost increase.csv')\n",
    "\n",
    "df_tweets.head()\n",
    "\n",
    "#Cleaning Data-flter and keep only columns that we will use in the dataset\n",
    "df_tweets= df_tweets.filter(['content','user_location'], axis=1)\n",
    "df_tweets.info()\n",
    "\n",
    "#Cleaning Data-change words in the 'content' column to lower case\n",
    "df_tweets['content'] = df_tweets['content'].apply(lambda x:x.lower())\n",
    "df_tweets['content']\n",
    "\n",
    "#import natural processing toolkit\n",
    "import nltk\n",
    "nltk.download('stopwords')\n",
    "from nltk.corpus import stopwords\n",
    "stop = stopwords.words('english')\n",
    "\n",
    "#Cleaning Data-remove english stopwords\n",
    "df_tweets['content'] = df_tweets['content'].apply(lambda x: \" \".join(x for x in x.split() if x not in stop))\n",
    "df_tweets['content'].head()\n",
    "\n",
    "#Cleaning Data-remove special characters\n",
    "df_tweets['content'] = df_tweets['content'].str.replace('[^\\w\\s]','')\n",
    "df_tweets['content'].head()\n",
    "\n",
    "#Cleaning Data-check for most frequent words in the 'content column'\n",
    "from collections import Counter\n",
    "df_wordCounter= Counter(\" \".join(df_tweets['content']).split()).most_common(50)\n",
    "df_wordCounter\n",
    "\n",
    "\n",
    "nltk.download('wordnet')\n",
    "from textblob import Word\n",
    "df_tweets['content'] = df_tweets['content'].apply(lambda x: \" \".join([Word(word).lemmatize() for word in x.split()]))\n",
    "df_tweets['content'].head()\n",
    "\n",
    "\n",
    "#Cleaning Data-check for most frequent words in the 'content column' after applying lemmatiser\n",
    "from collections import Counter\n",
    "df_wordCounter= Counter(\" \".join(df_tweets['content']).split()).most_common(50)\n",
    "df_wordCounter\n",
    "\n",
    "#\n",
    "from textblob import TextBlob\n",
    "df_tweets['content'].apply(lambda x: TextBlob(x).sentiment)\n",
    "\n",
    "#\n",
    "df_tweets['sentiment']= df_tweets['content'].apply(lambda x: TextBlob(x).sentiment[0])\n",
    "df_tweets\n",
    "\n",
    "#\n",
    "df_tweets.info()\n",
    "\n",
    "#\n",
    "df_tweets['sentiment'] = df_tweets['sentiment'].apply(lambda x:-1 if x <0 else (1 if x>0 else 0))\n",
    "\n",
    "df_tweets.head()\n",
    "\n",
    "#Positive neutral negative sentiment count\n",
    "df_tweets.sentiment.value_counts()\n",
    "\n",
    "from matplotlib import pyplot as plt\n",
    "Sentiment_count=df_tweets.groupby('sentiment').count()\n",
    "plt.bar(Sentiment_count.index.values, Sentiment_count['content'])\n",
    "plt.xlabel('Review Sentiments')\n",
    "plt.ylabel('Number of Review')\n",
    "plt.show()\n",
    "\n",
    "from sklearn.feature_extraction.text import TfidfVectorizer\n",
    "tfid_tweets = TfidfVectorizer(max_features=1000, lowercase=True, analyzer='word',stop_words= 'english',ngram_range=(1,1))\n",
    "df_tweets_normalised = tfid_tweets.fit_transform(df_tweets['content'])\n",
    "df_tweets_normalised\n",
    "\n",
    "#split train test\n",
    "from sklearn.model_selection import train_test_split\n",
    "X_train, X_test, y_train, y_test = train_test_split(df_tweets_normalised, df_tweets['sentiment'], test_size=0.25, random_state=1)\n",
    "\n",
    "from sklearn.naive_bayes import MultinomialNB\n",
    "#Import scikit-learn metrics module for accuracy calculation\n",
    "from sklearn import metrics\n",
    "# Model Generation Using Multinomial Naive Bayes\n",
    "mnb = MultinomialNB().fit(X_train, y_train)\n",
    "predicted= mnb.predict(X_test)\n",
    "print(\"MultinomialNB Accuracy:\",metrics.accuracy_score(y_test, predicted))\n",
    "\n",
    "#random forest\n",
    "from sklearn.ensemble import RandomForestClassifier\n",
    "model = RandomForestClassifier(n_estimators=200)\n",
    "model.fit(X_train,y_train)\n",
    "predictions = model.predict(X_test)\n",
    "#Confusion Matrix \n",
    "from sklearn.metrics import confusion_matrix,f1_score\n",
    "print(confusion_matrix(y_test,predictions))\n",
    "\n",
    "#f1-score\n",
    "print(f1_score(y_test,predictions,average='micro'))\n",
    "\n",
    "#Accuracy_score\n",
    "from sklearn.metrics import accuracy_score\n",
    "print(accuracy_score(y_test,predictions)*100)\n"
   ]
  }
 ],
 "metadata": {
  "kernelspec": {
   "display_name": "Python 3 (ipykernel)",
   "language": "python",
   "name": "python3"
  },
  "language_info": {
   "codemirror_mode": {
    "name": "ipython",
    "version": 3
   },
   "file_extension": ".py",
   "mimetype": "text/x-python",
   "name": "python",
   "nbconvert_exporter": "python",
   "pygments_lexer": "ipython3",
   "version": "3.9.7"
  }
 },
 "nbformat": 4,
 "nbformat_minor": 5
}
