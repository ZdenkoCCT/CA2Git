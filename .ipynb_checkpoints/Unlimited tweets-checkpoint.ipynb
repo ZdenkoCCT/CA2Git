{
 "cells": [
  {
   "cell_type": "code",
   "execution_count": 2,
   "id": "144ec4bd",
   "metadata": {},
   "outputs": [
    {
     "name": "stdout",
     "output_type": "stream",
     "text": [
      "Collecting snscrape\n",
      "  Downloading snscrape-0.4.3.20220106-py3-none-any.whl (59 kB)\n",
      "Requirement already satisfied: filelock in c:\\programdata\\anaconda3\\lib\\site-packages (from snscrape) (3.3.1)\n",
      "Requirement already satisfied: requests[socks] in c:\\users\\z\\appdata\\roaming\\python\\python39\\site-packages (from snscrape) (2.27.1)\n",
      "Requirement already satisfied: beautifulsoup4 in c:\\programdata\\anaconda3\\lib\\site-packages (from snscrape) (4.10.0)\n",
      "Requirement already satisfied: lxml in c:\\programdata\\anaconda3\\lib\\site-packages (from snscrape) (4.6.3)\n",
      "Requirement already satisfied: soupsieve>1.2 in c:\\programdata\\anaconda3\\lib\\site-packages (from beautifulsoup4->snscrape) (2.2.1)\n",
      "Requirement already satisfied: certifi>=2017.4.17 in c:\\programdata\\anaconda3\\lib\\site-packages (from requests[socks]->snscrape) (2021.10.8)\n",
      "Requirement already satisfied: urllib3<1.27,>=1.21.1 in c:\\programdata\\anaconda3\\lib\\site-packages (from requests[socks]->snscrape) (1.26.7)\n",
      "Requirement already satisfied: idna<4,>=2.5 in c:\\programdata\\anaconda3\\lib\\site-packages (from requests[socks]->snscrape) (3.2)\n",
      "Requirement already satisfied: charset-normalizer~=2.0.0 in c:\\programdata\\anaconda3\\lib\\site-packages (from requests[socks]->snscrape) (2.0.4)\n",
      "Requirement already satisfied: PySocks!=1.5.7,>=1.5.6 in c:\\programdata\\anaconda3\\lib\\site-packages (from requests[socks]->snscrape) (1.7.1)\n",
      "Installing collected packages: snscrape\n",
      "Successfully installed snscrape-0.4.3.20220106\n",
      "Note: you may need to restart the kernel to use updated packages.\n"
     ]
    },
    {
     "name": "stderr",
     "output_type": "stream",
     "text": [
      "WARNING: Ignoring invalid distribution -quests (c:\\programdata\\anaconda3\\lib\\site-packages)\n",
      "WARNING: Ignoring invalid distribution -quests (c:\\programdata\\anaconda3\\lib\\site-packages)\n",
      "WARNING: Ignoring invalid distribution - (c:\\programdata\\anaconda3\\lib\\site-packages)\n",
      "WARNING: Ignoring invalid distribution -equests (c:\\programdata\\anaconda3\\lib\\site-packages)\n",
      "WARNING: Ignoring invalid distribution -quests (c:\\programdata\\anaconda3\\lib\\site-packages)\n",
      "WARNING: Ignoring invalid distribution -quests (c:\\programdata\\anaconda3\\lib\\site-packages)\n",
      "WARNING: Ignoring invalid distribution - (c:\\programdata\\anaconda3\\lib\\site-packages)\n",
      "WARNING: Ignoring invalid distribution -equests (c:\\programdata\\anaconda3\\lib\\site-packages)\n",
      "WARNING: Ignoring invalid distribution -quests (c:\\programdata\\anaconda3\\lib\\site-packages)\n",
      "WARNING: Ignoring invalid distribution -quests (c:\\programdata\\anaconda3\\lib\\site-packages)\n",
      "WARNING: Ignoring invalid distribution - (c:\\programdata\\anaconda3\\lib\\site-packages)\n",
      "WARNING: Ignoring invalid distribution -equests (c:\\programdata\\anaconda3\\lib\\site-packages)\n",
      "WARNING: Ignoring invalid distribution -quests (c:\\programdata\\anaconda3\\lib\\site-packages)\n",
      "WARNING: Ignoring invalid distribution -quests (c:\\programdata\\anaconda3\\lib\\site-packages)\n",
      "WARNING: Ignoring invalid distribution - (c:\\programdata\\anaconda3\\lib\\site-packages)\n",
      "WARNING: Ignoring invalid distribution -equests (c:\\programdata\\anaconda3\\lib\\site-packages)\n",
      "WARNING: Ignoring invalid distribution -quests (c:\\programdata\\anaconda3\\lib\\site-packages)\n",
      "WARNING: Ignoring invalid distribution -quests (c:\\programdata\\anaconda3\\lib\\site-packages)\n",
      "WARNING: Ignoring invalid distribution - (c:\\programdata\\anaconda3\\lib\\site-packages)\n",
      "WARNING: Ignoring invalid distribution -equests (c:\\programdata\\anaconda3\\lib\\site-packages)\n",
      "WARNING: Ignoring invalid distribution -quests (c:\\programdata\\anaconda3\\lib\\site-packages)\n",
      "WARNING: Ignoring invalid distribution -quests (c:\\programdata\\anaconda3\\lib\\site-packages)\n",
      "WARNING: Ignoring invalid distribution - (c:\\programdata\\anaconda3\\lib\\site-packages)\n",
      "WARNING: Ignoring invalid distribution -equests (c:\\programdata\\anaconda3\\lib\\site-packages)\n",
      "WARNING: Ignoring invalid distribution -quests (c:\\programdata\\anaconda3\\lib\\site-packages)\n",
      "WARNING: Ignoring invalid distribution -quests (c:\\programdata\\anaconda3\\lib\\site-packages)\n",
      "WARNING: Ignoring invalid distribution - (c:\\programdata\\anaconda3\\lib\\site-packages)\n",
      "WARNING: Ignoring invalid distribution -equests (c:\\programdata\\anaconda3\\lib\\site-packages)\n"
     ]
    }
   ],
   "source": [
    "pip install snscrape"
   ]
  },
  {
   "cell_type": "code",
   "execution_count": 7,
   "id": "d9f3351e",
   "metadata": {},
   "outputs": [
    {
     "data": {
      "text/html": [
       "<div>\n",
       "<style scoped>\n",
       "    .dataframe tbody tr th:only-of-type {\n",
       "        vertical-align: middle;\n",
       "    }\n",
       "\n",
       "    .dataframe tbody tr th {\n",
       "        vertical-align: top;\n",
       "    }\n",
       "\n",
       "    .dataframe thead th {\n",
       "        text-align: right;\n",
       "    }\n",
       "</style>\n",
       "<table border=\"1\" class=\"dataframe\">\n",
       "  <thead>\n",
       "    <tr style=\"text-align: right;\">\n",
       "      <th></th>\n",
       "      <th>Date</th>\n",
       "      <th>User</th>\n",
       "      <th>Tweet</th>\n",
       "    </tr>\n",
       "  </thead>\n",
       "  <tbody>\n",
       "    <tr>\n",
       "      <th>0</th>\n",
       "      <td>2022-03-31 23:49:12+00:00</td>\n",
       "      <td>kpac_15</td>\n",
       "      <td>Tell me how the “average family” gets carbon t...</td>\n",
       "    </tr>\n",
       "    <tr>\n",
       "      <th>1</th>\n",
       "      <td>2022-03-31 23:47:22+00:00</td>\n",
       "      <td>lilchiva</td>\n",
       "      <td>@MadreDuckCuatro Man I wish I could get that p...</td>\n",
       "    </tr>\n",
       "    <tr>\n",
       "      <th>2</th>\n",
       "      <td>2022-03-31 23:45:28+00:00</td>\n",
       "      <td>leanybeany71</td>\n",
       "      <td>@MeemawMcAllist1 @ScarletBjornson EXACTLY!!!  ...</td>\n",
       "    </tr>\n",
       "    <tr>\n",
       "      <th>3</th>\n",
       "      <td>2022-03-31 23:19:17+00:00</td>\n",
       "      <td>catladynurse</td>\n",
       "      <td>@nursekelsey We buy our meat at Costco. Cheape...</td>\n",
       "    </tr>\n",
       "    <tr>\n",
       "      <th>4</th>\n",
       "      <td>2022-03-31 23:10:02+00:00</td>\n",
       "      <td>vamagman</td>\n",
       "      <td>Some grocery-shopping decisions in high-price ...</td>\n",
       "    </tr>\n",
       "  </tbody>\n",
       "</table>\n",
       "</div>"
      ],
      "text/plain": [
       "                       Date          User  \\\n",
       "0 2022-03-31 23:49:12+00:00       kpac_15   \n",
       "1 2022-03-31 23:47:22+00:00      lilchiva   \n",
       "2 2022-03-31 23:45:28+00:00  leanybeany71   \n",
       "3 2022-03-31 23:19:17+00:00  catladynurse   \n",
       "4 2022-03-31 23:10:02+00:00      vamagman   \n",
       "\n",
       "                                               Tweet  \n",
       "0  Tell me how the “average family” gets carbon t...  \n",
       "1  @MadreDuckCuatro Man I wish I could get that p...  \n",
       "2  @MeemawMcAllist1 @ScarletBjornson EXACTLY!!!  ...  \n",
       "3  @nursekelsey We buy our meat at Costco. Cheape...  \n",
       "4  Some grocery-shopping decisions in high-price ...  "
      ]
     },
     "execution_count": 7,
     "metadata": {},
     "output_type": "execute_result"
    }
   ],
   "source": [
    "\n",
    "import snscrape.modules.twitter as sntwitter\n",
    "import pandas as pd\n",
    "\n",
    "query = \"meat price lang:en until:2022-04-01 since:2020-01-01\"\n",
    "tweets = []\n",
    "limit = 20\n",
    "\n",
    "\n",
    "for tweet in sntwitter.TwitterSearchScraper(query).get_items():\n",
    "    \n",
    "    # print(vars(tweet))\n",
    "    # break\n",
    "    if len(tweets) == limit:\n",
    "        break\n",
    "    else:\n",
    "        tweets.append([tweet.date, tweet.user.username, tweet.content])\n",
    "        \n",
    "df = pd.DataFrame(tweets, columns=['Date', 'User', 'Tweet'])\n",
    "df.head()\n",
    "\n",
    "# to save to csv\n",
    "# df.to_csv('tweets.csv')"
   ]
  },
  {
   "cell_type": "code",
   "execution_count": 108,
   "id": "c53aa4ad",
   "metadata": {},
   "outputs": [],
   "source": [
    "\n",
    "import snscrape.modules.twitter as sntwitter\n",
    "import pandas as pd\n",
    "\n",
    "query = 'agriculture near:\"Dublin\"'\n",
    "tweets = []\n",
    "limit = 100\n",
    "\n",
    "\n",
    "for tweet in sntwitter.TwitterSearchScraper(query).get_items():\n",
    "    \n",
    "    # print(vars(tweet))\n",
    "    # break\n",
    "    if len(tweets) == limit:\n",
    "        break\n",
    "    else:\n",
    "        tweets.append(tweet)\n",
    "        \n",
    "df_allcolumns = pd.DataFrame(tweets)\n",
    "df_allcolumns['user_location'] =  df_allcolumns['user'].apply(lambda x: x['location'])\n",
    "\n",
    "# to save to csv\n",
    "# df.to_csv('tweets.csv')"
   ]
  },
  {
   "cell_type": "code",
   "execution_count": 110,
   "id": "628b2f9e",
   "metadata": {},
   "outputs": [
    {
     "data": {
      "text/plain": [
       "0     #Dáil Topical Issue 4 Deputy @mattcarthy - To ...\n",
       "1     #Dáil Topical Issue 3 Deputies Mark Ward &amp;...\n",
       "2     @ziontree Every plant we eat was ‘bred’ by hum...\n",
       "3     @agriculture_ie @gardainfo 🤬🤬🤬🤬🤬🤬🤬🤬 https://t....\n",
       "4     @DublinSPCA So terrible news. I really hope th...\n",
       "                            ...                        \n",
       "95    @ipvenner @farmersjournal @AgrilandIreland @ag...\n",
       "96    Gas closed Friday at €4.50. Daily update price...\n",
       "97    @janeymcd23 @McConalogue @agriculture_ie Can't...\n",
       "98    @PenolaStation Exact same thing happening in I...\n",
       "99    As students gather for #CareersDay2022 we are ...\n",
       "Name: content, Length: 100, dtype: object"
      ]
     },
     "execution_count": 110,
     "metadata": {},
     "output_type": "execute_result"
    }
   ],
   "source": [
    "\n",
    "df_allcolumns['content']"
   ]
  },
  {
   "cell_type": "code",
   "execution_count": 106,
   "id": "e9256a26",
   "metadata": {},
   "outputs": [],
   "source": [
    "df_allcolumns.to_csv('tweets_100_BordBia_Dublin.csv')"
   ]
  },
  {
   "cell_type": "code",
   "execution_count": null,
   "id": "19078c0b",
   "metadata": {},
   "outputs": [],
   "source": []
  },
  {
   "cell_type": "code",
   "execution_count": 109,
   "id": "b0482ceb",
   "metadata": {},
   "outputs": [
    {
     "name": "stdout",
     "output_type": "stream",
     "text": [
      "<class 'pandas.core.frame.DataFrame'>\n",
      "RangeIndex: 100 entries, 0 to 99\n",
      "Data columns (total 28 columns):\n",
      " #   Column            Non-Null Count  Dtype              \n",
      "---  ------            --------------  -----              \n",
      " 0   url               100 non-null    object             \n",
      " 1   date              100 non-null    datetime64[ns, UTC]\n",
      " 2   content           100 non-null    object             \n",
      " 3   renderedContent   100 non-null    object             \n",
      " 4   id                100 non-null    int64              \n",
      " 5   user              100 non-null    object             \n",
      " 6   replyCount        100 non-null    int64              \n",
      " 7   retweetCount      100 non-null    int64              \n",
      " 8   likeCount         100 non-null    int64              \n",
      " 9   quoteCount        100 non-null    int64              \n",
      " 10  conversationId    100 non-null    int64              \n",
      " 11  lang              100 non-null    object             \n",
      " 12  source            100 non-null    object             \n",
      " 13  sourceUrl         100 non-null    object             \n",
      " 14  sourceLabel       100 non-null    object             \n",
      " 15  outlinks          43 non-null     object             \n",
      " 16  tcooutlinks       43 non-null     object             \n",
      " 17  media             41 non-null     object             \n",
      " 18  retweetedTweet    0 non-null      object             \n",
      " 19  quotedTweet       16 non-null     object             \n",
      " 20  inReplyToTweetId  32 non-null     float64            \n",
      " 21  inReplyToUser     32 non-null     object             \n",
      " 22  mentionedUsers    74 non-null     object             \n",
      " 23  coordinates       45 non-null     object             \n",
      " 24  place             45 non-null     object             \n",
      " 25  hashtags          37 non-null     object             \n",
      " 26  cashtags          0 non-null      object             \n",
      " 27  user_location     100 non-null    object             \n",
      "dtypes: datetime64[ns, UTC](1), float64(1), int64(6), object(20)\n",
      "memory usage: 22.0+ KB\n"
     ]
    }
   ],
   "source": [
    "df_allcolumns.info()"
   ]
  },
  {
   "cell_type": "code",
   "execution_count": null,
   "id": "7d57c88b",
   "metadata": {},
   "outputs": [],
   "source": []
  }
 ],
 "metadata": {
  "kernelspec": {
   "display_name": "Python 3 (ipykernel)",
   "language": "python",
   "name": "python3"
  },
  "language_info": {
   "codemirror_mode": {
    "name": "ipython",
    "version": 3
   },
   "file_extension": ".py",
   "mimetype": "text/x-python",
   "name": "python",
   "nbconvert_exporter": "python",
   "pygments_lexer": "ipython3",
   "version": "3.9.7"
  }
 },
 "nbformat": 4,
 "nbformat_minor": 5
}
