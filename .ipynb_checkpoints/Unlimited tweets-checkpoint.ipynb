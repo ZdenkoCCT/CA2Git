{
 "cells": [
  {
   "cell_type": "code",
   "execution_count": 1,
   "id": "8ba64c6f",
   "metadata": {},
   "outputs": [],
   "source": [
    "import warnings\n",
    "warnings.filterwarnings('ignore')"
   ]
  },
  {
   "cell_type": "code",
   "execution_count": 2,
   "id": "d9f3351e",
   "metadata": {},
   "outputs": [],
   "source": [
    "import snscrape.modules.twitter as sntwitter\n",
    "import pandas as pd\n",
    "\n",
    "query = 'organic food ireland' #near:\"Dublin\"'\n",
    "tweets = []\n",
    "limit = 5000\n",
    "\n",
    "\n",
    "for tweet in sntwitter.TwitterSearchScraper(query).get_items():\n",
    "    \n",
    "    # print(vars(tweet))\n",
    "    # break\n",
    "    if len(tweets) == limit:\n",
    "        break\n",
    "    else:\n",
    "        tweets.append(tweet)\n",
    "        \n",
    "df_tweets = pd.DataFrame(tweets)\n",
    "\n",
    "# df_tweets.to_csv('tweets_allcolumns.csv')"
   ]
  },
  {
   "cell_type": "code",
   "execution_count": 3,
   "id": "c53aa4ad",
   "metadata": {},
   "outputs": [],
   "source": [
    "#Cleaning Data-adding column location\n",
    "df_tweets['user_location'] =  df_tweets['user'].apply(lambda x: x['location'])"
   ]
  },
  {
   "cell_type": "code",
   "execution_count": 4,
   "id": "e9256a26",
   "metadata": {},
   "outputs": [
    {
     "name": "stdout",
     "output_type": "stream",
     "text": [
      "<class 'pandas.core.frame.DataFrame'>\n",
      "RangeIndex: 1748 entries, 0 to 1747\n",
      "Data columns (total 2 columns):\n",
      " #   Column         Non-Null Count  Dtype \n",
      "---  ------         --------------  ----- \n",
      " 0   content        1748 non-null   object\n",
      " 1   user_location  1748 non-null   object\n",
      "dtypes: object(2)\n",
      "memory usage: 27.4+ KB\n"
     ]
    }
   ],
   "source": [
    "#Cleaning Data-flter and keep only columns that we will use in the dataset\n",
    "df_tweets= df_tweets.filter(['content','user_location'], axis=1)\n",
    "df_tweets.info()"
   ]
  },
  {
   "cell_type": "code",
   "execution_count": 5,
   "id": "628b2f9e",
   "metadata": {},
   "outputs": [
    {
     "data": {
      "text/plain": [
       "0       @mjc0ughl4n the quality of food/availability o...\n",
       "1       @codohertynews more and more land being given ...\n",
       "2       i hope you’ve enjoyed this series, that it has...\n",
       "3       consider the seed\\nhttps://t.co/skc2vwekuo\\nas...\n",
       "4       organic fitness with fitness trainer and organ...\n",
       "                              ...                        \n",
       "1743    very cool: organic supermarket in ireland comb...\n",
       "1744    rt @organic_ireland today's wise advice \"eat f...\n",
       "1745    rt @neilers if you like organic food then chec...\n",
       "1746    +101 new entry: organic food ireland | pasta, ...\n",
       "1747    organic guide: a publication of interest to ev...\n",
       "Name: content, Length: 1748, dtype: object"
      ]
     },
     "execution_count": 5,
     "metadata": {},
     "output_type": "execute_result"
    }
   ],
   "source": [
    "#Cleaning Data-change words in the 'content' column to lower case\n",
    "df_tweets['content'] = df_tweets['content'].apply(lambda x:x.lower())\n",
    "df_tweets['content']"
   ]
  },
  {
   "cell_type": "code",
   "execution_count": 6,
   "id": "18776dcc",
   "metadata": {},
   "outputs": [
    {
     "data": {
      "text/html": [
       "<div>\n",
       "<style scoped>\n",
       "    .dataframe tbody tr th:only-of-type {\n",
       "        vertical-align: middle;\n",
       "    }\n",
       "\n",
       "    .dataframe tbody tr th {\n",
       "        vertical-align: top;\n",
       "    }\n",
       "\n",
       "    .dataframe thead th {\n",
       "        text-align: right;\n",
       "    }\n",
       "</style>\n",
       "<table border=\"1\" class=\"dataframe\">\n",
       "  <thead>\n",
       "    <tr style=\"text-align: right;\">\n",
       "      <th></th>\n",
       "      <th>content</th>\n",
       "      <th>user_location</th>\n",
       "      <th>word_count</th>\n",
       "    </tr>\n",
       "  </thead>\n",
       "  <tbody>\n",
       "    <tr>\n",
       "      <th>0</th>\n",
       "      <td>@mjc0ughl4n the quality of food/availability o...</td>\n",
       "      <td>Dublin City, Ireland</td>\n",
       "      <td>46</td>\n",
       "    </tr>\n",
       "    <tr>\n",
       "      <th>1</th>\n",
       "      <td>@codohertynews more and more land being given ...</td>\n",
       "      <td>Ireland</td>\n",
       "      <td>34</td>\n",
       "    </tr>\n",
       "    <tr>\n",
       "      <th>2</th>\n",
       "      <td>i hope you’ve enjoyed this series, that it has...</td>\n",
       "      <td>West Cork, Ireland</td>\n",
       "      <td>49</td>\n",
       "    </tr>\n",
       "    <tr>\n",
       "      <th>3</th>\n",
       "      <td>consider the seed\\nhttps://t.co/skc2vwekuo\\nas...</td>\n",
       "      <td>West Cork, Ireland</td>\n",
       "      <td>44</td>\n",
       "    </tr>\n",
       "    <tr>\n",
       "      <th>4</th>\n",
       "      <td>organic fitness with fitness trainer and organ...</td>\n",
       "      <td>Ireland and the UK</td>\n",
       "      <td>19</td>\n",
       "    </tr>\n",
       "  </tbody>\n",
       "</table>\n",
       "</div>"
      ],
      "text/plain": [
       "                                             content         user_location  \\\n",
       "0  @mjc0ughl4n the quality of food/availability o...  Dublin City, Ireland   \n",
       "1  @codohertynews more and more land being given ...               Ireland   \n",
       "2  i hope you’ve enjoyed this series, that it has...    West Cork, Ireland   \n",
       "3  consider the seed\\nhttps://t.co/skc2vwekuo\\nas...    West Cork, Ireland   \n",
       "4  organic fitness with fitness trainer and organ...    Ireland and the UK   \n",
       "\n",
       "   word_count  \n",
       "0          46  \n",
       "1          34  \n",
       "2          49  \n",
       "3          44  \n",
       "4          19  "
      ]
     },
     "execution_count": 6,
     "metadata": {},
     "output_type": "execute_result"
    }
   ],
   "source": [
    "#Cleaning Data-get word count in every 'content' column \n",
    "df_tweets['word_count'] = df_tweets['content'].apply(lambda x: len(str(x).split(\" \")))\n",
    "df_tweets.head()"
   ]
  },
  {
   "cell_type": "code",
   "execution_count": 7,
   "id": "3ec26089",
   "metadata": {},
   "outputs": [
    {
     "name": "stderr",
     "output_type": "stream",
     "text": [
      "[nltk_data] Downloading package stopwords to\n",
      "[nltk_data]     C:\\Users\\Z\\AppData\\Roaming\\nltk_data...\n",
      "[nltk_data]   Package stopwords is already up-to-date!\n"
     ]
    }
   ],
   "source": [
    "#import natural processing toolkit\n",
    "import nltk\n",
    "nltk.download('stopwords')\n",
    "from nltk.corpus import stopwords\n",
    "stop = stopwords.words('english')"
   ]
  },
  {
   "cell_type": "code",
   "execution_count": 8,
   "id": "d38165dc",
   "metadata": {},
   "outputs": [
    {
     "data": {
      "text/plain": [
       "0    @mjc0ughl4n quality food/availability organic,...\n",
       "1    @codohertynews land given energy production. l...\n",
       "2    hope you’ve enjoyed series, provoked food thou...\n",
       "3    consider seed https://t.co/skc2vwekuo growing ...\n",
       "4    organic fitness fitness trainer organic grower...\n",
       "Name: content, dtype: object"
      ]
     },
     "execution_count": 8,
     "metadata": {},
     "output_type": "execute_result"
    }
   ],
   "source": [
    "#Cleaning Data-remove english stopwords\n",
    "df_tweets['content'] = df_tweets['content'].apply(lambda x: \" \".join(x for x in x.split() if x not in stop))\n",
    "df_tweets['content'].head()"
   ]
  },
  {
   "cell_type": "code",
   "execution_count": 9,
   "id": "3a6d5ece",
   "metadata": {},
   "outputs": [
    {
     "data": {
      "text/plain": [
       "0    mjc0ughl4n quality foodavailability organic hi...\n",
       "1    codohertynews land given energy production lar...\n",
       "2    hope youve enjoyed series provoked food though...\n",
       "3    consider seed httpstcoskc2vwekuo growing gold ...\n",
       "4    organic fitness fitness trainer organic grower...\n",
       "Name: content, dtype: object"
      ]
     },
     "execution_count": 9,
     "metadata": {},
     "output_type": "execute_result"
    }
   ],
   "source": [
    "#Cleaning Data-remove special characters\n",
    "df_tweets['content'] = df_tweets['content'].str.replace('[^\\w\\s]','')\n",
    "df_tweets['content'].head()"
   ]
  },
  {
   "cell_type": "code",
   "execution_count": 10,
   "id": "d75c8338",
   "metadata": {
    "scrolled": false
   },
   "outputs": [
    {
     "data": {
      "text/plain": [
       "0          (0.1743939393939394, 0.4733333333333334)\n",
       "1                                        (0.0, 0.0)\n",
       "2        (0.16666666666666666, 0.27499999999999997)\n",
       "3       (-0.06666666666666667, 0.13333333333333333)\n",
       "4                                        (0.0, 0.0)\n",
       "                           ...                     \n",
       "1743                                   (0.575, 0.7)\n",
       "1744                                     (0.6, 0.7)\n",
       "1745                                     (0.0, 0.0)\n",
       "1746      (0.21818181818181817, 0.4772727272727273)\n",
       "1747                      (0.7, 0.6000000000000001)\n",
       "Name: content, Length: 1748, dtype: object"
      ]
     },
     "execution_count": 10,
     "metadata": {},
     "output_type": "execute_result"
    }
   ],
   "source": [
    "from textblob import TextBlob\n",
    "df_tweets['content'].apply(lambda x: TextBlob(x).sentiment)"
   ]
  },
  {
   "cell_type": "code",
   "execution_count": 11,
   "id": "55d9d9dd",
   "metadata": {},
   "outputs": [
    {
     "data": {
      "text/html": [
       "<div>\n",
       "<style scoped>\n",
       "    .dataframe tbody tr th:only-of-type {\n",
       "        vertical-align: middle;\n",
       "    }\n",
       "\n",
       "    .dataframe tbody tr th {\n",
       "        vertical-align: top;\n",
       "    }\n",
       "\n",
       "    .dataframe thead th {\n",
       "        text-align: right;\n",
       "    }\n",
       "</style>\n",
       "<table border=\"1\" class=\"dataframe\">\n",
       "  <thead>\n",
       "    <tr style=\"text-align: right;\">\n",
       "      <th></th>\n",
       "      <th>content</th>\n",
       "      <th>user_location</th>\n",
       "      <th>word_count</th>\n",
       "      <th>sentiment</th>\n",
       "    </tr>\n",
       "  </thead>\n",
       "  <tbody>\n",
       "    <tr>\n",
       "      <th>0</th>\n",
       "      <td>mjc0ughl4n quality foodavailability organic hi...</td>\n",
       "      <td>Dublin City, Ireland</td>\n",
       "      <td>46</td>\n",
       "      <td>0.174394</td>\n",
       "    </tr>\n",
       "    <tr>\n",
       "      <th>1</th>\n",
       "      <td>codohertynews land given energy production lar...</td>\n",
       "      <td>Ireland</td>\n",
       "      <td>34</td>\n",
       "      <td>0.000000</td>\n",
       "    </tr>\n",
       "    <tr>\n",
       "      <th>2</th>\n",
       "      <td>hope youve enjoyed series provoked food though...</td>\n",
       "      <td>West Cork, Ireland</td>\n",
       "      <td>49</td>\n",
       "      <td>0.166667</td>\n",
       "    </tr>\n",
       "    <tr>\n",
       "      <th>3</th>\n",
       "      <td>consider seed httpstcoskc2vwekuo growing gold ...</td>\n",
       "      <td>West Cork, Ireland</td>\n",
       "      <td>44</td>\n",
       "      <td>-0.066667</td>\n",
       "    </tr>\n",
       "    <tr>\n",
       "      <th>4</th>\n",
       "      <td>organic fitness fitness trainer organic grower...</td>\n",
       "      <td>Ireland and the UK</td>\n",
       "      <td>19</td>\n",
       "      <td>0.000000</td>\n",
       "    </tr>\n",
       "    <tr>\n",
       "      <th>...</th>\n",
       "      <td>...</td>\n",
       "      <td>...</td>\n",
       "      <td>...</td>\n",
       "      <td>...</td>\n",
       "    </tr>\n",
       "    <tr>\n",
       "      <th>1743</th>\n",
       "      <td>cool organic supermarket ireland combined orga...</td>\n",
       "      <td>Edinburgh, Scotland</td>\n",
       "      <td>15</td>\n",
       "      <td>0.575000</td>\n",
       "    </tr>\n",
       "    <tr>\n",
       "      <th>1744</th>\n",
       "      <td>rt organic_ireland todays wise advice eat food...</td>\n",
       "      <td>West of Dingle/ upstate NY</td>\n",
       "      <td>20</td>\n",
       "      <td>0.600000</td>\n",
       "    </tr>\n",
       "    <tr>\n",
       "      <th>1745</th>\n",
       "      <td>rt neilers like organic food check gt wwworgan...</td>\n",
       "      <td>An area near you!</td>\n",
       "      <td>18</td>\n",
       "      <td>0.000000</td>\n",
       "    </tr>\n",
       "    <tr>\n",
       "      <th>1746</th>\n",
       "      <td>101 new entry organic food ireland  pasta wine...</td>\n",
       "      <td>International</td>\n",
       "      <td>17</td>\n",
       "      <td>0.218182</td>\n",
       "    </tr>\n",
       "    <tr>\n",
       "      <th>1747</th>\n",
       "      <td>organic guide publication interest everyone li...</td>\n",
       "      <td>Ireland</td>\n",
       "      <td>19</td>\n",
       "      <td>0.700000</td>\n",
       "    </tr>\n",
       "  </tbody>\n",
       "</table>\n",
       "<p>1748 rows × 4 columns</p>\n",
       "</div>"
      ],
      "text/plain": [
       "                                                content  \\\n",
       "0     mjc0ughl4n quality foodavailability organic hi...   \n",
       "1     codohertynews land given energy production lar...   \n",
       "2     hope youve enjoyed series provoked food though...   \n",
       "3     consider seed httpstcoskc2vwekuo growing gold ...   \n",
       "4     organic fitness fitness trainer organic grower...   \n",
       "...                                                 ...   \n",
       "1743  cool organic supermarket ireland combined orga...   \n",
       "1744  rt organic_ireland todays wise advice eat food...   \n",
       "1745  rt neilers like organic food check gt wwworgan...   \n",
       "1746  101 new entry organic food ireland  pasta wine...   \n",
       "1747  organic guide publication interest everyone li...   \n",
       "\n",
       "                   user_location  word_count  sentiment  \n",
       "0           Dublin City, Ireland          46   0.174394  \n",
       "1                        Ireland          34   0.000000  \n",
       "2             West Cork, Ireland          49   0.166667  \n",
       "3             West Cork, Ireland          44  -0.066667  \n",
       "4             Ireland and the UK          19   0.000000  \n",
       "...                          ...         ...        ...  \n",
       "1743         Edinburgh, Scotland          15   0.575000  \n",
       "1744  West of Dingle/ upstate NY          20   0.600000  \n",
       "1745           An area near you!          18   0.000000  \n",
       "1746               International          17   0.218182  \n",
       "1747                     Ireland          19   0.700000  \n",
       "\n",
       "[1748 rows x 4 columns]"
      ]
     },
     "execution_count": 11,
     "metadata": {},
     "output_type": "execute_result"
    }
   ],
   "source": [
    "df_tweets['sentiment']= df_tweets['content'].apply(lambda x: TextBlob(x).sentiment[0])\n",
    "df_tweets"
   ]
  },
  {
   "cell_type": "code",
   "execution_count": null,
   "id": "33072c5c",
   "metadata": {},
   "outputs": [],
   "source": []
  },
  {
   "cell_type": "code",
   "execution_count": null,
   "id": "f559d345",
   "metadata": {},
   "outputs": [],
   "source": []
  },
  {
   "cell_type": "code",
   "execution_count": null,
   "id": "1a025393",
   "metadata": {},
   "outputs": [],
   "source": []
  },
  {
   "cell_type": "code",
   "execution_count": null,
   "id": "75d90074",
   "metadata": {},
   "outputs": [],
   "source": []
  },
  {
   "cell_type": "code",
   "execution_count": null,
   "id": "a3193da8",
   "metadata": {},
   "outputs": [],
   "source": []
  },
  {
   "cell_type": "code",
   "execution_count": null,
   "id": "63c14a73",
   "metadata": {},
   "outputs": [],
   "source": []
  },
  {
   "cell_type": "code",
   "execution_count": 12,
   "id": "b0482ceb",
   "metadata": {},
   "outputs": [],
   "source": [
    "#import nltk\n",
    "#from nltk import sent_tokenize, word_tokenize\n",
    "#nltk.download('punkt')\n",
    "\n",
    "#Cleaning Data-tokeninze data in the 'content' column\n",
    "#df_tweets['content_tokenized'] = df_tweets.apply(lambda row: nltk.word_tokenize(row['content']), axis=1)       \n",
    "#df_tweets['content_tokenized']"
   ]
  },
  {
   "cell_type": "code",
   "execution_count": null,
   "id": "4d9ffb1b",
   "metadata": {},
   "outputs": [],
   "source": []
  }
 ],
 "metadata": {
  "kernelspec": {
   "display_name": "Python 3 (ipykernel)",
   "language": "python",
   "name": "python3"
  },
  "language_info": {
   "codemirror_mode": {
    "name": "ipython",
    "version": 3
   },
   "file_extension": ".py",
   "mimetype": "text/x-python",
   "name": "python",
   "nbconvert_exporter": "python",
   "pygments_lexer": "ipython3",
   "version": "3.9.7"
  }
 },
 "nbformat": 4,
 "nbformat_minor": 5
}
