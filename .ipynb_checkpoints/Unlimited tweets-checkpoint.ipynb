{
 "cells": [
  {
   "cell_type": "code",
   "execution_count": 1,
   "id": "d9f3351e",
   "metadata": {},
   "outputs": [],
   "source": [
    "import snscrape.modules.twitter as sntwitter\n",
    "import pandas as pd\n",
    "\n",
    "query = 'organic food ireland' #near:\"Dublin\"'\n",
    "tweets = []\n",
    "limit = 20\n",
    "\n",
    "\n",
    "for tweet in sntwitter.TwitterSearchScraper(query).get_items():\n",
    "    \n",
    "    # print(vars(tweet))\n",
    "    # break\n",
    "    if len(tweets) == limit:\n",
    "        break\n",
    "    else:\n",
    "        tweets.append(tweet)\n",
    "        \n",
    "df_tweets = pd.DataFrame(tweets)\n",
    "\n",
    "# df_tweets.to_csv('tweets_allcolumns.csv')"
   ]
  },
  {
   "cell_type": "code",
   "execution_count": 2,
   "id": "c53aa4ad",
   "metadata": {},
   "outputs": [],
   "source": [
    "#adding column location\n",
    "df_tweets['user_location'] =  df_tweets['user'].apply(lambda x: x['location'])"
   ]
  },
  {
   "cell_type": "code",
   "execution_count": 5,
   "id": "628b2f9e",
   "metadata": {},
   "outputs": [
    {
     "name": "stdout",
     "output_type": "stream",
     "text": [
      "<class 'pandas.core.frame.DataFrame'>\n",
      "RangeIndex: 20 entries, 0 to 19\n",
      "Data columns (total 28 columns):\n",
      " #   Column            Non-Null Count  Dtype              \n",
      "---  ------            --------------  -----              \n",
      " 0   url               20 non-null     object             \n",
      " 1   date              20 non-null     datetime64[ns, UTC]\n",
      " 2   content           20 non-null     object             \n",
      " 3   renderedContent   20 non-null     object             \n",
      " 4   id                20 non-null     int64              \n",
      " 5   user              20 non-null     object             \n",
      " 6   replyCount        20 non-null     int64              \n",
      " 7   retweetCount      20 non-null     int64              \n",
      " 8   likeCount         20 non-null     int64              \n",
      " 9   quoteCount        20 non-null     int64              \n",
      " 10  conversationId    20 non-null     int64              \n",
      " 11  lang              20 non-null     object             \n",
      " 12  source            20 non-null     object             \n",
      " 13  sourceUrl         20 non-null     object             \n",
      " 14  sourceLabel       20 non-null     object             \n",
      " 15  outlinks          6 non-null      object             \n",
      " 16  tcooutlinks       6 non-null      object             \n",
      " 17  media             4 non-null      object             \n",
      " 18  retweetedTweet    0 non-null      object             \n",
      " 19  quotedTweet       2 non-null      object             \n",
      " 20  inReplyToTweetId  10 non-null     float64            \n",
      " 21  inReplyToUser     10 non-null     object             \n",
      " 22  mentionedUsers    10 non-null     object             \n",
      " 23  coordinates       2 non-null      object             \n",
      " 24  place             2 non-null      object             \n",
      " 25  hashtags          7 non-null      object             \n",
      " 26  cashtags          0 non-null      object             \n",
      " 27  user_location     20 non-null     object             \n",
      "dtypes: datetime64[ns, UTC](1), float64(1), int64(6), object(20)\n",
      "memory usage: 4.5+ KB\n"
     ]
    }
   ],
   "source": [
    "#Step1 Cleaning Data - change words in content column to lower\n",
    "df_tweets['content'] = df_tweets['content'].apply(lambda x:x.lower())\n",
    "df_tweets.info()"
   ]
  },
  {
   "cell_type": "code",
   "execution_count": 6,
   "id": "e9256a26",
   "metadata": {},
   "outputs": [
    {
     "name": "stdout",
     "output_type": "stream",
     "text": [
      "<class 'pandas.core.frame.DataFrame'>\n",
      "RangeIndex: 20 entries, 0 to 19\n",
      "Data columns (total 3 columns):\n",
      " #   Column         Non-Null Count  Dtype              \n",
      "---  ------         --------------  -----              \n",
      " 0   date           20 non-null     datetime64[ns, UTC]\n",
      " 1   content        20 non-null     object             \n",
      " 2   user_location  20 non-null     object             \n",
      "dtypes: datetime64[ns, UTC](1), object(2)\n",
      "memory usage: 608.0+ bytes\n"
     ]
    }
   ],
   "source": [
    "#Step 1 Drop Columns-easier to cre\n",
    "df_tweets= df_tweets.filter(['date','content','user_location'], axis=1)\n",
    "df_tweets.info()"
   ]
  },
  {
   "cell_type": "code",
   "execution_count": 9,
   "id": "19078c0b",
   "metadata": {},
   "outputs": [],
   "source": [
    "#Step1 Cleaning Data - change words in content column to lower\n",
    "df_tweets['content'] = df_tweets['content'].apply(lambda x:x.lower())\n"
   ]
  },
  {
   "cell_type": "code",
   "execution_count": 109,
   "id": "b0482ceb",
   "metadata": {},
   "outputs": [
    {
     "name": "stdout",
     "output_type": "stream",
     "text": [
      "<class 'pandas.core.frame.DataFrame'>\n",
      "RangeIndex: 100 entries, 0 to 99\n",
      "Data columns (total 28 columns):\n",
      " #   Column            Non-Null Count  Dtype              \n",
      "---  ------            --------------  -----              \n",
      " 0   url               100 non-null    object             \n",
      " 1   date              100 non-null    datetime64[ns, UTC]\n",
      " 2   content           100 non-null    object             \n",
      " 3   renderedContent   100 non-null    object             \n",
      " 4   id                100 non-null    int64              \n",
      " 5   user              100 non-null    object             \n",
      " 6   replyCount        100 non-null    int64              \n",
      " 7   retweetCount      100 non-null    int64              \n",
      " 8   likeCount         100 non-null    int64              \n",
      " 9   quoteCount        100 non-null    int64              \n",
      " 10  conversationId    100 non-null    int64              \n",
      " 11  lang              100 non-null    object             \n",
      " 12  source            100 non-null    object             \n",
      " 13  sourceUrl         100 non-null    object             \n",
      " 14  sourceLabel       100 non-null    object             \n",
      " 15  outlinks          43 non-null     object             \n",
      " 16  tcooutlinks       43 non-null     object             \n",
      " 17  media             41 non-null     object             \n",
      " 18  retweetedTweet    0 non-null      object             \n",
      " 19  quotedTweet       16 non-null     object             \n",
      " 20  inReplyToTweetId  32 non-null     float64            \n",
      " 21  inReplyToUser     32 non-null     object             \n",
      " 22  mentionedUsers    74 non-null     object             \n",
      " 23  coordinates       45 non-null     object             \n",
      " 24  place             45 non-null     object             \n",
      " 25  hashtags          37 non-null     object             \n",
      " 26  cashtags          0 non-null      object             \n",
      " 27  user_location     100 non-null    object             \n",
      "dtypes: datetime64[ns, UTC](1), float64(1), int64(6), object(20)\n",
      "memory usage: 22.0+ KB\n"
     ]
    }
   ],
   "source": [
    "df_allcolumns.info()"
   ]
  },
  {
   "cell_type": "code",
   "execution_count": null,
   "id": "7d57c88b",
   "metadata": {},
   "outputs": [],
   "source": []
  }
 ],
 "metadata": {
  "kernelspec": {
   "display_name": "Python 3 (ipykernel)",
   "language": "python",
   "name": "python3"
  },
  "language_info": {
   "codemirror_mode": {
    "name": "ipython",
    "version": 3
   },
   "file_extension": ".py",
   "mimetype": "text/x-python",
   "name": "python",
   "nbconvert_exporter": "python",
   "pygments_lexer": "ipython3",
   "version": "3.9.7"
  }
 },
 "nbformat": 4,
 "nbformat_minor": 5
}
