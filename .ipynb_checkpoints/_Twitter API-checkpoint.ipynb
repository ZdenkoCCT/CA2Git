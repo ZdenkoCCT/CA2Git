{
 "cells": [
  {
   "cell_type": "code",
   "execution_count": 1,
   "id": "8d70859f",
   "metadata": {},
   "outputs": [],
   "source": [
    "import warnings\n",
    "warnings.filterwarnings('ignore')\n"
   ]
  },
  {
   "cell_type": "code",
   "execution_count": 2,
   "id": "f660dc0b",
   "metadata": {},
   "outputs": [],
   "source": [
    "#pip install tweepy --user"
   ]
  },
  {
   "cell_type": "code",
   "execution_count": 3,
   "id": "d69a7ee4",
   "metadata": {},
   "outputs": [],
   "source": [
    "#pip install configparser"
   ]
  },
  {
   "cell_type": "code",
   "execution_count": 5,
   "id": "8f101c18",
   "metadata": {},
   "outputs": [],
   "source": [
    "# import tweepy\n",
    "import tweepy as tw\n",
    "\n",
    "# your Twitter API key and API secret\n",
    "my_api_key = \"CyNZrYWcCsv0u2yGvB3PDKzzh\"\n",
    "my_api_secret = \"qD7tJuztcv8NB4OqVGrrQSucW74Bk3IKX88HHdD5gktdrt1exj\"\n",
    "access_token = \"1518697437044559878-YW2zud6fuDytQRyM3sPRXop91ZRaT2\"\n",
    "access_token_secret =\"204H3xqydV1VGik0xEFTQSsy90XlCTBVbvUl7ns0PX1Lx\"\n",
    "\n",
    "# authenticate\n",
    "auth = tw.OAuthHandler(my_api_key, my_api_secret)\n",
    "auth.set_access_token(access_token,access_token_secret)\n",
    "api = tw.API(auth)#, wait_on_rate_limit=True)"
   ]
  },
  {
   "cell_type": "code",
   "execution_count": 11,
   "id": "083f7d2e",
   "metadata": {},
   "outputs": [],
   "source": [
    "search_query = \"#beef price\""
   ]
  },
  {
   "cell_type": "code",
   "execution_count": 19,
   "id": "2a5235a4",
   "metadata": {},
   "outputs": [
    {
     "name": "stdout",
     "output_type": "stream",
     "text": [
      "Total Tweets fetched: 27\n"
     ]
    }
   ],
   "source": [
    "# get tweets from the API\n",
    "tweets = tw.Cursor(api.search_tweets,\n",
    "              q=search_query,\n",
    "              lang=\"en\").items(1000)\n",
    "\n",
    "# store the API responses in a list\n",
    "tweets_copy = []\n",
    "for tweet in tweets:\n",
    "    tweets_copy.append(tweet._json)\n",
    "    \n",
    "print(\"Total Tweets fetched:\", len(tweets_copy))"
   ]
  },
  {
   "cell_type": "code",
   "execution_count": 20,
   "id": "42bbbbb2",
   "metadata": {},
   "outputs": [
    {
     "ename": "AttributeError",
     "evalue": "'list' object has no attribute 'json'",
     "output_type": "error",
     "traceback": [
      "\u001b[1;31m---------------------------------------------------------------------------\u001b[0m",
      "\u001b[1;31mAttributeError\u001b[0m                            Traceback (most recent call last)",
      "Input \u001b[1;32mIn [20]\u001b[0m, in \u001b[0;36m<cell line: 5>\u001b[1;34m()\u001b[0m\n\u001b[0;32m      2\u001b[0m \u001b[38;5;28;01mimport\u001b[39;00m \u001b[38;5;21;01mjson\u001b[39;00m\n\u001b[0;32m      4\u001b[0m \u001b[38;5;66;03m# Save data as dictionary\u001b[39;00m\n\u001b[1;32m----> 5\u001b[0m tweets_dict \u001b[38;5;241m=\u001b[39m tweets_copy\u001b[38;5;241m.\u001b[39mjson() \n\u001b[0;32m      7\u001b[0m \u001b[38;5;66;03m# Extract \"data\" value from dictionary\u001b[39;00m\n\u001b[0;32m      8\u001b[0m tweets_data \u001b[38;5;241m=\u001b[39m tweets_dict[\u001b[38;5;124m'\u001b[39m\u001b[38;5;124mdata\u001b[39m\u001b[38;5;124m'\u001b[39m] \n",
      "\u001b[1;31mAttributeError\u001b[0m: 'list' object has no attribute 'json'"
     ]
    }
   ],
   "source": [
    "import pandas as pd\n",
    "import json\n",
    "\n",
    "# Save data as dictionary\n",
    "tweets_dict = tweets_copy.json() \n",
    "\n",
    "# Extract \"data\" value from dictionary\n",
    "tweets_data = tweets_dict['data'] \n",
    "\n",
    "# Transform to pandas Dataframe\n",
    "df = pd.json_normalize(tweets_data) "
   ]
  },
  {
   "cell_type": "code",
   "execution_count": null,
   "id": "1ba47001",
   "metadata": {},
   "outputs": [],
   "source": []
  }
 ],
 "metadata": {
  "kernelspec": {
   "display_name": "Python 3 (ipykernel)",
   "language": "python",
   "name": "python3"
  },
  "language_info": {
   "codemirror_mode": {
    "name": "ipython",
    "version": 3
   },
   "file_extension": ".py",
   "mimetype": "text/x-python",
   "name": "python",
   "nbconvert_exporter": "python",
   "pygments_lexer": "ipython3",
   "version": "3.9.7"
  }
 },
 "nbformat": 4,
 "nbformat_minor": 5
}
